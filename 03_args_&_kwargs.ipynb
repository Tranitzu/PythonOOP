{
  "nbformat": 4,
  "nbformat_minor": 0,
  "metadata": {
    "colab": {
      "provenance": [],
      "authorship_tag": "ABX9TyP48Wae/VFlPUevOw7P8n+K",
      "include_colab_link": true
    },
    "kernelspec": {
      "name": "python3",
      "display_name": "Python 3"
    },
    "language_info": {
      "name": "python"
    }
  },
  "cells": [
    {
      "cell_type": "markdown",
      "metadata": {
        "id": "view-in-github",
        "colab_type": "text"
      },
      "source": [
        "<a href=\"https://colab.research.google.com/github/Tranitzu/PythonOOP/blob/main/03_args_%26_kwargs.ipynb\" target=\"_parent\"><img src=\"https://colab.research.google.com/assets/colab-badge.svg\" alt=\"Open In Colab\"/></a>"
      ]
    },
    {
      "cell_type": "markdown",
      "source": [
        "### Przypomnienie  `*args` oraz `**kwargs`"
      ],
      "metadata": {
        "id": "lC8C9nLw_Ww2"
      }
    },
    {
      "cell_type": "code",
      "execution_count": null,
      "metadata": {
        "id": "GEdkDpJ0-8bl"
      },
      "outputs": [],
      "source": [
        "def sample(*args):\n",
        "    print(len(args))\n",
        "    print(args)"
      ]
    },
    {
      "cell_type": "code",
      "source": [
        "sample()"
      ],
      "metadata": {
        "colab": {
          "base_uri": "https://localhost:8080/"
        },
        "id": "NsYNLvt8_wzK",
        "outputId": "6667e2cb-2ea0-427c-9a62-dc5f0a46cad4"
      },
      "execution_count": null,
      "outputs": [
        {
          "output_type": "stream",
          "name": "stdout",
          "text": [
            "0\n",
            "()\n"
          ]
        }
      ]
    },
    {
      "cell_type": "code",
      "source": [
        "sample(3)"
      ],
      "metadata": {
        "colab": {
          "base_uri": "https://localhost:8080/"
        },
        "id": "xFZrE1sZ_1_B",
        "outputId": "3209b499-ea4a-407f-f11c-1894dcca8dd3"
      },
      "execution_count": null,
      "outputs": [
        {
          "output_type": "stream",
          "name": "stdout",
          "text": [
            "1\n",
            "(3,)\n"
          ]
        }
      ]
    },
    {
      "cell_type": "code",
      "source": [
        "sample(1,2,3,4,5)"
      ],
      "metadata": {
        "colab": {
          "base_uri": "https://localhost:8080/"
        },
        "id": "3kWuOqsG__ao",
        "outputId": "b846b803-9bba-418c-9dff-52389c451f71"
      },
      "execution_count": null,
      "outputs": [
        {
          "output_type": "stream",
          "name": "stdout",
          "text": [
            "5\n",
            "(1, 2, 3, 4, 5)\n"
          ]
        }
      ]
    },
    {
      "cell_type": "code",
      "source": [
        "def sample(*components):\n",
        "    print(len(components))\n",
        "    print(components)"
      ],
      "metadata": {
        "id": "-JWQAHL8ABLD"
      },
      "execution_count": null,
      "outputs": []
    },
    {
      "cell_type": "code",
      "source": [
        "sample('py', 3)"
      ],
      "metadata": {
        "colab": {
          "base_uri": "https://localhost:8080/"
        },
        "id": "Gu63D5ikAPTu",
        "outputId": "2637d97a-cfed-426f-e4be-1d56c4b87fe7"
      },
      "execution_count": null,
      "outputs": [
        {
          "output_type": "stream",
          "name": "stdout",
          "text": [
            "2\n",
            "('py', 3)\n"
          ]
        }
      ]
    },
    {
      "cell_type": "code",
      "source": [
        "def stick(*args):\n",
        "    result = ''\n",
        "    for arg in args:\n",
        "        result += str(arg)\n",
        "    return result"
      ],
      "metadata": {
        "id": "3lfAb74IAR3L"
      },
      "execution_count": null,
      "outputs": []
    },
    {
      "cell_type": "code",
      "source": [
        "stick(4, 5)"
      ],
      "metadata": {
        "colab": {
          "base_uri": "https://localhost:8080/"
        },
        "id": "DHVShOVeAdEj",
        "outputId": "4dab339d-78a4-43b0-f90b-67a2e2acd897"
      },
      "execution_count": null,
      "outputs": [
        {
          "output_type": "execute_result",
          "data": {
            "text/plain": [
              "'45'"
            ]
          },
          "metadata": {},
          "execution_count": 9
        }
      ]
    },
    {
      "cell_type": "code",
      "source": [
        "stick('Python', ' ', '3.8')"
      ],
      "metadata": {
        "colab": {
          "base_uri": "https://localhost:8080/"
        },
        "id": "NWlKUHvVAfCf",
        "outputId": "514c9a79-9f5e-46d9-8759-e4a0fa399e64"
      },
      "execution_count": null,
      "outputs": [
        {
          "output_type": "execute_result",
          "data": {
            "text/plain": [
              "'Python 3.8'"
            ]
          },
          "metadata": {},
          "execution_count": 14
        }
      ]
    },
    {
      "cell_type": "code",
      "source": [
        "stick(var1='Python', var2 = ' 3.8')"
      ],
      "metadata": {
        "colab": {
          "base_uri": "https://localhost:8080/",
          "height": 141
        },
        "id": "CJJK6oRsAlNT",
        "outputId": "ee4ca07c-eefb-4968-fbae-2d0b377697c7"
      },
      "execution_count": null,
      "outputs": [
        {
          "output_type": "error",
          "ename": "TypeError",
          "evalue": "stick() got an unexpected keyword argument 'var1'",
          "traceback": [
            "\u001b[1;31m---------------------------------------------------------------------------\u001b[0m",
            "\u001b[1;31mTypeError\u001b[0m                                 Traceback (most recent call last)",
            "Cell \u001b[1;32mIn[15], line 1\u001b[0m\n\u001b[1;32m----> 1\u001b[0m stick(var1\u001b[38;5;241m=\u001b[39m\u001b[38;5;124m'\u001b[39m\u001b[38;5;124mPython\u001b[39m\u001b[38;5;124m'\u001b[39m, var2 \u001b[38;5;241m=\u001b[39m \u001b[38;5;124m'\u001b[39m\u001b[38;5;124m 3.8\u001b[39m\u001b[38;5;124m'\u001b[39m)\n",
            "\u001b[1;31mTypeError\u001b[0m: stick() got an unexpected keyword argument 'var1'"
          ]
        }
      ]
    },
    {
      "cell_type": "code",
      "source": [
        "def stick(**kargs):\n",
        "    result = ''\n",
        "    for arg in args:\n",
        "        result += str(arg)\n",
        "    return result"
      ],
      "metadata": {
        "id": "Ra566j7iA1GE"
      },
      "execution_count": null,
      "outputs": []
    },
    {
      "cell_type": "code",
      "source": [
        "stick(var1='Python', var2 = ' 3.8')"
      ],
      "metadata": {
        "colab": {
          "base_uri": "https://localhost:8080/",
          "height": 263
        },
        "id": "VGR1bcoAA4-2",
        "outputId": "faff6082-9cc3-4d41-d674-511ac71cc14c"
      },
      "execution_count": null,
      "outputs": [
        {
          "output_type": "error",
          "ename": "NameError",
          "evalue": "name 'args' is not defined",
          "traceback": [
            "\u001b[1;31m---------------------------------------------------------------------------\u001b[0m",
            "\u001b[1;31mNameError\u001b[0m                                 Traceback (most recent call last)",
            "Cell \u001b[1;32mIn[17], line 1\u001b[0m\n\u001b[1;32m----> 1\u001b[0m stick(var1\u001b[38;5;241m=\u001b[39m\u001b[38;5;124m'\u001b[39m\u001b[38;5;124mPython\u001b[39m\u001b[38;5;124m'\u001b[39m, var2 \u001b[38;5;241m=\u001b[39m \u001b[38;5;124m'\u001b[39m\u001b[38;5;124m 3.8\u001b[39m\u001b[38;5;124m'\u001b[39m)\n",
            "Cell \u001b[1;32mIn[16], line 3\u001b[0m, in \u001b[0;36mstick\u001b[1;34m(**kargs)\u001b[0m\n\u001b[0;32m      1\u001b[0m \u001b[38;5;28;01mdef\u001b[39;00m \u001b[38;5;21mstick\u001b[39m(\u001b[38;5;241m*\u001b[39m\u001b[38;5;241m*\u001b[39mkargs):\n\u001b[0;32m      2\u001b[0m     result \u001b[38;5;241m=\u001b[39m \u001b[38;5;124m'\u001b[39m\u001b[38;5;124m'\u001b[39m\n\u001b[1;32m----> 3\u001b[0m     \u001b[38;5;28;01mfor\u001b[39;00m arg \u001b[38;5;129;01min\u001b[39;00m args:\n\u001b[0;32m      4\u001b[0m         result \u001b[38;5;241m+\u001b[39m\u001b[38;5;241m=\u001b[39m \u001b[38;5;28mstr\u001b[39m(arg)\n\u001b[0;32m      5\u001b[0m     \u001b[38;5;28;01mreturn\u001b[39;00m result\n",
            "\u001b[1;31mNameError\u001b[0m: name 'args' is not defined"
          ]
        }
      ]
    },
    {
      "cell_type": "code",
      "source": [
        "def sample(**kwargs):\n",
        "    print(len(kwargs))\n",
        "    print(kwargs)"
      ],
      "metadata": {
        "id": "ZJaVyxdXA5_1"
      },
      "execution_count": null,
      "outputs": []
    },
    {
      "cell_type": "code",
      "source": [
        "sample()"
      ],
      "metadata": {
        "colab": {
          "base_uri": "https://localhost:8080/"
        },
        "id": "g6XbQ6LFA_c-",
        "outputId": "f6e9b06a-f63b-4a74-9005-97f81d32f422"
      },
      "execution_count": null,
      "outputs": [
        {
          "output_type": "stream",
          "name": "stdout",
          "text": [
            "0\n",
            "{}\n"
          ]
        }
      ]
    },
    {
      "cell_type": "code",
      "source": [
        "sample(var1 = 'Python')"
      ],
      "metadata": {
        "colab": {
          "base_uri": "https://localhost:8080/"
        },
        "id": "5oGfXeKdBBdt",
        "outputId": "e97890bd-b2fa-4932-e0d7-08835abc4523"
      },
      "execution_count": null,
      "outputs": [
        {
          "output_type": "stream",
          "name": "stdout",
          "text": [
            "1\n",
            "{'var1': 'Python'}\n"
          ]
        }
      ]
    },
    {
      "cell_type": "code",
      "source": [
        "sample(var1 = 'Python', var2 = ' 3.8')"
      ],
      "metadata": {
        "colab": {
          "base_uri": "https://localhost:8080/"
        },
        "id": "EewZ1W2EBHl7",
        "outputId": "efb1c53d-dbdd-4173-ac8d-c1bfd5da3069"
      },
      "execution_count": null,
      "outputs": [
        {
          "output_type": "stream",
          "name": "stdout",
          "text": [
            "2\n",
            "{'var1': 'Python', 'var2': ' 3.8'}\n"
          ]
        }
      ]
    },
    {
      "cell_type": "code",
      "source": [
        "def sample(**components):\n",
        "    print(len(components))\n",
        "    print(components)"
      ],
      "metadata": {
        "id": "-xb_8-V0BKYn"
      },
      "execution_count": null,
      "outputs": []
    },
    {
      "cell_type": "code",
      "source": [
        "sample(var1 = 'Python', var2 = ' 3.8')"
      ],
      "metadata": {
        "colab": {
          "base_uri": "https://localhost:8080/"
        },
        "id": "mePUhEm7BqXq",
        "outputId": "7d2366d3-ef3b-416a-fab0-5661fe6db7dd"
      },
      "execution_count": null,
      "outputs": [
        {
          "output_type": "stream",
          "name": "stdout",
          "text": [
            "2\n",
            "{'var1': 'Python', 'var2': ' 3.8'}\n"
          ]
        }
      ]
    },
    {
      "cell_type": "code",
      "source": [
        "def func(**kwargs):\n",
        "    for item in kwargs.items():\n",
        "        print(item)\n",
        "\n",
        "func()"
      ],
      "metadata": {
        "id": "ZsY0nYSpBqzP"
      },
      "execution_count": null,
      "outputs": []
    },
    {
      "cell_type": "code",
      "source": [
        "func(name = 'John')"
      ],
      "metadata": {
        "colab": {
          "base_uri": "https://localhost:8080/"
        },
        "id": "SreNuGgSEiRH",
        "outputId": "4875bfd8-1e65-47bb-be4c-8e6949ed154a"
      },
      "execution_count": null,
      "outputs": [
        {
          "output_type": "stream",
          "name": "stdout",
          "text": [
            "('name', 'John')\n"
          ]
        }
      ]
    },
    {
      "cell_type": "code",
      "source": [
        "func(name = 'John', age = 29)"
      ],
      "metadata": {
        "colab": {
          "base_uri": "https://localhost:8080/"
        },
        "id": "wPlWY4W3EoBF",
        "outputId": "74076c93-f56d-47ea-fb95-2f80fb943597"
      },
      "execution_count": null,
      "outputs": [
        {
          "output_type": "stream",
          "name": "stdout",
          "text": [
            "('name', 'John')\n",
            "('age', 29)\n"
          ]
        }
      ]
    },
    {
      "cell_type": "code",
      "source": [
        "def hello(**kwargs):\n",
        "    if 'name' in kwargs:\n",
        "        print(f'Hello {kwargs['name']}!')\n",
        "    else:\n",
        "        print('Hello')\n"
      ],
      "metadata": {
        "id": "WIi1lJLVEr7l"
      },
      "execution_count": null,
      "outputs": []
    },
    {
      "cell_type": "code",
      "source": [
        "hello()"
      ],
      "metadata": {
        "colab": {
          "base_uri": "https://localhost:8080/"
        },
        "id": "bGaZ69PfE_6I",
        "outputId": "2cbf7345-0cfe-4bfe-b6d1-855a714abf5e"
      },
      "execution_count": null,
      "outputs": [
        {
          "output_type": "stream",
          "name": "stdout",
          "text": [
            "Hello\n"
          ]
        }
      ]
    },
    {
      "cell_type": "code",
      "source": [
        "hello(var1 = 'John')"
      ],
      "metadata": {
        "colab": {
          "base_uri": "https://localhost:8080/"
        },
        "id": "aE8nW3yMFBAI",
        "outputId": "8b574578-39ff-456a-9570-f2ae7b30a4e5"
      },
      "execution_count": null,
      "outputs": [
        {
          "output_type": "stream",
          "name": "stdout",
          "text": [
            "Hello\n"
          ]
        }
      ]
    },
    {
      "cell_type": "code",
      "source": [
        "hello(name = 'John')"
      ],
      "metadata": {
        "colab": {
          "base_uri": "https://localhost:8080/"
        },
        "id": "3clmA1CNFDu2",
        "outputId": "46fbda35-9582-4295-b204-4a382749d5bb"
      },
      "execution_count": null,
      "outputs": [
        {
          "output_type": "stream",
          "name": "stdout",
          "text": [
            "Hello John!\n"
          ]
        }
      ]
    },
    {
      "cell_type": "code",
      "source": [
        "def sum_int(**kwargs):\n",
        "    if kwargs:\n",
        "        result = 0\n",
        "        for kwarg in kwargs.values():\n",
        "            if isinstance(kwarg, int):\n",
        "                result += kwarg\n",
        "        return result\n",
        "    return None"
      ],
      "metadata": {
        "id": "wxUPqKG9FFY2"
      },
      "execution_count": null,
      "outputs": []
    },
    {
      "cell_type": "code",
      "source": [
        "sum_int()"
      ],
      "metadata": {
        "id": "dWXpAKoNFhEw"
      },
      "execution_count": null,
      "outputs": []
    },
    {
      "cell_type": "code",
      "source": [
        "sum_int(name = 'John')"
      ],
      "metadata": {
        "colab": {
          "base_uri": "https://localhost:8080/"
        },
        "id": "ktxC7wiIFips",
        "outputId": "2e2fd684-8dd1-4489-fbe9-8650eef5be4e"
      },
      "execution_count": null,
      "outputs": [
        {
          "output_type": "execute_result",
          "data": {
            "text/plain": [
              "0"
            ]
          },
          "metadata": {},
          "execution_count": 36
        }
      ]
    },
    {
      "cell_type": "code",
      "source": [
        "sum_int(name = 'John', game1 = 43, game2 = 34, ratio = 0.5)"
      ],
      "metadata": {
        "colab": {
          "base_uri": "https://localhost:8080/"
        },
        "id": "W4TuNYbKFmv3",
        "outputId": "5fd70110-4751-4c9d-c40a-31c5b6bc5343"
      },
      "execution_count": null,
      "outputs": [
        {
          "output_type": "execute_result",
          "data": {
            "text/plain": [
              "77"
            ]
          },
          "metadata": {},
          "execution_count": 37
        }
      ]
    },
    {
      "cell_type": "code",
      "source": [
        "def sample(*args, **kwargs):\n",
        "    print(args)\n",
        "    print(kwargs)"
      ],
      "metadata": {
        "id": "yTdIZxs2FvGu"
      },
      "execution_count": null,
      "outputs": []
    },
    {
      "cell_type": "code",
      "source": [
        "sample"
      ],
      "metadata": {
        "colab": {
          "base_uri": "https://localhost:8080/"
        },
        "id": "Xh0u6BvQF2hV",
        "outputId": "c131b263-c1e1-4cd0-9528-625c791d22a8"
      },
      "execution_count": null,
      "outputs": [
        {
          "output_type": "execute_result",
          "data": {
            "text/plain": [
              "<function __main__.sample(*args, **kwargs)>"
            ]
          },
          "metadata": {},
          "execution_count": 39
        }
      ]
    },
    {
      "cell_type": "code",
      "source": [
        "sample()"
      ],
      "metadata": {
        "colab": {
          "base_uri": "https://localhost:8080/"
        },
        "id": "Rnhc9YQMF6rQ",
        "outputId": "8beac814-7233-44ab-c271-f0bcfb2b9998"
      },
      "execution_count": null,
      "outputs": [
        {
          "output_type": "stream",
          "name": "stdout",
          "text": [
            "()\n",
            "{}\n"
          ]
        }
      ]
    },
    {
      "cell_type": "code",
      "source": [
        "sample(1,2,3)"
      ],
      "metadata": {
        "colab": {
          "base_uri": "https://localhost:8080/"
        },
        "id": "3jC_YWu0F87s",
        "outputId": "ed08901c-7526-4a96-88c9-0aef893b1467"
      },
      "execution_count": null,
      "outputs": [
        {
          "output_type": "stream",
          "name": "stdout",
          "text": [
            "(1, 2, 3)\n",
            "{}\n"
          ]
        }
      ]
    },
    {
      "cell_type": "code",
      "source": [
        "sample(1,2,3, name = 'John', game = 'Tetris')"
      ],
      "metadata": {
        "colab": {
          "base_uri": "https://localhost:8080/"
        },
        "id": "AovgZ1ZqF-aZ",
        "outputId": "6c5f1003-da9f-4b2d-d6db-8a1db65d5f7b"
      },
      "execution_count": null,
      "outputs": [
        {
          "output_type": "stream",
          "name": "stdout",
          "text": [
            "(1, 2, 3)\n",
            "{'name': 'John', 'game': 'Tetris'}\n"
          ]
        }
      ]
    },
    {
      "cell_type": "code",
      "source": [
        "stocks = {'appl': 'Apple', 'tsla': 'Tesla'}"
      ],
      "metadata": {
        "id": "lTGsFtBsGCqm"
      },
      "execution_count": null,
      "outputs": []
    },
    {
      "cell_type": "code",
      "source": [
        "sample(appl = 'Apple', tsla = 'Tesla')"
      ],
      "metadata": {
        "colab": {
          "base_uri": "https://localhost:8080/"
        },
        "id": "dZGbqpQiGXPJ",
        "outputId": "cb013eda-84ae-427c-9164-43e11c7acb44"
      },
      "execution_count": null,
      "outputs": [
        {
          "output_type": "stream",
          "name": "stdout",
          "text": [
            "()\n",
            "{'appl': 'Apple', 'tsla': 'Tesla'}\n"
          ]
        }
      ]
    },
    {
      "cell_type": "code",
      "source": [
        "sample(**stocks)"
      ],
      "metadata": {
        "colab": {
          "base_uri": "https://localhost:8080/"
        },
        "id": "QEE-j3YsGbqU",
        "outputId": "598a17d4-0ab1-4b3c-ca9a-440ca9d5ba04"
      },
      "execution_count": null,
      "outputs": [
        {
          "output_type": "stream",
          "name": "stdout",
          "text": [
            "()\n",
            "{'appl': 'Apple', 'tsla': 'Tesla'}\n"
          ]
        }
      ]
    },
    {
      "cell_type": "code",
      "source": [
        "numbers = (10, 40, 30)\n",
        "sample(10, 40 ,30)"
      ],
      "metadata": {
        "colab": {
          "base_uri": "https://localhost:8080/"
        },
        "id": "DiVGZnRAGhPC",
        "outputId": "ec6f33f0-d0b8-4278-e1bf-711bf8cc35e1"
      },
      "execution_count": null,
      "outputs": [
        {
          "output_type": "stream",
          "name": "stdout",
          "text": [
            "(10, 40, 30)\n",
            "{}\n"
          ]
        }
      ]
    },
    {
      "cell_type": "code",
      "source": [
        "sample(*numbers)"
      ],
      "metadata": {
        "id": "Giw-U1btGpD6",
        "outputId": "8587ec8f-d475-479f-ac4d-2122f822cff4",
        "colab": {
          "base_uri": "https://localhost:8080/"
        }
      },
      "execution_count": null,
      "outputs": [
        {
          "output_type": "stream",
          "name": "stdout",
          "text": [
            "(10, 40, 30)\n",
            "{}\n"
          ]
        }
      ]
    },
    {
      "cell_type": "code",
      "source": [],
      "metadata": {
        "id": "ADXOHk02Gq6q"
      },
      "execution_count": null,
      "outputs": []
    }
  ]
}