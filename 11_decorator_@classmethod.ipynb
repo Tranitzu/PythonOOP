{
  "nbformat": 4,
  "nbformat_minor": 0,
  "metadata": {
    "colab": {
      "provenance": [],
      "authorship_tag": "ABX9TyNdcvjwBsCBtwRQyKOMIIwc",
      "include_colab_link": true
    },
    "kernelspec": {
      "name": "python3",
      "display_name": "Python 3"
    },
    "language_info": {
      "name": "python"
    }
  },
  "cells": [
    {
      "cell_type": "markdown",
      "metadata": {
        "id": "view-in-github",
        "colab_type": "text"
      },
      "source": [
        "<a href=\"https://colab.research.google.com/github/Tranitzu/PythonOOP/blob/main/11_decorator_%40classmethod.ipynb\" target=\"_parent\"><img src=\"https://colab.research.google.com/assets/colab-badge.svg\" alt=\"Open In Colab\"/></a>"
      ]
    },
    {
      "cell_type": "markdown",
      "source": [
        "### Metoda klasy i dekorator `@classmethod`"
      ],
      "metadata": {
        "id": "4jaJtQrsApsE"
      }
    },
    {
      "cell_type": "code",
      "execution_count": 1,
      "metadata": {
        "colab": {
          "base_uri": "https://localhost:8080/"
        },
        "id": "MZR6s-ScAkvr",
        "outputId": "19697c3b-1812-4a41-d23a-33876218fe9d"
      },
      "outputs": [
        {
          "output_type": "execute_result",
          "data": {
            "text/plain": [
              "mappingproxy({'__module__': '__main__',\n",
              "              'show': <function __main__.Phone.show()>,\n",
              "              '__dict__': <attribute '__dict__' of 'Phone' objects>,\n",
              "              '__weakref__': <attribute '__weakref__' of 'Phone' objects>,\n",
              "              '__doc__': None})"
            ]
          },
          "metadata": {},
          "execution_count": 1
        }
      ],
      "source": [
        "class Phone:\n",
        "\n",
        "    def show():\n",
        "        print('Running...')\n",
        "\n",
        "Phone.__dict__"
      ]
    },
    {
      "cell_type": "code",
      "source": [
        "Phone.show"
      ],
      "metadata": {
        "colab": {
          "base_uri": "https://localhost:8080/"
        },
        "id": "l6MJ1YTlAwdL",
        "outputId": "c6cb25f0-d355-4f4f-a1ae-adaee7012b9b"
      },
      "execution_count": 3,
      "outputs": [
        {
          "output_type": "execute_result",
          "data": {
            "text/plain": [
              "<function __main__.Phone.show()>"
            ]
          },
          "metadata": {},
          "execution_count": 3
        }
      ]
    },
    {
      "cell_type": "code",
      "source": [
        "Phone.show()"
      ],
      "metadata": {
        "colab": {
          "base_uri": "https://localhost:8080/"
        },
        "id": "juJj_gnrCaGz",
        "outputId": "77e91b62-35c0-4b43-9fe3-055861239303"
      },
      "execution_count": 4,
      "outputs": [
        {
          "output_type": "stream",
          "name": "stdout",
          "text": [
            "Running...\n"
          ]
        }
      ]
    },
    {
      "cell_type": "code",
      "source": [
        "phone = Phone()\n",
        "phone.show()"
      ],
      "metadata": {
        "colab": {
          "base_uri": "https://localhost:8080/",
          "height": 159
        },
        "id": "xy81lpSQCdQu",
        "outputId": "5bcac220-0547-466f-da2b-4f59a8a95448"
      },
      "execution_count": 5,
      "outputs": [
        {
          "output_type": "error",
          "ename": "TypeError",
          "evalue": "Phone.show() takes 0 positional arguments but 1 was given",
          "traceback": [
            "\u001b[1;31m---------------------------------------------------------------------------\u001b[0m",
            "\u001b[1;31mTypeError\u001b[0m                                 Traceback (most recent call last)",
            "Cell \u001b[1;32mIn[5], line 2\u001b[0m\n\u001b[0;32m      1\u001b[0m phone \u001b[38;5;241m=\u001b[39m Phone()\n\u001b[1;32m----> 2\u001b[0m phone\u001b[38;5;241m.\u001b[39mshow()\n",
            "\u001b[1;31mTypeError\u001b[0m: Phone.show() takes 0 positional arguments but 1 was given"
          ]
        }
      ]
    },
    {
      "cell_type": "code",
      "source": [
        "phone.show"
      ],
      "metadata": {
        "colab": {
          "base_uri": "https://localhost:8080/"
        },
        "id": "a-JUO-a5CgSN",
        "outputId": "59435686-a895-4573-90dc-d139a94f3f38"
      },
      "execution_count": 6,
      "outputs": [
        {
          "output_type": "execute_result",
          "data": {
            "text/plain": [
              "<bound method Phone.show of <__main__.Phone object at 0x0000017185C38800>>"
            ]
          },
          "metadata": {},
          "execution_count": 6
        }
      ]
    },
    {
      "cell_type": "code",
      "source": [
        "class Phone:\n",
        "\n",
        "    def show(self):\n",
        "        print(f'Running...{self}')\n",
        "\n",
        "phone = Phone()"
      ],
      "metadata": {
        "id": "9fVGGiFQCksA"
      },
      "execution_count": 14,
      "outputs": []
    },
    {
      "cell_type": "code",
      "source": [
        "phone.show"
      ],
      "metadata": {
        "colab": {
          "base_uri": "https://localhost:8080/"
        },
        "id": "5LNvbO5ACtfn",
        "outputId": "048e2ef0-4a1e-430c-d331-c39c56ae9ad7"
      },
      "execution_count": 15,
      "outputs": [
        {
          "output_type": "execute_result",
          "data": {
            "text/plain": [
              "<bound method Phone.show of <__main__.Phone object at 0x000001718529C1A0>>"
            ]
          },
          "metadata": {},
          "execution_count": 15
        }
      ]
    },
    {
      "cell_type": "code",
      "source": [
        "phone.show()"
      ],
      "metadata": {
        "colab": {
          "base_uri": "https://localhost:8080/"
        },
        "id": "slEMQ_TGCxp6",
        "outputId": "ee86f928-cda6-4a0f-f320-f85303b93fa2"
      },
      "execution_count": 16,
      "outputs": [
        {
          "output_type": "stream",
          "name": "stdout",
          "text": [
            "Running...<__main__.Phone object at 0x000001718529C1A0>\n"
          ]
        }
      ]
    },
    {
      "cell_type": "code",
      "source": [
        "Phone.show(phone)"
      ],
      "metadata": {
        "colab": {
          "base_uri": "https://localhost:8080/"
        },
        "id": "VOQhHnVYDN31",
        "outputId": "acbcaeac-8bd7-4f3f-ef73-b72333547fe6"
      },
      "execution_count": 17,
      "outputs": [
        {
          "output_type": "stream",
          "name": "stdout",
          "text": [
            "Running...<__main__.Phone object at 0x000001718529C1A0>\n"
          ]
        }
      ]
    },
    {
      "cell_type": "code",
      "source": [
        "help(classmethod)"
      ],
      "metadata": {
        "colab": {
          "base_uri": "https://localhost:8080/"
        },
        "id": "3BxTWHCDDUPQ",
        "outputId": "bbfc51db-bae7-4124-dd16-606209667df3"
      },
      "execution_count": 18,
      "outputs": [
        {
          "output_type": "stream",
          "name": "stdout",
          "text": [
            "Help on class classmethod in module builtins:\n",
            "\n",
            "class classmethod(object)\n",
            " |  classmethod(function) -> method\n",
            " |\n",
            " |  Convert a function to be a class method.\n",
            " |\n",
            " |  A class method receives the class as implicit first argument,\n",
            " |  just like an instance method receives the instance.\n",
            " |  To declare a class method, use this idiom:\n",
            " |\n",
            " |    class C:\n",
            " |        @classmethod\n",
            " |        def f(cls, arg1, arg2, argN):\n",
            " |            ...\n",
            " |\n",
            " |  It can be called either on the class (e.g. C.f()) or on an instance\n",
            " |  (e.g. C().f()).  The instance is ignored except for its class.\n",
            " |  If a class method is called for a derived class, the derived class\n",
            " |  object is passed as the implied first argument.\n",
            " |\n",
            " |  Class methods are different than C++ or Java static methods.\n",
            " |  If you want those, see the staticmethod builtin.\n",
            " |\n",
            " |  Methods defined here:\n",
            " |\n",
            " |  __get__(self, instance, owner=None, /)\n",
            " |      Return an attribute of instance, which is of type owner.\n",
            " |\n",
            " |  __init__(self, /, *args, **kwargs)\n",
            " |      Initialize self.  See help(type(self)) for accurate signature.\n",
            " |\n",
            " |  __repr__(self, /)\n",
            " |      Return repr(self).\n",
            " |\n",
            " |  ----------------------------------------------------------------------\n",
            " |  Static methods defined here:\n",
            " |\n",
            " |  __new__(*args, **kwargs)\n",
            " |      Create and return a new object.  See help(type) for accurate signature.\n",
            " |\n",
            " |  ----------------------------------------------------------------------\n",
            " |  Data descriptors defined here:\n",
            " |\n",
            " |  __dict__\n",
            " |\n",
            " |  __func__\n",
            " |\n",
            " |  __isabstractmethod__\n",
            " |\n",
            " |  __wrapped__\n",
            "\n"
          ]
        }
      ]
    },
    {
      "cell_type": "code",
      "source": [
        "class Phone:\n",
        "\n",
        "    def show(cls):\n",
        "        print(f'Running...{cls}')\n",
        "\n",
        "    show = classmethod(show)\n",
        "\n",
        "Phone.__dict__"
      ],
      "metadata": {
        "colab": {
          "base_uri": "https://localhost:8080/"
        },
        "id": "kITCisqwDdlC",
        "outputId": "47bc5662-0ac2-423e-8bee-b75803dbbdda"
      },
      "execution_count": 25,
      "outputs": [
        {
          "output_type": "execute_result",
          "data": {
            "text/plain": [
              "mappingproxy({'__module__': '__main__',\n",
              "              'show': <classmethod(<function Phone.show at 0x00000171859B8180>)>,\n",
              "              '__dict__': <attribute '__dict__' of 'Phone' objects>,\n",
              "              '__weakref__': <attribute '__weakref__' of 'Phone' objects>,\n",
              "              '__doc__': None})"
            ]
          },
          "metadata": {},
          "execution_count": 25
        }
      ]
    },
    {
      "cell_type": "code",
      "source": [
        "Phone.show()"
      ],
      "metadata": {
        "colab": {
          "base_uri": "https://localhost:8080/"
        },
        "id": "iD3fd8g8Djp4",
        "outputId": "a3070c36-2621-4716-9c53-50b9c2f26aaa"
      },
      "execution_count": 26,
      "outputs": [
        {
          "output_type": "stream",
          "name": "stdout",
          "text": [
            "Running...<class '__main__.Phone'>\n"
          ]
        }
      ]
    },
    {
      "cell_type": "code",
      "source": [
        "phone = Phone()\n",
        "phone.show()"
      ],
      "metadata": {
        "colab": {
          "base_uri": "https://localhost:8080/"
        },
        "id": "HAwSa13tDlH-",
        "outputId": "e6b77ef6-622c-4570-da5e-ec80690630a2"
      },
      "execution_count": 27,
      "outputs": [
        {
          "output_type": "stream",
          "name": "stdout",
          "text": [
            "Running...<class '__main__.Phone'>\n"
          ]
        }
      ]
    },
    {
      "cell_type": "code",
      "source": [
        "phone.show"
      ],
      "metadata": {
        "colab": {
          "base_uri": "https://localhost:8080/"
        },
        "id": "0ByE99-fD5h6",
        "outputId": "0bb2c0df-8654-44f8-c1a5-e03a85aed95d"
      },
      "execution_count": 28,
      "outputs": [
        {
          "output_type": "execute_result",
          "data": {
            "text/plain": [
              "<bound method Phone.show of <class '__main__.Phone'>>"
            ]
          },
          "metadata": {},
          "execution_count": 28
        }
      ]
    },
    {
      "cell_type": "code",
      "source": [
        "class Phone:\n",
        "\n",
        "    @classmethod\n",
        "    def show(cls):\n",
        "        print(f'Running...{cls}')\n",
        "\n",
        "\n",
        "Phone.__dict__"
      ],
      "metadata": {
        "colab": {
          "base_uri": "https://localhost:8080/"
        },
        "id": "kz9mEIJ_D9RD",
        "outputId": "a62b82d7-441a-42e4-8849-2271319bc334"
      },
      "execution_count": 29,
      "outputs": [
        {
          "output_type": "execute_result",
          "data": {
            "text/plain": [
              "mappingproxy({'__module__': '__main__',\n",
              "              'show': <classmethod(<function Phone.show at 0x00000171865E0AE0>)>,\n",
              "              '__dict__': <attribute '__dict__' of 'Phone' objects>,\n",
              "              '__weakref__': <attribute '__weakref__' of 'Phone' objects>,\n",
              "              '__doc__': None})"
            ]
          },
          "metadata": {},
          "execution_count": 29
        }
      ]
    },
    {
      "cell_type": "code",
      "source": [
        "Phone.show()"
      ],
      "metadata": {
        "colab": {
          "base_uri": "https://localhost:8080/"
        },
        "id": "-S2-YlExEFXs",
        "outputId": "b667b43b-4064-45d9-b4b9-61c62399e88b"
      },
      "execution_count": 30,
      "outputs": [
        {
          "output_type": "stream",
          "name": "stdout",
          "text": [
            "Running...<class '__main__.Phone'>\n"
          ]
        }
      ]
    },
    {
      "cell_type": "code",
      "source": [
        "phone = Phone()\n",
        "phone.show()"
      ],
      "metadata": {
        "colab": {
          "base_uri": "https://localhost:8080/"
        },
        "id": "ZhO-p8cnEpTR",
        "outputId": "2d45c46d-b38c-4399-d413-afe54676aba0"
      },
      "execution_count": 31,
      "outputs": [
        {
          "output_type": "stream",
          "name": "stdout",
          "text": [
            "Running...<class '__main__.Phone'>\n"
          ]
        }
      ]
    },
    {
      "cell_type": "markdown",
      "source": [
        "###Porównanie metoda klasy vs. metoda instancji"
      ],
      "metadata": {
        "id": "jHrYWpmwE7Tx"
      }
    },
    {
      "cell_type": "code",
      "source": [
        "class Phone:\n",
        "\n",
        "    @classmethod\n",
        "    def show(cls):\n",
        "        print(f'Running...{cls}')\n",
        "\n",
        "    def describe(self):\n",
        "        print(f'Describing...{self}')\n",
        "\n",
        "Phone.__dict__"
      ],
      "metadata": {
        "colab": {
          "base_uri": "https://localhost:8080/"
        },
        "id": "LrNDOhdYErLs",
        "outputId": "dd0c0a71-c2e3-4308-f62a-debac8b3b2ee"
      },
      "execution_count": 1,
      "outputs": [
        {
          "output_type": "execute_result",
          "data": {
            "text/plain": [
              "mappingproxy({'__module__': '__main__',\n",
              "              'show': <classmethod(<function Phone.show at 0x00000242A9593EC0>)>,\n",
              "              'describe': <function __main__.Phone.describe(self)>,\n",
              "              '__dict__': <attribute '__dict__' of 'Phone' objects>,\n",
              "              '__weakref__': <attribute '__weakref__' of 'Phone' objects>,\n",
              "              '__doc__': None})"
            ]
          },
          "metadata": {},
          "execution_count": 1
        }
      ]
    },
    {
      "cell_type": "code",
      "source": [
        "Phone.show"
      ],
      "metadata": {
        "colab": {
          "base_uri": "https://localhost:8080/"
        },
        "id": "EfooBfl-FG2Q",
        "outputId": "1bb4f8e9-810a-4145-eaf7-8c0cbd6286c8"
      },
      "execution_count": 2,
      "outputs": [
        {
          "output_type": "execute_result",
          "data": {
            "text/plain": [
              "<bound method Phone.show of <class '__main__.Phone'>>"
            ]
          },
          "metadata": {},
          "execution_count": 2
        }
      ]
    },
    {
      "cell_type": "code",
      "source": [
        "Phone.show()"
      ],
      "metadata": {
        "colab": {
          "base_uri": "https://localhost:8080/"
        },
        "id": "8HvJOiu-HsYj",
        "outputId": "adf5b61b-f789-45f3-b6d6-4ca643e18efd"
      },
      "execution_count": 3,
      "outputs": [
        {
          "output_type": "stream",
          "name": "stdout",
          "text": [
            "Running...<class '__main__.Phone'>\n"
          ]
        }
      ]
    },
    {
      "cell_type": "code",
      "source": [
        "Phone.describe"
      ],
      "metadata": {
        "colab": {
          "base_uri": "https://localhost:8080/"
        },
        "id": "75zcLK5mHt6W",
        "outputId": "8c104054-6abc-4c4b-fd79-4492333dc9c3"
      },
      "execution_count": 4,
      "outputs": [
        {
          "output_type": "execute_result",
          "data": {
            "text/plain": [
              "<function __main__.Phone.describe(self)>"
            ]
          },
          "metadata": {},
          "execution_count": 4
        }
      ]
    },
    {
      "cell_type": "code",
      "source": [
        "Phone.describe()"
      ],
      "metadata": {
        "colab": {
          "base_uri": "https://localhost:8080/",
          "height": 141
        },
        "id": "a9DhfXGDHv03",
        "outputId": "43e46e0a-3275-42b0-9f28-6f8d17f0fc90"
      },
      "execution_count": 5,
      "outputs": [
        {
          "output_type": "error",
          "ename": "TypeError",
          "evalue": "Phone.describe() missing 1 required positional argument: 'self'",
          "traceback": [
            "\u001b[1;31m---------------------------------------------------------------------------\u001b[0m",
            "\u001b[1;31mTypeError\u001b[0m                                 Traceback (most recent call last)",
            "Cell \u001b[1;32mIn[5], line 1\u001b[0m\n\u001b[1;32m----> 1\u001b[0m Phone\u001b[38;5;241m.\u001b[39mdescribe()\n",
            "\u001b[1;31mTypeError\u001b[0m: Phone.describe() missing 1 required positional argument: 'self'"
          ]
        }
      ]
    },
    {
      "cell_type": "code",
      "source": [
        "phone = Phone()\n",
        "Phone.describe(phone)"
      ],
      "metadata": {
        "colab": {
          "base_uri": "https://localhost:8080/"
        },
        "id": "O9x_6a3MHydL",
        "outputId": "f7b46f4b-dc5d-4389-9516-57abb830ccbd"
      },
      "execution_count": 6,
      "outputs": [
        {
          "output_type": "stream",
          "name": "stdout",
          "text": [
            "Describing...<__main__.Phone object at 0x00000242A98EC110>\n"
          ]
        }
      ]
    },
    {
      "cell_type": "code",
      "source": [
        "phone.show()"
      ],
      "metadata": {
        "colab": {
          "base_uri": "https://localhost:8080/"
        },
        "id": "0hNZr4LcH6V7",
        "outputId": "a743da2b-b95e-445e-8c9b-8a17b51b04d1"
      },
      "execution_count": 7,
      "outputs": [
        {
          "output_type": "stream",
          "name": "stdout",
          "text": [
            "Running...<class '__main__.Phone'>\n"
          ]
        }
      ]
    },
    {
      "cell_type": "code",
      "source": [
        "phone.describe()"
      ],
      "metadata": {
        "colab": {
          "base_uri": "https://localhost:8080/"
        },
        "id": "BDa5socwH_ux",
        "outputId": "f68466b6-b80f-4c53-ba79-8f03cc38ecd6"
      },
      "execution_count": 8,
      "outputs": [
        {
          "output_type": "stream",
          "name": "stdout",
          "text": [
            "Describing...<__main__.Phone object at 0x00000242A98EC110>\n"
          ]
        }
      ]
    },
    {
      "cell_type": "markdown",
      "source": [
        "###Przykład"
      ],
      "metadata": {
        "id": "5eC04L0wIJ9U"
      }
    },
    {
      "cell_type": "code",
      "source": [
        "class Phone:\n",
        "\n",
        "    instances = []\n",
        "\n",
        "    def __init__(self):\n",
        "        Phone.instances.append(self)\n",
        "\n",
        "    @classmethod\n",
        "    def show(cls):\n",
        "        if len(Phone.instances) > 0:\n",
        "            print(f'List of instances of the {Phone.__name__} class:')\n",
        "            for instance in Phone.instances:\n",
        "                print(f'\\t{instance}')\n",
        "        else:\n",
        "            print(f'There is no instances of the {Phone.__name__} class.')\n",
        "\n",
        "Phone.__dict__"
      ],
      "metadata": {
        "colab": {
          "base_uri": "https://localhost:8080/"
        },
        "id": "acFmxUykIFNN",
        "outputId": "5fed6e3f-ffbe-4193-c1e3-5c7bb82e66d3"
      },
      "execution_count": 18,
      "outputs": [
        {
          "output_type": "execute_result",
          "data": {
            "text/plain": [
              "mappingproxy({'__module__': '__main__',\n",
              "              'instances': [],\n",
              "              '__init__': <function __main__.Phone.__init__(self)>,\n",
              "              'show': <classmethod(<function Phone.show at 0x00000242AADE2A20>)>,\n",
              "              '__dict__': <attribute '__dict__' of 'Phone' objects>,\n",
              "              '__weakref__': <attribute '__weakref__' of 'Phone' objects>,\n",
              "              '__doc__': None})"
            ]
          },
          "metadata": {},
          "execution_count": 18
        }
      ]
    },
    {
      "cell_type": "code",
      "source": [
        "Phone.show"
      ],
      "metadata": {
        "colab": {
          "base_uri": "https://localhost:8080/"
        },
        "id": "cKgG7InnI9CM",
        "outputId": "8a9fb45d-a14a-4dcb-d1d5-500bb98af72e"
      },
      "execution_count": 19,
      "outputs": [
        {
          "output_type": "execute_result",
          "data": {
            "text/plain": [
              "<bound method Phone.show of <class '__main__.Phone'>>"
            ]
          },
          "metadata": {},
          "execution_count": 19
        }
      ]
    },
    {
      "cell_type": "code",
      "source": [
        "Phone.show()"
      ],
      "metadata": {
        "colab": {
          "base_uri": "https://localhost:8080/"
        },
        "id": "9Qq2sAQHJAG1",
        "outputId": "a4afaa35-5af0-41b9-9c24-bfaaac809052"
      },
      "execution_count": 20,
      "outputs": [
        {
          "output_type": "stream",
          "name": "stdout",
          "text": [
            "There is no instances of the Phone class.\n"
          ]
        }
      ]
    },
    {
      "cell_type": "code",
      "source": [
        "phone1 = Phone()\n",
        "phone2 = Phone()\n",
        "\n",
        "Phone.show()"
      ],
      "metadata": {
        "colab": {
          "base_uri": "https://localhost:8080/"
        },
        "id": "fjW3bt6NJB6V",
        "outputId": "9f5e62e2-daf4-48f2-f7b4-a1ce2f30bd20"
      },
      "execution_count": 21,
      "outputs": [
        {
          "output_type": "stream",
          "name": "stdout",
          "text": [
            "List of instances of the Phone class:\n",
            "\t<__main__.Phone object at 0x00000242A9D4BF20>\n",
            "\t<__main__.Phone object at 0x00000242AB35BE60>\n"
          ]
        }
      ]
    },
    {
      "cell_type": "code",
      "source": [
        "class Phone:\n",
        "\n",
        "    instances = []\n",
        "\n",
        "    def __init__(self):\n",
        "        Phone.instances.append(self)\n",
        "\n",
        "    @classmethod\n",
        "    def show(cls):\n",
        "        if len(cls.instances) > 0:\n",
        "            print(f'List of instances of the {cls.__name__} class:')\n",
        "            for instance in cls.instances:\n",
        "                print(f'\\t{instance}')\n",
        "        else:\n",
        "            print(f'There is no instances of the {cls.__name__} class.')\n",
        "\n",
        "Phone.__dict__"
      ],
      "metadata": {
        "colab": {
          "base_uri": "https://localhost:8080/"
        },
        "id": "nTP5jPYEJLc4",
        "outputId": "f6cb89df-b26e-43bf-8714-90caa2d89f4c"
      },
      "execution_count": 23,
      "outputs": [
        {
          "output_type": "execute_result",
          "data": {
            "text/plain": [
              "mappingproxy({'__module__': '__main__',\n",
              "              'instances': [],\n",
              "              '__init__': <function __main__.Phone.__init__(self)>,\n",
              "              'show': <classmethod(<function Phone.show at 0x00000242A9E6A980>)>,\n",
              "              '__dict__': <attribute '__dict__' of 'Phone' objects>,\n",
              "              '__weakref__': <attribute '__weakref__' of 'Phone' objects>,\n",
              "              '__doc__': None})"
            ]
          },
          "metadata": {},
          "execution_count": 23
        }
      ]
    },
    {
      "cell_type": "code",
      "source": [
        "Phone.show()"
      ],
      "metadata": {
        "colab": {
          "base_uri": "https://localhost:8080/"
        },
        "id": "ZxJI34j2TO6S",
        "outputId": "69bb21e6-9558-4d60-cc74-4d5e1dbb1245"
      },
      "execution_count": 24,
      "outputs": [
        {
          "output_type": "stream",
          "name": "stdout",
          "text": [
            "There is no instances of the Phone class.\n"
          ]
        }
      ]
    },
    {
      "cell_type": "code",
      "source": [
        "phone1 = Phone()\n",
        "phone2 = Phone()\n",
        "\n",
        "Phone.show()"
      ],
      "metadata": {
        "colab": {
          "base_uri": "https://localhost:8080/"
        },
        "id": "e9EfnUgOTZp7",
        "outputId": "80703a9f-fcc5-4e7b-de78-8c6a61e0bf84"
      },
      "execution_count": 25,
      "outputs": [
        {
          "output_type": "stream",
          "name": "stdout",
          "text": [
            "List of instances of the Phone class:\n",
            "\t<__main__.Phone object at 0x00000242A9CEC170>\n",
            "\t<__main__.Phone object at 0x00000242AAB076B0>\n"
          ]
        }
      ]
    },
    {
      "cell_type": "markdown",
      "source": [
        "###Przykład"
      ],
      "metadata": {
        "id": "YdkxvRV2Teev"
      }
    },
    {
      "cell_type": "code",
      "source": [
        "class Phone:\n",
        "\n",
        "    instances = []\n",
        "\n",
        "    def __init__(self, brand):\n",
        "        self.brand = brand\n",
        "        Phone.instances.append(self)\n",
        "\n",
        "    @classmethod\n",
        "    def show(cls):\n",
        "        if len(cls.instances) > 0:\n",
        "            print(f'List of instances of the {cls.__name__} class:')\n",
        "            for instance in cls.instances:\n",
        "                print(f'\\t{instance}')\n",
        "        else:\n",
        "            print(f'There is no instances of the {cls.__name__} class.')\n",
        "\n",
        "    def show_brand(self):\n",
        "        print(f'Brand: {self.brand}')\n",
        "\n",
        "Phone.__dict__"
      ],
      "metadata": {
        "colab": {
          "base_uri": "https://localhost:8080/"
        },
        "id": "B9LuOVPETa2y",
        "outputId": "eb4a6552-af5d-4e6f-93f6-6a9de3f1872a"
      },
      "execution_count": 26,
      "outputs": [
        {
          "output_type": "execute_result",
          "data": {
            "text/plain": [
              "mappingproxy({'__module__': '__main__',\n",
              "              'instances': [],\n",
              "              '__init__': <function __main__.Phone.__init__(self, brand)>,\n",
              "              'show': <classmethod(<function Phone.show at 0x00000242A97F9BC0>)>,\n",
              "              'show_brand': <function __main__.Phone.show_brand(self)>,\n",
              "              '__dict__': <attribute '__dict__' of 'Phone' objects>,\n",
              "              '__weakref__': <attribute '__weakref__' of 'Phone' objects>,\n",
              "              '__doc__': None})"
            ]
          },
          "metadata": {},
          "execution_count": 26
        }
      ]
    },
    {
      "cell_type": "code",
      "source": [
        "phone1 = Phone('Apple')\n",
        "phone2 = Phone('Samsung')\n",
        "\n",
        "Phone.show()"
      ],
      "metadata": {
        "colab": {
          "base_uri": "https://localhost:8080/"
        },
        "id": "23CaJoYpTwCQ",
        "outputId": "8c2a1b18-50f4-4921-ee30-fa885a0e4fd6"
      },
      "execution_count": 27,
      "outputs": [
        {
          "output_type": "stream",
          "name": "stdout",
          "text": [
            "List of instances of the Phone class:\n",
            "\t<__main__.Phone object at 0x00000242AB41FEF0>\n",
            "\t<__main__.Phone object at 0x00000242ABD3FC50>\n"
          ]
        }
      ]
    },
    {
      "cell_type": "code",
      "source": [
        "for instance in Phone.instances:\n",
        "    instance.show_brand()"
      ],
      "metadata": {
        "colab": {
          "base_uri": "https://localhost:8080/"
        },
        "id": "Px0EzUvPT0bM",
        "outputId": "ea7f069e-a01c-45cd-f34f-d8feb96f5410"
      },
      "execution_count": 28,
      "outputs": [
        {
          "output_type": "stream",
          "name": "stdout",
          "text": [
            "Brand: Apple\n",
            "Brand: Samsung\n"
          ]
        }
      ]
    },
    {
      "cell_type": "markdown",
      "source": [
        "###Ćwiczenie/Zadanie"
      ],
      "metadata": {
        "id": "r4nuXRQaV9k0"
      }
    },
    {
      "cell_type": "code",
      "source": [
        "class Worker:\n",
        "\n",
        "    instances = []\n",
        "\n",
        "    def __init__(self):\n",
        "\n",
        "        Worker.instances.append(self)\n",
        "\n",
        "    @classmethod\n",
        "    def count_instances(cls):\n",
        "        return len(cls.instances)\n",
        "\n",
        "worker1 = Worker()\n",
        "worker2 = Worker()\n",
        "worker3 = Worker()\n",
        "\n",
        "print(Worker.count_instances())"
      ],
      "metadata": {
        "colab": {
          "base_uri": "https://localhost:8080/"
        },
        "id": "r3G3RvI_T9a0",
        "outputId": "93c44a48-94ab-48fb-b455-9a4092893104"
      },
      "execution_count": 31,
      "outputs": [
        {
          "output_type": "stream",
          "name": "stdout",
          "text": [
            "3\n"
          ]
        }
      ]
    },
    {
      "cell_type": "code",
      "source": [],
      "metadata": {
        "id": "jLmkqu8RVtZY"
      },
      "execution_count": null,
      "outputs": []
    }
  ]
}