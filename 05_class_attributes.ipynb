{
  "nbformat": 4,
  "nbformat_minor": 0,
  "metadata": {
    "colab": {
      "provenance": [],
      "authorship_tag": "ABX9TyO5FXWbtSQbgUaPbui8gNeZ",
      "include_colab_link": true
    },
    "kernelspec": {
      "name": "python3",
      "display_name": "Python 3"
    },
    "language_info": {
      "name": "python"
    }
  },
  "cells": [
    {
      "cell_type": "markdown",
      "metadata": {
        "id": "view-in-github",
        "colab_type": "text"
      },
      "source": [
        "<a href=\"https://colab.research.google.com/github/Tranitzu/PythonOOP/blob/main/05_class_attributes.ipynb\" target=\"_parent\"><img src=\"https://colab.research.google.com/assets/colab-badge.svg\" alt=\"Open In Colab\"/></a>"
      ]
    },
    {
      "cell_type": "code",
      "execution_count": null,
      "metadata": {
        "id": "cxEK2eg7fxZ1"
      },
      "outputs": [],
      "source": [
        "class Phone:\n",
        "    pass"
      ]
    },
    {
      "cell_type": "code",
      "source": [
        "class Phone: pass"
      ],
      "metadata": {
        "id": "_JYkEQj_hNTG"
      },
      "execution_count": null,
      "outputs": []
    },
    {
      "cell_type": "code",
      "source": [
        "Phone.__name__"
      ],
      "metadata": {
        "colab": {
          "base_uri": "https://localhost:8080/",
          "height": 35
        },
        "id": "FHA8_0hLhQNq",
        "outputId": "9c4d3f11-77b1-43db-aedc-a4516684aa24"
      },
      "execution_count": null,
      "outputs": [
        {
          "output_type": "execute_result",
          "data": {
            "text/plain": [
              "'Phone'"
            ],
            "application/vnd.google.colaboratory.intrinsic+json": {
              "type": "string"
            }
          },
          "metadata": {},
          "execution_count": 3
        }
      ]
    },
    {
      "cell_type": "code",
      "source": [
        " Phone.__dict__"
      ],
      "metadata": {
        "colab": {
          "base_uri": "https://localhost:8080/"
        },
        "id": "BFBD_J9bhYw5",
        "outputId": "431440c2-7a55-478f-f3ac-8b7105ba21ac"
      },
      "execution_count": null,
      "outputs": [
        {
          "output_type": "execute_result",
          "data": {
            "text/plain": [
              "mappingproxy({'__module__': '__main__',\n",
              "              '__dict__': <attribute '__dict__' of 'Phone' objects>,\n",
              "              '__weakref__': <attribute '__weakref__' of 'Phone' objects>,\n",
              "              '__doc__': None,\n",
              "              '__annotations__': {}})"
            ]
          },
          "metadata": {},
          "execution_count": 4
        }
      ]
    },
    {
      "cell_type": "code",
      "source": [
        " Phone.__module__"
      ],
      "metadata": {
        "colab": {
          "base_uri": "https://localhost:8080/",
          "height": 35
        },
        "id": "XjLwQ33jhfwL",
        "outputId": "a7575923-9d29-435f-b818-58bece1539ac"
      },
      "execution_count": null,
      "outputs": [
        {
          "output_type": "execute_result",
          "data": {
            "text/plain": [
              "'__main__'"
            ],
            "application/vnd.google.colaboratory.intrinsic+json": {
              "type": "string"
            }
          },
          "metadata": {},
          "execution_count": 5
        }
      ]
    },
    {
      "cell_type": "code",
      "source": [
        "Phone.__doc__"
      ],
      "metadata": {
        "id": "-62ZPIvthsWm"
      },
      "execution_count": null,
      "outputs": []
    },
    {
      "cell_type": "code",
      "source": [
        "help(Phone)"
      ],
      "metadata": {
        "colab": {
          "base_uri": "https://localhost:8080/"
        },
        "id": "AFJpP1OlhxxW",
        "outputId": "90584cb3-acd9-40c1-bdd7-abe558b2e82e"
      },
      "execution_count": null,
      "outputs": [
        {
          "output_type": "stream",
          "name": "stdout",
          "text": [
            "Help on class Phone in module __main__:\n",
            "\n",
            "class Phone(builtins.object)\n",
            " |  Data descriptors defined here:\n",
            " |  \n",
            " |  __dict__\n",
            " |      dictionary for instance variables (if defined)\n",
            " |  \n",
            " |  __weakref__\n",
            " |      list of weak references to the object (if defined)\n",
            " |  \n",
            " |  ----------------------------------------------------------------------\n",
            " |  Data and other attributes defined here:\n",
            " |  \n",
            " |  __annotations__ = {}\n",
            "\n"
          ]
        }
      ]
    },
    {
      "cell_type": "code",
      "source": [
        "class Phone:\n",
        "  \"\"\"This is a phone class\"\"\"\n",
        "  pass"
      ],
      "metadata": {
        "id": "_7WhkZ-5h02f"
      },
      "execution_count": null,
      "outputs": []
    },
    {
      "cell_type": "code",
      "source": [
        "Phone.__doc__"
      ],
      "metadata": {
        "colab": {
          "base_uri": "https://localhost:8080/",
          "height": 35
        },
        "id": "LNRuIZF5h9fq",
        "outputId": "749d5bcf-d915-4587-afce-eca9f7eb1851"
      },
      "execution_count": null,
      "outputs": [
        {
          "output_type": "execute_result",
          "data": {
            "text/plain": [
              "'This is a phone class'"
            ],
            "application/vnd.google.colaboratory.intrinsic+json": {
              "type": "string"
            }
          },
          "metadata": {},
          "execution_count": 9
        }
      ]
    },
    {
      "cell_type": "code",
      "source": [
        "help(Phone)"
      ],
      "metadata": {
        "colab": {
          "base_uri": "https://localhost:8080/"
        },
        "id": "GhY0jdgVh_7u",
        "outputId": "60f26fe8-dcb3-4066-894e-c762a6735160"
      },
      "execution_count": null,
      "outputs": [
        {
          "output_type": "stream",
          "name": "stdout",
          "text": [
            "Help on class Phone in module __main__:\n",
            "\n",
            "class Phone(builtins.object)\n",
            " |  This is a phone class\n",
            " |  \n",
            " |  Data descriptors defined here:\n",
            " |  \n",
            " |  __dict__\n",
            " |      dictionary for instance variables (if defined)\n",
            " |  \n",
            " |  __weakref__\n",
            " |      list of weak references to the object (if defined)\n",
            " |  \n",
            " |  ----------------------------------------------------------------------\n",
            " |  Data and other attributes defined here:\n",
            " |  \n",
            " |  __annotations__ = {}\n",
            "\n"
          ]
        }
      ]
    },
    {
      "cell_type": "code",
      "source": [
        "Phone.__dict__"
      ],
      "metadata": {
        "colab": {
          "base_uri": "https://localhost:8080/"
        },
        "id": "59f0u2NNiB5S",
        "outputId": "697d59e5-d9b0-4011-eb5b-d19e00fe9b66"
      },
      "execution_count": null,
      "outputs": [
        {
          "output_type": "execute_result",
          "data": {
            "text/plain": [
              "mappingproxy({'__module__': '__main__',\n",
              "              '__doc__': 'This is a phone class',\n",
              "              '__dict__': <attribute '__dict__' of 'Phone' objects>,\n",
              "              '__weakref__': <attribute '__weakref__' of 'Phone' objects>,\n",
              "              '__annotations__': {}})"
            ]
          },
          "metadata": {},
          "execution_count": 11
        }
      ]
    },
    {
      "cell_type": "code",
      "source": [
        "Phone.__bases__"
      ],
      "metadata": {
        "colab": {
          "base_uri": "https://localhost:8080/"
        },
        "id": "r-MaZXm-iM9h",
        "outputId": "2250687d-aaa0-41b4-9aee-43d85b9c1171"
      },
      "execution_count": null,
      "outputs": [
        {
          "output_type": "execute_result",
          "data": {
            "text/plain": [
              "(object,)"
            ]
          },
          "metadata": {},
          "execution_count": 12
        }
      ]
    },
    {
      "cell_type": "markdown",
      "source": [
        "### Atrybuty klasy zdefiniowane przez użytkownika"
      ],
      "metadata": {
        "id": "keZguntGQd9k"
      }
    },
    {
      "cell_type": "code",
      "source": [
        "class Phone:\n",
        "\n",
        "    sector = 'electronics'\n",
        "    os = 'Android'\n",
        "    width = 500\n",
        "    height = 1200"
      ],
      "metadata": {
        "id": "K0htM_VbiVfJ"
      },
      "execution_count": null,
      "outputs": []
    },
    {
      "cell_type": "code",
      "source": [
        "Phone.__dict__"
      ],
      "metadata": {
        "colab": {
          "base_uri": "https://localhost:8080/"
        },
        "id": "drzX2EM4Sb2E",
        "outputId": "b28374b6-7f6b-473a-e07d-4345b683c846"
      },
      "execution_count": null,
      "outputs": [
        {
          "output_type": "execute_result",
          "data": {
            "text/plain": [
              "mappingproxy({'__module__': '__main__',\n",
              "              'sector': 'electronics',\n",
              "              'os': 'Android',\n",
              "              'width': 500,\n",
              "              'height': 1200,\n",
              "              '__dict__': <attribute '__dict__' of 'Phone' objects>,\n",
              "              '__weakref__': <attribute '__weakref__' of 'Phone' objects>,\n",
              "              '__doc__': None})"
            ]
          },
          "metadata": {},
          "execution_count": 2
        }
      ]
    },
    {
      "cell_type": "code",
      "source": [
        "Phone.__dict__.keys()"
      ],
      "metadata": {
        "colab": {
          "base_uri": "https://localhost:8080/"
        },
        "id": "WE6_7PDRSgiu",
        "outputId": "7fc8a984-b622-4f79-fa5c-36136b0b0897"
      },
      "execution_count": null,
      "outputs": [
        {
          "output_type": "execute_result",
          "data": {
            "text/plain": [
              "dict_keys(['__module__', 'sector', 'os', 'width', 'height', '__dict__', '__weakref__', '__doc__'])"
            ]
          },
          "metadata": {},
          "execution_count": 3
        }
      ]
    },
    {
      "cell_type": "code",
      "source": [
        "sorted(Phone.__dict__.keys())"
      ],
      "metadata": {
        "colab": {
          "base_uri": "https://localhost:8080/"
        },
        "id": "g7IGnS7gSi7z",
        "outputId": "d8d97239-a391-4315-cf84-04d2590d80ea"
      },
      "execution_count": null,
      "outputs": [
        {
          "output_type": "execute_result",
          "data": {
            "text/plain": [
              "['__dict__',\n",
              " '__doc__',\n",
              " '__module__',\n",
              " '__weakref__',\n",
              " 'height',\n",
              " 'os',\n",
              " 'sector',\n",
              " 'width']"
            ]
          },
          "metadata": {},
          "execution_count": 4
        }
      ]
    },
    {
      "cell_type": "code",
      "source": [
        "Phone.height"
      ],
      "metadata": {
        "colab": {
          "base_uri": "https://localhost:8080/"
        },
        "id": "_uITfzzLSnXQ",
        "outputId": "2d3480bf-fff4-4ed2-c6e8-bd8e12c0fc73"
      },
      "execution_count": null,
      "outputs": [
        {
          "output_type": "execute_result",
          "data": {
            "text/plain": [
              "1200"
            ]
          },
          "metadata": {},
          "execution_count": 5
        }
      ]
    },
    {
      "cell_type": "code",
      "source": [
        "Phone.sector"
      ],
      "metadata": {
        "colab": {
          "base_uri": "https://localhost:8080/"
        },
        "id": "g0U9ihqIStDs",
        "outputId": "c9c1a650-210d-4ca4-c607-cddd1ef806f3"
      },
      "execution_count": null,
      "outputs": [
        {
          "output_type": "execute_result",
          "data": {
            "text/plain": [
              "'electronics'"
            ]
          },
          "metadata": {},
          "execution_count": 6
        }
      ]
    },
    {
      "cell_type": "code",
      "source": [
        "Phone.os"
      ],
      "metadata": {
        "colab": {
          "base_uri": "https://localhost:8080/"
        },
        "id": "VQYuLirySubm",
        "outputId": "677eb906-2f25-4235-a325-75976910795b"
      },
      "execution_count": null,
      "outputs": [
        {
          "output_type": "execute_result",
          "data": {
            "text/plain": [
              "'Android'"
            ]
          },
          "metadata": {},
          "execution_count": 7
        }
      ]
    },
    {
      "cell_type": "code",
      "source": [
        "Phone.os, Phone.height, Phone.width"
      ],
      "metadata": {
        "colab": {
          "base_uri": "https://localhost:8080/"
        },
        "id": "7VIUIs5YSwVe",
        "outputId": "5b302677-d7e8-4862-a925-5aa6388e111b"
      },
      "execution_count": null,
      "outputs": [
        {
          "output_type": "execute_result",
          "data": {
            "text/plain": [
              "('Android', 1200, 500)"
            ]
          },
          "metadata": {},
          "execution_count": 8
        }
      ]
    },
    {
      "cell_type": "code",
      "source": [
        "Phone.__dict__['os']"
      ],
      "metadata": {
        "colab": {
          "base_uri": "https://localhost:8080/"
        },
        "id": "YlTqI-dES0ZF",
        "outputId": "1ee93af1-fbf5-4462-d2b0-930793b945e6"
      },
      "execution_count": null,
      "outputs": [
        {
          "output_type": "execute_result",
          "data": {
            "text/plain": [
              "'Android'"
            ]
          },
          "metadata": {},
          "execution_count": 9
        }
      ]
    },
    {
      "cell_type": "code",
      "source": [
        "getattr?"
      ],
      "metadata": {
        "id": "WQMaa5HLS6YL"
      },
      "execution_count": null,
      "outputs": []
    },
    {
      "cell_type": "code",
      "source": [
        "getattr(Phone, 'os')"
      ],
      "metadata": {
        "colab": {
          "base_uri": "https://localhost:8080/"
        },
        "id": "ZkhXKlQPTCKb",
        "outputId": "f4120494-539a-4a09-d5cd-428f9c8efdde"
      },
      "execution_count": null,
      "outputs": [
        {
          "output_type": "execute_result",
          "data": {
            "text/plain": [
              "'Android'"
            ]
          },
          "metadata": {},
          "execution_count": 12
        }
      ]
    },
    {
      "cell_type": "code",
      "source": [
        "getattr(Phone, 'width')"
      ],
      "metadata": {
        "colab": {
          "base_uri": "https://localhost:8080/"
        },
        "id": "025ugxHKTGzC",
        "outputId": "f471d3e0-938e-432c-eda6-0357ee714cfc"
      },
      "execution_count": null,
      "outputs": [
        {
          "output_type": "execute_result",
          "data": {
            "text/plain": [
              "500"
            ]
          },
          "metadata": {},
          "execution_count": 13
        }
      ]
    },
    {
      "cell_type": "code",
      "source": [
        "getattr(Phone, 'price')"
      ],
      "metadata": {
        "colab": {
          "base_uri": "https://localhost:8080/",
          "height": 141
        },
        "id": "vvGSoMXQTPQ-",
        "outputId": "450eb296-e7b0-4426-a062-383abed44dda"
      },
      "execution_count": null,
      "outputs": [
        {
          "output_type": "error",
          "ename": "AttributeError",
          "evalue": "type object 'Phone' has no attribute 'price'",
          "traceback": [
            "\u001b[1;31m---------------------------------------------------------------------------\u001b[0m",
            "\u001b[1;31mAttributeError\u001b[0m                            Traceback (most recent call last)",
            "Cell \u001b[1;32mIn[14], line 1\u001b[0m\n\u001b[1;32m----> 1\u001b[0m \u001b[38;5;28mgetattr\u001b[39m(Phone, \u001b[38;5;124m'\u001b[39m\u001b[38;5;124mprice\u001b[39m\u001b[38;5;124m'\u001b[39m)\n",
            "\u001b[1;31mAttributeError\u001b[0m: type object 'Phone' has no attribute 'price'"
          ]
        }
      ]
    },
    {
      "cell_type": "code",
      "source": [
        "getattr(Phone, 'price', 'Not found')"
      ],
      "metadata": {
        "colab": {
          "base_uri": "https://localhost:8080/"
        },
        "id": "o1FhhtQvTjSo",
        "outputId": "ded7c24f-e1fd-4743-c81c-585b59cd908a"
      },
      "execution_count": null,
      "outputs": [
        {
          "output_type": "execute_result",
          "data": {
            "text/plain": [
              "'Not found'"
            ]
          },
          "metadata": {},
          "execution_count": 15
        }
      ]
    },
    {
      "cell_type": "code",
      "source": [
        "for attr in sorted(Phone.__dict__.keys()):\n",
        "    if not attr.startswith('_'):\n",
        "      print(attr, getattr(Phone, attr))\n"
      ],
      "metadata": {
        "colab": {
          "base_uri": "https://localhost:8080/"
        },
        "id": "oZ1zwT-oTmW0",
        "outputId": "8b18cfec-0802-4ff8-c484-193d82389310"
      },
      "execution_count": null,
      "outputs": [
        {
          "output_type": "stream",
          "name": "stdout",
          "text": [
            "height 1200\n",
            "os Android\n",
            "sector electronics\n",
            "width 500\n"
          ]
        }
      ]
    },
    {
      "cell_type": "code",
      "source": [
        "for attr in sorted(Phone.__dict__.keys()):\n",
        "    if not attr.startswith('_'):\n",
        "      print(f'{attr} -> {getattr(Phone, attr)}')"
      ],
      "metadata": {
        "colab": {
          "base_uri": "https://localhost:8080/"
        },
        "id": "UKdfxb2OT0rK",
        "outputId": "f9466018-5779-4478-c139-ea0295ed4f64"
      },
      "execution_count": null,
      "outputs": [
        {
          "output_type": "stream",
          "name": "stdout",
          "text": [
            "height -> 1200\n",
            "os -> Android\n",
            "sector -> electronics\n",
            "width -> 500\n"
          ]
        }
      ]
    },
    {
      "cell_type": "code",
      "source": [
        "Phone.price"
      ],
      "metadata": {
        "colab": {
          "base_uri": "https://localhost:8080/",
          "height": 141
        },
        "id": "006jCR6XUdAN",
        "outputId": "c5d698f6-4177-45e4-8531-ac99523f6552"
      },
      "execution_count": null,
      "outputs": [
        {
          "output_type": "error",
          "ename": "AttributeError",
          "evalue": "type object 'Phone' has no attribute 'price'",
          "traceback": [
            "\u001b[1;31m---------------------------------------------------------------------------\u001b[0m",
            "\u001b[1;31mAttributeError\u001b[0m                            Traceback (most recent call last)",
            "Cell \u001b[1;32mIn[29], line 1\u001b[0m\n\u001b[1;32m----> 1\u001b[0m Phone\u001b[38;5;241m.\u001b[39mprice\n",
            "\u001b[1;31mAttributeError\u001b[0m: type object 'Phone' has no attribute 'price'"
          ]
        }
      ]
    },
    {
      "cell_type": "code",
      "source": [
        "try:\n",
        "    Phone.price\n",
        "except AttributeError as error:\n",
        "    print(error)"
      ],
      "metadata": {
        "colab": {
          "base_uri": "https://localhost:8080/"
        },
        "id": "4wvzYvD4UpXM",
        "outputId": "7725d84a-13d0-49d0-d114-d5eec87dc64a"
      },
      "execution_count": null,
      "outputs": [
        {
          "output_type": "stream",
          "name": "stdout",
          "text": [
            "type object 'Phone' has no attribute 'price'\n"
          ]
        }
      ]
    },
    {
      "cell_type": "markdown",
      "source": [
        "### Modyfikacja atrybutu klasy"
      ],
      "metadata": {
        "id": "zpqqJ2qiU6Ny"
      }
    },
    {
      "cell_type": "code",
      "source": [
        "class Phone:\n",
        "\n",
        "    sector = 'electronics'\n",
        "    os = 'Android'\n",
        "    width = 500\n",
        "    height = 1200"
      ],
      "metadata": {
        "id": "DVzvo2_5UssE"
      },
      "execution_count": null,
      "outputs": []
    },
    {
      "cell_type": "code",
      "source": [
        "Phone.os"
      ],
      "metadata": {
        "colab": {
          "base_uri": "https://localhost:8080/"
        },
        "id": "wbGrCsWuVAGn",
        "outputId": "d5c68a46-c363-4b06-db81-628d02de9d6e"
      },
      "execution_count": null,
      "outputs": [
        {
          "output_type": "execute_result",
          "data": {
            "text/plain": [
              "'Android'"
            ]
          },
          "metadata": {},
          "execution_count": 34
        }
      ]
    },
    {
      "cell_type": "code",
      "source": [
        "Phone.os = 'iOS'"
      ],
      "metadata": {
        "id": "06KRB6f4VD1D"
      },
      "execution_count": null,
      "outputs": []
    },
    {
      "cell_type": "code",
      "source": [
        "Phone.os"
      ],
      "metadata": {
        "colab": {
          "base_uri": "https://localhost:8080/"
        },
        "id": "BHGrNAEQVGy8",
        "outputId": "d71eb366-f5b9-427b-e4ba-0ade18d81d33"
      },
      "execution_count": null,
      "outputs": [
        {
          "output_type": "execute_result",
          "data": {
            "text/plain": [
              "'iOS'"
            ]
          },
          "metadata": {},
          "execution_count": 36
        }
      ]
    },
    {
      "cell_type": "code",
      "source": [
        "Phone.__dict__"
      ],
      "metadata": {
        "colab": {
          "base_uri": "https://localhost:8080/"
        },
        "id": "KJAwgfhpVHks",
        "outputId": "8738329b-f8e1-42e8-a6ef-c2d68c40cafc"
      },
      "execution_count": null,
      "outputs": [
        {
          "output_type": "execute_result",
          "data": {
            "text/plain": [
              "mappingproxy({'__module__': '__main__',\n",
              "              'sector': 'electronics',\n",
              "              'os': 'iOS',\n",
              "              'width': 500,\n",
              "              'height': 1200,\n",
              "              '__dict__': <attribute '__dict__' of 'Phone' objects>,\n",
              "              '__weakref__': <attribute '__weakref__' of 'Phone' objects>,\n",
              "              '__doc__': None})"
            ]
          },
          "metadata": {},
          "execution_count": 37
        }
      ]
    },
    {
      "cell_type": "code",
      "source": [
        "setattr?"
      ],
      "metadata": {
        "id": "XaxY0Pg4VKqq"
      },
      "execution_count": null,
      "outputs": []
    },
    {
      "cell_type": "code",
      "source": [
        "setattr(Phone, 'os', 'Android')"
      ],
      "metadata": {
        "id": "-2Kt_8eMVVC4"
      },
      "execution_count": null,
      "outputs": []
    },
    {
      "cell_type": "code",
      "source": [
        "Phone.os"
      ],
      "metadata": {
        "colab": {
          "base_uri": "https://localhost:8080/"
        },
        "id": "e4ODzpPqVc6f",
        "outputId": "5751a01a-3d0f-4bc8-c302-ccd73693217d"
      },
      "execution_count": null,
      "outputs": [
        {
          "output_type": "execute_result",
          "data": {
            "text/plain": [
              "'Android'"
            ]
          },
          "metadata": {},
          "execution_count": 40
        }
      ]
    },
    {
      "cell_type": "code",
      "source": [
        "getattr(Phone, 'os')"
      ],
      "metadata": {
        "colab": {
          "base_uri": "https://localhost:8080/"
        },
        "id": "uzlLnDYDVd-B",
        "outputId": "174389ce-39b3-436d-b13e-80d2c987bde0"
      },
      "execution_count": null,
      "outputs": [
        {
          "output_type": "execute_result",
          "data": {
            "text/plain": [
              "'Android'"
            ]
          },
          "metadata": {},
          "execution_count": 41
        }
      ]
    },
    {
      "cell_type": "code",
      "source": [
        "Phone.__dict__"
      ],
      "metadata": {
        "colab": {
          "base_uri": "https://localhost:8080/"
        },
        "id": "vu1px-KKVgSU",
        "outputId": "d57ca53d-2de8-40d4-8b4d-1ab439ebff92"
      },
      "execution_count": null,
      "outputs": [
        {
          "output_type": "execute_result",
          "data": {
            "text/plain": [
              "mappingproxy({'__module__': '__main__',\n",
              "              'sector': 'electronics',\n",
              "              'os': 'Android',\n",
              "              'width': 500,\n",
              "              'height': 1200,\n",
              "              '__dict__': <attribute '__dict__' of 'Phone' objects>,\n",
              "              '__weakref__': <attribute '__weakref__' of 'Phone' objects>,\n",
              "              '__doc__': None})"
            ]
          },
          "metadata": {},
          "execution_count": 42
        }
      ]
    },
    {
      "cell_type": "code",
      "source": [
        "Phone.__dict['os'] = 'iOS'"
      ],
      "metadata": {
        "colab": {
          "base_uri": "https://localhost:8080/",
          "height": 141
        },
        "id": "6hzK2ts6YQ3o",
        "outputId": "7bbabd8c-6f12-42c1-d2af-f17fe83f4cbb"
      },
      "execution_count": null,
      "outputs": [
        {
          "output_type": "error",
          "ename": "AttributeError",
          "evalue": "type object 'Phone' has no attribute '__dict'",
          "traceback": [
            "\u001b[1;31m---------------------------------------------------------------------------\u001b[0m",
            "\u001b[1;31mAttributeError\u001b[0m                            Traceback (most recent call last)",
            "Cell \u001b[1;32mIn[43], line 1\u001b[0m\n\u001b[1;32m----> 1\u001b[0m Phone\u001b[38;5;241m.\u001b[39m__dict[\u001b[38;5;124m'\u001b[39m\u001b[38;5;124mos\u001b[39m\u001b[38;5;124m'\u001b[39m] \u001b[38;5;241m=\u001b[39m \u001b[38;5;124m'\u001b[39m\u001b[38;5;124miOS\u001b[39m\u001b[38;5;124m'\u001b[39m\n",
            "\u001b[1;31mAttributeError\u001b[0m: type object 'Phone' has no attribute '__dict'"
          ]
        }
      ]
    },
    {
      "cell_type": "markdown",
      "source": [
        "### Dodawanie nowego atrybutu klasy w locie"
      ],
      "metadata": {
        "id": "AY_iPtXXYbV4"
      }
    },
    {
      "cell_type": "code",
      "source": [
        "class Phone:\n",
        "\n",
        "    sector = 'electronics'\n",
        "    os = 'Android'\n",
        "    width = 500\n",
        "    height = 1200"
      ],
      "metadata": {
        "id": "fEWkFfY4YfeB"
      },
      "execution_count": null,
      "outputs": []
    },
    {
      "cell_type": "code",
      "source": [
        "Phone.__dict__"
      ],
      "metadata": {
        "colab": {
          "base_uri": "https://localhost:8080/"
        },
        "id": "Z4hWN2mVYhwN",
        "outputId": "c3b841d0-8a2c-400e-fa4d-6f49353d1924"
      },
      "execution_count": null,
      "outputs": [
        {
          "output_type": "execute_result",
          "data": {
            "text/plain": [
              "mappingproxy({'__module__': '__main__',\n",
              "              'sector': 'electronics',\n",
              "              'os': 'Android',\n",
              "              'width': 500,\n",
              "              'height': 1200,\n",
              "              '__dict__': <attribute '__dict__' of 'Phone' objects>,\n",
              "              '__weakref__': <attribute '__weakref__' of 'Phone' objects>,\n",
              "              '__doc__': None})"
            ]
          },
          "metadata": {},
          "execution_count": 45
        }
      ]
    },
    {
      "cell_type": "code",
      "source": [
        "Phone.origin_country = 'USA'"
      ],
      "metadata": {
        "id": "yGwLnyn6cD2L"
      },
      "execution_count": null,
      "outputs": []
    },
    {
      "cell_type": "code",
      "source": [
        "Phone.__dict__"
      ],
      "metadata": {
        "colab": {
          "base_uri": "https://localhost:8080/"
        },
        "id": "pZsrgIWFcKMB",
        "outputId": "38132b51-1df9-4f77-eaa4-f680fad5879a"
      },
      "execution_count": null,
      "outputs": [
        {
          "output_type": "execute_result",
          "data": {
            "text/plain": [
              "mappingproxy({'__module__': '__main__',\n",
              "              'sector': 'electronics',\n",
              "              'os': 'Android',\n",
              "              'width': 500,\n",
              "              'height': 1200,\n",
              "              '__dict__': <attribute '__dict__' of 'Phone' objects>,\n",
              "              '__weakref__': <attribute '__weakref__' of 'Phone' objects>,\n",
              "              '__doc__': None,\n",
              "              'origin_country': 'USA'})"
            ]
          },
          "metadata": {},
          "execution_count": 47
        }
      ]
    },
    {
      "cell_type": "code",
      "source": [
        "Phone.origin_country"
      ],
      "metadata": {
        "colab": {
          "base_uri": "https://localhost:8080/"
        },
        "id": "g9wbv0xlcL2c",
        "outputId": "8a83b24d-d72f-4a94-c991-91ab2609bc06"
      },
      "execution_count": null,
      "outputs": [
        {
          "output_type": "execute_result",
          "data": {
            "text/plain": [
              "'USA'"
            ]
          },
          "metadata": {},
          "execution_count": 48
        }
      ]
    },
    {
      "cell_type": "code",
      "source": [
        "Phone.origin_country = 'China'"
      ],
      "metadata": {
        "id": "4Mc7kXskcOED"
      },
      "execution_count": null,
      "outputs": []
    },
    {
      "cell_type": "code",
      "source": [
        "Phone.origin_country"
      ],
      "metadata": {
        "colab": {
          "base_uri": "https://localhost:8080/"
        },
        "id": "Ps32VFNrcQBI",
        "outputId": "93e5fc7f-86f7-4caf-9b5c-66f2908dacce"
      },
      "execution_count": null,
      "outputs": [
        {
          "output_type": "execute_result",
          "data": {
            "text/plain": [
              "'China'"
            ]
          },
          "metadata": {},
          "execution_count": 50
        }
      ]
    },
    {
      "cell_type": "code",
      "source": [
        "setattr(Phone, 'year_of_production', 2020)"
      ],
      "metadata": {
        "id": "owYH8TR8cRFZ"
      },
      "execution_count": null,
      "outputs": []
    },
    {
      "cell_type": "code",
      "source": [
        "Phone.__dict__"
      ],
      "metadata": {
        "colab": {
          "base_uri": "https://localhost:8080/"
        },
        "id": "3RkHnLshcbA7",
        "outputId": "9b9106dd-8e4c-433a-8044-3be5e9fbc882"
      },
      "execution_count": null,
      "outputs": [
        {
          "output_type": "execute_result",
          "data": {
            "text/plain": [
              "mappingproxy({'__module__': '__main__',\n",
              "              'sector': 'electronics',\n",
              "              'os': 'Android',\n",
              "              'width': 500,\n",
              "              'height': 1200,\n",
              "              '__dict__': <attribute '__dict__' of 'Phone' objects>,\n",
              "              '__weakref__': <attribute '__weakref__' of 'Phone' objects>,\n",
              "              '__doc__': None,\n",
              "              'origin_country': 'China',\n",
              "              'year_of_production': 2020})"
            ]
          },
          "metadata": {},
          "execution_count": 52
        }
      ]
    },
    {
      "cell_type": "code",
      "source": [
        "Phone.year_of_production"
      ],
      "metadata": {
        "colab": {
          "base_uri": "https://localhost:8080/"
        },
        "id": "ltU4WQOccdMS",
        "outputId": "96dfec68-f6a0-4ef2-c33b-6af74d4c1ff0"
      },
      "execution_count": null,
      "outputs": [
        {
          "output_type": "execute_result",
          "data": {
            "text/plain": [
              "2020"
            ]
          },
          "metadata": {},
          "execution_count": 53
        }
      ]
    },
    {
      "cell_type": "markdown",
      "source": [
        "### Usuwanie atrybutów klasy"
      ],
      "metadata": {
        "id": "qgNUnNkHcjr6"
      }
    },
    {
      "cell_type": "code",
      "source": [
        "class Phone:\n",
        "\n",
        "    sector = 'electronics'\n",
        "    os = 'Android'\n",
        "    width = 500\n",
        "    height = 1200\n",
        "\n",
        "Phone.__dict__"
      ],
      "metadata": {
        "colab": {
          "base_uri": "https://localhost:8080/"
        },
        "id": "hlXQ1Tn5ce2c",
        "outputId": "9d9910c4-4d4b-47af-d84c-69d6566454e5"
      },
      "execution_count": null,
      "outputs": [
        {
          "output_type": "execute_result",
          "data": {
            "text/plain": [
              "mappingproxy({'__module__': '__main__',\n",
              "              'sector': 'electronics',\n",
              "              'os': 'Android',\n",
              "              'width': 500,\n",
              "              'height': 1200,\n",
              "              '__dict__': <attribute '__dict__' of 'Phone' objects>,\n",
              "              '__weakref__': <attribute '__weakref__' of 'Phone' objects>,\n",
              "              '__doc__': None})"
            ]
          },
          "metadata": {},
          "execution_count": 54
        }
      ]
    },
    {
      "cell_type": "code",
      "source": [
        "del Phone.os"
      ],
      "metadata": {
        "id": "aPj1y30vdde7"
      },
      "execution_count": null,
      "outputs": []
    },
    {
      "cell_type": "code",
      "source": [
        "Phone.__dict__"
      ],
      "metadata": {
        "colab": {
          "base_uri": "https://localhost:8080/"
        },
        "id": "UP8Vk0mKdfO7",
        "outputId": "bdf1a559-6456-481d-8e9f-6fb99a8e90ab"
      },
      "execution_count": null,
      "outputs": [
        {
          "output_type": "execute_result",
          "data": {
            "text/plain": [
              "mappingproxy({'__module__': '__main__',\n",
              "              'sector': 'electronics',\n",
              "              'width': 500,\n",
              "              'height': 1200,\n",
              "              '__dict__': <attribute '__dict__' of 'Phone' objects>,\n",
              "              '__weakref__': <attribute '__weakref__' of 'Phone' objects>,\n",
              "              '__doc__': None})"
            ]
          },
          "metadata": {},
          "execution_count": 56
        }
      ]
    },
    {
      "cell_type": "code",
      "source": [
        "class Phone:\n",
        "\n",
        "    sector = 'electronics'\n",
        "    os = 'Android'\n",
        "    width = 500\n",
        "    height = 1200"
      ],
      "metadata": {
        "id": "Iz1Zjq0Fdga_"
      },
      "execution_count": null,
      "outputs": []
    },
    {
      "cell_type": "code",
      "source": [
        "delattr?"
      ],
      "metadata": {
        "id": "DK8N4pzQdsj3"
      },
      "execution_count": null,
      "outputs": []
    },
    {
      "cell_type": "code",
      "source": [
        "delattr(Phone, 'os')"
      ],
      "metadata": {
        "id": "H7D_F9vTdvmw"
      },
      "execution_count": null,
      "outputs": []
    },
    {
      "cell_type": "code",
      "source": [
        "Phone.__dict__"
      ],
      "metadata": {
        "colab": {
          "base_uri": "https://localhost:8080/"
        },
        "id": "WU31R36Wdy6V",
        "outputId": "86d1c1fa-a0be-4ad2-9081-15c9f97a7d4a"
      },
      "execution_count": null,
      "outputs": [
        {
          "output_type": "execute_result",
          "data": {
            "text/plain": [
              "mappingproxy({'__module__': '__main__',\n",
              "              'sector': 'electronics',\n",
              "              'width': 500,\n",
              "              'height': 1200,\n",
              "              '__dict__': <attribute '__dict__' of 'Phone' objects>,\n",
              "              '__weakref__': <attribute '__weakref__' of 'Phone' objects>,\n",
              "              '__doc__': None})"
            ]
          },
          "metadata": {},
          "execution_count": 64
        }
      ]
    },
    {
      "cell_type": "markdown",
      "source": [
        "### Wywoływanie atrybutu klasy"
      ],
      "metadata": {
        "id": "4s450N-Bd_53"
      }
    },
    {
      "cell_type": "code",
      "source": [
        "class Phone:\n",
        "\n",
        "    sector = 'electronics'\n",
        "    os = 'Android'\n",
        "    width = 500\n",
        "    height = 1200\n",
        "\n",
        "Phone.__dict__"
      ],
      "metadata": {
        "colab": {
          "base_uri": "https://localhost:8080/"
        },
        "id": "nXQ99YLtd0Ro",
        "outputId": "0b303ccc-806a-4947-e9bf-2a14e0e0b9c4"
      },
      "execution_count": null,
      "outputs": [
        {
          "output_type": "execute_result",
          "data": {
            "text/plain": [
              "mappingproxy({'__module__': '__main__',\n",
              "              'sector': 'electronics',\n",
              "              'os': 'Android',\n",
              "              'width': 500,\n",
              "              'height': 1200,\n",
              "              '__dict__': <attribute '__dict__' of 'Phone' objects>,\n",
              "              '__weakref__': <attribute '__weakref__' of 'Phone' objects>,\n",
              "              '__doc__': None})"
            ]
          },
          "metadata": {},
          "execution_count": 66
        }
      ]
    },
    {
      "cell_type": "code",
      "source": [
        "class Phone:\n",
        "\n",
        "    sector = 'electronics'\n",
        "    os = 'Android'\n",
        "    width = 500\n",
        "    height = 1200\n",
        "\n",
        "    def describe_class():\n",
        "        print('Phone class.')\n",
        "\n",
        "Phone.__dict__"
      ],
      "metadata": {
        "colab": {
          "base_uri": "https://localhost:8080/"
        },
        "id": "Zp7lzEXHeCrS",
        "outputId": "2060e3a3-46cc-481e-a307-de75c0e92732"
      },
      "execution_count": null,
      "outputs": [
        {
          "output_type": "execute_result",
          "data": {
            "text/plain": [
              "mappingproxy({'__module__': '__main__',\n",
              "              'sector': 'electronics',\n",
              "              'os': 'Android',\n",
              "              'width': 500,\n",
              "              'height': 1200,\n",
              "              'describe_class': <function __main__.Phone.describe_class()>,\n",
              "              '__dict__': <attribute '__dict__' of 'Phone' objects>,\n",
              "              '__weakref__': <attribute '__weakref__' of 'Phone' objects>,\n",
              "              '__doc__': None})"
            ]
          },
          "metadata": {},
          "execution_count": 67
        }
      ]
    },
    {
      "cell_type": "code",
      "source": [
        "Phone.describe_class"
      ],
      "metadata": {
        "colab": {
          "base_uri": "https://localhost:8080/"
        },
        "id": "SMHLP-_KeO29",
        "outputId": "a065c6fc-52ec-43ab-b0d9-3f21560c07a8"
      },
      "execution_count": null,
      "outputs": [
        {
          "output_type": "execute_result",
          "data": {
            "text/plain": [
              "<function __main__.Phone.describe_class()>"
            ]
          },
          "metadata": {},
          "execution_count": 68
        }
      ]
    },
    {
      "cell_type": "code",
      "source": [
        "Phone.describe_class()"
      ],
      "metadata": {
        "colab": {
          "base_uri": "https://localhost:8080/"
        },
        "id": "ZwGytw18eTMU",
        "outputId": "ea7f265c-779b-42cc-da5b-5785a6e6bba4"
      },
      "execution_count": null,
      "outputs": [
        {
          "output_type": "stream",
          "name": "stdout",
          "text": [
            "Phone class.\n"
          ]
        }
      ]
    },
    {
      "cell_type": "code",
      "source": [
        "class Phone:\n",
        "\n",
        "    sector = 'electronics'\n",
        "    os = 'Android'\n",
        "    width = 500\n",
        "    height = 1200\n",
        "\n",
        "    def describe_class():\n",
        "        print(f'{Phone} class.')\n",
        "\n",
        "Phone.__dict__"
      ],
      "metadata": {
        "colab": {
          "base_uri": "https://localhost:8080/"
        },
        "id": "s2DGF5ZfeUz-",
        "outputId": "7136b776-e48b-43cf-dd8e-727e095d7714"
      },
      "execution_count": null,
      "outputs": [
        {
          "output_type": "execute_result",
          "data": {
            "text/plain": [
              "mappingproxy({'__module__': '__main__',\n",
              "              'sector': 'electronics',\n",
              "              'os': 'Android',\n",
              "              'width': 500,\n",
              "              'height': 1200,\n",
              "              'describe_class': <function __main__.Phone.describe_class()>,\n",
              "              '__dict__': <attribute '__dict__' of 'Phone' objects>,\n",
              "              '__weakref__': <attribute '__weakref__' of 'Phone' objects>,\n",
              "              '__doc__': None})"
            ]
          },
          "metadata": {},
          "execution_count": 70
        }
      ]
    },
    {
      "cell_type": "code",
      "source": [
        "Phone.describe_class"
      ],
      "metadata": {
        "colab": {
          "base_uri": "https://localhost:8080/"
        },
        "id": "NQndho5qebo2",
        "outputId": "3d1f5590-1e28-48c9-d1ed-34558ccbff90"
      },
      "execution_count": null,
      "outputs": [
        {
          "output_type": "execute_result",
          "data": {
            "text/plain": [
              "<function __main__.Phone.describe_class()>"
            ]
          },
          "metadata": {},
          "execution_count": 71
        }
      ]
    },
    {
      "cell_type": "code",
      "source": [
        "Phone.describe_class()"
      ],
      "metadata": {
        "colab": {
          "base_uri": "https://localhost:8080/"
        },
        "id": "C1p2M-nKedTS",
        "outputId": "110ad4a4-5820-45f3-8ba0-863ee7c98707"
      },
      "execution_count": null,
      "outputs": [
        {
          "output_type": "stream",
          "name": "stdout",
          "text": [
            "<class '__main__.Phone'> class.\n"
          ]
        }
      ]
    },
    {
      "cell_type": "code",
      "source": [
        "class Phone:\n",
        "\n",
        "    sector = 'electronics'\n",
        "    os = 'Android'\n",
        "    width = 500\n",
        "    height = 1200\n",
        "\n",
        "    def describe_class():\n",
        "        print(f'{Phone.__name__} class.')\n",
        "\n",
        "Phone.describe_class()"
      ],
      "metadata": {
        "colab": {
          "base_uri": "https://localhost:8080/"
        },
        "id": "ZP9zykGyefDv",
        "outputId": "912ec06d-29ec-4f3e-a1f5-41c7b3159797"
      },
      "execution_count": null,
      "outputs": [
        {
          "output_type": "stream",
          "name": "stdout",
          "text": [
            "Phone class.\n"
          ]
        }
      ]
    },
    {
      "cell_type": "code",
      "source": [
        "class Phone:\n",
        "\n",
        "    sector = 'electronics'\n",
        "    os = 'Android'\n",
        "    width = 500\n",
        "    height = 1200\n",
        "\n",
        "    def describe_class():\n",
        "        \"\"\"Print class name.\"\"\"\n",
        "        print(f'Operating system: {Phone.os}')\n",
        "        print(f'{Phone.__name__} class.')\n",
        "\n",
        "Phone.describe_class()"
      ],
      "metadata": {
        "colab": {
          "base_uri": "https://localhost:8080/"
        },
        "id": "F1IHrPn-ekI6",
        "outputId": "729959de-3ce6-4bcf-ffb9-cc43591b0523"
      },
      "execution_count": null,
      "outputs": [
        {
          "output_type": "stream",
          "name": "stdout",
          "text": [
            "Operating system: Android\n",
            "Phone class.\n"
          ]
        }
      ]
    },
    {
      "cell_type": "code",
      "source": [
        "getattr(Phone, 'describe_class')"
      ],
      "metadata": {
        "colab": {
          "base_uri": "https://localhost:8080/"
        },
        "id": "-EFGledEgdHV",
        "outputId": "85265f60-a704-4ce3-8cdf-abc6bd48c925"
      },
      "execution_count": null,
      "outputs": [
        {
          "output_type": "execute_result",
          "data": {
            "text/plain": [
              "<function __main__.Phone.describe_class()>"
            ]
          },
          "metadata": {},
          "execution_count": 75
        }
      ]
    },
    {
      "cell_type": "code",
      "source": [
        "getattr(Phone, 'describe_class')()"
      ],
      "metadata": {
        "colab": {
          "base_uri": "https://localhost:8080/"
        },
        "id": "Bx24jL1ug5Kf",
        "outputId": "87eae062-ef41-4b92-a0fc-b4c69bed390b"
      },
      "execution_count": null,
      "outputs": [
        {
          "output_type": "stream",
          "name": "stdout",
          "text": [
            "Operating system: Android\n",
            "Phone class.\n"
          ]
        }
      ]
    },
    {
      "cell_type": "code",
      "source": [
        "help(Phone)"
      ],
      "metadata": {
        "colab": {
          "base_uri": "https://localhost:8080/"
        },
        "id": "WLryE52pg7gA",
        "outputId": "4f1de50e-218f-49b7-9500-37c4448dbbf5"
      },
      "execution_count": null,
      "outputs": [
        {
          "output_type": "stream",
          "name": "stdout",
          "text": [
            "Help on class Phone in module __main__:\n",
            "\n",
            "class Phone(builtins.object)\n",
            " |  Methods defined here:\n",
            " |\n",
            " |  describe_class()\n",
            " |      Print class name.\n",
            " |\n",
            " |  ----------------------------------------------------------------------\n",
            " |  Data descriptors defined here:\n",
            " |\n",
            " |  __dict__\n",
            " |      dictionary for instance variables\n",
            " |\n",
            " |  __weakref__\n",
            " |      list of weak references to the object\n",
            " |\n",
            " |  ----------------------------------------------------------------------\n",
            " |  Data and other attributes defined here:\n",
            " |\n",
            " |  height = 1200\n",
            " |\n",
            " |  os = 'Android'\n",
            " |\n",
            " |  sector = 'electronics'\n",
            " |\n",
            " |  width = 500\n",
            "\n"
          ]
        }
      ]
    },
    {
      "cell_type": "markdown",
      "source": [
        "### Zadanie\n",
        "Zaimplementuj klasę o nazwie `HouseProject` z podanymi atrybutami klasy:\n",
        "\n",
        "\n",
        "* `number_of_floors` ustawionymi na wartość 2\n",
        "* `area` ustawionymi na wartość 100\n",
        "\n"
      ],
      "metadata": {
        "id": "1UfMNaQlhvL6"
      }
    },
    {
      "cell_type": "code",
      "source": [
        "class HousePrject:\n",
        "\n",
        "    number_of_floors = 2\n",
        "    area = 100"
      ],
      "metadata": {
        "id": "5PCsa_Sag-Ob"
      },
      "execution_count": null,
      "outputs": []
    },
    {
      "cell_type": "markdown",
      "source": [
        "### Zadanie\n",
        "Podana jest poniższa implementacja klasy o nazwiue `House Project`. Zaimplementuj w klasie `HouseProject` funckje o nazwię `describe_project()`, która wydrukuję do konsoli powierzchnię i liczbę pięter projektu tak jak pokazano poniżej:\n",
        "\n",
        "`Area: 100 m2.\\n\n",
        "Number of floors: 2.`"
      ],
      "metadata": {
        "id": "dYmKD30UiOXA"
      }
    },
    {
      "cell_type": "code",
      "source": [
        "class HousePrject:\n",
        "\n",
        "    number_of_floors = 2\n",
        "    area = 100\n",
        "\n",
        "    def descibe_project():\n",
        "        print(f'Area: {HousePrject.area} m2.')\n",
        "        print(f'Number of floors: {HousePrject.number_of_floors}.')"
      ],
      "metadata": {
        "id": "jxwgODSaiDVO"
      },
      "execution_count": null,
      "outputs": []
    },
    {
      "cell_type": "code",
      "source": [
        "HousePrject.descibe_project()"
      ],
      "metadata": {
        "colab": {
          "base_uri": "https://localhost:8080/"
        },
        "id": "v6k29XT5i7oI",
        "outputId": "a56f13b0-d1ce-46bb-c7e2-43464683a7cd"
      },
      "execution_count": null,
      "outputs": [
        {
          "output_type": "stream",
          "name": "stdout",
          "text": [
            "Area: 100 m2.\n",
            "Number of floors: 2.\n"
          ]
        }
      ]
    },
    {
      "cell_type": "markdown",
      "source": [
        "### Przykład"
      ],
      "metadata": {
        "id": "MYDnaidkjDFu"
      }
    },
    {
      "cell_type": "code",
      "source": [
        "from datetime import datetime\n",
        "\n",
        "\n",
        "datetime.now().strftime('%H:%M:%S')"
      ],
      "metadata": {
        "colab": {
          "base_uri": "https://localhost:8080/"
        },
        "id": "hR2ESCrpjAkA",
        "outputId": "c521d0b1-d36e-4bad-fc38-a3d9684211f6"
      },
      "execution_count": null,
      "outputs": [
        {
          "output_type": "execute_result",
          "data": {
            "text/plain": [
              "'15:09:19'"
            ]
          },
          "metadata": {},
          "execution_count": 91
        }
      ]
    },
    {
      "cell_type": "code",
      "source": [
        "class Foto:\n",
        "\n",
        "    execution_time = datetime.now().strftime('%H_%M_%S')\n",
        "    fname = 'image_' + execution_time + '.png'\n",
        "\n",
        "Foto.__dict__"
      ],
      "metadata": {
        "colab": {
          "base_uri": "https://localhost:8080/"
        },
        "id": "GVqL8EvOjR3S",
        "outputId": "3fa2dcb1-0ab5-4489-d7d8-9f4a6e69714f"
      },
      "execution_count": null,
      "outputs": [
        {
          "output_type": "execute_result",
          "data": {
            "text/plain": [
              "mappingproxy({'__module__': '__main__',\n",
              "              'execution_time': '15_10_58',\n",
              "              'fname': 'image_15_10_58.png',\n",
              "              '__dict__': <attribute '__dict__' of 'Foto' objects>,\n",
              "              '__weakref__': <attribute '__weakref__' of 'Foto' objects>,\n",
              "              '__doc__': None})"
            ]
          },
          "metadata": {},
          "execution_count": 93
        }
      ]
    },
    {
      "cell_type": "code",
      "source": [
        "Foto.execution_time"
      ],
      "metadata": {
        "colab": {
          "base_uri": "https://localhost:8080/"
        },
        "id": "i41PCb_djjyS",
        "outputId": "4dda7f9d-1433-48e6-b967-0c329623b9fe"
      },
      "execution_count": null,
      "outputs": [
        {
          "output_type": "execute_result",
          "data": {
            "text/plain": [
              "'15_10_58'"
            ]
          },
          "metadata": {},
          "execution_count": 94
        }
      ]
    },
    {
      "cell_type": "code",
      "source": [
        "Foto.fname"
      ],
      "metadata": {
        "colab": {
          "base_uri": "https://localhost:8080/"
        },
        "id": "cw6s0T70juSH",
        "outputId": "1d1533ec-1fd1-4ca8-c0e5-b3eb32030c88"
      },
      "execution_count": null,
      "outputs": [
        {
          "output_type": "execute_result",
          "data": {
            "text/plain": [
              "'image_15_10_58.png'"
            ]
          },
          "metadata": {},
          "execution_count": 95
        }
      ]
    },
    {
      "cell_type": "code",
      "source": [
        "foto = Foto()"
      ],
      "metadata": {
        "id": "3hlRxGcrjy26"
      },
      "execution_count": null,
      "outputs": []
    },
    {
      "cell_type": "code",
      "source": [
        "foto.execution_time"
      ],
      "metadata": {
        "colab": {
          "base_uri": "https://localhost:8080/"
        },
        "id": "RJQoLy0Cj16l",
        "outputId": "e4855275-4558-4c3f-f19d-0d3b1719fc75"
      },
      "execution_count": null,
      "outputs": [
        {
          "output_type": "execute_result",
          "data": {
            "text/plain": [
              "'15_10_58'"
            ]
          },
          "metadata": {},
          "execution_count": 97
        }
      ]
    },
    {
      "cell_type": "code",
      "source": [
        "class Foto:\n",
        "\n",
        "    execution_time = datetime.now().strftime('%H_%M_%S')\n",
        "    fname = 'image_' + execution_time + '.png'\n",
        "\n",
        "    def current_time():\n",
        "        return datetime.now().strftime('%H_%M_%S')\n",
        "\n",
        "Foto.__dict__"
      ],
      "metadata": {
        "colab": {
          "base_uri": "https://localhost:8080/"
        },
        "id": "nXd2smT9j22b",
        "outputId": "dddc6418-f541-48c7-8574-de0da22f9aef"
      },
      "execution_count": null,
      "outputs": [
        {
          "output_type": "execute_result",
          "data": {
            "text/plain": [
              "mappingproxy({'__module__': '__main__',\n",
              "              'execution_time': '15_13_00',\n",
              "              'fname': 'image_15_13_00.png',\n",
              "              'current_time': <function __main__.Foto.current_time()>,\n",
              "              '__dict__': <attribute '__dict__' of 'Foto' objects>,\n",
              "              '__weakref__': <attribute '__weakref__' of 'Foto' objects>,\n",
              "              '__doc__': None})"
            ]
          },
          "metadata": {},
          "execution_count": 98
        }
      ]
    },
    {
      "cell_type": "code",
      "source": [
        "Foto.execution_time"
      ],
      "metadata": {
        "colab": {
          "base_uri": "https://localhost:8080/"
        },
        "id": "VuE3Q9W8kH3a",
        "outputId": "8f0d500d-531b-4dd6-e629-509a50e4c145"
      },
      "execution_count": null,
      "outputs": [
        {
          "output_type": "execute_result",
          "data": {
            "text/plain": [
              "'15_13_00'"
            ]
          },
          "metadata": {},
          "execution_count": 99
        }
      ]
    },
    {
      "cell_type": "code",
      "source": [
        "Foto.current_time"
      ],
      "metadata": {
        "colab": {
          "base_uri": "https://localhost:8080/"
        },
        "id": "2-IBo-iWkLRR",
        "outputId": "5134cc02-ab23-4d74-8560-d546e0a42dcc"
      },
      "execution_count": null,
      "outputs": [
        {
          "output_type": "execute_result",
          "data": {
            "text/plain": [
              "<function __main__.Foto.current_time()>"
            ]
          },
          "metadata": {},
          "execution_count": 100
        }
      ]
    },
    {
      "cell_type": "code",
      "source": [
        "Foto.current_time()"
      ],
      "metadata": {
        "colab": {
          "base_uri": "https://localhost:8080/"
        },
        "id": "a1cUm5ZckNLG",
        "outputId": "003a177b-18fd-4bcc-da57-b3c71de31941"
      },
      "execution_count": null,
      "outputs": [
        {
          "output_type": "execute_result",
          "data": {
            "text/plain": [
              "'15_13_28'"
            ]
          },
          "metadata": {},
          "execution_count": 101
        }
      ]
    },
    {
      "cell_type": "code",
      "source": [
        "Foto.current_time()"
      ],
      "metadata": {
        "colab": {
          "base_uri": "https://localhost:8080/"
        },
        "id": "x7I9mVcFkOhw",
        "outputId": "6f5651c4-c6f9-4dc2-a37a-2ad782ae2542"
      },
      "execution_count": null,
      "outputs": [
        {
          "output_type": "execute_result",
          "data": {
            "text/plain": [
              "'15_13_38'"
            ]
          },
          "metadata": {},
          "execution_count": 102
        }
      ]
    },
    {
      "cell_type": "code",
      "source": [
        "Foto.current_time()"
      ],
      "metadata": {
        "colab": {
          "base_uri": "https://localhost:8080/"
        },
        "id": "mGUOMe7ekRFz",
        "outputId": "031e73af-976e-41a6-c14a-bd0482890fe6"
      },
      "execution_count": null,
      "outputs": [
        {
          "output_type": "execute_result",
          "data": {
            "text/plain": [
              "'15_13_39'"
            ]
          },
          "metadata": {},
          "execution_count": 103
        }
      ]
    },
    {
      "cell_type": "code",
      "source": [
        "Foto.current_time()"
      ],
      "metadata": {
        "colab": {
          "base_uri": "https://localhost:8080/"
        },
        "id": "waCBnUZGkRag",
        "outputId": "cfe3585f-0399-4df0-ce68-8718678aafd3"
      },
      "execution_count": null,
      "outputs": [
        {
          "output_type": "execute_result",
          "data": {
            "text/plain": [
              "'15_13_41'"
            ]
          },
          "metadata": {},
          "execution_count": 104
        }
      ]
    },
    {
      "cell_type": "code",
      "source": [
        "Foto.current_time()"
      ],
      "metadata": {
        "colab": {
          "base_uri": "https://localhost:8080/"
        },
        "id": "CJb1xebtkRuy",
        "outputId": "dcc71d30-25e5-436b-9132-0f0db8af6eed"
      },
      "execution_count": null,
      "outputs": [
        {
          "output_type": "execute_result",
          "data": {
            "text/plain": [
              "'15_13_42'"
            ]
          },
          "metadata": {},
          "execution_count": 105
        }
      ]
    },
    {
      "cell_type": "markdown",
      "source": [
        "### MRO - Method Resolution Order"
      ],
      "metadata": {
        "id": "yG9XxEddkVMw"
      }
    },
    {
      "cell_type": "code",
      "source": [
        "class Foto:\n",
        "\n",
        "    execution_time = datetime.now().strftime('%H_%M_%S')\n",
        "    fname = 'image_' + execution_time + '.png'\n",
        "\n",
        "    def current_time():\n",
        "        return datetime.now().strftime('%H_%M_%S')\n",
        "\n",
        "Foto.__dict__"
      ],
      "metadata": {
        "colab": {
          "base_uri": "https://localhost:8080/"
        },
        "id": "P9ysbk2GkSGX",
        "outputId": "b33750cc-9ccf-485b-b97e-dc2dfb2c1c85"
      },
      "execution_count": null,
      "outputs": [
        {
          "output_type": "execute_result",
          "data": {
            "text/plain": [
              "mappingproxy({'__module__': '__main__',\n",
              "              'execution_time': '15_14_19',\n",
              "              'fname': 'image_15_14_19.png',\n",
              "              'current_time': <function __main__.Foto.current_time()>,\n",
              "              '__dict__': <attribute '__dict__' of 'Foto' objects>,\n",
              "              '__weakref__': <attribute '__weakref__' of 'Foto' objects>,\n",
              "              '__doc__': None})"
            ]
          },
          "metadata": {},
          "execution_count": 106
        }
      ]
    },
    {
      "cell_type": "code",
      "source": [
        "Foto.__mro__"
      ],
      "metadata": {
        "colab": {
          "base_uri": "https://localhost:8080/"
        },
        "id": "qIL4lCIAkbEh",
        "outputId": "58dd58bc-9f80-4671-c170-69db08b061b1"
      },
      "execution_count": null,
      "outputs": [
        {
          "output_type": "execute_result",
          "data": {
            "text/plain": [
              "(__main__.Foto, object)"
            ]
          },
          "metadata": {},
          "execution_count": 107
        }
      ]
    },
    {
      "cell_type": "code",
      "source": [
        "Foto.mro()"
      ],
      "metadata": {
        "colab": {
          "base_uri": "https://localhost:8080/"
        },
        "id": "K8TAlHJXkozr",
        "outputId": "a936d438-3da1-4896-d9f9-b563521a0f34"
      },
      "execution_count": null,
      "outputs": [
        {
          "output_type": "execute_result",
          "data": {
            "text/plain": [
              "[__main__.Foto, object]"
            ]
          },
          "metadata": {},
          "execution_count": 109
        }
      ]
    },
    {
      "cell_type": "code",
      "source": [
        "help(Foto.mro)"
      ],
      "metadata": {
        "id": "woVyAMnKkxLM",
        "outputId": "68e7df1b-7fdd-4155-b59f-1ca324bc185a",
        "colab": {
          "base_uri": "https://localhost:8080/"
        }
      },
      "execution_count": null,
      "outputs": [
        {
          "output_type": "stream",
          "name": "stdout",
          "text": [
            "Help on built-in function mro:\n",
            "\n",
            "mro() class method of __main__.Foto\n",
            "    Return a type's method resolution order.\n",
            "\n"
          ]
        }
      ]
    },
    {
      "cell_type": "code",
      "source": [],
      "metadata": {
        "id": "yKMjCBPBkzOD"
      },
      "execution_count": null,
      "outputs": []
    }
  ]
}