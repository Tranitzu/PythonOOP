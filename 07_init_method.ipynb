{
  "nbformat": 4,
  "nbformat_minor": 0,
  "metadata": {
    "colab": {
      "provenance": [],
      "authorship_tag": "ABX9TyM81YHabuYULb6G8khttyBI",
      "include_colab_link": true
    },
    "kernelspec": {
      "name": "python3",
      "display_name": "Python 3"
    },
    "language_info": {
      "name": "python"
    }
  },
  "cells": [
    {
      "cell_type": "markdown",
      "metadata": {
        "id": "view-in-github",
        "colab_type": "text"
      },
      "source": [
        "<a href=\"https://colab.research.google.com/github/Tranitzu/PythonOOP/blob/main/07_init_method.ipynb\" target=\"_parent\"><img src=\"https://colab.research.google.com/assets/colab-badge.svg\" alt=\"Open In Colab\"/></a>"
      ]
    },
    {
      "cell_type": "markdown",
      "source": [
        "#### Metoda `__init__`"
      ],
      "metadata": {
        "id": "_iYEEPBDGrrS"
      }
    },
    {
      "cell_type": "code",
      "execution_count": null,
      "metadata": {
        "colab": {
          "base_uri": "https://localhost:8080/"
        },
        "id": "8lI38-TlFCv3",
        "outputId": "1118f5ae-26db-4257-a20a-8d01b722e526"
      },
      "outputs": [
        {
          "output_type": "stream",
          "name": "stdout",
          "text": [
            "Help on class Phone in module __main__:\n",
            "\n",
            "class Phone(builtins.object)\n",
            " |  Phone class.\n",
            " |\n",
            " |  Data descriptors defined here:\n",
            " |\n",
            " |  __dict__\n",
            " |      dictionary for instance variables\n",
            " |\n",
            " |  __weakref__\n",
            " |      list of weak references to the object\n",
            "\n"
          ]
        }
      ],
      "source": [
        "class Phone:\n",
        "    \"\"\"Phone class.\"\"\"\n",
        "\n",
        "help(Phone)"
      ]
    },
    {
      "cell_type": "code",
      "source": [
        "help(object)"
      ],
      "metadata": {
        "colab": {
          "base_uri": "https://localhost:8080/"
        },
        "id": "Eol3qeFnG4Cc",
        "outputId": "caf6c8d3-ea3c-4c1f-9d8b-5bd29cd68eb8"
      },
      "execution_count": null,
      "outputs": [
        {
          "output_type": "stream",
          "name": "stdout",
          "text": [
            "Help on class object in module builtins:\n",
            "\n",
            "class object\n",
            " |  The base class of the class hierarchy.\n",
            " |\n",
            " |  When called, it accepts no arguments and returns a new featureless\n",
            " |  instance that has no instance attributes and cannot be given any.\n",
            " |\n",
            " |  Built-in subclasses:\n",
            " |      anext_awaitable\n",
            " |      async_generator\n",
            " |      async_generator_asend\n",
            " |      async_generator_athrow\n",
            " |      ... and 90 other subclasses\n",
            " |\n",
            " |  Methods defined here:\n",
            " |\n",
            " |  __delattr__(self, name, /)\n",
            " |      Implement delattr(self, name).\n",
            " |\n",
            " |  __dir__(self, /)\n",
            " |      Default dir() implementation.\n",
            " |\n",
            " |  __eq__(self, value, /)\n",
            " |      Return self==value.\n",
            " |\n",
            " |  __format__(self, format_spec, /)\n",
            " |      Default object formatter.\n",
            " |\n",
            " |      Return str(self) if format_spec is empty. Raise TypeError otherwise.\n",
            " |\n",
            " |  __ge__(self, value, /)\n",
            " |      Return self>=value.\n",
            " |\n",
            " |  __getattribute__(self, name, /)\n",
            " |      Return getattr(self, name).\n",
            " |\n",
            " |  __getstate__(self, /)\n",
            " |      Helper for pickle.\n",
            " |\n",
            " |  __gt__(self, value, /)\n",
            " |      Return self>value.\n",
            " |\n",
            " |  __hash__(self, /)\n",
            " |      Return hash(self).\n",
            " |\n",
            " |  __init__(self, /, *args, **kwargs)\n",
            " |      Initialize self.  See help(type(self)) for accurate signature.\n",
            " |\n",
            " |  __le__(self, value, /)\n",
            " |      Return self<=value.\n",
            " |\n",
            " |  __lt__(self, value, /)\n",
            " |      Return self<value.\n",
            " |\n",
            " |  __ne__(self, value, /)\n",
            " |      Return self!=value.\n",
            " |\n",
            " |  __reduce__(self, /)\n",
            " |      Helper for pickle.\n",
            " |\n",
            " |  __reduce_ex__(self, protocol, /)\n",
            " |      Helper for pickle.\n",
            " |\n",
            " |  __repr__(self, /)\n",
            " |      Return repr(self).\n",
            " |\n",
            " |  __setattr__(self, name, value, /)\n",
            " |      Implement setattr(self, name, value).\n",
            " |\n",
            " |  __sizeof__(self, /)\n",
            " |      Size of object in memory, in bytes.\n",
            " |\n",
            " |  __str__(self, /)\n",
            " |      Return str(self).\n",
            " |\n",
            " |  ----------------------------------------------------------------------\n",
            " |  Class methods defined here:\n",
            " |\n",
            " |  __init_subclass__(...)\n",
            " |      This method is called when a class is subclassed.\n",
            " |\n",
            " |      The default implementation does nothing. It may be\n",
            " |      overridden to extend subclasses.\n",
            " |\n",
            " |  __subclasshook__(...)\n",
            " |      Abstract classes can override this to customize issubclass().\n",
            " |\n",
            " |      This is invoked early on by abc.ABCMeta.__subclasscheck__().\n",
            " |      It should return True, False or NotImplemented.  If it returns\n",
            " |      NotImplemented, the normal algorithm is used.  Otherwise, it\n",
            " |      overrides the normal algorithm (and the outcome is cached).\n",
            " |\n",
            " |  ----------------------------------------------------------------------\n",
            " |  Static methods defined here:\n",
            " |\n",
            " |  __new__(*args, **kwargs)\n",
            " |      Create and return a new object.  See help(type) for accurate signature.\n",
            " |\n",
            " |  ----------------------------------------------------------------------\n",
            " |  Data and other attributes defined here:\n",
            " |\n",
            " |  __class__ = <class 'type'>\n",
            " |      type(object) -> the object's type\n",
            " |      type(name, bases, dict, **kwds) -> a new type\n",
            "\n"
          ]
        }
      ]
    },
    {
      "cell_type": "code",
      "source": [
        "help(object.__init__)"
      ],
      "metadata": {
        "colab": {
          "base_uri": "https://localhost:8080/"
        },
        "id": "0AkwoBmkIVt6",
        "outputId": "4fa4141f-3ccd-4ecf-d2e8-c06118346f99"
      },
      "execution_count": null,
      "outputs": [
        {
          "output_type": "stream",
          "name": "stdout",
          "text": [
            "Help on wrapper_descriptor:\n",
            "\n",
            "__init__(self, /, *args, **kwargs) unbound builtins.object method\n",
            "    Initialize self.  See help(type(self)) for accurate signature.\n",
            "\n"
          ]
        }
      ]
    },
    {
      "cell_type": "code",
      "source": [
        "class Phone:\n",
        "    \"\"\"Phone class.\"\"\"\n",
        "\n",
        "    def __init__(self):\n",
        "        print(f'Inicjalizacja nowego obiektu {self}')"
      ],
      "metadata": {
        "id": "boHl-c8eIb3D"
      },
      "execution_count": null,
      "outputs": []
    },
    {
      "cell_type": "code",
      "source": [
        "Phone()"
      ],
      "metadata": {
        "colab": {
          "base_uri": "https://localhost:8080/"
        },
        "id": "a_f5QG2oJZO8",
        "outputId": "45bebeac-00ab-4ea3-e4bd-f796eaa739bb"
      },
      "execution_count": null,
      "outputs": [
        {
          "output_type": "stream",
          "name": "stdout",
          "text": [
            "Inicjalizacja nowego obiekut <__main__.Phone object at 0x0000018F0B854200>\n"
          ]
        },
        {
          "output_type": "execute_result",
          "data": {
            "text/plain": [
              "<__main__.Phone at 0x18f0b854200>"
            ]
          },
          "metadata": {},
          "execution_count": 5
        }
      ]
    },
    {
      "cell_type": "code",
      "source": [
        "phone1 = Phone()"
      ],
      "metadata": {
        "colab": {
          "base_uri": "https://localhost:8080/"
        },
        "id": "c-BsexyTJaFj",
        "outputId": "10607989-ce0f-4721-8a25-0bd77c86d4fd"
      },
      "execution_count": null,
      "outputs": [
        {
          "output_type": "stream",
          "name": "stdout",
          "text": [
            "Inicjalizacja nowego obiekut <__main__.Phone object at 0x0000018F0B37B740>\n"
          ]
        }
      ]
    },
    {
      "cell_type": "code",
      "source": [
        "help(Phone)"
      ],
      "metadata": {
        "colab": {
          "base_uri": "https://localhost:8080/"
        },
        "id": "txbFCTrGJe2Z",
        "outputId": "40d171e9-9aac-45ca-8d8e-f4a449562b19"
      },
      "execution_count": null,
      "outputs": [
        {
          "output_type": "stream",
          "name": "stdout",
          "text": [
            "Help on class Phone in module __main__:\n",
            "\n",
            "class Phone(builtins.object)\n",
            " |  Phone class.\n",
            " |\n",
            " |  Methods defined here:\n",
            " |\n",
            " |  __init__(self)\n",
            " |      Initialize self.  See help(type(self)) for accurate signature.\n",
            " |\n",
            " |  ----------------------------------------------------------------------\n",
            " |  Data descriptors defined here:\n",
            " |\n",
            " |  __dict__\n",
            " |      dictionary for instance variables\n",
            " |\n",
            " |  __weakref__\n",
            " |      list of weak references to the object\n",
            "\n"
          ]
        }
      ]
    },
    {
      "cell_type": "markdown",
      "source": [
        "### Wywołanie klasy\n",
        "Kiedy wywołujemy klasę, dzieję się dwie rzeczy:\n",
        "* Python wykonuje na klasie `__new__()` tworząc obiekt konkretnej  klasy:                                                                      \n",
        "###`instance = ClassName.__new__(ClassName, *args, *kwargs)`\n",
        "* Python wykonuje na iunstancji metodę `__init__()` inicjując utowrzony obiekt:\n",
        "###`instance.__init__(*args, **kwargs)`"
      ],
      "metadata": {
        "id": "VkKwPpotNEuz"
      }
    },
    {
      "cell_type": "code",
      "source": [
        "help(object.__new__)"
      ],
      "metadata": {
        "colab": {
          "base_uri": "https://localhost:8080/"
        },
        "id": "1UY0wG7gJgal",
        "outputId": "0dfbcf48-81aa-4d71-ab2f-33e75d4224d2"
      },
      "execution_count": null,
      "outputs": [
        {
          "output_type": "stream",
          "name": "stdout",
          "text": [
            "Help on built-in function __new__:\n",
            "\n",
            "__new__(*args, **kwargs) class method of builtins.object\n",
            "    Create and return a new object.  See help(type) for accurate signature.\n",
            "\n"
          ]
        }
      ]
    },
    {
      "cell_type": "code",
      "source": [
        "help(object.__init__)"
      ],
      "metadata": {
        "colab": {
          "base_uri": "https://localhost:8080/"
        },
        "id": "lEFY4rPBOBA7",
        "outputId": "0dde034d-77fc-4482-bad5-71f3669991b7"
      },
      "execution_count": null,
      "outputs": [
        {
          "output_type": "stream",
          "name": "stdout",
          "text": [
            "Help on wrapper_descriptor:\n",
            "\n",
            "__init__(self, /, *args, **kwargs) unbound builtins.object method\n",
            "    Initialize self.  See help(type(self)) for accurate signature.\n",
            "\n"
          ]
        }
      ]
    },
    {
      "cell_type": "code",
      "source": [
        "class Phone:\n",
        "    pass\n",
        "\n",
        "phone1 = Phone()"
      ],
      "metadata": {
        "id": "lmsIpdq2ODe_"
      },
      "execution_count": null,
      "outputs": []
    },
    {
      "cell_type": "code",
      "source": [
        "Phone.__new__(Phone)"
      ],
      "metadata": {
        "colab": {
          "base_uri": "https://localhost:8080/"
        },
        "id": "91UuzLxIOJMS",
        "outputId": "9ec4a840-2b7f-495e-a737-9f5269de8da1"
      },
      "execution_count": null,
      "outputs": [
        {
          "output_type": "execute_result",
          "data": {
            "text/plain": [
              "<__main__.Phone at 0x18f0bc45bb0>"
            ]
          },
          "metadata": {},
          "execution_count": 11
        }
      ]
    },
    {
      "cell_type": "code",
      "source": [
        "phone2 = Phone.__new__(Phone)"
      ],
      "metadata": {
        "id": "i49moo8-OMQ_"
      },
      "execution_count": null,
      "outputs": []
    },
    {
      "cell_type": "code",
      "source": [
        "phone2.__init__()"
      ],
      "metadata": {
        "id": "KK2hA6RDOQ_n"
      },
      "execution_count": null,
      "outputs": []
    },
    {
      "cell_type": "markdown",
      "source": [
        "# Przykład"
      ],
      "metadata": {
        "id": "_YTWhAK9OYh2"
      }
    },
    {
      "cell_type": "code",
      "source": [
        "class Phone:\n",
        "    \"\"\"Phone class.\"\"\"\n",
        "\n",
        "    def __init__(self):\n",
        "        print(f'Inicjalizacja nowego obiektu {self}')"
      ],
      "metadata": {
        "id": "PMlxzJW3OTmY"
      },
      "execution_count": null,
      "outputs": []
    },
    {
      "cell_type": "code",
      "source": [
        "phone1 = Phone()"
      ],
      "metadata": {
        "colab": {
          "base_uri": "https://localhost:8080/"
        },
        "id": "p6IG7kOkOjRa",
        "outputId": "ac549358-6870-4f73-d700-e4a2d20604c3"
      },
      "execution_count": null,
      "outputs": [
        {
          "output_type": "stream",
          "name": "stdout",
          "text": [
            "Inicjalizacja nowego obiektu <__main__.Phone object at 0x0000018F0B2A4170>\n"
          ]
        }
      ]
    },
    {
      "cell_type": "code",
      "source": [
        "class Phone:\n",
        "    \"\"\"Phone class.\"\"\"\n",
        "\n",
        "    def __init__(self, value):\n",
        "        print(f'Inicjalizacja nowego obiektu {self}')\n",
        "        self.brand = value"
      ],
      "metadata": {
        "id": "atPDVfxFOkda"
      },
      "execution_count": null,
      "outputs": []
    },
    {
      "cell_type": "code",
      "source": [
        "phone2 = Phone()"
      ],
      "metadata": {
        "colab": {
          "base_uri": "https://localhost:8080/",
          "height": 141
        },
        "id": "xCAH63XqOv6b",
        "outputId": "f7c0d5b3-5f1d-46e9-a501-6422ab099856"
      },
      "execution_count": null,
      "outputs": [
        {
          "output_type": "error",
          "ename": "TypeError",
          "evalue": "Phone.__init__() missing 1 required positional argument: 'value'",
          "traceback": [
            "\u001b[1;31m---------------------------------------------------------------------------\u001b[0m",
            "\u001b[1;31mTypeError\u001b[0m                                 Traceback (most recent call last)",
            "Cell \u001b[1;32mIn[18], line 1\u001b[0m\n\u001b[1;32m----> 1\u001b[0m phone2 \u001b[38;5;241m=\u001b[39m Phone()\n",
            "\u001b[1;31mTypeError\u001b[0m: Phone.__init__() missing 1 required positional argument: 'value'"
          ]
        }
      ]
    },
    {
      "cell_type": "code",
      "source": [
        "phone2 = Phone('Apple')"
      ],
      "metadata": {
        "colab": {
          "base_uri": "https://localhost:8080/"
        },
        "id": "4pkLCYxJOyn8",
        "outputId": "391f522d-fd45-404f-d029-760c471e710f"
      },
      "execution_count": null,
      "outputs": [
        {
          "output_type": "stream",
          "name": "stdout",
          "text": [
            "Inicjalizacja nowego obiektu <__main__.Phone object at 0x0000018F0B2A4440>\n"
          ]
        }
      ]
    },
    {
      "cell_type": "code",
      "source": [
        "phone2.brand"
      ],
      "metadata": {
        "colab": {
          "base_uri": "https://localhost:8080/"
        },
        "id": "umjTswA9O5if",
        "outputId": "012e25aa-72b9-4310-a748-850629fa4424"
      },
      "execution_count": null,
      "outputs": [
        {
          "output_type": "execute_result",
          "data": {
            "text/plain": [
              "'Apple'"
            ]
          },
          "metadata": {},
          "execution_count": 20
        }
      ]
    },
    {
      "cell_type": "code",
      "source": [
        "phone2.__dict__"
      ],
      "metadata": {
        "colab": {
          "base_uri": "https://localhost:8080/"
        },
        "id": "7esgNpRpO7K_",
        "outputId": "4129f254-f203-4b9a-eb3c-3235366ce765"
      },
      "execution_count": null,
      "outputs": [
        {
          "output_type": "execute_result",
          "data": {
            "text/plain": [
              "{'brand': 'Apple'}"
            ]
          },
          "metadata": {},
          "execution_count": 21
        }
      ]
    },
    {
      "cell_type": "code",
      "source": [
        "Phone.brand"
      ],
      "metadata": {
        "colab": {
          "base_uri": "https://localhost:8080/",
          "height": 141
        },
        "id": "ZJkusN8jO8ZV",
        "outputId": "6a9d3aad-a72d-47ae-d6c1-d4638160135b"
      },
      "execution_count": null,
      "outputs": [
        {
          "output_type": "error",
          "ename": "AttributeError",
          "evalue": "type object 'Phone' has no attribute 'brand'",
          "traceback": [
            "\u001b[1;31m---------------------------------------------------------------------------\u001b[0m",
            "\u001b[1;31mAttributeError\u001b[0m                            Traceback (most recent call last)",
            "Cell \u001b[1;32mIn[22], line 1\u001b[0m\n\u001b[1;32m----> 1\u001b[0m Phone\u001b[38;5;241m.\u001b[39mbrand\n",
            "\u001b[1;31mAttributeError\u001b[0m: type object 'Phone' has no attribute 'brand'"
          ]
        }
      ]
    },
    {
      "cell_type": "code",
      "source": [
        "class Phone:\n",
        "    \"\"\"Phone class.\"\"\"\n",
        "\n",
        "    def __init__(self, brand):\n",
        "\n",
        "        self.brand = brand\n"
      ],
      "metadata": {
        "id": "L5rnY9GnO-X6"
      },
      "execution_count": null,
      "outputs": []
    },
    {
      "cell_type": "markdown",
      "source": [
        "# Zadanie\n",
        "Zaimplementuj klase o nazwie `Laptop` posiadającą metodę `__init__()`, która na etapie tworzenia instancji przypisze następujące atrybuty instancji:\n",
        "* brand\n",
        "* model\n",
        "* price"
      ],
      "metadata": {
        "id": "kutWpQXwPRGz"
      }
    },
    {
      "cell_type": "code",
      "source": [
        "class Laptop:\n",
        "\n",
        "    def __init__(self, brand, model, price):\n",
        "        self.brand = brand\n",
        "        self.model = model\n",
        "        self.price = price"
      ],
      "metadata": {
        "id": "ojZAdmwPPlfl"
      },
      "execution_count": null,
      "outputs": []
    },
    {
      "cell_type": "markdown",
      "source": [
        "#Przykład"
      ],
      "metadata": {
        "id": "qX2oUKYnP1Tf"
      }
    },
    {
      "cell_type": "code",
      "source": [
        "class Laptop:\n",
        "\n",
        "    def __init__(self, brand, model, price):\n",
        "        self.brand = brand\n",
        "        self.model = model\n",
        "        self.price = price"
      ],
      "metadata": {
        "id": "Svl4KamlPrBK"
      },
      "execution_count": null,
      "outputs": []
    },
    {
      "cell_type": "code",
      "source": [
        "laptop1 = Laptop('Acer', 'Predator', 5490)"
      ],
      "metadata": {
        "id": "3W1rxJelP9Rt"
      },
      "execution_count": null,
      "outputs": []
    },
    {
      "cell_type": "code",
      "source": [
        "laptop1.__dict__.keys()"
      ],
      "metadata": {
        "colab": {
          "base_uri": "https://localhost:8080/"
        },
        "id": "hwyLC5bHQC8t",
        "outputId": "0044935c-bd5d-4c49-b86f-63568fc616e3"
      },
      "execution_count": null,
      "outputs": [
        {
          "output_type": "execute_result",
          "data": {
            "text/plain": [
              "dict_keys(['brand', 'model', 'price'])"
            ]
          },
          "metadata": {},
          "execution_count": 28
        }
      ]
    },
    {
      "cell_type": "code",
      "source": [
        "class Laptop:\n",
        "\n",
        "    def __init__(self, brand, model, price):\n",
        "        self.brand = brand\n",
        "        self.model = model\n",
        "        self.price = price\n",
        "\n",
        "    def display_attrs(self):\n",
        "        for attr in self.__dict__.keys():\n",
        "            print(attr)"
      ],
      "metadata": {
        "id": "h03W2I7TQFls"
      },
      "execution_count": null,
      "outputs": []
    },
    {
      "cell_type": "code",
      "source": [
        "laptop1 = Laptop('Acer', 'Predator', 5490)"
      ],
      "metadata": {
        "id": "nzDqrTQKQUwT"
      },
      "execution_count": null,
      "outputs": []
    },
    {
      "cell_type": "code",
      "source": [
        "laptop1.display_attrs()"
      ],
      "metadata": {
        "colab": {
          "base_uri": "https://localhost:8080/"
        },
        "id": "b8L_pinXQWMM",
        "outputId": "db0cdc0f-e3a7-4ee4-9659-e6cd321f4e95"
      },
      "execution_count": null,
      "outputs": [
        {
          "output_type": "stream",
          "name": "stdout",
          "text": [
            "brand\n",
            "model\n",
            "price\n"
          ]
        }
      ]
    },
    {
      "cell_type": "code",
      "source": [
        "class Laptop:\n",
        "\n",
        "    def __init__(self, brand, model, price):\n",
        "        self.brand = brand\n",
        "        self.model = model\n",
        "        self.price = price\n",
        "\n",
        "    def display_attrs(self):\n",
        "        for attr in self.__dict__.keys():\n",
        "            print(attr)\n",
        "\n",
        "    def display_values(self):\n",
        "        for attr, value in self.__dict__.items():\n",
        "            print(f'{attr} -> {value}')"
      ],
      "metadata": {
        "id": "igcOGyH3QXzq"
      },
      "execution_count": null,
      "outputs": []
    },
    {
      "cell_type": "code",
      "source": [
        "laptop1 = Laptop('Acer', 'Predator', 5490)"
      ],
      "metadata": {
        "id": "WdIuNn_GQtaf"
      },
      "execution_count": null,
      "outputs": []
    },
    {
      "cell_type": "code",
      "source": [
        "laptop1.display_values()"
      ],
      "metadata": {
        "colab": {
          "base_uri": "https://localhost:8080/"
        },
        "id": "JqVUqq3_Quko",
        "outputId": "e458c262-cc49-4e1c-cdbb-77c5977a4db0"
      },
      "execution_count": null,
      "outputs": [
        {
          "output_type": "stream",
          "name": "stdout",
          "text": [
            "brand -> Acer\n",
            "model -> Predator\n",
            "price -> 5490\n"
          ]
        }
      ]
    },
    {
      "cell_type": "markdown",
      "source": [
        "### Przykład"
      ],
      "metadata": {
        "id": "xRHNLzWhRJOl"
      }
    },
    {
      "cell_type": "code",
      "source": [
        "class Vector:\n",
        "\n",
        "    def __init__(self, *components):\n",
        "        self.components = components"
      ],
      "metadata": {
        "id": "OAsL9eLUQwt4"
      },
      "execution_count": null,
      "outputs": []
    },
    {
      "cell_type": "code",
      "source": [
        "v1 = Vector(3, 4)\n",
        "v1.components"
      ],
      "metadata": {
        "colab": {
          "base_uri": "https://localhost:8080/"
        },
        "id": "VPyMTaepRRyl",
        "outputId": "c2371da3-9433-4c3c-b34a-38066f10f018"
      },
      "execution_count": null,
      "outputs": [
        {
          "output_type": "execute_result",
          "data": {
            "text/plain": [
              "(3, 4)"
            ]
          },
          "metadata": {},
          "execution_count": 52
        }
      ]
    },
    {
      "cell_type": "code",
      "source": [
        "v2 = Vector(5, 3, -2)\n",
        "v2.components"
      ],
      "metadata": {
        "colab": {
          "base_uri": "https://localhost:8080/"
        },
        "id": "SlyDMEjVRabY",
        "outputId": "a4fc9209-9a1f-4c02-970e-de1836725b12"
      },
      "execution_count": null,
      "outputs": [
        {
          "output_type": "execute_result",
          "data": {
            "text/plain": [
              "(5, 3, -2)"
            ]
          },
          "metadata": {},
          "execution_count": 53
        }
      ]
    },
    {
      "cell_type": "markdown",
      "source": [
        "### Przykład"
      ],
      "metadata": {
        "id": "9nHoPCmJRpVI"
      }
    },
    {
      "cell_type": "code",
      "source": [
        "class TechStack:\n",
        "\n",
        "    def __init__(self, **techs):\n",
        "        self.techs = techs"
      ],
      "metadata": {
        "id": "6bBAg4XCRe2T"
      },
      "execution_count": null,
      "outputs": []
    },
    {
      "cell_type": "code",
      "source": [
        "stack = TechStack(python='mid')"
      ],
      "metadata": {
        "id": "eXAC-23eR3--"
      },
      "execution_count": null,
      "outputs": []
    },
    {
      "cell_type": "code",
      "source": [
        "stack.techs"
      ],
      "metadata": {
        "colab": {
          "base_uri": "https://localhost:8080/"
        },
        "id": "vy8vjPj1R8ME",
        "outputId": "b1b38392-d170-405b-e19d-befdfd069491"
      },
      "execution_count": null,
      "outputs": [
        {
          "output_type": "execute_result",
          "data": {
            "text/plain": [
              "{'python': 'mid'}"
            ]
          },
          "metadata": {},
          "execution_count": 56
        }
      ]
    },
    {
      "cell_type": "code",
      "source": [
        "stack = TechStack(python='mid', java='senior')"
      ],
      "metadata": {
        "id": "LU5E9S2aR9D7"
      },
      "execution_count": null,
      "outputs": []
    },
    {
      "cell_type": "code",
      "source": [
        "stack.techs"
      ],
      "metadata": {
        "colab": {
          "base_uri": "https://localhost:8080/"
        },
        "id": "IoSugBnvSEIr",
        "outputId": "808ffb3f-e5b4-4668-afc7-4aa6367cb77a"
      },
      "execution_count": null,
      "outputs": [
        {
          "output_type": "execute_result",
          "data": {
            "text/plain": [
              "{'python': 'mid', 'java': 'senior'}"
            ]
          },
          "metadata": {},
          "execution_count": 58
        }
      ]
    },
    {
      "cell_type": "code",
      "source": [
        "stack.__dict__"
      ],
      "metadata": {
        "colab": {
          "base_uri": "https://localhost:8080/"
        },
        "id": "kABz9gyTSFP1",
        "outputId": "b5cef310-6c7b-4e73-af7b-8a4df9ddfdf0"
      },
      "execution_count": null,
      "outputs": [
        {
          "output_type": "execute_result",
          "data": {
            "text/plain": [
              "{'techs': {'python': 'mid', 'java': 'senior'}}"
            ]
          },
          "metadata": {},
          "execution_count": 59
        }
      ]
    },
    {
      "cell_type": "markdown",
      "source": [
        "### Zadanie\n",
        "\n",
        "Podana jest implementacja klasy `TechStack`. Dokonaj zmian w metodzie `__init__()` tak, aby przekazywane argumenty nazwane (*keyword arguments*) zostały ustawiane jako atrybuty instancji."
      ],
      "metadata": {
        "id": "JeY5OhA6Sia4"
      }
    },
    {
      "cell_type": "code",
      "source": [
        "class TechStack:\n",
        "\n",
        "    def __init__(self, **techs):\n",
        "        for attr_name, attr_value in techs.items():\n",
        "            print(attr_name, attr_value)\n"
      ],
      "metadata": {
        "id": "XTWM026fSHf6"
      },
      "execution_count": null,
      "outputs": []
    },
    {
      "cell_type": "code",
      "source": [
        "TechStack(python='mid')"
      ],
      "metadata": {
        "colab": {
          "base_uri": "https://localhost:8080/"
        },
        "id": "kET78esXS1m3",
        "outputId": "574add14-a890-4349-dd74-b21478d98098"
      },
      "execution_count": null,
      "outputs": [
        {
          "output_type": "stream",
          "name": "stdout",
          "text": [
            "python mid\n"
          ]
        },
        {
          "output_type": "execute_result",
          "data": {
            "text/plain": [
              "<__main__.TechStack at 0x18f0be1c2f0>"
            ]
          },
          "metadata": {},
          "execution_count": 63
        }
      ]
    },
    {
      "cell_type": "code",
      "source": [
        "class TechStack:\n",
        "\n",
        "    def __init__(self, **techs):\n",
        "        for attr_name, attr_value in techs.items():\n",
        "            setattr(self, attr_name, attr_value)"
      ],
      "metadata": {
        "id": "M3ZFG-IhTLgy"
      },
      "execution_count": null,
      "outputs": []
    },
    {
      "cell_type": "code",
      "source": [
        "TechStack(python='mid')"
      ],
      "metadata": {
        "colab": {
          "base_uri": "https://localhost:8080/"
        },
        "id": "04UeaDImTUqm",
        "outputId": "58639a8e-1c03-435f-c69d-421efdffe0f6"
      },
      "execution_count": null,
      "outputs": [
        {
          "output_type": "execute_result",
          "data": {
            "text/plain": [
              "<__main__.TechStack at 0x18f0c1d48c0>"
            ]
          },
          "metadata": {},
          "execution_count": 65
        }
      ]
    },
    {
      "cell_type": "code",
      "source": [
        "stack = TechStack(python='mid')\n",
        "stack.__dict__"
      ],
      "metadata": {
        "colab": {
          "base_uri": "https://localhost:8080/"
        },
        "id": "FlmD4ObXTXIQ",
        "outputId": "d2a527b7-1da0-435a-a34b-3004ba96ceda"
      },
      "execution_count": null,
      "outputs": [
        {
          "output_type": "execute_result",
          "data": {
            "text/plain": [
              "{'python': 'mid'}"
            ]
          },
          "metadata": {},
          "execution_count": 66
        }
      ]
    },
    {
      "cell_type": "code",
      "source": [
        "stack = TechStack(python='mid', java='senior')\n",
        "stack.__dict__"
      ],
      "metadata": {
        "colab": {
          "base_uri": "https://localhost:8080/"
        },
        "id": "J-z2B4q7Tbvy",
        "outputId": "699fa98c-1df3-4349-f9d9-1e575a7f52eb"
      },
      "execution_count": null,
      "outputs": [
        {
          "output_type": "execute_result",
          "data": {
            "text/plain": [
              "{'python': 'mid', 'java': 'senior'}"
            ]
          },
          "metadata": {},
          "execution_count": 67
        }
      ]
    },
    {
      "cell_type": "code",
      "source": [
        "class TechStack:\n",
        "\n",
        "    def __init__(self, **techs):\n",
        "        for attr_name, attr_value in techs.items():\n",
        "            setattr(self, attr_name, attr_value)\n",
        "\n",
        "    def display_info(self):\n",
        "        print(f'Total number of techs: {len(self.__dict__)}')\n"
      ],
      "metadata": {
        "id": "rTOGetbvTetw"
      },
      "execution_count": null,
      "outputs": []
    },
    {
      "cell_type": "code",
      "source": [
        "stack = TechStack(python='mid', java='senior')\n",
        "stack.display_info()"
      ],
      "metadata": {
        "colab": {
          "base_uri": "https://localhost:8080/"
        },
        "id": "8CbapYiWTwMz",
        "outputId": "ce72bdbc-0f65-4414-c92b-7755880f2c68"
      },
      "execution_count": null,
      "outputs": [
        {
          "output_type": "stream",
          "name": "stdout",
          "text": [
            "Total number of techs: 2\n"
          ]
        }
      ]
    },
    {
      "cell_type": "markdown",
      "source": [
        "### Ustawianie nowych wartości atrybutów - walidacja"
      ],
      "metadata": {
        "id": "WV11QmsZkSHJ"
      }
    },
    {
      "cell_type": "code",
      "source": [
        "class Phone:\n",
        "\n",
        "    def __init__(self, brand, model, price):\n",
        "        self.brand = brand\n",
        "        self.model = model\n",
        "        self.price = price\n",
        "\n",
        "phone1 = Phone('Apple', 'iPhone SE', 2199)\n",
        "phone1.brand, phone1.model, phone1.price"
      ],
      "metadata": {
        "colab": {
          "base_uri": "https://localhost:8080/"
        },
        "id": "NVa2A6L_TxU1",
        "outputId": "15af6473-9389-4b58-f793-488409e2d741"
      },
      "execution_count": null,
      "outputs": [
        {
          "output_type": "execute_result",
          "data": {
            "text/plain": [
              "('Apple', 'iPhone SE', 2199)"
            ]
          },
          "metadata": {},
          "execution_count": 71
        }
      ]
    },
    {
      "cell_type": "code",
      "source": [
        "phone1 = Phone('Apple', 'iPhone SE', '---')\n",
        "phone1.brand, phone1.model, phone1.price"
      ],
      "metadata": {
        "colab": {
          "base_uri": "https://localhost:8080/"
        },
        "id": "OO_qn-NmlOkx",
        "outputId": "82c2225d-7733-4648-dda9-3be594f9cef9"
      },
      "execution_count": null,
      "outputs": [
        {
          "output_type": "execute_result",
          "data": {
            "text/plain": [
              "('Apple', 'iPhone SE', '---')"
            ]
          },
          "metadata": {},
          "execution_count": 72
        }
      ]
    },
    {
      "cell_type": "code",
      "source": [
        "phone1 = Phone('Apple', 'iPhone SE', 2199)\n",
        "phone1.brand, phone1.model, phone1.price"
      ],
      "metadata": {
        "colab": {
          "base_uri": "https://localhost:8080/"
        },
        "id": "4zBsoL5ilSPQ",
        "outputId": "a0680346-f317-4400-d2b8-e1edfff734ee"
      },
      "execution_count": null,
      "outputs": [
        {
          "output_type": "execute_result",
          "data": {
            "text/plain": [
              "('Apple', 'iPhone SE', 2199)"
            ]
          },
          "metadata": {},
          "execution_count": 73
        }
      ]
    },
    {
      "cell_type": "code",
      "source": [
        "phone1.price = '%'\n",
        "phone1.brand, phone1.model, phone1.price"
      ],
      "metadata": {
        "colab": {
          "base_uri": "https://localhost:8080/"
        },
        "id": "lCBLCw9Wlcc6",
        "outputId": "30e3b174-179b-4e6d-ac41-3f4964ac8b5a"
      },
      "execution_count": null,
      "outputs": [
        {
          "output_type": "execute_result",
          "data": {
            "text/plain": [
              "('Apple', 'iPhone SE', '%')"
            ]
          },
          "metadata": {},
          "execution_count": 74
        }
      ]
    },
    {
      "cell_type": "code",
      "source": [
        "class Phone:\n",
        "\n",
        "    def __init__(self, brand, model, price):\n",
        "        self.brand = brand\n",
        "        self.model = model\n",
        "\n",
        "        if isinstance(price, (int, float)):\n",
        "            self.price = price\n",
        "        else:\n",
        "            raise ValueError('Price must be a number.')\n",
        "\n",
        "phone1 = Phone('Apple', 'iPhone SE', 2199.0)\n",
        "phone1.brand, phone1.model, phone1.price"
      ],
      "metadata": {
        "colab": {
          "base_uri": "https://localhost:8080/"
        },
        "id": "dBNi-L-Klf-6",
        "outputId": "75404fa9-8d9e-4111-fd1a-a2b01512f103"
      },
      "execution_count": null,
      "outputs": [
        {
          "output_type": "execute_result",
          "data": {
            "text/plain": [
              "('Apple', 'iPhone SE', 2199.0)"
            ]
          },
          "metadata": {},
          "execution_count": 82
        }
      ]
    },
    {
      "cell_type": "code",
      "source": [
        "phone1.price = '%'"
      ],
      "metadata": {
        "id": "VEzGNdAalzd5"
      },
      "execution_count": null,
      "outputs": []
    },
    {
      "cell_type": "code",
      "source": [
        "phone1.price"
      ],
      "metadata": {
        "colab": {
          "base_uri": "https://localhost:8080/"
        },
        "id": "MphzGvcMl2Pr",
        "outputId": "006e1ca7-365f-42b6-c4b2-3901d26997c4"
      },
      "execution_count": null,
      "outputs": [
        {
          "output_type": "execute_result",
          "data": {
            "text/plain": [
              "'%'"
            ]
          },
          "metadata": {},
          "execution_count": 80
        }
      ]
    },
    {
      "cell_type": "markdown",
      "source": [
        "### Zadanie\n",
        "Podana jest implementacja klasy `Phone`. Dodaj metodę o nazwie `show_details()` pozwalającą wydrukować do konsoli informacje na temat atrybutów instancji.\n",
        "\n",
        "Przykład: Wywołania metody:\n",
        "```\n",
        "phone1 = Phone('Apple', 'iPhone SE', 2199)\n",
        "phone1.show_details()\n",
        "```\n",
        "zwraca:\n",
        "```\n",
        "Brand: Apple\n",
        "Model: iPhone SE\n",
        "Price: 2199 PLN\n",
        "```"
      ],
      "metadata": {
        "id": "rOqRAXLlmSky"
      }
    },
    {
      "cell_type": "code",
      "source": [
        "class Phone:\n",
        "\n",
        "    def __init__(self, brand, model, price):\n",
        "        self.brand = brand\n",
        "        self.model = model\n",
        "\n",
        "        if isinstance(price, (int, float)):\n",
        "            self.price = price\n",
        "        else:\n",
        "            raise TypeError('The price argument must be of type int or float.')\n",
        "\n",
        "    def show_details(self):\n",
        "        print(f'Brand: {self.brand}\\nModel: {self.model}\\nPrice: {self.price}')"
      ],
      "metadata": {
        "id": "kb2OtTuol4V1"
      },
      "execution_count": null,
      "outputs": []
    },
    {
      "cell_type": "markdown",
      "source": [
        "###Przykład"
      ],
      "metadata": {
        "id": "rEMTb2vymiwp"
      }
    },
    {
      "cell_type": "code",
      "source": [
        "class Phone:\n",
        "\n",
        "    def __init__(self, brand, model, price):\n",
        "        self.brand = brand\n",
        "        self.model = model\n",
        "\n",
        "        if isinstance(price, (int, float)):\n",
        "            self.price = price\n",
        "        else:\n",
        "            raise TypeError('The price argument must be of type int or float.')\n",
        "\n",
        "    def show_details(self):\n",
        "        print(f'Brand: {self.brand}\\nModel: {self.model}\\nPrice: {self.price}')\n",
        "\n",
        "    def pln_to_usd(self):\n",
        "        self.price = self.price / 4.0\n",
        "\n",
        "Phone.__dict__"
      ],
      "metadata": {
        "colab": {
          "base_uri": "https://localhost:8080/"
        },
        "id": "juRkNnRimkVM",
        "outputId": "5c722043-541d-43dc-c300-8563d0226461"
      },
      "execution_count": null,
      "outputs": [
        {
          "output_type": "execute_result",
          "data": {
            "text/plain": [
              "mappingproxy({'__module__': '__main__',\n",
              "              '__init__': <function __main__.Phone.__init__(self, brand, model, price)>,\n",
              "              'show_details': <function __main__.Phone.show_details(self)>,\n",
              "              'pln_to_usd': <function __main__.Phone.pln_to_usd(self)>,\n",
              "              '__dict__': <attribute '__dict__' of 'Phone' objects>,\n",
              "              '__weakref__': <attribute '__weakref__' of 'Phone' objects>,\n",
              "              '__doc__': None})"
            ]
          },
          "metadata": {},
          "execution_count": 83
        }
      ]
    },
    {
      "cell_type": "code",
      "source": [
        "phone1 = Phone('Apple', 'iPhone', 4000)\n",
        "phone1"
      ],
      "metadata": {
        "colab": {
          "base_uri": "https://localhost:8080/"
        },
        "id": "oc-Bw23BmldR",
        "outputId": "8f6a921f-2a6d-4435-f626-f7dbbb36e4c5"
      },
      "execution_count": null,
      "outputs": [
        {
          "output_type": "execute_result",
          "data": {
            "text/plain": [
              "<__main__.Phone at 0x18f0b295df0>"
            ]
          },
          "metadata": {},
          "execution_count": 84
        }
      ]
    },
    {
      "cell_type": "code",
      "source": [
        "phone1.price"
      ],
      "metadata": {
        "colab": {
          "base_uri": "https://localhost:8080/"
        },
        "id": "Xwjzr6Q2mmoi",
        "outputId": "e230c517-4784-442c-d7dd-4016b3a64bc4"
      },
      "execution_count": null,
      "outputs": [
        {
          "output_type": "execute_result",
          "data": {
            "text/plain": [
              "4000"
            ]
          },
          "metadata": {},
          "execution_count": 85
        }
      ]
    },
    {
      "cell_type": "code",
      "source": [
        "phone1.pln_to_usd()"
      ],
      "metadata": {
        "id": "80ahSmrtmoOm"
      },
      "execution_count": null,
      "outputs": []
    },
    {
      "cell_type": "code",
      "source": [
        "phone1.price"
      ],
      "metadata": {
        "id": "0QhmlnH4mpTl",
        "outputId": "f1b825e1-2ac0-4a71-d653-6c0ee5daf3a2",
        "colab": {
          "base_uri": "https://localhost:8080/"
        }
      },
      "execution_count": null,
      "outputs": [
        {
          "output_type": "execute_result",
          "data": {
            "text/plain": [
              "1000.0"
            ]
          },
          "metadata": {},
          "execution_count": 87
        }
      ]
    },
    {
      "cell_type": "code",
      "source": [
        "phone1.__dict__"
      ],
      "metadata": {
        "id": "eILkNQSEmqe_",
        "outputId": "d4dd8d47-aaba-45c2-a310-eae2c82b21ea",
        "colab": {
          "base_uri": "https://localhost:8080/"
        }
      },
      "execution_count": null,
      "outputs": [
        {
          "output_type": "execute_result",
          "data": {
            "text/plain": [
              "{'brand': 'Apple', 'model': 'iPhone', 'price': 1000.0}"
            ]
          },
          "metadata": {},
          "execution_count": 88
        }
      ]
    },
    {
      "cell_type": "code",
      "source": [],
      "metadata": {
        "id": "Vay6cYVemr1R"
      },
      "execution_count": null,
      "outputs": []
    }
  ]
}