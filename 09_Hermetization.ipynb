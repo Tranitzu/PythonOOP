{
  "nbformat": 4,
  "nbformat_minor": 0,
  "metadata": {
    "colab": {
      "provenance": [],
      "authorship_tag": "ABX9TyNrPIhHvAHsHIywpVwI2+ZT",
      "include_colab_link": true
    },
    "kernelspec": {
      "name": "python3",
      "display_name": "Python 3"
    },
    "language_info": {
      "name": "python"
    }
  },
  "cells": [
    {
      "cell_type": "markdown",
      "metadata": {
        "id": "view-in-github",
        "colab_type": "text"
      },
      "source": [
        "<a href=\"https://colab.research.google.com/github/Tranitzu/PythonOOP/blob/main/09_Hermetization.ipynb\" target=\"_parent\"><img src=\"https://colab.research.google.com/assets/colab-badge.svg\" alt=\"Open In Colab\"/></a>"
      ]
    },
    {
      "cell_type": "markdown",
      "source": [
        "### Hermetyzacja / Enkapsulacja"
      ],
      "metadata": {
        "id": "lWqDHf0-hpRf"
      }
    },
    {
      "cell_type": "code",
      "execution_count": 1,
      "metadata": {
        "colab": {
          "base_uri": "https://localhost:8080/"
        },
        "id": "xApbalM_hiqw",
        "outputId": "523e2bbb-273f-4d1a-ad37-35b658818718"
      },
      "outputs": [
        {
          "output_type": "execute_result",
          "data": {
            "text/plain": [
              "{'price': 2490}"
            ]
          },
          "metadata": {},
          "execution_count": 1
        }
      ],
      "source": [
        "class Phone:\n",
        "\n",
        "    def __init__(self, price):\n",
        "        self.price = price\n",
        "\n",
        "phone = Phone(2490)\n",
        "phone.__dict__"
      ]
    },
    {
      "cell_type": "code",
      "source": [
        "phone = Phone('Apple')\n",
        "phone.__dict__"
      ],
      "metadata": {
        "colab": {
          "base_uri": "https://localhost:8080/"
        },
        "id": "RauRvYTyYgd3",
        "outputId": "5cfad61e-ac5a-41e1-ac8d-d6de1fa25beb"
      },
      "execution_count": 3,
      "outputs": [
        {
          "output_type": "execute_result",
          "data": {
            "text/plain": [
              "{'price': 'Apple'}"
            ]
          },
          "metadata": {},
          "execution_count": 3
        }
      ]
    },
    {
      "cell_type": "code",
      "source": [
        "phone = Phone(2490)\n",
        "phone.__dict__"
      ],
      "metadata": {
        "colab": {
          "base_uri": "https://localhost:8080/"
        },
        "id": "TbapTk49Y2cd",
        "outputId": "cfb28153-db71-4e38-d57e-0bd47e0fbf90"
      },
      "execution_count": 4,
      "outputs": [
        {
          "output_type": "execute_result",
          "data": {
            "text/plain": [
              "{'price': 2490}"
            ]
          },
          "metadata": {},
          "execution_count": 4
        }
      ]
    },
    {
      "cell_type": "code",
      "source": [
        "phone.price = 'John'"
      ],
      "metadata": {
        "id": "nlToNgZIY-Of"
      },
      "execution_count": 5,
      "outputs": []
    },
    {
      "cell_type": "code",
      "source": [
        "phone.price"
      ],
      "metadata": {
        "colab": {
          "base_uri": "https://localhost:8080/",
          "height": 35
        },
        "id": "GaWAa3dKZAi1",
        "outputId": "df934b54-1606-45a4-8e62-47dcfdb5e221"
      },
      "execution_count": 6,
      "outputs": [
        {
          "output_type": "execute_result",
          "data": {
            "text/plain": [
              "'John'"
            ],
            "application/vnd.google.colaboratory.intrinsic+json": {
              "type": "string"
            }
          },
          "metadata": {},
          "execution_count": 6
        }
      ]
    },
    {
      "cell_type": "code",
      "source": [
        "class Phone:\n",
        "\n",
        "    def __init__(self, price):\n",
        "        self._price = price\n",
        "\n",
        "    def get_price(self):\n",
        "        return self._price\n",
        "\n",
        "    def set_price(self, value):\n",
        "        self._price = value\n",
        "\n",
        "phone = Phone(2490)\n",
        "phone.__dict__"
      ],
      "metadata": {
        "colab": {
          "base_uri": "https://localhost:8080/"
        },
        "id": "rmRkx1NyZBp3",
        "outputId": "59f46927-2e32-4d77-d118-bdd2346ec384"
      },
      "execution_count": 7,
      "outputs": [
        {
          "output_type": "execute_result",
          "data": {
            "text/plain": [
              "{'_price': 2490}"
            ]
          },
          "metadata": {},
          "execution_count": 7
        }
      ]
    },
    {
      "cell_type": "code",
      "source": [
        "phone.get_price()"
      ],
      "metadata": {
        "colab": {
          "base_uri": "https://localhost:8080/"
        },
        "id": "SMh_EeRNZYF0",
        "outputId": "61b59e5b-4cdc-4ce8-c667-2960b6426217"
      },
      "execution_count": 8,
      "outputs": [
        {
          "output_type": "execute_result",
          "data": {
            "text/plain": [
              "2490"
            ]
          },
          "metadata": {},
          "execution_count": 8
        }
      ]
    },
    {
      "cell_type": "code",
      "source": [
        "phone.set_price(3000)"
      ],
      "metadata": {
        "id": "Cy8Io6BvZdek"
      },
      "execution_count": 9,
      "outputs": []
    },
    {
      "cell_type": "code",
      "source": [
        "phone.get_price()"
      ],
      "metadata": {
        "colab": {
          "base_uri": "https://localhost:8080/"
        },
        "id": "LnOLIiWNZkZn",
        "outputId": "a5c2bfbe-f61e-4555-c162-1c6344bf8e6b"
      },
      "execution_count": 10,
      "outputs": [
        {
          "output_type": "execute_result",
          "data": {
            "text/plain": [
              "3000"
            ]
          },
          "metadata": {},
          "execution_count": 10
        }
      ]
    },
    {
      "cell_type": "code",
      "source": [
        "phone.__dict__"
      ],
      "metadata": {
        "colab": {
          "base_uri": "https://localhost:8080/"
        },
        "id": "-LUFHvFfZleM",
        "outputId": "ec9be1f1-0975-436f-f00c-890c6ec977dd"
      },
      "execution_count": 11,
      "outputs": [
        {
          "output_type": "execute_result",
          "data": {
            "text/plain": [
              "{'_price': 3000}"
            ]
          },
          "metadata": {},
          "execution_count": 11
        }
      ]
    },
    {
      "cell_type": "code",
      "source": [
        "phone._price"
      ],
      "metadata": {
        "colab": {
          "base_uri": "https://localhost:8080/"
        },
        "id": "da5a7kFUZnWn",
        "outputId": "0d439862-8d40-4061-d4f3-0142009ecbbd"
      },
      "execution_count": 13,
      "outputs": [
        {
          "output_type": "execute_result",
          "data": {
            "text/plain": [
              "3000"
            ]
          },
          "metadata": {},
          "execution_count": 13
        }
      ]
    },
    {
      "cell_type": "code",
      "source": [],
      "metadata": {
        "id": "kWK00mSnZpd_"
      },
      "execution_count": null,
      "outputs": []
    },
    {
      "cell_type": "markdown",
      "source": [
        "### Walidacja"
      ],
      "metadata": {
        "id": "qyxoJqiFZzzg"
      }
    },
    {
      "cell_type": "code",
      "source": [
        "class Phone:\n",
        "\n",
        "    def __init__(self, price):\n",
        "        self._price = price\n",
        "\n",
        "    def get_price(self):\n",
        "        return self._price\n",
        "\n",
        "    def set_price(self, value):\n",
        "        if isinstance(value, (int, float)):\n",
        "            self._price = value\n",
        "        else:\n",
        "            raise TypeError('The price attribute must be an int or float value.')\n",
        "\n",
        "phone.__dict__"
      ],
      "metadata": {
        "colab": {
          "base_uri": "https://localhost:8080/"
        },
        "id": "Mldf5niAZ1Na",
        "outputId": "e66734d4-fd3b-46bf-da71-906f5e6695bf"
      },
      "execution_count": 15,
      "outputs": [
        {
          "output_type": "execute_result",
          "data": {
            "text/plain": [
              "{'_price': 3000}"
            ]
          },
          "metadata": {},
          "execution_count": 15
        }
      ]
    },
    {
      "cell_type": "code",
      "source": [
        "phone = Phone(2000)\n",
        "phone.__dict__"
      ],
      "metadata": {
        "colab": {
          "base_uri": "https://localhost:8080/"
        },
        "id": "PYmaf9A9aHe8",
        "outputId": "21a8c83e-e60a-4a35-959e-8a6773e1defc"
      },
      "execution_count": 16,
      "outputs": [
        {
          "output_type": "execute_result",
          "data": {
            "text/plain": [
              "{'_price': 2000}"
            ]
          },
          "metadata": {},
          "execution_count": 16
        }
      ]
    },
    {
      "cell_type": "code",
      "source": [
        "phone.set_price('Apple')"
      ],
      "metadata": {
        "colab": {
          "base_uri": "https://localhost:8080/",
          "height": 263
        },
        "id": "oHFOvMcDaSSr",
        "outputId": "aa1a1fee-f6a2-447d-d6c5-41d4dd5a963c"
      },
      "execution_count": 17,
      "outputs": [
        {
          "output_type": "error",
          "ename": "TypeError",
          "evalue": "The price attribute must be an int or float value.",
          "traceback": [
            "\u001b[0;31m---------------------------------------------------------------------------\u001b[0m",
            "\u001b[0;31mTypeError\u001b[0m                                 Traceback (most recent call last)",
            "\u001b[0;32m<ipython-input-17-a93e4acf8c73>\u001b[0m in \u001b[0;36m<cell line: 1>\u001b[0;34m()\u001b[0m\n\u001b[0;32m----> 1\u001b[0;31m \u001b[0mphone\u001b[0m\u001b[0;34m.\u001b[0m\u001b[0mset_price\u001b[0m\u001b[0;34m(\u001b[0m\u001b[0;34m'Apple'\u001b[0m\u001b[0;34m)\u001b[0m\u001b[0;34m\u001b[0m\u001b[0;34m\u001b[0m\u001b[0m\n\u001b[0m",
            "\u001b[0;32m<ipython-input-15-7aaf9b500c53>\u001b[0m in \u001b[0;36mset_price\u001b[0;34m(self, value)\u001b[0m\n\u001b[1;32m     11\u001b[0m             \u001b[0mself\u001b[0m\u001b[0;34m.\u001b[0m\u001b[0m_price\u001b[0m \u001b[0;34m=\u001b[0m \u001b[0mvalue\u001b[0m\u001b[0;34m\u001b[0m\u001b[0;34m\u001b[0m\u001b[0m\n\u001b[1;32m     12\u001b[0m         \u001b[0;32melse\u001b[0m\u001b[0;34m:\u001b[0m\u001b[0;34m\u001b[0m\u001b[0;34m\u001b[0m\u001b[0m\n\u001b[0;32m---> 13\u001b[0;31m             \u001b[0;32mraise\u001b[0m \u001b[0mTypeError\u001b[0m\u001b[0;34m(\u001b[0m\u001b[0;34m'The price attribute must be an int or float value.'\u001b[0m\u001b[0;34m)\u001b[0m\u001b[0;34m\u001b[0m\u001b[0;34m\u001b[0m\u001b[0m\n\u001b[0m\u001b[1;32m     14\u001b[0m \u001b[0;34m\u001b[0m\u001b[0m\n\u001b[1;32m     15\u001b[0m \u001b[0mphone\u001b[0m\u001b[0;34m.\u001b[0m\u001b[0m__dict__\u001b[0m\u001b[0;34m\u001b[0m\u001b[0;34m\u001b[0m\u001b[0m\n",
            "\u001b[0;31mTypeError\u001b[0m: The price attribute must be an int or float value."
          ]
        }
      ]
    },
    {
      "cell_type": "code",
      "source": [
        "phone.set_price(4000)"
      ],
      "metadata": {
        "id": "OWAgyCLyaU87"
      },
      "execution_count": 18,
      "outputs": []
    },
    {
      "cell_type": "code",
      "source": [
        "phone.get_price()"
      ],
      "metadata": {
        "colab": {
          "base_uri": "https://localhost:8080/"
        },
        "id": "1qbyBCJVabTH",
        "outputId": "052cbb89-d060-41fa-88bb-eba0ed87d78d"
      },
      "execution_count": 19,
      "outputs": [
        {
          "output_type": "execute_result",
          "data": {
            "text/plain": [
              "4000"
            ]
          },
          "metadata": {},
          "execution_count": 19
        }
      ]
    },
    {
      "cell_type": "code",
      "source": [
        "phone.set_price(-4000)"
      ],
      "metadata": {
        "id": "eLnW63VgadGO"
      },
      "execution_count": 20,
      "outputs": []
    },
    {
      "cell_type": "code",
      "source": [
        "phone.get_price()"
      ],
      "metadata": {
        "colab": {
          "base_uri": "https://localhost:8080/"
        },
        "id": "_pPLsV1Iagu0",
        "outputId": "5eb67a44-6ea6-48da-c1dd-a13224c141fd"
      },
      "execution_count": 22,
      "outputs": [
        {
          "output_type": "execute_result",
          "data": {
            "text/plain": [
              "-4000"
            ]
          },
          "metadata": {},
          "execution_count": 22
        }
      ]
    },
    {
      "cell_type": "code",
      "source": [
        "class Phone:\n",
        "\n",
        "    def __init__(self, price):\n",
        "        self._price = price\n",
        "\n",
        "    def get_price(self):\n",
        "        return self._price\n",
        "\n",
        "    def set_price(self, value):\n",
        "        if isinstance(value, (int, float)):\n",
        "            if value > 0:\n",
        "              self._price = value\n",
        "            else:\n",
        "              raise ValueError('The price attribute must be a positive value.')\n",
        "        else:\n",
        "            raise TypeError('The price attribute must be an int or float value.')\n",
        "\n",
        "phone.__dict__"
      ],
      "metadata": {
        "colab": {
          "base_uri": "https://localhost:8080/"
        },
        "id": "3Vv8Q3U3ah-f",
        "outputId": "3068f723-545a-4e9e-cfc6-a2bb931b0139"
      },
      "execution_count": 33,
      "outputs": [
        {
          "output_type": "execute_result",
          "data": {
            "text/plain": [
              "{'_price': 150.0}"
            ]
          },
          "metadata": {},
          "execution_count": 33
        }
      ]
    },
    {
      "cell_type": "code",
      "source": [
        "phone = Phone(2000)\n",
        "phone.__dict__"
      ],
      "metadata": {
        "colab": {
          "base_uri": "https://localhost:8080/"
        },
        "id": "YLa0daUGaqy-",
        "outputId": "237a089c-f2a6-406c-9bc1-94d75bd59036"
      },
      "execution_count": 26,
      "outputs": [
        {
          "output_type": "execute_result",
          "data": {
            "text/plain": [
              "{'_price': 2000}"
            ]
          },
          "metadata": {},
          "execution_count": 26
        }
      ]
    },
    {
      "cell_type": "code",
      "source": [
        "phone.set_price(-4000)"
      ],
      "metadata": {
        "colab": {
          "base_uri": "https://localhost:8080/",
          "height": 263
        },
        "id": "qX7-ykzdatNd",
        "outputId": "4707348f-c9d9-4461-b6f1-ad6b75fa787e"
      },
      "execution_count": 27,
      "outputs": [
        {
          "output_type": "error",
          "ename": "ValueError",
          "evalue": "The price attribute must be a positive value.",
          "traceback": [
            "\u001b[0;31m---------------------------------------------------------------------------\u001b[0m",
            "\u001b[0;31mValueError\u001b[0m                                Traceback (most recent call last)",
            "\u001b[0;32m<ipython-input-27-32320cca3c1e>\u001b[0m in \u001b[0;36m<cell line: 1>\u001b[0;34m()\u001b[0m\n\u001b[0;32m----> 1\u001b[0;31m \u001b[0mphone\u001b[0m\u001b[0;34m.\u001b[0m\u001b[0mset_price\u001b[0m\u001b[0;34m(\u001b[0m\u001b[0;34m-\u001b[0m\u001b[0;36m4000\u001b[0m\u001b[0;34m)\u001b[0m\u001b[0;34m\u001b[0m\u001b[0;34m\u001b[0m\u001b[0m\n\u001b[0m",
            "\u001b[0;32m<ipython-input-25-0cb399cff4bb>\u001b[0m in \u001b[0;36mset_price\u001b[0;34m(self, value)\u001b[0m\n\u001b[1;32m     12\u001b[0m               \u001b[0mself\u001b[0m\u001b[0;34m.\u001b[0m\u001b[0m_price\u001b[0m \u001b[0;34m=\u001b[0m \u001b[0mvalue\u001b[0m\u001b[0;34m\u001b[0m\u001b[0;34m\u001b[0m\u001b[0m\n\u001b[1;32m     13\u001b[0m             \u001b[0;32melse\u001b[0m\u001b[0;34m:\u001b[0m\u001b[0;34m\u001b[0m\u001b[0;34m\u001b[0m\u001b[0m\n\u001b[0;32m---> 14\u001b[0;31m               \u001b[0;32mraise\u001b[0m \u001b[0mValueError\u001b[0m\u001b[0;34m(\u001b[0m\u001b[0;34m'The price attribute must be a positive value.'\u001b[0m\u001b[0;34m)\u001b[0m\u001b[0;34m\u001b[0m\u001b[0;34m\u001b[0m\u001b[0m\n\u001b[0m\u001b[1;32m     15\u001b[0m         \u001b[0;32melse\u001b[0m\u001b[0;34m:\u001b[0m\u001b[0;34m\u001b[0m\u001b[0;34m\u001b[0m\u001b[0m\n\u001b[1;32m     16\u001b[0m             \u001b[0;32mraise\u001b[0m \u001b[0mTypeError\u001b[0m\u001b[0;34m(\u001b[0m\u001b[0;34m'The price attribute must be an int or float value.'\u001b[0m\u001b[0;34m)\u001b[0m\u001b[0;34m\u001b[0m\u001b[0;34m\u001b[0m\u001b[0m\n",
            "\u001b[0;31mValueError\u001b[0m: The price attribute must be a positive value."
          ]
        }
      ]
    },
    {
      "cell_type": "code",
      "source": [
        "phone.set_price(4000)"
      ],
      "metadata": {
        "id": "NwT03N7paxyg"
      },
      "execution_count": 35,
      "outputs": []
    },
    {
      "cell_type": "code",
      "source": [
        "phone.get_price()"
      ],
      "metadata": {
        "colab": {
          "base_uri": "https://localhost:8080/"
        },
        "id": "uLeNeYQLa4hm",
        "outputId": "ccb1299d-27d1-4aa1-c0a1-011a6aeb2c92"
      },
      "execution_count": 36,
      "outputs": [
        {
          "output_type": "execute_result",
          "data": {
            "text/plain": [
              "4000"
            ]
          },
          "metadata": {},
          "execution_count": 36
        }
      ]
    },
    {
      "cell_type": "code",
      "source": [
        "phone.set_price(150.0)"
      ],
      "metadata": {
        "id": "u8sCZLSTa5sl"
      },
      "execution_count": 37,
      "outputs": []
    },
    {
      "cell_type": "code",
      "source": [
        "phone.get_price()"
      ],
      "metadata": {
        "colab": {
          "base_uri": "https://localhost:8080/"
        },
        "id": "WVc4fg7ga8OO",
        "outputId": "b38b90cf-10a0-4fab-f49c-613165eeb0b4"
      },
      "execution_count": 38,
      "outputs": [
        {
          "output_type": "execute_result",
          "data": {
            "text/plain": [
              "150.0"
            ]
          },
          "metadata": {},
          "execution_count": 38
        }
      ]
    },
    {
      "cell_type": "code",
      "source": [
        "phone.set_price('150.0')"
      ],
      "metadata": {
        "colab": {
          "base_uri": "https://localhost:8080/",
          "height": 263
        },
        "id": "zObqO0hja9hl",
        "outputId": "df1ca413-bcb9-418e-f2b7-521316bc2e9c"
      },
      "execution_count": 39,
      "outputs": [
        {
          "output_type": "error",
          "ename": "TypeError",
          "evalue": "The price attribute must be an int or float value.",
          "traceback": [
            "\u001b[0;31m---------------------------------------------------------------------------\u001b[0m",
            "\u001b[0;31mTypeError\u001b[0m                                 Traceback (most recent call last)",
            "\u001b[0;32m<ipython-input-39-f2c001baa6a0>\u001b[0m in \u001b[0;36m<cell line: 1>\u001b[0;34m()\u001b[0m\n\u001b[0;32m----> 1\u001b[0;31m \u001b[0mphone\u001b[0m\u001b[0;34m.\u001b[0m\u001b[0mset_price\u001b[0m\u001b[0;34m(\u001b[0m\u001b[0;34m'150.0'\u001b[0m\u001b[0;34m)\u001b[0m\u001b[0;34m\u001b[0m\u001b[0;34m\u001b[0m\u001b[0m\n\u001b[0m",
            "\u001b[0;32m<ipython-input-25-0cb399cff4bb>\u001b[0m in \u001b[0;36mset_price\u001b[0;34m(self, value)\u001b[0m\n\u001b[1;32m     14\u001b[0m               \u001b[0;32mraise\u001b[0m \u001b[0mValueError\u001b[0m\u001b[0;34m(\u001b[0m\u001b[0;34m'The price attribute must be a positive value.'\u001b[0m\u001b[0;34m)\u001b[0m\u001b[0;34m\u001b[0m\u001b[0;34m\u001b[0m\u001b[0m\n\u001b[1;32m     15\u001b[0m         \u001b[0;32melse\u001b[0m\u001b[0;34m:\u001b[0m\u001b[0;34m\u001b[0m\u001b[0;34m\u001b[0m\u001b[0m\n\u001b[0;32m---> 16\u001b[0;31m             \u001b[0;32mraise\u001b[0m \u001b[0mTypeError\u001b[0m\u001b[0;34m(\u001b[0m\u001b[0;34m'The price attribute must be an int or float value.'\u001b[0m\u001b[0;34m)\u001b[0m\u001b[0;34m\u001b[0m\u001b[0;34m\u001b[0m\u001b[0m\n\u001b[0m\u001b[1;32m     17\u001b[0m \u001b[0;34m\u001b[0m\u001b[0m\n\u001b[1;32m     18\u001b[0m \u001b[0mphone\u001b[0m\u001b[0;34m.\u001b[0m\u001b[0m__dict__\u001b[0m\u001b[0;34m\u001b[0m\u001b[0;34m\u001b[0m\u001b[0m\n",
            "\u001b[0;31mTypeError\u001b[0m: The price attribute must be an int or float value."
          ]
        }
      ]
    },
    {
      "cell_type": "code",
      "source": [
        "phone.set_price(0)"
      ],
      "metadata": {
        "id": "zOEslpaAbC1j"
      },
      "execution_count": 40,
      "outputs": []
    },
    {
      "cell_type": "code",
      "source": [
        "phone = Phone('Apple')\n",
        "phone.get_price()"
      ],
      "metadata": {
        "colab": {
          "base_uri": "https://localhost:8080/",
          "height": 35
        },
        "id": "nOO0bPHFbJTM",
        "outputId": "9bee7a7e-2e0a-48d8-f1b5-37259daee9a7"
      },
      "execution_count": 41,
      "outputs": [
        {
          "output_type": "execute_result",
          "data": {
            "text/plain": [
              "'Apple'"
            ],
            "application/vnd.google.colaboratory.intrinsic+json": {
              "type": "string"
            }
          },
          "metadata": {},
          "execution_count": 41
        }
      ]
    },
    {
      "cell_type": "code",
      "source": [
        "class Phone:\n",
        "\n",
        "    def __init__(self, price):\n",
        "        self.set_price(price)\n",
        "\n",
        "    def get_price(self):\n",
        "        return self._price\n",
        "\n",
        "    def set_price(self, value):\n",
        "        if isinstance(value, (int, float)):\n",
        "            if value > 0:\n",
        "              self._price = value\n",
        "            else:\n",
        "              raise ValueError('The price attribute must be a positive value.')\n",
        "        else:\n",
        "            raise TypeError('The price attribute must be an int or float value.')\n",
        "\n",
        "phone.__dict__"
      ],
      "metadata": {
        "colab": {
          "base_uri": "https://localhost:8080/"
        },
        "id": "cawpwDpsbR2n",
        "outputId": "f31c7daa-8cc3-4261-d1c0-e91a2059ecdb"
      },
      "execution_count": 42,
      "outputs": [
        {
          "output_type": "execute_result",
          "data": {
            "text/plain": [
              "{'_price': 'Apple'}"
            ]
          },
          "metadata": {},
          "execution_count": 42
        }
      ]
    },
    {
      "cell_type": "code",
      "source": [
        "phone = Phone(2000)\n",
        "phone.__dict__"
      ],
      "metadata": {
        "colab": {
          "base_uri": "https://localhost:8080/"
        },
        "id": "AKtQNsR3bbj6",
        "outputId": "feebc024-9fd5-480d-a62d-6985c47179c3"
      },
      "execution_count": 45,
      "outputs": [
        {
          "output_type": "execute_result",
          "data": {
            "text/plain": [
              "{'_price': 2000}"
            ]
          },
          "metadata": {},
          "execution_count": 45
        }
      ]
    },
    {
      "cell_type": "markdown",
      "source": [
        "*kursywa*### Tworzenie właściwości - `property()`\n",
        "\n",
        "```\n",
        "property(fget=None, fset=None, fdel=None, doc=None) -> property attribute\n",
        "```"
      ],
      "metadata": {
        "id": "WR0bBP34bzW0"
      }
    },
    {
      "cell_type": "code",
      "source": [
        "help(property)"
      ],
      "metadata": {
        "colab": {
          "base_uri": "https://localhost:8080/"
        },
        "id": "Eoo6Em1lbeAK",
        "outputId": "071eb406-8698-4177-bdd6-abb2161a531c"
      },
      "execution_count": 46,
      "outputs": [
        {
          "output_type": "stream",
          "name": "stdout",
          "text": [
            "Help on class property in module builtins:\n",
            "\n",
            "class property(object)\n",
            " |  property(fget=None, fset=None, fdel=None, doc=None)\n",
            " |  \n",
            " |  Property attribute.\n",
            " |  \n",
            " |    fget\n",
            " |      function to be used for getting an attribute value\n",
            " |    fset\n",
            " |      function to be used for setting an attribute value\n",
            " |    fdel\n",
            " |      function to be used for del'ing an attribute\n",
            " |    doc\n",
            " |      docstring\n",
            " |  \n",
            " |  Typical use is to define a managed attribute x:\n",
            " |  \n",
            " |  class C(object):\n",
            " |      def getx(self): return self._x\n",
            " |      def setx(self, value): self._x = value\n",
            " |      def delx(self): del self._x\n",
            " |      x = property(getx, setx, delx, \"I'm the 'x' property.\")\n",
            " |  \n",
            " |  Decorators make defining new properties or modifying existing ones easy:\n",
            " |  \n",
            " |  class C(object):\n",
            " |      @property\n",
            " |      def x(self):\n",
            " |          \"I am the 'x' property.\"\n",
            " |          return self._x\n",
            " |      @x.setter\n",
            " |      def x(self, value):\n",
            " |          self._x = value\n",
            " |      @x.deleter\n",
            " |      def x(self):\n",
            " |          del self._x\n",
            " |  \n",
            " |  Methods defined here:\n",
            " |  \n",
            " |  __delete__(self, instance, /)\n",
            " |      Delete an attribute of instance.\n",
            " |  \n",
            " |  __get__(self, instance, owner=None, /)\n",
            " |      Return an attribute of instance, which is of type owner.\n",
            " |  \n",
            " |  __getattribute__(self, name, /)\n",
            " |      Return getattr(self, name).\n",
            " |  \n",
            " |  __init__(self, /, *args, **kwargs)\n",
            " |      Initialize self.  See help(type(self)) for accurate signature.\n",
            " |  \n",
            " |  __set__(self, instance, value, /)\n",
            " |      Set an attribute of instance to value.\n",
            " |  \n",
            " |  __set_name__(...)\n",
            " |      Method to set name of a property.\n",
            " |  \n",
            " |  deleter(...)\n",
            " |      Descriptor to obtain a copy of the property with a different deleter.\n",
            " |  \n",
            " |  getter(...)\n",
            " |      Descriptor to obtain a copy of the property with a different getter.\n",
            " |  \n",
            " |  setter(...)\n",
            " |      Descriptor to obtain a copy of the property with a different setter.\n",
            " |  \n",
            " |  ----------------------------------------------------------------------\n",
            " |  Static methods defined here:\n",
            " |  \n",
            " |  __new__(*args, **kwargs) from builtins.type\n",
            " |      Create and return a new object.  See help(type) for accurate signature.\n",
            " |  \n",
            " |  ----------------------------------------------------------------------\n",
            " |  Data descriptors defined here:\n",
            " |  \n",
            " |  __isabstractmethod__\n",
            " |  \n",
            " |  fdel\n",
            " |  \n",
            " |  fget\n",
            " |  \n",
            " |  fset\n",
            "\n"
          ]
        }
      ]
    },
    {
      "cell_type": "code",
      "source": [
        "class Phone:\n",
        "\n",
        "    def __init__(self, price):\n",
        "        self._price = price\n",
        "\n",
        "    def get_price(self)    :\n",
        "      print('Getting price...')\n",
        "      return self._price\n",
        "\n",
        "phone = Phone(1200)\n",
        "phone.get_price()"
      ],
      "metadata": {
        "colab": {
          "base_uri": "https://localhost:8080/"
        },
        "id": "Uy5yaz8tb3FT",
        "outputId": "452abf67-8d27-485b-e8bf-3a98b2a1e3f4"
      },
      "execution_count": 48,
      "outputs": [
        {
          "output_type": "stream",
          "name": "stdout",
          "text": [
            "Getting price...\n"
          ]
        },
        {
          "output_type": "execute_result",
          "data": {
            "text/plain": [
              "1200"
            ]
          },
          "metadata": {},
          "execution_count": 48
        }
      ]
    },
    {
      "cell_type": "code",
      "source": [
        "class Phone:\n",
        "\n",
        "    def __init__(self, price):\n",
        "        self._price = price\n",
        "\n",
        "    def get_price(self)    :\n",
        "      print('Getting price...')\n",
        "      return self._price\n",
        "\n",
        "    price = property(fget=get_price)\n",
        "\n",
        "\n",
        "Phone.__dict__"
      ],
      "metadata": {
        "colab": {
          "base_uri": "https://localhost:8080/"
        },
        "id": "C1u0FOnccNZ6",
        "outputId": "2aa518d5-c0d9-499b-9597-1b783e2185eb"
      },
      "execution_count": 49,
      "outputs": [
        {
          "output_type": "execute_result",
          "data": {
            "text/plain": [
              "mappingproxy({'__module__': '__main__',\n",
              "              '__init__': <function __main__.Phone.__init__(self, price)>,\n",
              "              'get_price': <function __main__.Phone.get_price(self)>,\n",
              "              'price': <property at 0x7d580e3201d0>,\n",
              "              '__dict__': <attribute '__dict__' of 'Phone' objects>,\n",
              "              '__weakref__': <attribute '__weakref__' of 'Phone' objects>,\n",
              "              '__doc__': None})"
            ]
          },
          "metadata": {},
          "execution_count": 49
        }
      ]
    },
    {
      "cell_type": "code",
      "source": [
        "phone = Phone(1200)\n",
        "phone.get_price()"
      ],
      "metadata": {
        "colab": {
          "base_uri": "https://localhost:8080/"
        },
        "id": "PrNJIMylchrG",
        "outputId": "c9dc64d1-5638-4845-f3ed-8e06ecb4a91b"
      },
      "execution_count": 50,
      "outputs": [
        {
          "output_type": "stream",
          "name": "stdout",
          "text": [
            "Getting price...\n"
          ]
        },
        {
          "output_type": "execute_result",
          "data": {
            "text/plain": [
              "1200"
            ]
          },
          "metadata": {},
          "execution_count": 50
        }
      ]
    },
    {
      "cell_type": "code",
      "source": [
        "phone.price"
      ],
      "metadata": {
        "colab": {
          "base_uri": "https://localhost:8080/"
        },
        "id": "sEPxm71Icm1Q",
        "outputId": "bd3103d8-1d99-4d4f-90e7-4b283bfa73fc"
      },
      "execution_count": 51,
      "outputs": [
        {
          "output_type": "stream",
          "name": "stdout",
          "text": [
            "Getting price...\n"
          ]
        },
        {
          "output_type": "execute_result",
          "data": {
            "text/plain": [
              "1200"
            ]
          },
          "metadata": {},
          "execution_count": 51
        }
      ]
    },
    {
      "cell_type": "code",
      "source": [
        "class Phone:\n",
        "\n",
        "    def __init__(self, price):\n",
        "        self._price = price\n",
        "\n",
        "    def price(self):\n",
        "        print('getting...')\n",
        "        return self._price\n",
        "\n",
        "    price = property(fget=price)\n",
        "\n",
        "Phone.__dict__"
      ],
      "metadata": {
        "colab": {
          "base_uri": "https://localhost:8080/"
        },
        "id": "eb-ol-50cplC",
        "outputId": "4f297968-3aeb-466e-9d66-0ab5745ca04b"
      },
      "execution_count": 53,
      "outputs": [
        {
          "output_type": "execute_result",
          "data": {
            "text/plain": [
              "mappingproxy({'__module__': '__main__',\n",
              "              '__init__': <function __main__.Phone.__init__(self, price)>,\n",
              "              'price': <property at 0x7d580e487ba0>,\n",
              "              '__dict__': <attribute '__dict__' of 'Phone' objects>,\n",
              "              '__weakref__': <attribute '__weakref__' of 'Phone' objects>,\n",
              "              '__doc__': None})"
            ]
          },
          "metadata": {},
          "execution_count": 53
        }
      ]
    },
    {
      "cell_type": "code",
      "source": [
        "phone = Phone(1200)\n",
        "phone.price"
      ],
      "metadata": {
        "colab": {
          "base_uri": "https://localhost:8080/"
        },
        "id": "RfjjDfLhdm3K",
        "outputId": "1644bfdf-bb57-4a0c-aae8-ff02147183b7"
      },
      "execution_count": 54,
      "outputs": [
        {
          "output_type": "stream",
          "name": "stdout",
          "text": [
            "getting...\n"
          ]
        },
        {
          "output_type": "execute_result",
          "data": {
            "text/plain": [
              "1200"
            ]
          },
          "metadata": {},
          "execution_count": 54
        }
      ]
    },
    {
      "cell_type": "code",
      "source": [
        "phone.price = 3000"
      ],
      "metadata": {
        "colab": {
          "base_uri": "https://localhost:8080/",
          "height": 141
        },
        "id": "L50LgESrdrpL",
        "outputId": "844bb5c3-f341-431d-b207-29c491b241e6"
      },
      "execution_count": 55,
      "outputs": [
        {
          "output_type": "error",
          "ename": "AttributeError",
          "evalue": "can't set attribute 'price'",
          "traceback": [
            "\u001b[0;31m---------------------------------------------------------------------------\u001b[0m",
            "\u001b[0;31mAttributeError\u001b[0m                            Traceback (most recent call last)",
            "\u001b[0;32m<ipython-input-55-4380b3528053>\u001b[0m in \u001b[0;36m<cell line: 1>\u001b[0;34m()\u001b[0m\n\u001b[0;32m----> 1\u001b[0;31m \u001b[0mphone\u001b[0m\u001b[0;34m.\u001b[0m\u001b[0mprice\u001b[0m \u001b[0;34m=\u001b[0m \u001b[0;36m3000\u001b[0m\u001b[0;34m\u001b[0m\u001b[0;34m\u001b[0m\u001b[0m\n\u001b[0m",
            "\u001b[0;31mAttributeError\u001b[0m: can't set attribute 'price'"
          ]
        }
      ]
    },
    {
      "cell_type": "code",
      "source": [
        "del phone.price"
      ],
      "metadata": {
        "colab": {
          "base_uri": "https://localhost:8080/",
          "height": 141
        },
        "id": "tYKyxxEVd5nA",
        "outputId": "96d8db72-9377-40bc-e6b9-63ed0e9d12d1"
      },
      "execution_count": 56,
      "outputs": [
        {
          "output_type": "error",
          "ename": "AttributeError",
          "evalue": "can't delete attribute 'price'",
          "traceback": [
            "\u001b[0;31m---------------------------------------------------------------------------\u001b[0m",
            "\u001b[0;31mAttributeError\u001b[0m                            Traceback (most recent call last)",
            "\u001b[0;32m<ipython-input-56-eaddd3e9ab37>\u001b[0m in \u001b[0;36m<cell line: 1>\u001b[0;34m()\u001b[0m\n\u001b[0;32m----> 1\u001b[0;31m \u001b[0;32mdel\u001b[0m \u001b[0mphone\u001b[0m\u001b[0;34m.\u001b[0m\u001b[0mprice\u001b[0m\u001b[0;34m\u001b[0m\u001b[0;34m\u001b[0m\u001b[0m\n\u001b[0m",
            "\u001b[0;31mAttributeError\u001b[0m: can't delete attribute 'price'"
          ]
        }
      ]
    },
    {
      "cell_type": "markdown",
      "source": [
        "### getter + setter"
      ],
      "metadata": {
        "id": "Gkvm9_XGeK8S"
      }
    },
    {
      "cell_type": "code",
      "source": [
        "class Phone:\n",
        "\n",
        "    def __init__(self, price):\n",
        "        self._price = price\n",
        "\n",
        "    def get_price(self):\n",
        "        print('getting...')\n",
        "        return self._price\n",
        "\n",
        "    def set_price(self, value):\n",
        "        print('setting...')\n",
        "        if isinstance(value, (int, float)):\n",
        "            if value > 0:\n",
        "                self._price = value\n",
        "            else:\n",
        "                raise ValueError('The price attribute must be positive.')\n",
        "        else:\n",
        "            raise TypeError('The price attribute must be an int or float value.')\n",
        "\n",
        "    price = property(fget=get_price, fset=set_price)\n",
        "\n",
        "Phone.__dict__"
      ],
      "metadata": {
        "colab": {
          "base_uri": "https://localhost:8080/"
        },
        "id": "lLy-LC9cd9ad",
        "outputId": "6f60fbee-c4e7-45d4-b330-aab9bff3409f"
      },
      "execution_count": 1,
      "outputs": [
        {
          "output_type": "execute_result",
          "data": {
            "text/plain": [
              "mappingproxy({'__module__': '__main__',\n",
              "              '__init__': <function __main__.Phone.__init__(self, price)>,\n",
              "              'get_price': <function __main__.Phone.get_price(self)>,\n",
              "              'set_price': <function __main__.Phone.set_price(self, value)>,\n",
              "              'price': <property at 0x157d303fb50>,\n",
              "              '__dict__': <attribute '__dict__' of 'Phone' objects>,\n",
              "              '__weakref__': <attribute '__weakref__' of 'Phone' objects>,\n",
              "              '__doc__': None})"
            ]
          },
          "metadata": {},
          "execution_count": 1
        }
      ]
    },
    {
      "cell_type": "code",
      "source": [
        "phone = Phone(3000)\n",
        "phone.price"
      ],
      "metadata": {
        "colab": {
          "base_uri": "https://localhost:8080/"
        },
        "id": "98YPelchn4fI",
        "outputId": "c92a34dd-6532-4c5b-a249-ea0aeccc8b74"
      },
      "execution_count": 3,
      "outputs": [
        {
          "output_type": "stream",
          "name": "stdout",
          "text": [
            "getting...\n"
          ]
        },
        {
          "output_type": "execute_result",
          "data": {
            "text/plain": [
              "3000"
            ]
          },
          "metadata": {},
          "execution_count": 3
        }
      ]
    },
    {
      "cell_type": "code",
      "source": [
        "phone.price = 4200\n",
        "phone.price"
      ],
      "metadata": {
        "colab": {
          "base_uri": "https://localhost:8080/"
        },
        "id": "uu5JhsgJn5_u",
        "outputId": "f6da2efa-206e-4a1d-d16c-3fba5acda3b3"
      },
      "execution_count": 5,
      "outputs": [
        {
          "output_type": "stream",
          "name": "stdout",
          "text": [
            "setting...\n",
            "getting...\n"
          ]
        },
        {
          "output_type": "execute_result",
          "data": {
            "text/plain": [
              "4200"
            ]
          },
          "metadata": {},
          "execution_count": 5
        }
      ]
    },
    {
      "cell_type": "code",
      "source": [
        "phone.__dict__"
      ],
      "metadata": {
        "colab": {
          "base_uri": "https://localhost:8080/"
        },
        "id": "rk8oMUthoOwV",
        "outputId": "5a1aeb05-ff95-4c02-b9cf-23549640a433"
      },
      "execution_count": 6,
      "outputs": [
        {
          "output_type": "execute_result",
          "data": {
            "text/plain": [
              "{'_price': 4200}"
            ]
          },
          "metadata": {},
          "execution_count": 6
        }
      ]
    },
    {
      "cell_type": "code",
      "source": [
        "phone.price = 4200"
      ],
      "metadata": {
        "colab": {
          "base_uri": "https://localhost:8080/"
        },
        "id": "ud7HLFNMoZjU",
        "outputId": "2cac0190-2bc2-4b5b-832e-97169176faa1"
      },
      "execution_count": 9,
      "outputs": [
        {
          "output_type": "stream",
          "name": "stdout",
          "text": [
            "setting...\n"
          ]
        }
      ]
    },
    {
      "cell_type": "code",
      "source": [
        "dell phone.price"
      ],
      "metadata": {
        "colab": {
          "base_uri": "https://localhost:8080/",
          "height": 106
        },
        "id": "vRbYvKSwodiH",
        "outputId": "0791b9db-fd25-4a55-e56a-a6258fcdc6da"
      },
      "execution_count": 10,
      "outputs": [
        {
          "output_type": "error",
          "ename": "SyntaxError",
          "evalue": "invalid syntax (1885571491.py, line 1)",
          "traceback": [
            "\u001b[1;36m  Cell \u001b[1;32mIn[10], line 1\u001b[1;36m\u001b[0m\n\u001b[1;33m    dell phone.price\u001b[0m\n\u001b[1;37m         ^\u001b[0m\n\u001b[1;31mSyntaxError\u001b[0m\u001b[1;31m:\u001b[0m invalid syntax\n"
          ]
        }
      ]
    },
    {
      "cell_type": "markdown",
      "source": [
        "### getter + setter + deleter"
      ],
      "metadata": {
        "id": "RtfpN8jwonwj"
      }
    },
    {
      "cell_type": "code",
      "source": [
        "class Phone:\n",
        "\n",
        "    def __init__(self, price):\n",
        "        self._price = price\n",
        "\n",
        "    def get_price(self):\n",
        "        print('getting...')\n",
        "        return self._price\n",
        "\n",
        "    def set_price(self, value):\n",
        "        print('setting...')\n",
        "        if isinstance(value, (int, float)):\n",
        "            if value > 0:\n",
        "                self._price = value\n",
        "            else:\n",
        "                raise ValueError('The price attribute must be positive.')\n",
        "        else:\n",
        "            raise TypeError('The price attribute must be an int or float value.')\n",
        "\n",
        "    def del_price(self):\n",
        "        print('deleting...')\n",
        "        del self._price\n",
        "\n",
        "    price = property(fget=get_price, fset=set_price, fdel=del_price)\n",
        "\n",
        "Phone.__dict__"
      ],
      "metadata": {
        "colab": {
          "base_uri": "https://localhost:8080/"
        },
        "id": "on-1MOk4oh9K",
        "outputId": "0d6a9474-d098-41fd-ea0b-af77288687c4"
      },
      "execution_count": 11,
      "outputs": [
        {
          "output_type": "execute_result",
          "data": {
            "text/plain": [
              "mappingproxy({'__module__': '__main__',\n",
              "              '__init__': <function __main__.Phone.__init__(self, price)>,\n",
              "              'get_price': <function __main__.Phone.get_price(self)>,\n",
              "              'set_price': <function __main__.Phone.set_price(self, value)>,\n",
              "              'del_price': <function __main__.Phone.del_price(self)>,\n",
              "              'price': <property at 0x157d49abc40>,\n",
              "              '__dict__': <attribute '__dict__' of 'Phone' objects>,\n",
              "              '__weakref__': <attribute '__weakref__' of 'Phone' objects>,\n",
              "              '__doc__': None})"
            ]
          },
          "metadata": {},
          "execution_count": 11
        }
      ]
    },
    {
      "cell_type": "code",
      "source": [
        "phone = Phone(3000)\n",
        "phone.price"
      ],
      "metadata": {
        "colab": {
          "base_uri": "https://localhost:8080/"
        },
        "id": "h5rD85rPoqQb",
        "outputId": "4295c9ee-c7a6-4de6-9b2a-f1a985e9add3"
      },
      "execution_count": 12,
      "outputs": [
        {
          "output_type": "stream",
          "name": "stdout",
          "text": [
            "getting...\n"
          ]
        },
        {
          "output_type": "execute_result",
          "data": {
            "text/plain": [
              "3000"
            ]
          },
          "metadata": {},
          "execution_count": 12
        }
      ]
    },
    {
      "cell_type": "code",
      "source": [
        "phone.price = 2000"
      ],
      "metadata": {
        "colab": {
          "base_uri": "https://localhost:8080/"
        },
        "id": "bxY0rGTuoq1o",
        "outputId": "2681f234-1bf6-425a-b30b-e770457494a8"
      },
      "execution_count": 13,
      "outputs": [
        {
          "output_type": "stream",
          "name": "stdout",
          "text": [
            "setting...\n"
          ]
        }
      ]
    },
    {
      "cell_type": "code",
      "source": [
        "phone.price"
      ],
      "metadata": {
        "colab": {
          "base_uri": "https://localhost:8080/"
        },
        "id": "SbgM74vzosAF",
        "outputId": "49130ffb-af4e-462f-f440-1b7107610116"
      },
      "execution_count": 14,
      "outputs": [
        {
          "output_type": "stream",
          "name": "stdout",
          "text": [
            "getting...\n"
          ]
        },
        {
          "output_type": "execute_result",
          "data": {
            "text/plain": [
              "2000"
            ]
          },
          "metadata": {},
          "execution_count": 14
        }
      ]
    },
    {
      "cell_type": "code",
      "source": [
        "del phone.price"
      ],
      "metadata": {
        "colab": {
          "base_uri": "https://localhost:8080/"
        },
        "id": "qYOB7xpvouUh",
        "outputId": "ed8c8049-94d9-4a16-a164-f84b7436b410"
      },
      "execution_count": 15,
      "outputs": [
        {
          "output_type": "stream",
          "name": "stdout",
          "text": [
            "deleting...\n"
          ]
        }
      ]
    },
    {
      "cell_type": "code",
      "source": [
        "phone.__dict__"
      ],
      "metadata": {
        "colab": {
          "base_uri": "https://localhost:8080/"
        },
        "id": "RLlGOsi4oum1",
        "outputId": "d17f4b21-1a3b-4c8f-c667-282cf9f724fa"
      },
      "execution_count": 16,
      "outputs": [
        {
          "output_type": "execute_result",
          "data": {
            "text/plain": [
              "{}"
            ]
          },
          "metadata": {},
          "execution_count": 16
        }
      ]
    },
    {
      "cell_type": "code",
      "source": [
        "phone.price = 1000"
      ],
      "metadata": {
        "colab": {
          "base_uri": "https://localhost:8080/"
        },
        "id": "pXbO0gC4ov-g",
        "outputId": "9a682ea3-5692-4113-8dc8-ac77d4e1dc9d"
      },
      "execution_count": 17,
      "outputs": [
        {
          "output_type": "stream",
          "name": "stdout",
          "text": [
            "setting...\n"
          ]
        }
      ]
    },
    {
      "cell_type": "code",
      "source": [
        "phone.__dict__"
      ],
      "metadata": {
        "colab": {
          "base_uri": "https://localhost:8080/"
        },
        "id": "IYYroMLpoxck",
        "outputId": "25185e09-d650-4980-db15-e28dfe0b79b5"
      },
      "execution_count": 18,
      "outputs": [
        {
          "output_type": "execute_result",
          "data": {
            "text/plain": [
              "{'_price': 1000}"
            ]
          },
          "metadata": {},
          "execution_count": 18
        }
      ]
    },
    {
      "cell_type": "markdown",
      "source": [
        "### getter + setter + deleter + doc"
      ],
      "metadata": {
        "id": "a4z9qunxo_PY"
      }
    },
    {
      "cell_type": "code",
      "source": [
        "class Phone:\n",
        "    \"\"\"Phone class docs.\"\"\"\n",
        "\n",
        "    def __init__(self, price):\n",
        "        self._price = price\n",
        "\n",
        "    def get_price(self):\n",
        "        print('getting...')\n",
        "        return self._price\n",
        "\n",
        "    def set_price(self, value):\n",
        "        print('setting...')\n",
        "        if isinstance(value, (int, float)):\n",
        "            if value > 0:\n",
        "                self._price = value\n",
        "            else:\n",
        "                raise ValueError('The price attribute must be positive.')\n",
        "        else:\n",
        "            raise TypeError('The price attribute must be an int or float value.')\n",
        "\n",
        "    def del_price(self):\n",
        "        print('deleting...')\n",
        "        del self._price\n",
        "\n",
        "    price = property(fget=get_price, fset=set_price, fdel=del_price, doc='Phone price.')"
      ],
      "metadata": {
        "id": "6AeqYV5Ioyl2"
      },
      "execution_count": 19,
      "outputs": []
    },
    {
      "cell_type": "code",
      "source": [
        "help(Phone)"
      ],
      "metadata": {
        "colab": {
          "base_uri": "https://localhost:8080/"
        },
        "id": "EHGEHJRlpBgB",
        "outputId": "01918e12-48a5-4bc3-d1c8-ccc504655900"
      },
      "execution_count": 20,
      "outputs": [
        {
          "output_type": "stream",
          "name": "stdout",
          "text": [
            "Help on class Phone in module __main__:\n",
            "\n",
            "class Phone(builtins.object)\n",
            " |  Phone(price)\n",
            " |\n",
            " |  Phone class docs.\n",
            " |\n",
            " |  Methods defined here:\n",
            " |\n",
            " |  __init__(self, price)\n",
            " |      Initialize self.  See help(type(self)) for accurate signature.\n",
            " |\n",
            " |  del_price(self)\n",
            " |\n",
            " |  get_price(self)\n",
            " |\n",
            " |  set_price(self, value)\n",
            " |\n",
            " |  ----------------------------------------------------------------------\n",
            " |  Data descriptors defined here:\n",
            " |\n",
            " |  __dict__\n",
            " |      dictionary for instance variables\n",
            " |\n",
            " |  __weakref__\n",
            " |      list of weak references to the object\n",
            " |\n",
            " |  price\n",
            " |      Phone price.\n",
            "\n"
          ]
        }
      ]
    },
    {
      "cell_type": "markdown",
      "source": [
        "### Dekoratory - przypomnienie"
      ],
      "metadata": {
        "id": "DPQF4v8lqcTr"
      }
    },
    {
      "cell_type": "code",
      "source": [
        "def hello():\n",
        "    print('Python 3.8')\n",
        "\n",
        "hello()"
      ],
      "metadata": {
        "colab": {
          "base_uri": "https://localhost:8080/"
        },
        "id": "OeMOH-pNpBzp",
        "outputId": "7ec5cf2d-c5ea-4333-c27e-047788007c1c"
      },
      "execution_count": 21,
      "outputs": [
        {
          "output_type": "stream",
          "name": "stdout",
          "text": [
            "Python 3.8\n"
          ]
        }
      ]
    },
    {
      "cell_type": "code",
      "source": [
        "def pretty_print(func):\n",
        "    def wrapper():\n",
        "        print('=' * 30)\n",
        "        func()\n",
        "        print('=' * 30)\n",
        "    return wrapper\n",
        "\n",
        "pretty_print(hello)"
      ],
      "metadata": {
        "colab": {
          "base_uri": "https://localhost:8080/"
        },
        "id": "QrC7evIDq166",
        "outputId": "e79b8444-152b-4b09-872c-c1fcd067704c"
      },
      "execution_count": 22,
      "outputs": [
        {
          "output_type": "execute_result",
          "data": {
            "text/plain": [
              "<function __main__.pretty_print.<locals>.wrapper()>"
            ]
          },
          "metadata": {},
          "execution_count": 22
        }
      ]
    },
    {
      "cell_type": "code",
      "source": [
        "pretty_print(hello)"
      ],
      "metadata": {
        "colab": {
          "base_uri": "https://localhost:8080/"
        },
        "id": "-kUCYaoKrFfZ",
        "outputId": "0fa1fb0e-31eb-4928-abdf-ccd8b4788858"
      },
      "execution_count": 23,
      "outputs": [
        {
          "output_type": "execute_result",
          "data": {
            "text/plain": [
              "<function __main__.pretty_print.<locals>.wrapper()>"
            ]
          },
          "metadata": {},
          "execution_count": 23
        }
      ]
    },
    {
      "cell_type": "code",
      "source": [
        "pretty_print(hello)()"
      ],
      "metadata": {
        "colab": {
          "base_uri": "https://localhost:8080/"
        },
        "id": "y3-1aBvVrJVB",
        "outputId": "f25c72e6-69d8-47f9-a5dd-00657b61c61d"
      },
      "execution_count": 24,
      "outputs": [
        {
          "output_type": "stream",
          "name": "stdout",
          "text": [
            "==============================\n",
            "Python 3.8\n",
            "==============================\n"
          ]
        }
      ]
    },
    {
      "cell_type": "code",
      "source": [
        "hello = pretty_print(hello)\n",
        "hello()"
      ],
      "metadata": {
        "colab": {
          "base_uri": "https://localhost:8080/"
        },
        "id": "tFjmIOKirKr8",
        "outputId": "902673ab-2137-40a2-888a-ddab0be79b59"
      },
      "execution_count": 25,
      "outputs": [
        {
          "output_type": "stream",
          "name": "stdout",
          "text": [
            "==============================\n",
            "Python 3.8\n",
            "==============================\n"
          ]
        }
      ]
    },
    {
      "cell_type": "code",
      "source": [
        "def pretty_print(func):\n",
        "    def wrapper():\n",
        "        print('=' * 30)\n",
        "        func()\n",
        "        print('=' * 30)\n",
        "    return wrapper\n",
        "\n",
        "def hello():\n",
        "    print('Python 3.8')\n",
        "\n",
        "hello = pretty_print(hello)\n",
        "hello"
      ],
      "metadata": {
        "colab": {
          "base_uri": "https://localhost:8080/"
        },
        "id": "jfIMxACIrRio",
        "outputId": "02701062-4c4f-4c6c-d8fd-28d09afd8c41"
      },
      "execution_count": 26,
      "outputs": [
        {
          "output_type": "execute_result",
          "data": {
            "text/plain": [
              "<function __main__.pretty_print.<locals>.wrapper()>"
            ]
          },
          "metadata": {},
          "execution_count": 26
        }
      ]
    },
    {
      "cell_type": "code",
      "source": [
        "hello()"
      ],
      "metadata": {
        "colab": {
          "base_uri": "https://localhost:8080/"
        },
        "id": "335NwRu2rfST",
        "outputId": "7fd35002-a730-413f-fb20-d92553845172"
      },
      "execution_count": 27,
      "outputs": [
        {
          "output_type": "stream",
          "name": "stdout",
          "text": [
            "==============================\n",
            "Python 3.8\n",
            "==============================\n"
          ]
        }
      ]
    },
    {
      "cell_type": "code",
      "source": [
        "def pretty_print(func):\n",
        "    def wrapper():\n",
        "        print('=' * 30)\n",
        "        func()\n",
        "        print('=' * 30)\n",
        "    return wrapper\n",
        "\n",
        "@pretty_print\n",
        "def hello():\n",
        "    print('Python 3.8')\n",
        "\n",
        "hello"
      ],
      "metadata": {
        "colab": {
          "base_uri": "https://localhost:8080/"
        },
        "id": "FoQlTqnSrgQV",
        "outputId": "45bad763-c0bf-4368-8ac0-58b70ad8184e"
      },
      "execution_count": 30,
      "outputs": [
        {
          "output_type": "execute_result",
          "data": {
            "text/plain": [
              "<function __main__.pretty_print.<locals>.wrapper()>"
            ]
          },
          "metadata": {},
          "execution_count": 30
        }
      ]
    },
    {
      "cell_type": "code",
      "source": [
        "hello()"
      ],
      "metadata": {
        "colab": {
          "base_uri": "https://localhost:8080/"
        },
        "id": "0UqMV5iOrnQx",
        "outputId": "632b3901-ee41-49a5-a2ef-1cc73661d681"
      },
      "execution_count": 29,
      "outputs": [
        {
          "output_type": "stream",
          "name": "stdout",
          "text": [
            "==============================\n",
            "Python 3.8\n",
            "==============================\n"
          ]
        }
      ]
    },
    {
      "cell_type": "markdown",
      "source": [
        "###Przykład"
      ],
      "metadata": {
        "id": "y2YhyitArwLZ"
      }
    },
    {
      "cell_type": "code",
      "source": [
        "import time\n",
        "\n",
        "\n",
        "time.time()"
      ],
      "metadata": {
        "colab": {
          "base_uri": "https://localhost:8080/"
        },
        "id": "X1o4TPm6rocW",
        "outputId": "c769a4fd-cc12-422f-ccb8-7239c8663527"
      },
      "execution_count": 31,
      "outputs": [
        {
          "output_type": "execute_result",
          "data": {
            "text/plain": [
              "1727024559.990338"
            ]
          },
          "metadata": {},
          "execution_count": 31
        }
      ]
    },
    {
      "cell_type": "code",
      "source": [
        "time.sleep(2)"
      ],
      "metadata": {
        "id": "l8X24HEhr3cN"
      },
      "execution_count": 32,
      "outputs": []
    },
    {
      "cell_type": "code",
      "source": [
        "def timer(func):\n",
        "    def wrapper(sec):\n",
        "        start = time.time()\n",
        "        func(sec)\n",
        "        stop = time.time()\n",
        "        print(f'Execution time: {stop-start:.4f}')\n",
        "    return wrapper\n",
        "\n",
        "def fake_sleep(sec):\n",
        "    print(f'Executing {fake_sleep.__name__}...')\n",
        "    time.sleep(sec)\n",
        "\n",
        "fake_sleep(2)"
      ],
      "metadata": {
        "colab": {
          "base_uri": "https://localhost:8080/"
        },
        "id": "G2Ivl1gHr4ss",
        "outputId": "b2063f1c-6521-460d-fdf2-35b385d03e81"
      },
      "execution_count": 33,
      "outputs": [
        {
          "output_type": "stream",
          "name": "stdout",
          "text": [
            "Executing fake_sleep...\n"
          ]
        }
      ]
    },
    {
      "cell_type": "code",
      "source": [
        "timer(fake_sleep)(3)"
      ],
      "metadata": {
        "colab": {
          "base_uri": "https://localhost:8080/"
        },
        "id": "S8uSIDLYsanA",
        "outputId": "0fd4220c-75a2-46e2-e1a1-bfed8f6ea382"
      },
      "execution_count": 34,
      "outputs": [
        {
          "output_type": "stream",
          "name": "stdout",
          "text": [
            "Executing fake_sleep...\n",
            "Execution time: 3.0011\n"
          ]
        }
      ]
    },
    {
      "cell_type": "code",
      "source": [
        "fake_sleep = timer(fake_sleep)\n",
        "fake_sleep"
      ],
      "metadata": {
        "colab": {
          "base_uri": "https://localhost:8080/"
        },
        "id": "IAvm7anlsft1",
        "outputId": "4b1a667e-374d-44ce-d0c6-85c334ea365a"
      },
      "execution_count": 35,
      "outputs": [
        {
          "output_type": "execute_result",
          "data": {
            "text/plain": [
              "<function __main__.timer.<locals>.wrapper(sec)>"
            ]
          },
          "metadata": {},
          "execution_count": 35
        }
      ]
    },
    {
      "cell_type": "code",
      "source": [
        "fake_sleep(3)"
      ],
      "metadata": {
        "colab": {
          "base_uri": "https://localhost:8080/"
        },
        "id": "LuzPRfxNsjLt",
        "outputId": "26db042b-3222-42a6-8a5c-e3b9555c4a4f"
      },
      "execution_count": 36,
      "outputs": [
        {
          "output_type": "stream",
          "name": "stdout",
          "text": [
            "Executing wrapper...\n",
            "Execution time: 3.0004\n"
          ]
        }
      ]
    },
    {
      "cell_type": "code",
      "source": [
        "import time\n",
        "\n",
        "\n",
        "def timer(func):\n",
        "    def wrapper(sec):\n",
        "        start = time.time()\n",
        "        func(sec)\n",
        "        stop = time.time()\n",
        "        print(f'Execution time: {stop-start:.4f}')\n",
        "    return wrapper\n",
        "\n",
        "@timer\n",
        "def fake_sleep(sec):\n",
        "    print(f'Executing {fake_sleep.__name__}...')\n",
        "    time.sleep(sec)\n",
        "\n",
        "fake_sleep(2)"
      ],
      "metadata": {
        "colab": {
          "base_uri": "https://localhost:8080/"
        },
        "id": "-sZ06qEIskZZ",
        "outputId": "fe0972b9-132a-4781-c2ab-c5dfe782692a"
      },
      "execution_count": 38,
      "outputs": [
        {
          "output_type": "stream",
          "name": "stdout",
          "text": [
            "Executing wrapper...\n",
            "Execution time: 2.0012\n"
          ]
        }
      ]
    },
    {
      "cell_type": "code",
      "source": [
        "fake_sleep(4)"
      ],
      "metadata": {
        "colab": {
          "base_uri": "https://localhost:8080/"
        },
        "id": "e_reicBjssSf",
        "outputId": "62abcdac-b6c7-4686-a8bc-fb57646758bf"
      },
      "execution_count": 39,
      "outputs": [
        {
          "output_type": "stream",
          "name": "stdout",
          "text": [
            "Executing wrapper...\n",
            "Execution time: 4.0013\n"
          ]
        }
      ]
    },
    {
      "cell_type": "markdown",
      "source": [
        "###Dekorator `@property`"
      ],
      "metadata": {
        "id": "Rzd-aV4Os4dj"
      }
    },
    {
      "cell_type": "code",
      "source": [
        "class Phone:\n",
        "\n",
        "    def __init__(self, price):\n",
        "        self._price = price\n",
        "\n",
        "    @property\n",
        "    def price(self):\n",
        "        print('getting...')\n",
        "        return self._price\n",
        "\n",
        "Phone.__dict__"
      ],
      "metadata": {
        "colab": {
          "base_uri": "https://localhost:8080/"
        },
        "id": "uDVsw9hIsy6J",
        "outputId": "f7b8c308-c185-46c3-90a5-f2a9d2ea3ab5"
      },
      "execution_count": 40,
      "outputs": [
        {
          "output_type": "execute_result",
          "data": {
            "text/plain": [
              "mappingproxy({'__module__': '__main__',\n",
              "              '__init__': <function __main__.Phone.__init__(self, price)>,\n",
              "              'price': <property at 0x157d49a2a20>,\n",
              "              '__dict__': <attribute '__dict__' of 'Phone' objects>,\n",
              "              '__weakref__': <attribute '__weakref__' of 'Phone' objects>,\n",
              "              '__doc__': None})"
            ]
          },
          "metadata": {},
          "execution_count": 40
        }
      ]
    },
    {
      "cell_type": "code",
      "source": [
        "phone = Phone(2000)\n",
        "phone.__dict__"
      ],
      "metadata": {
        "colab": {
          "base_uri": "https://localhost:8080/"
        },
        "id": "yWe0zUbytMSS",
        "outputId": "2e140226-d530-40b2-9412-dbafacc7ec47"
      },
      "execution_count": 41,
      "outputs": [
        {
          "output_type": "execute_result",
          "data": {
            "text/plain": [
              "{'_price': 2000}"
            ]
          },
          "metadata": {},
          "execution_count": 41
        }
      ]
    },
    {
      "cell_type": "code",
      "source": [
        "phone.price"
      ],
      "metadata": {
        "colab": {
          "base_uri": "https://localhost:8080/"
        },
        "id": "8FNpPXhBtRRi",
        "outputId": "ed959bf2-7705-4b77-91fe-984eb5d6d66b"
      },
      "execution_count": 42,
      "outputs": [
        {
          "output_type": "stream",
          "name": "stdout",
          "text": [
            "getting...\n"
          ]
        },
        {
          "output_type": "execute_result",
          "data": {
            "text/plain": [
              "2000"
            ]
          },
          "metadata": {},
          "execution_count": 42
        }
      ]
    },
    {
      "cell_type": "code",
      "source": [
        "phone.price = 1000"
      ],
      "metadata": {
        "colab": {
          "base_uri": "https://localhost:8080/",
          "height": 141
        },
        "id": "JUns1_CAtTNn",
        "outputId": "53eb4e9b-9f7f-4024-e988-85aba10d1a2b"
      },
      "execution_count": 43,
      "outputs": [
        {
          "output_type": "error",
          "ename": "AttributeError",
          "evalue": "property 'price' of 'Phone' object has no setter",
          "traceback": [
            "\u001b[1;31m---------------------------------------------------------------------------\u001b[0m",
            "\u001b[1;31mAttributeError\u001b[0m                            Traceback (most recent call last)",
            "Cell \u001b[1;32mIn[43], line 1\u001b[0m\n\u001b[1;32m----> 1\u001b[0m phone\u001b[38;5;241m.\u001b[39mprice \u001b[38;5;241m=\u001b[39m \u001b[38;5;241m1000\u001b[39m\n",
            "\u001b[1;31mAttributeError\u001b[0m: property 'price' of 'Phone' object has no setter"
          ]
        }
      ]
    },
    {
      "cell_type": "code",
      "source": [
        "del phone.price"
      ],
      "metadata": {
        "colab": {
          "base_uri": "https://localhost:8080/",
          "height": 141
        },
        "id": "012jVG9VtWgs",
        "outputId": "a7cdc10f-6b00-4286-819c-85e0ba4c964f"
      },
      "execution_count": 44,
      "outputs": [
        {
          "output_type": "error",
          "ename": "AttributeError",
          "evalue": "property 'price' of 'Phone' object has no deleter",
          "traceback": [
            "\u001b[1;31m---------------------------------------------------------------------------\u001b[0m",
            "\u001b[1;31mAttributeError\u001b[0m                            Traceback (most recent call last)",
            "Cell \u001b[1;32mIn[44], line 1\u001b[0m\n\u001b[1;32m----> 1\u001b[0m \u001b[38;5;28;01mdel\u001b[39;00m phone\u001b[38;5;241m.\u001b[39mprice\n",
            "\u001b[1;31mAttributeError\u001b[0m: property 'price' of 'Phone' object has no deleter"
          ]
        }
      ]
    },
    {
      "cell_type": "markdown",
      "source": [
        "###Dekorator `@property` - c.d."
      ],
      "metadata": {
        "id": "EfQ0QENwtj36"
      }
    },
    {
      "cell_type": "code",
      "source": [
        "class Phone:\n",
        "\n",
        "    def __init__(self, price):\n",
        "        self._price = price\n",
        "\n",
        "    def get_price(self):\n",
        "        print('getting...')\n",
        "        return self._price\n",
        "\n",
        "    def set_price(self, value):\n",
        "        print('setting...')\n",
        "        if isinstance(value, (int, float)):\n",
        "            if value > 0:\n",
        "                self._price = value\n",
        "            else:\n",
        "                raise ValueError('The price attribute must be positive.')\n",
        "        else:\n",
        "            raise TypeError('The price attribute must be an int or float value.')\n",
        "\n",
        "    price = property(fget=get_price, fset=set_price)\n",
        "\n",
        "Phone.__dict__"
      ],
      "metadata": {
        "colab": {
          "base_uri": "https://localhost:8080/"
        },
        "id": "aZNjNkrZtZ6c",
        "outputId": "d7eb156b-65f1-4aa2-a354-3eea5d190b6e"
      },
      "execution_count": 45,
      "outputs": [
        {
          "output_type": "execute_result",
          "data": {
            "text/plain": [
              "mappingproxy({'__module__': '__main__',\n",
              "              '__init__': <function __main__.Phone.__init__(self, price)>,\n",
              "              'get_price': <function __main__.Phone.get_price(self)>,\n",
              "              'set_price': <function __main__.Phone.set_price(self, value)>,\n",
              "              'price': <property at 0x157d49a8180>,\n",
              "              '__dict__': <attribute '__dict__' of 'Phone' objects>,\n",
              "              '__weakref__': <attribute '__weakref__' of 'Phone' objects>,\n",
              "              '__doc__': None})"
            ]
          },
          "metadata": {},
          "execution_count": 45
        }
      ]
    },
    {
      "cell_type": "code",
      "source": [
        "class Phone:\n",
        "\n",
        "    def __init__(self, price):\n",
        "        self._price = price\n",
        "\n",
        "    @property\n",
        "    def price(self):\n",
        "        print('getting...')\n",
        "        return self._price\n",
        "\n",
        "    def set_price(self, value):\n",
        "        print('setting...')\n",
        "        if isinstance(value, (int, float)):\n",
        "            if value > 0:\n",
        "                self._price = value\n",
        "            else:\n",
        "                raise ValueError('The price attribute must be positive.')\n",
        "        else:\n",
        "            raise TypeError('The price attribute must be an int or float value.')\n",
        "\n",
        "    price = price.setter(set_price)\n",
        "\n",
        "Phone.__dict__"
      ],
      "metadata": {
        "colab": {
          "base_uri": "https://localhost:8080/"
        },
        "id": "-Nasqw3jtqqI",
        "outputId": "86837b51-6f9e-4b31-c929-82f479d29ad8"
      },
      "execution_count": 52,
      "outputs": [
        {
          "output_type": "execute_result",
          "data": {
            "text/plain": [
              "mappingproxy({'__module__': '__main__',\n",
              "              '__init__': <function __main__.Phone.__init__(self, price)>,\n",
              "              'price': <property at 0x157d4d44e00>,\n",
              "              'set_price': <function __main__.Phone.set_price(self, value)>,\n",
              "              '__dict__': <attribute '__dict__' of 'Phone' objects>,\n",
              "              '__weakref__': <attribute '__weakref__' of 'Phone' objects>,\n",
              "              '__doc__': None})"
            ]
          },
          "metadata": {},
          "execution_count": 52
        }
      ]
    },
    {
      "cell_type": "code",
      "source": [
        "phone = Phone(2000)\n",
        "phone.price"
      ],
      "metadata": {
        "colab": {
          "base_uri": "https://localhost:8080/"
        },
        "id": "mJMdKDGMtxnU",
        "outputId": "6e6fa21a-58c4-453a-9828-6800d04d7b73"
      },
      "execution_count": 53,
      "outputs": [
        {
          "output_type": "stream",
          "name": "stdout",
          "text": [
            "getting...\n"
          ]
        },
        {
          "output_type": "execute_result",
          "data": {
            "text/plain": [
              "2000"
            ]
          },
          "metadata": {},
          "execution_count": 53
        }
      ]
    },
    {
      "cell_type": "code",
      "source": [
        "phone.price = 3000"
      ],
      "metadata": {
        "colab": {
          "base_uri": "https://localhost:8080/"
        },
        "id": "ESiCr5EJtzwf",
        "outputId": "3bf1954c-f38e-404e-9478-daf7c825c91d"
      },
      "execution_count": 55,
      "outputs": [
        {
          "output_type": "stream",
          "name": "stdout",
          "text": [
            "setting...\n"
          ]
        }
      ]
    },
    {
      "cell_type": "code",
      "source": [
        "phone.price"
      ],
      "metadata": {
        "colab": {
          "base_uri": "https://localhost:8080/"
        },
        "id": "btsH3Kfht00Y",
        "outputId": "02ca7505-1967-4f60-e123-42e3fb2fe756"
      },
      "execution_count": 56,
      "outputs": [
        {
          "output_type": "stream",
          "name": "stdout",
          "text": [
            "getting...\n"
          ]
        },
        {
          "output_type": "execute_result",
          "data": {
            "text/plain": [
              "3000"
            ]
          },
          "metadata": {},
          "execution_count": 56
        }
      ]
    },
    {
      "cell_type": "code",
      "source": [
        "del phone.price"
      ],
      "metadata": {
        "colab": {
          "base_uri": "https://localhost:8080/",
          "height": 141
        },
        "id": "ZoO34cWAuRPw",
        "outputId": "54710f7a-7a3e-4a1d-db20-8c8e8cf31032"
      },
      "execution_count": 57,
      "outputs": [
        {
          "output_type": "error",
          "ename": "AttributeError",
          "evalue": "property 'price' of 'Phone' object has no deleter",
          "traceback": [
            "\u001b[1;31m---------------------------------------------------------------------------\u001b[0m",
            "\u001b[1;31mAttributeError\u001b[0m                            Traceback (most recent call last)",
            "Cell \u001b[1;32mIn[57], line 1\u001b[0m\n\u001b[1;32m----> 1\u001b[0m \u001b[38;5;28;01mdel\u001b[39;00m phone\u001b[38;5;241m.\u001b[39mprice\n",
            "\u001b[1;31mAttributeError\u001b[0m: property 'price' of 'Phone' object has no deleter"
          ]
        }
      ]
    },
    {
      "cell_type": "code",
      "source": [
        "class Phone:\n",
        "\n",
        "    def __init__(self, price):\n",
        "        self._price = price\n",
        "\n",
        "    @property\n",
        "    def price(self):\n",
        "        print('getting...')\n",
        "        return self._price\n",
        "\n",
        "    @price.setter\n",
        "    def price(self, value):\n",
        "        print('setting...')\n",
        "        if isinstance(value, (int, float)):\n",
        "            if value > 0:\n",
        "                self._price = value\n",
        "            else:\n",
        "                raise ValueError('The price attribute must be positive.')\n",
        "        else:\n",
        "            raise TypeError('The price attribute must be an int or float value.')\n",
        "\n",
        "\n",
        "Phone.__dict__"
      ],
      "metadata": {
        "colab": {
          "base_uri": "https://localhost:8080/"
        },
        "id": "Hnjdi19buTmk",
        "outputId": "4f950ee6-65a5-49e4-a421-352a0b1386e0"
      },
      "execution_count": 58,
      "outputs": [
        {
          "output_type": "execute_result",
          "data": {
            "text/plain": [
              "mappingproxy({'__module__': '__main__',\n",
              "              '__init__': <function __main__.Phone.__init__(self, price)>,\n",
              "              'price': <property at 0x157d4da7ab0>,\n",
              "              '__dict__': <attribute '__dict__' of 'Phone' objects>,\n",
              "              '__weakref__': <attribute '__weakref__' of 'Phone' objects>,\n",
              "              '__doc__': None})"
            ]
          },
          "metadata": {},
          "execution_count": 58
        }
      ]
    },
    {
      "cell_type": "code",
      "source": [
        "phone = Phone(2000)\n",
        "phone.price"
      ],
      "metadata": {
        "colab": {
          "base_uri": "https://localhost:8080/"
        },
        "id": "38w-HjSFubYP",
        "outputId": "4a7e8d94-b424-446b-e1d5-6e2895987863"
      },
      "execution_count": 59,
      "outputs": [
        {
          "output_type": "stream",
          "name": "stdout",
          "text": [
            "getting...\n"
          ]
        },
        {
          "output_type": "execute_result",
          "data": {
            "text/plain": [
              "2000"
            ]
          },
          "metadata": {},
          "execution_count": 59
        }
      ]
    },
    {
      "cell_type": "code",
      "source": [
        "phone.price = -100"
      ],
      "metadata": {
        "colab": {
          "base_uri": "https://localhost:8080/",
          "height": 280
        },
        "id": "JKlYT8fxudvU",
        "outputId": "3461a4f4-c0f1-4786-a7cd-1d9efff1195d"
      },
      "execution_count": 60,
      "outputs": [
        {
          "output_type": "stream",
          "name": "stdout",
          "text": [
            "setting...\n"
          ]
        },
        {
          "output_type": "error",
          "ename": "ValueError",
          "evalue": "The price attribute must be positive.",
          "traceback": [
            "\u001b[1;31m---------------------------------------------------------------------------\u001b[0m",
            "\u001b[1;31mValueError\u001b[0m                                Traceback (most recent call last)",
            "Cell \u001b[1;32mIn[60], line 1\u001b[0m\n\u001b[1;32m----> 1\u001b[0m phone\u001b[38;5;241m.\u001b[39mprice \u001b[38;5;241m=\u001b[39m \u001b[38;5;241m-\u001b[39m\u001b[38;5;241m100\u001b[39m\n",
            "Cell \u001b[1;32mIn[58], line 18\u001b[0m, in \u001b[0;36mPhone.price\u001b[1;34m(self, value)\u001b[0m\n\u001b[0;32m     16\u001b[0m         \u001b[38;5;28mself\u001b[39m\u001b[38;5;241m.\u001b[39m_price \u001b[38;5;241m=\u001b[39m value\n\u001b[0;32m     17\u001b[0m     \u001b[38;5;28;01melse\u001b[39;00m:\n\u001b[1;32m---> 18\u001b[0m         \u001b[38;5;28;01mraise\u001b[39;00m \u001b[38;5;167;01mValueError\u001b[39;00m(\u001b[38;5;124m'\u001b[39m\u001b[38;5;124mThe price attribute must be positive.\u001b[39m\u001b[38;5;124m'\u001b[39m)\n\u001b[0;32m     19\u001b[0m \u001b[38;5;28;01melse\u001b[39;00m:\n\u001b[0;32m     20\u001b[0m     \u001b[38;5;28;01mraise\u001b[39;00m \u001b[38;5;167;01mTypeError\u001b[39;00m(\u001b[38;5;124m'\u001b[39m\u001b[38;5;124mThe price attribute must be an int or float value.\u001b[39m\u001b[38;5;124m'\u001b[39m)\n",
            "\u001b[1;31mValueError\u001b[0m: The price attribute must be positive."
          ]
        }
      ]
    },
    {
      "cell_type": "code",
      "source": [
        "phone.price = 'ssafsa'"
      ],
      "metadata": {
        "colab": {
          "base_uri": "https://localhost:8080/",
          "height": 245
        },
        "id": "wkmzfUR4ufbw",
        "outputId": "219bfdc6-9aa8-4619-de40-d4563cbf5656"
      },
      "execution_count": 61,
      "outputs": [
        {
          "output_type": "stream",
          "name": "stdout",
          "text": [
            "setting...\n"
          ]
        },
        {
          "output_type": "error",
          "ename": "TypeError",
          "evalue": "The price attribute must be an int or float value.",
          "traceback": [
            "\u001b[1;31m---------------------------------------------------------------------------\u001b[0m",
            "\u001b[1;31mTypeError\u001b[0m                                 Traceback (most recent call last)",
            "Cell \u001b[1;32mIn[61], line 1\u001b[0m\n\u001b[1;32m----> 1\u001b[0m phone\u001b[38;5;241m.\u001b[39mprice \u001b[38;5;241m=\u001b[39m \u001b[38;5;124m'\u001b[39m\u001b[38;5;124mssafsa\u001b[39m\u001b[38;5;124m'\u001b[39m\n",
            "Cell \u001b[1;32mIn[58], line 20\u001b[0m, in \u001b[0;36mPhone.price\u001b[1;34m(self, value)\u001b[0m\n\u001b[0;32m     18\u001b[0m         \u001b[38;5;28;01mraise\u001b[39;00m \u001b[38;5;167;01mValueError\u001b[39;00m(\u001b[38;5;124m'\u001b[39m\u001b[38;5;124mThe price attribute must be positive.\u001b[39m\u001b[38;5;124m'\u001b[39m)\n\u001b[0;32m     19\u001b[0m \u001b[38;5;28;01melse\u001b[39;00m:\n\u001b[1;32m---> 20\u001b[0m     \u001b[38;5;28;01mraise\u001b[39;00m \u001b[38;5;167;01mTypeError\u001b[39;00m(\u001b[38;5;124m'\u001b[39m\u001b[38;5;124mThe price attribute must be an int or float value.\u001b[39m\u001b[38;5;124m'\u001b[39m)\n",
            "\u001b[1;31mTypeError\u001b[0m: The price attribute must be an int or float value."
          ]
        }
      ]
    },
    {
      "cell_type": "code",
      "source": [
        "phone.price = 4000"
      ],
      "metadata": {
        "colab": {
          "base_uri": "https://localhost:8080/"
        },
        "id": "JQ6dJa2tug1j",
        "outputId": "658a1c38-007a-4fc9-ba8a-2e756025a508"
      },
      "execution_count": 62,
      "outputs": [
        {
          "output_type": "stream",
          "name": "stdout",
          "text": [
            "setting...\n"
          ]
        }
      ]
    },
    {
      "cell_type": "code",
      "source": [
        "phone.price"
      ],
      "metadata": {
        "colab": {
          "base_uri": "https://localhost:8080/"
        },
        "id": "ZFcoH1uxuiSZ",
        "outputId": "fa37893d-f6e1-4ae2-a5de-a9ef86b9c2ba"
      },
      "execution_count": 63,
      "outputs": [
        {
          "output_type": "stream",
          "name": "stdout",
          "text": [
            "getting...\n"
          ]
        },
        {
          "output_type": "execute_result",
          "data": {
            "text/plain": [
              "4000"
            ]
          },
          "metadata": {},
          "execution_count": 63
        }
      ]
    },
    {
      "cell_type": "markdown",
      "source": [
        "### Dekorator `@property` - c. d."
      ],
      "metadata": {
        "id": "a8viWRTBuw5C"
      }
    },
    {
      "cell_type": "code",
      "source": [
        "class Phone:\n",
        "\n",
        "    def __init__(self, price):\n",
        "        self._price = price\n",
        "\n",
        "    def get_price(self):\n",
        "        print('getting...')\n",
        "        return self._price\n",
        "\n",
        "    def set_price(self, value):\n",
        "        print('setting...')\n",
        "        if isinstance(value, (int, float)):\n",
        "            if value > 0:\n",
        "                self._price = value\n",
        "            else:\n",
        "                raise ValueError('The price attribute must be positive.')\n",
        "        else:\n",
        "            raise TypeError('The price attribute must be an int or float value.')\n",
        "\n",
        "    def del_price(self):\n",
        "        print('deleting...')\n",
        "        del self._price\n",
        "\n",
        "    price = property(fget=get_price, fset=set_price, fdel=del_price)"
      ],
      "metadata": {
        "id": "1AZRmtFIujTB"
      },
      "execution_count": 64,
      "outputs": []
    },
    {
      "cell_type": "code",
      "source": [
        "class Phone:\n",
        "\n",
        "    def __init__(self, price):\n",
        "        self._price = price\n",
        "\n",
        "    @property\n",
        "    def price(self):\n",
        "        print('getting...')\n",
        "        return self._price\n",
        "\n",
        "    @price.setter\n",
        "    def price(self, value):\n",
        "        print('setting...')\n",
        "        if isinstance(value, (int, float)):\n",
        "            if value > 0:\n",
        "                self._price = value\n",
        "            else:\n",
        "                raise ValueError('The price attribute must be positive.')\n",
        "        else:\n",
        "            raise TypeError('The price attribute must be an int or float value.')\n",
        "\n",
        "    @price.deleter\n",
        "    def price(self):\n",
        "        print('deleting...')\n",
        "        del self._price\n",
        "\n",
        "Phone.__dict__"
      ],
      "metadata": {
        "colab": {
          "base_uri": "https://localhost:8080/"
        },
        "id": "WoAflUOzuzJh",
        "outputId": "15196c37-e830-41b6-dadb-b07c01002a41"
      },
      "execution_count": 65,
      "outputs": [
        {
          "output_type": "execute_result",
          "data": {
            "text/plain": [
              "mappingproxy({'__module__': '__main__',\n",
              "              '__init__': <function __main__.Phone.__init__(self, price)>,\n",
              "              'price': <property at 0x157d5146610>,\n",
              "              '__dict__': <attribute '__dict__' of 'Phone' objects>,\n",
              "              '__weakref__': <attribute '__weakref__' of 'Phone' objects>,\n",
              "              '__doc__': None})"
            ]
          },
          "metadata": {},
          "execution_count": 65
        }
      ]
    },
    {
      "cell_type": "code",
      "source": [
        "phone = Phone(1000)\n",
        "phone.price"
      ],
      "metadata": {
        "colab": {
          "base_uri": "https://localhost:8080/"
        },
        "id": "gP1bc5Kgu0Zm",
        "outputId": "266f30fb-5f95-4414-f8f6-89e246bb15ec"
      },
      "execution_count": 66,
      "outputs": [
        {
          "output_type": "stream",
          "name": "stdout",
          "text": [
            "getting...\n"
          ]
        },
        {
          "output_type": "execute_result",
          "data": {
            "text/plain": [
              "1000"
            ]
          },
          "metadata": {},
          "execution_count": 66
        }
      ]
    },
    {
      "cell_type": "code",
      "source": [
        "phone.price = 2000"
      ],
      "metadata": {
        "colab": {
          "base_uri": "https://localhost:8080/"
        },
        "id": "kV8z8besu1Q_",
        "outputId": "91fb060e-b0f7-4a9b-def8-4b7926facd07"
      },
      "execution_count": 67,
      "outputs": [
        {
          "output_type": "stream",
          "name": "stdout",
          "text": [
            "setting...\n"
          ]
        }
      ]
    },
    {
      "cell_type": "code",
      "source": [
        "phone.price"
      ],
      "metadata": {
        "colab": {
          "base_uri": "https://localhost:8080/"
        },
        "id": "bHN41daYu2R4",
        "outputId": "54d58ea5-845b-41cb-ed4a-f6a19a09e6ab"
      },
      "execution_count": 68,
      "outputs": [
        {
          "output_type": "stream",
          "name": "stdout",
          "text": [
            "getting...\n"
          ]
        },
        {
          "output_type": "execute_result",
          "data": {
            "text/plain": [
              "2000"
            ]
          },
          "metadata": {},
          "execution_count": 68
        }
      ]
    },
    {
      "cell_type": "code",
      "source": [
        "del phone.price"
      ],
      "metadata": {
        "colab": {
          "base_uri": "https://localhost:8080/"
        },
        "id": "brSWMtYGu4oE",
        "outputId": "f5799b91-ff0a-4f5d-a42c-a335fdecbc20"
      },
      "execution_count": 69,
      "outputs": [
        {
          "output_type": "stream",
          "name": "stdout",
          "text": [
            "deleting...\n"
          ]
        }
      ]
    },
    {
      "cell_type": "code",
      "source": [
        "phone.__dict__"
      ],
      "metadata": {
        "colab": {
          "base_uri": "https://localhost:8080/"
        },
        "id": "ErnBxY5Vu52N",
        "outputId": "7499c045-48f4-4951-b37d-b21c4aa74820"
      },
      "execution_count": 70,
      "outputs": [
        {
          "output_type": "execute_result",
          "data": {
            "text/plain": [
              "{}"
            ]
          },
          "metadata": {},
          "execution_count": 70
        }
      ]
    },
    {
      "cell_type": "code",
      "source": [
        "phone.__dict__"
      ],
      "metadata": {
        "colab": {
          "base_uri": "https://localhost:8080/"
        },
        "id": "7CUt1FJbu7DI",
        "outputId": "9aba3992-9146-45ea-abd9-89759044e43e"
      },
      "execution_count": 71,
      "outputs": [
        {
          "output_type": "execute_result",
          "data": {
            "text/plain": [
              "{}"
            ]
          },
          "metadata": {},
          "execution_count": 71
        }
      ]
    },
    {
      "cell_type": "code",
      "source": [
        "class Phone:\n",
        "\n",
        "    def __init__(self, price):\n",
        "        self._price = price\n",
        "\n",
        "    @property\n",
        "    def price(self):\n",
        "        print('getting...')\n",
        "        return self._price\n",
        "\n",
        "    @price.setter\n",
        "    def price(self, value):\n",
        "        print('setting...')\n",
        "        if isinstance(value, (int, float)):\n",
        "            if value > 0:\n",
        "                self._price = value\n",
        "            else:\n",
        "                raise ValueError('The price attribute must be positive.')\n",
        "        else:\n",
        "            raise TypeError('The price attribute must be an int or float value.')\n",
        "\n",
        "    @price.deleter\n",
        "    def price(self):\n",
        "        print('deleting...')\n",
        "        del self._price\n",
        "\n",
        "Phone.__dict__"
      ],
      "metadata": {
        "colab": {
          "base_uri": "https://localhost:8080/"
        },
        "id": "U83eO9m-u8Iu",
        "outputId": "c963a81b-35c7-4727-94a3-ae44f6f3a182"
      },
      "execution_count": 72,
      "outputs": [
        {
          "output_type": "execute_result",
          "data": {
            "text/plain": [
              "mappingproxy({'__module__': '__main__',\n",
              "              '__init__': <function __main__.Phone.__init__(self, price)>,\n",
              "              'price': <property at 0x157d5146c00>,\n",
              "              '__dict__': <attribute '__dict__' of 'Phone' objects>,\n",
              "              '__weakref__': <attribute '__weakref__' of 'Phone' objects>,\n",
              "              '__doc__': None})"
            ]
          },
          "metadata": {},
          "execution_count": 72
        }
      ]
    },
    {
      "cell_type": "code",
      "source": [
        "phone = Phone('3423')\n",
        "phone.price"
      ],
      "metadata": {
        "colab": {
          "base_uri": "https://localhost:8080/"
        },
        "id": "wjOv5y_Pu-C4",
        "outputId": "d344b816-776a-441d-d9c0-80f1710d4e9f"
      },
      "execution_count": 73,
      "outputs": [
        {
          "output_type": "stream",
          "name": "stdout",
          "text": [
            "getting...\n"
          ]
        },
        {
          "output_type": "execute_result",
          "data": {
            "text/plain": [
              "'3423'"
            ]
          },
          "metadata": {},
          "execution_count": 73
        }
      ]
    },
    {
      "cell_type": "code",
      "source": [
        "class Phone:\n",
        "\n",
        "    def __init__(self, price):\n",
        "        self.price = price\n",
        "\n",
        "    @property\n",
        "    def price(self):\n",
        "        print('getting...')\n",
        "        return self._price\n",
        "\n",
        "    @price.setter\n",
        "    def price(self, value):\n",
        "        print('setting...')\n",
        "        if isinstance(value, (int, float)):\n",
        "            if value > 0:\n",
        "                self._price = value\n",
        "            else:\n",
        "                raise ValueError('The price attribute must be positive.')\n",
        "        else:\n",
        "            raise TypeError('The price attribute must be an int or float value.')\n",
        "\n",
        "    @price.deleter\n",
        "    def price(self):\n",
        "        print('deleting...')\n",
        "        del self._price\n",
        "\n",
        "Phone.__dict__"
      ],
      "metadata": {
        "colab": {
          "base_uri": "https://localhost:8080/"
        },
        "id": "48wNGJ5Uu_HV",
        "outputId": "8f3e8045-836d-4e72-c5cc-4c8d43731089"
      },
      "execution_count": 74,
      "outputs": [
        {
          "output_type": "execute_result",
          "data": {
            "text/plain": [
              "mappingproxy({'__module__': '__main__',\n",
              "              '__init__': <function __main__.Phone.__init__(self, price)>,\n",
              "              'price': <property at 0x157d5143240>,\n",
              "              '__dict__': <attribute '__dict__' of 'Phone' objects>,\n",
              "              '__weakref__': <attribute '__weakref__' of 'Phone' objects>,\n",
              "              '__doc__': None})"
            ]
          },
          "metadata": {},
          "execution_count": 74
        }
      ]
    },
    {
      "cell_type": "code",
      "source": [
        "phone = Phone('3423')"
      ],
      "metadata": {
        "colab": {
          "base_uri": "https://localhost:8080/",
          "height": 315
        },
        "id": "Gn6MQUBIvAIG",
        "outputId": "accd6af9-61c7-464b-892b-b26ccd9e5df9"
      },
      "execution_count": 75,
      "outputs": [
        {
          "output_type": "stream",
          "name": "stdout",
          "text": [
            "setting...\n"
          ]
        },
        {
          "output_type": "error",
          "ename": "TypeError",
          "evalue": "The price attribute must be an int or float value.",
          "traceback": [
            "\u001b[1;31m---------------------------------------------------------------------------\u001b[0m",
            "\u001b[1;31mTypeError\u001b[0m                                 Traceback (most recent call last)",
            "Cell \u001b[1;32mIn[75], line 1\u001b[0m\n\u001b[1;32m----> 1\u001b[0m phone \u001b[38;5;241m=\u001b[39m Phone(\u001b[38;5;124m'\u001b[39m\u001b[38;5;124m3423\u001b[39m\u001b[38;5;124m'\u001b[39m)\n",
            "Cell \u001b[1;32mIn[74], line 4\u001b[0m, in \u001b[0;36mPhone.__init__\u001b[1;34m(self, price)\u001b[0m\n\u001b[0;32m      3\u001b[0m \u001b[38;5;28;01mdef\u001b[39;00m \u001b[38;5;21m__init__\u001b[39m(\u001b[38;5;28mself\u001b[39m, price):\n\u001b[1;32m----> 4\u001b[0m     \u001b[38;5;28mself\u001b[39m\u001b[38;5;241m.\u001b[39mprice \u001b[38;5;241m=\u001b[39m price\n",
            "Cell \u001b[1;32mIn[74], line 20\u001b[0m, in \u001b[0;36mPhone.price\u001b[1;34m(self, value)\u001b[0m\n\u001b[0;32m     18\u001b[0m         \u001b[38;5;28;01mraise\u001b[39;00m \u001b[38;5;167;01mValueError\u001b[39;00m(\u001b[38;5;124m'\u001b[39m\u001b[38;5;124mThe price attribute must be positive.\u001b[39m\u001b[38;5;124m'\u001b[39m)\n\u001b[0;32m     19\u001b[0m \u001b[38;5;28;01melse\u001b[39;00m:\n\u001b[1;32m---> 20\u001b[0m     \u001b[38;5;28;01mraise\u001b[39;00m \u001b[38;5;167;01mTypeError\u001b[39;00m(\u001b[38;5;124m'\u001b[39m\u001b[38;5;124mThe price attribute must be an int or float value.\u001b[39m\u001b[38;5;124m'\u001b[39m)\n",
            "\u001b[1;31mTypeError\u001b[0m: The price attribute must be an int or float value."
          ]
        }
      ]
    },
    {
      "cell_type": "code",
      "source": [
        "phone = Phone(2000)"
      ],
      "metadata": {
        "colab": {
          "base_uri": "https://localhost:8080/"
        },
        "id": "mVSc01jSvBW4",
        "outputId": "5926d3bc-470d-43a2-ea2c-2de83504574d"
      },
      "execution_count": 76,
      "outputs": [
        {
          "output_type": "stream",
          "name": "stdout",
          "text": [
            "setting...\n"
          ]
        }
      ]
    },
    {
      "cell_type": "markdown",
      "source": [
        "### Przykład"
      ],
      "metadata": {
        "id": "VEv07DCQvE5w"
      }
    },
    {
      "cell_type": "code",
      "source": [
        "class Game:\n",
        "\n",
        "    def __init__(self, level=0):\n",
        "        self.level = level\n",
        "\n",
        "    @property\n",
        "    def level(self):\n",
        "        return self._level\n",
        "\n",
        "    @level.setter\n",
        "    def level(self, value):\n",
        "        if value < 0:\n",
        "            self._level = 0\n",
        "        elif value > 100:\n",
        "            self._level = 100\n",
        "        else:\n",
        "            self._level = value"
      ],
      "metadata": {
        "id": "G9hBDdR7vCdW"
      },
      "execution_count": 77,
      "outputs": []
    },
    {
      "cell_type": "code",
      "source": [
        "games = [Game(), Game(10), Game(-10), Game(130)]\n",
        "games"
      ],
      "metadata": {
        "colab": {
          "base_uri": "https://localhost:8080/"
        },
        "id": "lSTu7MLOvGzW",
        "outputId": "b20e747f-5d18-4312-eaf5-31e918c21233"
      },
      "execution_count": 78,
      "outputs": [
        {
          "output_type": "execute_result",
          "data": {
            "text/plain": [
              "[<__main__.Game at 0x157d40b8a40>,\n",
              " <__main__.Game at 0x157d34afef0>,\n",
              " <__main__.Game at 0x157d34ad160>,\n",
              " <__main__.Game at 0x157d40c18e0>]"
            ]
          },
          "metadata": {},
          "execution_count": 78
        }
      ]
    },
    {
      "cell_type": "code",
      "source": [
        "[game.level for game in games]"
      ],
      "metadata": {
        "colab": {
          "base_uri": "https://localhost:8080/"
        },
        "id": "NKXAEOZpvHNN",
        "outputId": "97863998-634f-4ef4-ddbd-6df364d4071b"
      },
      "execution_count": 79,
      "outputs": [
        {
          "output_type": "execute_result",
          "data": {
            "text/plain": [
              "[0, 10, 0, 100]"
            ]
          },
          "metadata": {},
          "execution_count": 79
        }
      ]
    },
    {
      "cell_type": "code",
      "source": [
        "for game in games:\n",
        "    print(game.level)"
      ],
      "metadata": {
        "colab": {
          "base_uri": "https://localhost:8080/"
        },
        "id": "Ey9hKVolvIIf",
        "outputId": "63836e7d-35a8-4384-f336-e485effcab81"
      },
      "execution_count": 80,
      "outputs": [
        {
          "output_type": "stream",
          "name": "stdout",
          "text": [
            "0\n",
            "10\n",
            "0\n",
            "100\n"
          ]
        }
      ]
    },
    {
      "cell_type": "code",
      "source": [],
      "metadata": {
        "id": "bqQ3ERW7vJGP"
      },
      "execution_count": null,
      "outputs": []
    }
  ]
}