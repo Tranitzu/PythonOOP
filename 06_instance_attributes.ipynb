{
  "nbformat": 4,
  "nbformat_minor": 0,
  "metadata": {
    "colab": {
      "provenance": [],
      "authorship_tag": "ABX9TyN5PykXg6+XObURL1/jZW1E",
      "include_colab_link": true
    },
    "kernelspec": {
      "name": "python3",
      "display_name": "Python 3"
    },
    "language_info": {
      "name": "python"
    }
  },
  "cells": [
    {
      "cell_type": "markdown",
      "metadata": {
        "id": "view-in-github",
        "colab_type": "text"
      },
      "source": [
        "<a href=\"https://colab.research.google.com/github/Tranitzu/PythonOOP/blob/main/06_instance_attributes.ipynb\" target=\"_parent\"><img src=\"https://colab.research.google.com/assets/colab-badge.svg\" alt=\"Open In Colab\"/></a>"
      ]
    },
    {
      "cell_type": "markdown",
      "source": [
        "\n",
        "### Tworzenie instancji klasy\n",
        "> Dodaj cytat blokowy\n",
        "\n"
      ],
      "metadata": {
        "id": "p32PUX4ysbaG"
      }
    },
    {
      "cell_type": "code",
      "execution_count": null,
      "metadata": {
        "colab": {
          "base_uri": "https://localhost:8080/"
        },
        "id": "X_zTYJiilvrH",
        "outputId": "f269c55e-bcd3-45f0-e0a5-374b7c0858ea"
      },
      "outputs": [
        {
          "output_type": "execute_result",
          "data": {
            "text/plain": [
              "mappingproxy({'__module__': '__main__',\n",
              "              'language': 'ENG',\n",
              "              'show': <function __main__.Book.show()>,\n",
              "              '__dict__': <attribute '__dict__' of 'Book' objects>,\n",
              "              '__weakref__': <attribute '__weakref__' of 'Book' objects>,\n",
              "              '__doc__': None})"
            ]
          },
          "metadata": {},
          "execution_count": 3
        }
      ],
      "source": [
        "class Book:\n",
        "\n",
        "    language = 'ENG'\n",
        "\n",
        "    def show():\n",
        "        print(Book.language)\n",
        "\n",
        "Book.__dict__"
      ]
    },
    {
      "cell_type": "code",
      "source": [
        "Book()"
      ],
      "metadata": {
        "colab": {
          "base_uri": "https://localhost:8080/"
        },
        "id": "SvUh2iDuspet",
        "outputId": "4d7e22ef-83d5-45a6-b6e0-bc25f72bc290"
      },
      "execution_count": null,
      "outputs": [
        {
          "output_type": "execute_result",
          "data": {
            "text/plain": [
              "<__main__.Book at 0x1beeb345a30>"
            ]
          },
          "metadata": {},
          "execution_count": 4
        }
      ]
    },
    {
      "cell_type": "code",
      "source": [
        "book1 = Book()\n",
        "book1"
      ],
      "metadata": {
        "colab": {
          "base_uri": "https://localhost:8080/"
        },
        "id": "d3_UjpXmsxyU",
        "outputId": "29a4be4e-05d8-40f2-f50b-9c7e0fcfc430"
      },
      "execution_count": null,
      "outputs": [
        {
          "output_type": "execute_result",
          "data": {
            "text/plain": [
              "<__main__.Book at 0x1beeb993320>"
            ]
          },
          "metadata": {},
          "execution_count": 5
        }
      ]
    },
    {
      "cell_type": "code",
      "source": [
        "type(book1), type(Book)"
      ],
      "metadata": {
        "colab": {
          "base_uri": "https://localhost:8080/"
        },
        "id": "5Tb6r3pms2-A",
        "outputId": "00029536-c414-4f97-b446-539647d9358a"
      },
      "execution_count": null,
      "outputs": [
        {
          "output_type": "execute_result",
          "data": {
            "text/plain": [
              "(__main__.Book, type)"
            ]
          },
          "metadata": {},
          "execution_count": 7
        }
      ]
    },
    {
      "cell_type": "code",
      "source": [
        "isinstance(book1, Book)"
      ],
      "metadata": {
        "colab": {
          "base_uri": "https://localhost:8080/"
        },
        "id": "krazLnPss_nn",
        "outputId": "cc6fba8a-f61e-4a64-eb66-1c23e9a05651"
      },
      "execution_count": null,
      "outputs": [
        {
          "output_type": "execute_result",
          "data": {
            "text/plain": [
              "True"
            ]
          },
          "metadata": {},
          "execution_count": 8
        }
      ]
    },
    {
      "cell_type": "markdown",
      "source": [
        "### (Wbudowane) atrybuty klasy vs. (wbudowane) atrybuty instancji"
      ],
      "metadata": {
        "id": "L9EmPoPRtI7e"
      }
    },
    {
      "cell_type": "code",
      "source": [
        "class Book:\n",
        "\n",
        "    language = 'ENG'\n",
        "\n",
        "    def show():\n",
        "        print(Book.language)\n",
        "\n",
        "Book.__dict__"
      ],
      "metadata": {
        "colab": {
          "base_uri": "https://localhost:8080/"
        },
        "id": "fFojIh6DtErf",
        "outputId": "b4872be9-3934-4f24-e8c8-b1f3783c941c"
      },
      "execution_count": null,
      "outputs": [
        {
          "output_type": "execute_result",
          "data": {
            "text/plain": [
              "mappingproxy({'__module__': '__main__',\n",
              "              'language': 'ENG',\n",
              "              'show': <function __main__.Book.show()>,\n",
              "              '__dict__': <attribute '__dict__' of 'Book' objects>,\n",
              "              '__weakref__': <attribute '__weakref__' of 'Book' objects>,\n",
              "              '__doc__': None})"
            ]
          },
          "metadata": {},
          "execution_count": 9
        }
      ]
    },
    {
      "cell_type": "code",
      "source": [
        "book1 = Book()\n",
        "book1"
      ],
      "metadata": {
        "colab": {
          "base_uri": "https://localhost:8080/"
        },
        "id": "U9nsuQbXtSWO",
        "outputId": "8ce72ae1-1231-4f56-e3e5-1ccd475dad06"
      },
      "execution_count": null,
      "outputs": [
        {
          "output_type": "execute_result",
          "data": {
            "text/plain": [
              "<__main__.Book at 0x1beeb35a090>"
            ]
          },
          "metadata": {},
          "execution_count": 10
        }
      ]
    },
    {
      "cell_type": "code",
      "source": [
        "book1.__dict__"
      ],
      "metadata": {
        "colab": {
          "base_uri": "https://localhost:8080/"
        },
        "id": "2SrwOSi6tZHW",
        "outputId": "cf47a05d-c729-491b-fabc-560fae9cf0ea"
      },
      "execution_count": null,
      "outputs": [
        {
          "output_type": "execute_result",
          "data": {
            "text/plain": [
              "{}"
            ]
          },
          "metadata": {},
          "execution_count": 11
        }
      ]
    },
    {
      "cell_type": "code",
      "source": [
        "type(book1.__dict__)"
      ],
      "metadata": {
        "colab": {
          "base_uri": "https://localhost:8080/"
        },
        "id": "xmq-LOM3tbtz",
        "outputId": "0458c10c-8ab2-4046-b6b4-be98dfd57249"
      },
      "execution_count": null,
      "outputs": [
        {
          "output_type": "execute_result",
          "data": {
            "text/plain": [
              "dict"
            ]
          },
          "metadata": {},
          "execution_count": 12
        }
      ]
    },
    {
      "cell_type": "markdown",
      "source": [
        "### Atrybuyty klasy oraz atrybuty instancji"
      ],
      "metadata": {
        "id": "pwEtAJi0t5xp"
      }
    },
    {
      "cell_type": "code",
      "source": [
        "class Book:\n",
        "\n",
        "    language = 'PL'\n",
        "\n",
        "Book.__dict__"
      ],
      "metadata": {
        "colab": {
          "base_uri": "https://localhost:8080/"
        },
        "id": "CuIItkJLt3NC",
        "outputId": "1c408df8-a2a6-4971-9ebd-9d3ed16b5036"
      },
      "execution_count": null,
      "outputs": [
        {
          "output_type": "execute_result",
          "data": {
            "text/plain": [
              "mappingproxy({'__module__': '__main__',\n",
              "              'language': 'PL',\n",
              "              '__dict__': <attribute '__dict__' of 'Book' objects>,\n",
              "              '__weakref__': <attribute '__weakref__' of 'Book' objects>,\n",
              "              '__doc__': None})"
            ]
          },
          "metadata": {},
          "execution_count": 14
        }
      ]
    },
    {
      "cell_type": "code",
      "source": [
        "book1 = Book()\n",
        "book2 = Book()\n",
        "book1, book2"
      ],
      "metadata": {
        "colab": {
          "base_uri": "https://localhost:8080/"
        },
        "id": "_rcb7InCuBn1",
        "outputId": "6a77fb37-25c5-44d3-f9c2-b1377819dea0"
      },
      "execution_count": null,
      "outputs": [
        {
          "output_type": "execute_result",
          "data": {
            "text/plain": [
              "(<__main__.Book at 0x1beeb282a20>, <__main__.Book at 0x1beece4d340>)"
            ]
          },
          "metadata": {},
          "execution_count": 15
        }
      ]
    },
    {
      "cell_type": "code",
      "source": [
        "book1 is book2"
      ],
      "metadata": {
        "colab": {
          "base_uri": "https://localhost:8080/"
        },
        "id": "dlV-EdlmuF58",
        "outputId": "74204c77-a4d8-4b8b-d5e4-6a7ccf703fd5"
      },
      "execution_count": null,
      "outputs": [
        {
          "output_type": "execute_result",
          "data": {
            "text/plain": [
              "False"
            ]
          },
          "metadata": {},
          "execution_count": 17
        }
      ]
    },
    {
      "cell_type": "code",
      "source": [
        "book1.__dict__, book2.__dict__"
      ],
      "metadata": {
        "colab": {
          "base_uri": "https://localhost:8080/"
        },
        "id": "myr8AMX-uHJO",
        "outputId": "4c69f29d-3057-4e9a-f695-65b26b0bbb10"
      },
      "execution_count": null,
      "outputs": [
        {
          "output_type": "execute_result",
          "data": {
            "text/plain": [
              "({}, {})"
            ]
          },
          "metadata": {},
          "execution_count": 18
        }
      ]
    },
    {
      "cell_type": "code",
      "source": [
        "book1.language, book2.language"
      ],
      "metadata": {
        "colab": {
          "base_uri": "https://localhost:8080/"
        },
        "id": "4rW_-qlCuLAZ",
        "outputId": "15cc3d9b-7529-473d-fcd4-948ccbac8c42"
      },
      "execution_count": null,
      "outputs": [
        {
          "output_type": "execute_result",
          "data": {
            "text/plain": [
              "('PL', 'PL')"
            ]
          },
          "metadata": {},
          "execution_count": 19
        }
      ]
    },
    {
      "cell_type": "code",
      "source": [
        "Book.author = 'Adam Mickiewicz'"
      ],
      "metadata": {
        "id": "xyjz89ihuOjn"
      },
      "execution_count": null,
      "outputs": []
    },
    {
      "cell_type": "code",
      "source": [
        "Book.__dict__"
      ],
      "metadata": {
        "colab": {
          "base_uri": "https://localhost:8080/"
        },
        "id": "WBOHuIpDuRhS",
        "outputId": "a2e165a7-deb4-4ca3-d184-ce6cf623a121"
      },
      "execution_count": null,
      "outputs": [
        {
          "output_type": "execute_result",
          "data": {
            "text/plain": [
              "mappingproxy({'__module__': '__main__',\n",
              "              'language': 'PL',\n",
              "              '__dict__': <attribute '__dict__' of 'Book' objects>,\n",
              "              '__weakref__': <attribute '__weakref__' of 'Book' objects>,\n",
              "              '__doc__': None,\n",
              "              'author': 'Adam Mickiewicz'})"
            ]
          },
          "metadata": {},
          "execution_count": 21
        }
      ]
    },
    {
      "cell_type": "code",
      "source": [
        "Book.author"
      ],
      "metadata": {
        "colab": {
          "base_uri": "https://localhost:8080/"
        },
        "id": "K6p-u32JuTlf",
        "outputId": "066d4305-c4c7-42e5-e9b8-c2ca0215afab"
      },
      "execution_count": null,
      "outputs": [
        {
          "output_type": "execute_result",
          "data": {
            "text/plain": [
              "'Adam Mickiewicz'"
            ]
          },
          "metadata": {},
          "execution_count": 22
        }
      ]
    },
    {
      "cell_type": "code",
      "source": [
        "book1.author, book2.author"
      ],
      "metadata": {
        "colab": {
          "base_uri": "https://localhost:8080/"
        },
        "id": "rJ2aguiUuXDy",
        "outputId": "a5948534-638f-4113-90bf-a3a498ed2024"
      },
      "execution_count": null,
      "outputs": [
        {
          "output_type": "execute_result",
          "data": {
            "text/plain": [
              "('Adam Mickiewicz', 'Adam Mickiewicz')"
            ]
          },
          "metadata": {},
          "execution_count": 23
        }
      ]
    },
    {
      "cell_type": "code",
      "source": [
        "book1.__dict__, book2.__dict__"
      ],
      "metadata": {
        "colab": {
          "base_uri": "https://localhost:8080/"
        },
        "id": "jCxQk9oiuYcR",
        "outputId": "7a9eb403-e0a8-40f7-eff2-9c4e2f932726"
      },
      "execution_count": null,
      "outputs": [
        {
          "output_type": "execute_result",
          "data": {
            "text/plain": [
              "({}, {})"
            ]
          },
          "metadata": {},
          "execution_count": 24
        }
      ]
    },
    {
      "cell_type": "code",
      "source": [
        "book1.author = 'Juliusz Słowacki'"
      ],
      "metadata": {
        "id": "2zJqr7wUuauN"
      },
      "execution_count": null,
      "outputs": []
    },
    {
      "cell_type": "code",
      "source": [
        "book1.__dict__, book2.__dict__"
      ],
      "metadata": {
        "colab": {
          "base_uri": "https://localhost:8080/"
        },
        "id": "UzPRrFZyui2D",
        "outputId": "bce5a9c0-1133-488d-86e0-dfaa0955d08f"
      },
      "execution_count": null,
      "outputs": [
        {
          "output_type": "execute_result",
          "data": {
            "text/plain": [
              "({'author': 'Juliusz Słowacki'}, {})"
            ]
          },
          "metadata": {},
          "execution_count": 26
        }
      ]
    },
    {
      "cell_type": "code",
      "source": [
        "del book1.author"
      ],
      "metadata": {
        "id": "znsQozpyukE2"
      },
      "execution_count": null,
      "outputs": []
    },
    {
      "cell_type": "code",
      "source": [
        "book1.author"
      ],
      "metadata": {
        "colab": {
          "base_uri": "https://localhost:8080/"
        },
        "id": "5Yx2fneSu8vE",
        "outputId": "c3b1618d-1909-405d-d8a5-de1aade3fcb1"
      },
      "execution_count": null,
      "outputs": [
        {
          "output_type": "execute_result",
          "data": {
            "text/plain": [
              "'Adam Mickiewicz'"
            ]
          },
          "metadata": {},
          "execution_count": 28
        }
      ]
    },
    {
      "cell_type": "code",
      "source": [
        "book1.__dict__, book2.__dict__"
      ],
      "metadata": {
        "colab": {
          "base_uri": "https://localhost:8080/"
        },
        "id": "hStwh-3Uu-IT",
        "outputId": "428ca2dd-d8cb-4973-870f-2c5cee14f06a"
      },
      "execution_count": null,
      "outputs": [
        {
          "output_type": "execute_result",
          "data": {
            "text/plain": [
              "({}, {})"
            ]
          },
          "metadata": {},
          "execution_count": 29
        }
      ]
    },
    {
      "cell_type": "code",
      "source": [
        "class Book:\n",
        "\n",
        "    language = 'PL'\n",
        "\n",
        "Book.__dict__"
      ],
      "metadata": {
        "colab": {
          "base_uri": "https://localhost:8080/"
        },
        "id": "ud6BX2y-vE0k",
        "outputId": "45acbce1-7152-44d5-92a5-17fd8c74b1d9"
      },
      "execution_count": null,
      "outputs": [
        {
          "output_type": "execute_result",
          "data": {
            "text/plain": [
              "mappingproxy({'__module__': '__main__',\n",
              "              'language': 'PL',\n",
              "              '__dict__': <attribute '__dict__' of 'Book' objects>,\n",
              "              '__weakref__': <attribute '__weakref__' of 'Book' objects>,\n",
              "              '__doc__': None})"
            ]
          },
          "metadata": {},
          "execution_count": 30
        }
      ]
    },
    {
      "cell_type": "code",
      "source": [
        "book1 = Book()\n",
        "book2 = Book()\n",
        "book1, book2"
      ],
      "metadata": {
        "colab": {
          "base_uri": "https://localhost:8080/"
        },
        "id": "qihpb46tvNyr",
        "outputId": "c3c00477-1786-4b0d-88c9-906101cce6f5"
      },
      "execution_count": null,
      "outputs": [
        {
          "output_type": "execute_result",
          "data": {
            "text/plain": [
              "(<__main__.Book at 0x1beec873350>, <__main__.Book at 0x1beec5956a0>)"
            ]
          },
          "metadata": {},
          "execution_count": 31
        }
      ]
    },
    {
      "cell_type": "code",
      "source": [
        "book1.author = 'Adam Mickiewicz'"
      ],
      "metadata": {
        "id": "9y5z8mt5vOPk"
      },
      "execution_count": null,
      "outputs": []
    },
    {
      "cell_type": "code",
      "source": [
        "book1.title = 'Pan Tadeusz'"
      ],
      "metadata": {
        "id": "gdI6M4exvUwV"
      },
      "execution_count": null,
      "outputs": []
    },
    {
      "cell_type": "code",
      "source": [
        "book2.year = 1995"
      ],
      "metadata": {
        "id": "KFLFmf2nvacQ"
      },
      "execution_count": null,
      "outputs": []
    },
    {
      "cell_type": "code",
      "source": [
        "book1.__dict__, book2.__dict__"
      ],
      "metadata": {
        "colab": {
          "base_uri": "https://localhost:8080/"
        },
        "id": "OFNayHQ7vcYc",
        "outputId": "8c4401d0-6e79-453c-d0ec-379132e28f9a"
      },
      "execution_count": null,
      "outputs": [
        {
          "output_type": "execute_result",
          "data": {
            "text/plain": [
              "({'author': 'Adam Mickiewicz', 'title': 'Pan Tadeusz'}, {'year': 1995})"
            ]
          },
          "metadata": {},
          "execution_count": 35
        }
      ]
    },
    {
      "cell_type": "code",
      "source": [
        "del  book1.author"
      ],
      "metadata": {
        "id": "fR1ElX8jvdzh"
      },
      "execution_count": null,
      "outputs": []
    },
    {
      "cell_type": "code",
      "source": [
        "book1.__dict__, book2.__dict__"
      ],
      "metadata": {
        "colab": {
          "base_uri": "https://localhost:8080/"
        },
        "id": "4XD3ITaKvgIo",
        "outputId": "a1fb7152-b2de-41b8-91f1-3bb89690c19a"
      },
      "execution_count": null,
      "outputs": [
        {
          "output_type": "execute_result",
          "data": {
            "text/plain": [
              "({'title': 'Pan Tadeusz'}, {'year': 1995})"
            ]
          },
          "metadata": {},
          "execution_count": 37
        }
      ]
    },
    {
      "cell_type": "code",
      "source": [
        "Book.__dict__"
      ],
      "metadata": {
        "colab": {
          "base_uri": "https://localhost:8080/"
        },
        "id": "1CSS8t2Mvifn",
        "outputId": "95f32389-3b2c-4ee5-98b1-772fcc811b2a"
      },
      "execution_count": null,
      "outputs": [
        {
          "output_type": "execute_result",
          "data": {
            "text/plain": [
              "mappingproxy({'__module__': '__main__',\n",
              "              'language': 'PL',\n",
              "              '__dict__': <attribute '__dict__' of 'Book' objects>,\n",
              "              '__weakref__': <attribute '__weakref__' of 'Book' objects>,\n",
              "              '__doc__': None})"
            ]
          },
          "metadata": {},
          "execution_count": 38
        }
      ]
    },
    {
      "cell_type": "markdown",
      "source": [
        "### Przykład"
      ],
      "metadata": {
        "id": "hz5RLdF0vs39"
      }
    },
    {
      "cell_type": "code",
      "source": [
        "class Book:\n",
        "\n",
        "    language = 'PL'\n",
        "    author = 'Adam Mickiewicz'\n",
        "\n",
        "Book.__dict__"
      ],
      "metadata": {
        "colab": {
          "base_uri": "https://localhost:8080/"
        },
        "id": "3G4pADiDvt1y",
        "outputId": "e0d76671-8df1-460c-8bee-a60dd3d3ecd8"
      },
      "execution_count": null,
      "outputs": [
        {
          "output_type": "execute_result",
          "data": {
            "text/plain": [
              "mappingproxy({'__module__': '__main__',\n",
              "              'language': 'PL',\n",
              "              'author': 'Adam Mickiewicz',\n",
              "              '__dict__': <attribute '__dict__' of 'Book' objects>,\n",
              "              '__weakref__': <attribute '__weakref__' of 'Book' objects>,\n",
              "              '__doc__': None})"
            ]
          },
          "metadata": {},
          "execution_count": 40
        }
      ]
    },
    {
      "cell_type": "code",
      "source": [
        "books = [Book(), Book(), Book()]\n",
        "books"
      ],
      "metadata": {
        "colab": {
          "base_uri": "https://localhost:8080/"
        },
        "id": "lNHP7wf6v4n-",
        "outputId": "c1a72389-7742-4e35-ddf7-7e74f343bcab"
      },
      "execution_count": null,
      "outputs": [
        {
          "output_type": "execute_result",
          "data": {
            "text/plain": [
              "[<__main__.Book at 0x1beec834a40>,\n",
              " <__main__.Book at 0x1beebcbb7a0>,\n",
              " <__main__.Book at 0x1beece0c560>]"
            ]
          },
          "metadata": {},
          "execution_count": 41
        }
      ]
    },
    {
      "cell_type": "code",
      "source": [
        "for book in books:\n",
        "    print(f'język: {book.language}, autor: {book.author}')"
      ],
      "metadata": {
        "colab": {
          "base_uri": "https://localhost:8080/"
        },
        "id": "Vjurvpd9wBCi",
        "outputId": "56b76bbf-bc61-48d8-ece9-cc96388c7024"
      },
      "execution_count": null,
      "outputs": [
        {
          "output_type": "stream",
          "name": "stdout",
          "text": [
            "język: PL, autor: Adam Mickiewicz\n",
            "język: PL, autor: Adam Mickiewicz\n",
            "język: PL, autor: Adam Mickiewicz\n"
          ]
        }
      ]
    },
    {
      "cell_type": "code",
      "source": [
        "titles = ['Sonety krymskie', 'Pan Tadeusz', 'Konrad Wallenrod']\n",
        "\n",
        "for book, value in zip(books, titles):\n",
        "    # book.title = value\n",
        "    setattr(book, 'title', value)"
      ],
      "metadata": {
        "id": "fxyPBe9gwHg_"
      },
      "execution_count": null,
      "outputs": []
    },
    {
      "cell_type": "code",
      "source": [
        "for book in books:\n",
        "    print(f'język: {book.language}, autor: {book.author}, tytuł: {book.title}')"
      ],
      "metadata": {
        "colab": {
          "base_uri": "https://localhost:8080/"
        },
        "id": "fC4PAfxRwY9a",
        "outputId": "a6e8cd16-c1cb-413f-e108-6019f633682c"
      },
      "execution_count": null,
      "outputs": [
        {
          "output_type": "stream",
          "name": "stdout",
          "text": [
            "język: PL, autor: Adam Mickiewicz, tytuł: Sonety krymskie\n",
            "język: PL, autor: Adam Mickiewicz, tytuł: Pan Tadeusz\n",
            "język: PL, autor: Adam Mickiewicz, tytuł: Konrad Wallenrod\n"
          ]
        }
      ]
    },
    {
      "cell_type": "code",
      "source": [
        "for book in books:\n",
        "    print(book.__dict__)"
      ],
      "metadata": {
        "colab": {
          "base_uri": "https://localhost:8080/"
        },
        "id": "m6h2UyEewdY0",
        "outputId": "6b613004-ba4e-4790-d8b3-13024da210bf"
      },
      "execution_count": null,
      "outputs": [
        {
          "output_type": "stream",
          "name": "stdout",
          "text": [
            "{'tutle': 'Sonety krymskie', 'title': 'Sonety krymskie'}\n",
            "{'tutle': 'Pan Tadeusz', 'title': 'Pan Tadeusz'}\n",
            "{'tutle': 'Konrad Wallenrod', 'title': 'Konrad Wallenrod'}\n"
          ]
        }
      ]
    },
    {
      "cell_type": "markdown",
      "source": [
        "### Wywoływanie atrybutu klasy (funkcje) oraz wywoływanie atrbybutu instancji(metody)"
      ],
      "metadata": {
        "id": "GozkEjoiwvGk"
      }
    },
    {
      "cell_type": "code",
      "source": [
        "class Book:\n",
        "\n",
        "    language = 'PL'\n",
        "    author = 'Adam Mickiewicz'\n",
        "\n",
        "    def show_details():\n",
        "        print(f'Autor: {Book.author}\\nJęzyk: {Book.language}')\n",
        "\n",
        "Book.__dict__"
      ],
      "metadata": {
        "colab": {
          "base_uri": "https://localhost:8080/"
        },
        "id": "qBe9_aQtwo3R",
        "outputId": "113f7031-b19a-485f-9c6b-f60e90060635"
      },
      "execution_count": null,
      "outputs": [
        {
          "output_type": "execute_result",
          "data": {
            "text/plain": [
              "mappingproxy({'__module__': '__main__',\n",
              "              'language': 'PL',\n",
              "              'author': 'Adam Mickiewicz',\n",
              "              'show_details': <function __main__.Book.show_details()>,\n",
              "              '__dict__': <attribute '__dict__' of 'Book' objects>,\n",
              "              '__weakref__': <attribute '__weakref__' of 'Book' objects>,\n",
              "              '__doc__': None})"
            ]
          },
          "metadata": {},
          "execution_count": 54
        }
      ]
    },
    {
      "cell_type": "code",
      "source": [
        "Book.show_details"
      ],
      "metadata": {
        "colab": {
          "base_uri": "https://localhost:8080/"
        },
        "id": "QErI2Ke5xE3r",
        "outputId": "7f465408-53f7-4b61-e543-cc51592373c3"
      },
      "execution_count": null,
      "outputs": [
        {
          "output_type": "execute_result",
          "data": {
            "text/plain": [
              "<function __main__.Book.show_details()>"
            ]
          },
          "metadata": {},
          "execution_count": 55
        }
      ]
    },
    {
      "cell_type": "code",
      "source": [
        "Book.show_details()"
      ],
      "metadata": {
        "colab": {
          "base_uri": "https://localhost:8080/"
        },
        "id": "khKyiXCmxG9a",
        "outputId": "d63b5306-46c5-40a9-b766-c528f5647192"
      },
      "execution_count": null,
      "outputs": [
        {
          "output_type": "stream",
          "name": "stdout",
          "text": [
            "Autor: Adam Mickiewicz\n",
            "Język: PL\n"
          ]
        }
      ]
    },
    {
      "cell_type": "code",
      "source": [
        "Book.show_language = lambda: print(f'Język: {Book.language}')"
      ],
      "metadata": {
        "id": "o65rm95JxIz3"
      },
      "execution_count": null,
      "outputs": []
    },
    {
      "cell_type": "code",
      "source": [
        "Book.__dict__"
      ],
      "metadata": {
        "colab": {
          "base_uri": "https://localhost:8080/"
        },
        "id": "Y3V4J8EBxSvA",
        "outputId": "31b820dc-0c15-454c-c0fc-bf604adbc649"
      },
      "execution_count": null,
      "outputs": [
        {
          "output_type": "execute_result",
          "data": {
            "text/plain": [
              "mappingproxy({'__module__': '__main__',\n",
              "              'language': 'PL',\n",
              "              'author': 'Adam Mickiewicz',\n",
              "              'show_details': <function __main__.Book.show_details()>,\n",
              "              '__dict__': <attribute '__dict__' of 'Book' objects>,\n",
              "              '__weakref__': <attribute '__weakref__' of 'Book' objects>,\n",
              "              '__doc__': None,\n",
              "              'show_language': <function __main__.<lambda>()>})"
            ]
          },
          "metadata": {},
          "execution_count": 58
        }
      ]
    },
    {
      "cell_type": "code",
      "source": [
        "Book.show_language()"
      ],
      "metadata": {
        "colab": {
          "base_uri": "https://localhost:8080/"
        },
        "id": "ItyZcShLxUri",
        "outputId": "1ed589c4-cdf1-49be-9b4a-407bd1799ceb"
      },
      "execution_count": null,
      "outputs": [
        {
          "output_type": "stream",
          "name": "stdout",
          "text": [
            "Język: PL\n"
          ]
        }
      ]
    },
    {
      "cell_type": "code",
      "source": [
        "book1 = Book()\n",
        "book1.__dict__"
      ],
      "metadata": {
        "colab": {
          "base_uri": "https://localhost:8080/"
        },
        "id": "hGG81yVMxWI1",
        "outputId": "a6f58219-02c5-457f-e23a-9ed1f946dabb"
      },
      "execution_count": null,
      "outputs": [
        {
          "output_type": "execute_result",
          "data": {
            "text/plain": [
              "{}"
            ]
          },
          "metadata": {},
          "execution_count": 60
        }
      ]
    },
    {
      "cell_type": "code",
      "source": [
        "book1.show_details"
      ],
      "metadata": {
        "colab": {
          "base_uri": "https://localhost:8080/"
        },
        "id": "rhwjihQ1xh47",
        "outputId": "56028399-67c9-4738-d9ee-390a25c4914f"
      },
      "execution_count": null,
      "outputs": [
        {
          "output_type": "execute_result",
          "data": {
            "text/plain": [
              "<bound method Book.show_details of <__main__.Book object at 0x000001BEEC8AF020>>"
            ]
          },
          "metadata": {},
          "execution_count": 61
        }
      ]
    },
    {
      "cell_type": "code",
      "source": [
        "book1.show_details()"
      ],
      "metadata": {
        "colab": {
          "base_uri": "https://localhost:8080/",
          "height": 141
        },
        "id": "OlKelQiFxpUy",
        "outputId": "5ea0056a-5655-4381-988f-153884f18c06"
      },
      "execution_count": null,
      "outputs": [
        {
          "output_type": "error",
          "ename": "TypeError",
          "evalue": "Book.show_details() takes 0 positional arguments but 1 was given",
          "traceback": [
            "\u001b[1;31m---------------------------------------------------------------------------\u001b[0m",
            "\u001b[1;31mTypeError\u001b[0m                                 Traceback (most recent call last)",
            "Cell \u001b[1;32mIn[63], line 1\u001b[0m\n\u001b[1;32m----> 1\u001b[0m book1\u001b[38;5;241m.\u001b[39mshow_details()\n",
            "\u001b[1;31mTypeError\u001b[0m: Book.show_details() takes 0 positional arguments but 1 was given"
          ]
        }
      ]
    },
    {
      "cell_type": "code",
      "source": [
        "type(Book.show_details), type(book1.show_details)"
      ],
      "metadata": {
        "colab": {
          "base_uri": "https://localhost:8080/"
        },
        "id": "SWXvulguxsZH",
        "outputId": "33aaa721-6d36-408e-f407-bb694da99bfa"
      },
      "execution_count": null,
      "outputs": [
        {
          "output_type": "execute_result",
          "data": {
            "text/plain": [
              "(function, method)"
            ]
          },
          "metadata": {},
          "execution_count": 64
        }
      ]
    },
    {
      "cell_type": "markdown",
      "source": [
        "###Przykład"
      ],
      "metadata": {
        "id": "3Yera9P47zoB"
      }
    },
    {
      "cell_type": "code",
      "source": [
        "class Book:\n",
        "\n",
        "    language = 'PL'\n",
        "    author = 'Adam Mickiewicz'\n",
        "\n",
        "    def show_details(*args):\n",
        "        print(args)\n",
        "        for arg in args:\n",
        "            print(f'{arg} -> {type(arg)}')\n",
        "\n",
        "Book.__dict__"
      ],
      "metadata": {
        "id": "HQntOEttx8wP",
        "colab": {
          "base_uri": "https://localhost:8080/"
        },
        "outputId": "4f0a2859-68ce-468b-bd2f-e6fdfd8c4cb8"
      },
      "execution_count": null,
      "outputs": [
        {
          "output_type": "execute_result",
          "data": {
            "text/plain": [
              "mappingproxy({'__module__': '__main__',\n",
              "              'language': 'PL',\n",
              "              'author': 'Adam Mickiewicz',\n",
              "              'show_details': <function __main__.Book.show_details(*args)>,\n",
              "              '__dict__': <attribute '__dict__' of 'Book' objects>,\n",
              "              '__weakref__': <attribute '__weakref__' of 'Book' objects>,\n",
              "              '__doc__': None})"
            ]
          },
          "metadata": {},
          "execution_count": 1
        }
      ]
    },
    {
      "cell_type": "code",
      "source": [
        "Book.show_details()"
      ],
      "metadata": {
        "colab": {
          "base_uri": "https://localhost:8080/"
        },
        "id": "g3-lW-Q88b6X",
        "outputId": "cd2745af-2dff-4997-baa8-46492f611481"
      },
      "execution_count": null,
      "outputs": [
        {
          "output_type": "stream",
          "name": "stdout",
          "text": [
            "()\n"
          ]
        }
      ]
    },
    {
      "cell_type": "code",
      "source": [
        "book1 = Book()\n",
        "book1.show_details()"
      ],
      "metadata": {
        "colab": {
          "base_uri": "https://localhost:8080/"
        },
        "id": "1_6i-05J8e2n",
        "outputId": "929b5233-2e11-4773-cace-f1076ab6a409"
      },
      "execution_count": null,
      "outputs": [
        {
          "output_type": "stream",
          "name": "stdout",
          "text": [
            "(<__main__.Book object at 0x0000025581202C90>,)\n",
            "<__main__.Book object at 0x0000025581202C90> -> <class '__main__.Book'>\n"
          ]
        }
      ]
    },
    {
      "cell_type": "code",
      "source": [
        "book1"
      ],
      "metadata": {
        "colab": {
          "base_uri": "https://localhost:8080/"
        },
        "id": "xaSbkCWC8o_X",
        "outputId": "6dbc808c-6c4a-4ff2-8354-6bf33b97ae51"
      },
      "execution_count": null,
      "outputs": [
        {
          "output_type": "execute_result",
          "data": {
            "text/plain": [
              "<__main__.Book at 0x25581202c90>"
            ]
          },
          "metadata": {},
          "execution_count": 4
        }
      ]
    },
    {
      "cell_type": "code",
      "source": [
        "book1.show_details('Tom II')"
      ],
      "metadata": {
        "colab": {
          "base_uri": "https://localhost:8080/"
        },
        "id": "U02KihSq8v3m",
        "outputId": "55fa0be0-c8ec-404e-cc8e-a8a820405c07"
      },
      "execution_count": null,
      "outputs": [
        {
          "output_type": "stream",
          "name": "stdout",
          "text": [
            "(<__main__.Book object at 0x0000025581202C90>, 'Tom II')\n",
            "<__main__.Book object at 0x0000025581202C90> -> <class '__main__.Book'>\n",
            "Tom II -> <class 'str'>\n"
          ]
        }
      ]
    },
    {
      "cell_type": "code",
      "source": [
        "book1.show_details('Tom II', 190.0)"
      ],
      "metadata": {
        "colab": {
          "base_uri": "https://localhost:8080/"
        },
        "id": "KrZ0M4XA8zfd",
        "outputId": "1b67f72a-9902-4ec1-e949-ab3fe1364d6d"
      },
      "execution_count": null,
      "outputs": [
        {
          "output_type": "stream",
          "name": "stdout",
          "text": [
            "(<__main__.Book object at 0x0000025581202C90>, 'Tom II', 190.0)\n",
            "<__main__.Book object at 0x0000025581202C90> -> <class '__main__.Book'>\n",
            "Tom II -> <class 'str'>\n",
            "190.0 -> <class 'float'>\n"
          ]
        }
      ]
    },
    {
      "cell_type": "markdown",
      "source": [
        "### Przykład"
      ],
      "metadata": {
        "id": "tRb6QSaN9Dsb"
      }
    },
    {
      "cell_type": "code",
      "source": [
        "class Book:\n",
        "\n",
        "    language = 'PL'\n",
        "    author = 'Adam Mickiewicz'\n",
        "\n",
        "    def set_title(instance, value):\n",
        "        instance.title = value\n",
        "\n",
        "Book.__dict__"
      ],
      "metadata": {
        "colab": {
          "base_uri": "https://localhost:8080/"
        },
        "id": "HraJ6mlG88rr",
        "outputId": "81161ce1-f544-4cc2-bb4b-e20c7186f366"
      },
      "execution_count": null,
      "outputs": [
        {
          "output_type": "execute_result",
          "data": {
            "text/plain": [
              "mappingproxy({'__module__': '__main__',\n",
              "              'language': 'PL',\n",
              "              'author': 'Adam Mickiewicz',\n",
              "              'set_title': <function __main__.Book.set_title(instance, value)>,\n",
              "              '__dict__': <attribute '__dict__' of 'Book' objects>,\n",
              "              '__weakref__': <attribute '__weakref__' of 'Book' objects>,\n",
              "              '__doc__': None})"
            ]
          },
          "metadata": {},
          "execution_count": 7
        }
      ]
    },
    {
      "cell_type": "code",
      "source": [
        "book1 = Book()\n",
        "book1\n",
        "book1.__dict__"
      ],
      "metadata": {
        "colab": {
          "base_uri": "https://localhost:8080/"
        },
        "id": "Xm_iAGjx9izC",
        "outputId": "ea11c622-97bc-4ca2-e4bc-a72fd46aa1c8"
      },
      "execution_count": null,
      "outputs": [
        {
          "output_type": "execute_result",
          "data": {
            "text/plain": [
              "{}"
            ]
          },
          "metadata": {},
          "execution_count": 8
        }
      ]
    },
    {
      "cell_type": "code",
      "source": [
        "book1.set_title"
      ],
      "metadata": {
        "colab": {
          "base_uri": "https://localhost:8080/"
        },
        "id": "2lBFqKjF9pGK",
        "outputId": "4b53100a-7c2c-4b46-d7e5-6b6e0125abed"
      },
      "execution_count": null,
      "outputs": [
        {
          "output_type": "execute_result",
          "data": {
            "text/plain": [
              "<bound method Book.set_title of <__main__.Book object at 0x0000025581DE4470>>"
            ]
          },
          "metadata": {},
          "execution_count": 10
        }
      ]
    },
    {
      "cell_type": "code",
      "source": [
        "book1.set_title('Pan Tadeusz')"
      ],
      "metadata": {
        "id": "Uue-nm9d9spu"
      },
      "execution_count": null,
      "outputs": []
    },
    {
      "cell_type": "code",
      "source": [
        "book1.__dict__"
      ],
      "metadata": {
        "colab": {
          "base_uri": "https://localhost:8080/"
        },
        "id": "2sPpjbi69xzB",
        "outputId": "d79b8313-bf7b-4f61-91c7-79a0fa2479e3"
      },
      "execution_count": null,
      "outputs": [
        {
          "output_type": "execute_result",
          "data": {
            "text/plain": [
              "{'title': 'Pan Tadeusz'}"
            ]
          },
          "metadata": {},
          "execution_count": 12
        }
      ]
    },
    {
      "cell_type": "code",
      "source": [
        "book1.title"
      ],
      "metadata": {
        "colab": {
          "base_uri": "https://localhost:8080/"
        },
        "id": "UgVsJwKv9024",
        "outputId": "d914112b-8828-43ab-d7ea-554bf1de157a"
      },
      "execution_count": null,
      "outputs": [
        {
          "output_type": "execute_result",
          "data": {
            "text/plain": [
              "'Pan Tadeusz'"
            ]
          },
          "metadata": {},
          "execution_count": 13
        }
      ]
    },
    {
      "cell_type": "code",
      "source": [
        "Book.title"
      ],
      "metadata": {
        "colab": {
          "base_uri": "https://localhost:8080/",
          "height": 141
        },
        "id": "YXPaCavR939r",
        "outputId": "dc59fcfd-7a8b-4e43-e5db-35e9d00f5d78"
      },
      "execution_count": null,
      "outputs": [
        {
          "output_type": "error",
          "ename": "AttributeError",
          "evalue": "type object 'Book' has no attribute 'title'",
          "traceback": [
            "\u001b[1;31m---------------------------------------------------------------------------\u001b[0m",
            "\u001b[1;31mAttributeError\u001b[0m                            Traceback (most recent call last)",
            "Cell \u001b[1;32mIn[14], line 1\u001b[0m\n\u001b[1;32m----> 1\u001b[0m Book\u001b[38;5;241m.\u001b[39mtitle\n",
            "\u001b[1;31mAttributeError\u001b[0m: type object 'Book' has no attribute 'title'"
          ]
        }
      ]
    },
    {
      "cell_type": "code",
      "source": [
        "Book.set_title(book1, 'Konrad Wallenrod')"
      ],
      "metadata": {
        "id": "2y5wO96s96Mf"
      },
      "execution_count": null,
      "outputs": []
    },
    {
      "cell_type": "code",
      "source": [
        "book1.__dict__"
      ],
      "metadata": {
        "colab": {
          "base_uri": "https://localhost:8080/"
        },
        "id": "71qkjse4-EGK",
        "outputId": "f9d6b1be-089c-48bd-f2f1-4aa3fc4c5911"
      },
      "execution_count": null,
      "outputs": [
        {
          "output_type": "execute_result",
          "data": {
            "text/plain": [
              "{'title': 'Konrad Wallenrod'}"
            ]
          },
          "metadata": {},
          "execution_count": 16
        }
      ]
    },
    {
      "cell_type": "code",
      "source": [
        "book1.title"
      ],
      "metadata": {
        "colab": {
          "base_uri": "https://localhost:8080/"
        },
        "id": "gmyK1d_x-GBW",
        "outputId": "a93123e3-fdd3-4f09-8b1c-472591d46d7b"
      },
      "execution_count": null,
      "outputs": [
        {
          "output_type": "execute_result",
          "data": {
            "text/plain": [
              "'Konrad Wallenrod'"
            ]
          },
          "metadata": {},
          "execution_count": 17
        }
      ]
    },
    {
      "cell_type": "code",
      "source": [
        "class Book:\n",
        "\n",
        "    language = 'PL'\n",
        "    author = 'Adam Mickiewicz'\n",
        "\n",
        "    def set_title(self, value):\n",
        "        self.title = value\n",
        "\n",
        "Book.__dict__"
      ],
      "metadata": {
        "colab": {
          "base_uri": "https://localhost:8080/"
        },
        "id": "yzYukG_5-IyY",
        "outputId": "19f413c1-6b01-45d2-8e56-ee486d521a93"
      },
      "execution_count": null,
      "outputs": [
        {
          "output_type": "execute_result",
          "data": {
            "text/plain": [
              "mappingproxy({'__module__': '__main__',\n",
              "              'language': 'PL',\n",
              "              'author': 'Adam Mickiewicz',\n",
              "              'set_title': <function __main__.Book.set_title(self, value)>,\n",
              "              '__dict__': <attribute '__dict__' of 'Book' objects>,\n",
              "              '__weakref__': <attribute '__weakref__' of 'Book' objects>,\n",
              "              '__doc__': None})"
            ]
          },
          "metadata": {},
          "execution_count": 18
        }
      ]
    },
    {
      "cell_type": "code",
      "source": [
        "Book.get_title = lambda self: self.title"
      ],
      "metadata": {
        "id": "reJdOHl2-PTJ"
      },
      "execution_count": null,
      "outputs": []
    },
    {
      "cell_type": "code",
      "source": [
        "book1 = Book()"
      ],
      "metadata": {
        "id": "a8RAUDEyeqN7"
      },
      "execution_count": null,
      "outputs": []
    },
    {
      "cell_type": "code",
      "source": [
        "book1.set_title('Pan Tadeusz')"
      ],
      "metadata": {
        "id": "9uuQCT1teung"
      },
      "execution_count": null,
      "outputs": []
    },
    {
      "cell_type": "code",
      "source": [
        "book1.get_title()"
      ],
      "metadata": {
        "colab": {
          "base_uri": "https://localhost:8080/"
        },
        "id": "YbTalLkeewUR",
        "outputId": "c41b04a4-61b0-4fd1-c644-39340b7f8b1b"
      },
      "execution_count": null,
      "outputs": [
        {
          "output_type": "execute_result",
          "data": {
            "text/plain": [
              "'Pan Tadeusz'"
            ]
          },
          "metadata": {},
          "execution_count": 23
        }
      ]
    },
    {
      "cell_type": "markdown",
      "source": [
        "### Zadanie\n",
        "Podana jest implementacja klasy `HouseProject`. Dodaj metodę o nazwie `set_color()`, która pozwoli ustawić atrybut instancji o nazwie `color`."
      ],
      "metadata": {
        "id": "BSElkoJVfCQ9"
      }
    },
    {
      "cell_type": "code",
      "source": [
        "class HouseProject:\n",
        "\n",
        "    number_of_floors = 3\n",
        "    area = 100\n",
        "\n",
        "    def describe_project():\n",
        "        print(f'Area: {HouseProject.area} m2')\n",
        "        print(f'Number of floors: {HouseProject.number_of_floors}')\n",
        "\n",
        "    def set_color(self, color):\n",
        "        self.color = color\n",
        "\n",
        "HouseProject.__dict__"
      ],
      "metadata": {
        "colab": {
          "base_uri": "https://localhost:8080/"
        },
        "id": "1okIizQoey5R",
        "outputId": "84c9f5b8-af1a-4a2c-e429-8d93bf62082a"
      },
      "execution_count": null,
      "outputs": [
        {
          "output_type": "execute_result",
          "data": {
            "text/plain": [
              "mappingproxy({'__module__': '__main__',\n",
              "              'number_of_floors': 3,\n",
              "              'area': 100,\n",
              "              'describe_project': <function __main__.HouseProject.describe_project()>,\n",
              "              'set_color': <function __main__.HouseProject.set_color(self, color)>,\n",
              "              '__dict__': <attribute '__dict__' of 'HouseProject' objects>,\n",
              "              '__weakref__': <attribute '__weakref__' of 'HouseProject' objects>,\n",
              "              '__doc__': None})"
            ]
          },
          "metadata": {},
          "execution_count": 24
        }
      ]
    },
    {
      "cell_type": "markdown",
      "source": [
        "### Przestrzeń nazw klasy i instancji"
      ],
      "metadata": {
        "id": "uDfjjri4foJX"
      }
    },
    {
      "cell_type": "code",
      "source": [
        "class Phone:\n",
        "    pass\n",
        "\n",
        "Phone.__dict__"
      ],
      "metadata": {
        "colab": {
          "base_uri": "https://localhost:8080/"
        },
        "id": "rFIFLXtnfgem",
        "outputId": "5123b181-8ed6-4465-cbf3-28aeb09a9e8f"
      },
      "execution_count": null,
      "outputs": [
        {
          "output_type": "execute_result",
          "data": {
            "text/plain": [
              "mappingproxy({'__module__': '__main__',\n",
              "              '__dict__': <attribute '__dict__' of 'Phone' objects>,\n",
              "              '__weakref__': <attribute '__weakref__' of 'Phone' objects>,\n",
              "              '__doc__': None})"
            ]
          },
          "metadata": {},
          "execution_count": 25
        }
      ]
    },
    {
      "cell_type": "code",
      "source": [
        "class Phone:\n",
        "\n",
        "    brand = 'Apple'\n",
        "\n",
        "Phone.__dict__"
      ],
      "metadata": {
        "colab": {
          "base_uri": "https://localhost:8080/"
        },
        "id": "QqRaTlWggVAD",
        "outputId": "046aaab1-4a69-4d7c-8125-ade99f56a14f"
      },
      "execution_count": null,
      "outputs": [
        {
          "output_type": "execute_result",
          "data": {
            "text/plain": [
              "mappingproxy({'__module__': '__main__',\n",
              "              'brand': 'Apple',\n",
              "              '__dict__': <attribute '__dict__' of 'Phone' objects>,\n",
              "              '__weakref__': <attribute '__weakref__' of 'Phone' objects>,\n",
              "              '__doc__': None})"
            ]
          },
          "metadata": {},
          "execution_count": 26
        }
      ]
    },
    {
      "cell_type": "code",
      "source": [
        "class Phone:\n",
        "\n",
        "    brand = 'Apple'\n",
        "    short_name = brand[:3].upper()\n",
        "\n",
        "Phone.__dict__"
      ],
      "metadata": {
        "colab": {
          "base_uri": "https://localhost:8080/"
        },
        "id": "wjdZyg3WgcEc",
        "outputId": "9f9bf118-99b0-452d-f70d-1895c0940a9c"
      },
      "execution_count": null,
      "outputs": [
        {
          "output_type": "execute_result",
          "data": {
            "text/plain": [
              "mappingproxy({'__module__': '__main__',\n",
              "              'brand': 'Apple',\n",
              "              'short_name': 'APP',\n",
              "              '__dict__': <attribute '__dict__' of 'Phone' objects>,\n",
              "              '__weakref__': <attribute '__weakref__' of 'Phone' objects>,\n",
              "              '__doc__': None})"
            ]
          },
          "metadata": {},
          "execution_count": 27
        }
      ]
    },
    {
      "cell_type": "code",
      "source": [
        "brand"
      ],
      "metadata": {
        "colab": {
          "base_uri": "https://localhost:8080/",
          "height": 141
        },
        "id": "jeIAMslMggfE",
        "outputId": "e461ac13-7256-472f-ed53-31128376e69f"
      },
      "execution_count": null,
      "outputs": [
        {
          "output_type": "error",
          "ename": "NameError",
          "evalue": "name 'brand' is not defined",
          "traceback": [
            "\u001b[1;31m---------------------------------------------------------------------------\u001b[0m",
            "\u001b[1;31mNameError\u001b[0m                                 Traceback (most recent call last)",
            "Cell \u001b[1;32mIn[28], line 1\u001b[0m\n\u001b[1;32m----> 1\u001b[0m brand\n",
            "\u001b[1;31mNameError\u001b[0m: name 'brand' is not defined"
          ]
        }
      ]
    },
    {
      "cell_type": "code",
      "source": [
        "Phone.brand"
      ],
      "metadata": {
        "colab": {
          "base_uri": "https://localhost:8080/"
        },
        "id": "ftTD72agglrx",
        "outputId": "d72d954f-3112-4ff6-fcc9-c1154cedac9c"
      },
      "execution_count": null,
      "outputs": [
        {
          "output_type": "execute_result",
          "data": {
            "text/plain": [
              "'Apple'"
            ]
          },
          "metadata": {},
          "execution_count": 29
        }
      ]
    },
    {
      "cell_type": "code",
      "source": [
        "Phone.short_name"
      ],
      "metadata": {
        "colab": {
          "base_uri": "https://localhost:8080/"
        },
        "id": "HuS9FX3Ogm3c",
        "outputId": "26382455-f402-417c-802f-2fc2b362a06e"
      },
      "execution_count": null,
      "outputs": [
        {
          "output_type": "execute_result",
          "data": {
            "text/plain": [
              "'APP'"
            ]
          },
          "metadata": {},
          "execution_count": 30
        }
      ]
    },
    {
      "cell_type": "code",
      "source": [
        "Phone.price"
      ],
      "metadata": {
        "colab": {
          "base_uri": "https://localhost:8080/",
          "height": 141
        },
        "id": "vIEiAGCsgoL-",
        "outputId": "db1a6253-48d4-44db-d42c-57487db628af"
      },
      "execution_count": null,
      "outputs": [
        {
          "output_type": "error",
          "ename": "AttributeError",
          "evalue": "type object 'Phone' has no attribute 'price'",
          "traceback": [
            "\u001b[1;31m---------------------------------------------------------------------------\u001b[0m",
            "\u001b[1;31mAttributeError\u001b[0m                            Traceback (most recent call last)",
            "Cell \u001b[1;32mIn[31], line 1\u001b[0m\n\u001b[1;32m----> 1\u001b[0m Phone\u001b[38;5;241m.\u001b[39mprice\n",
            "\u001b[1;31mAttributeError\u001b[0m: type object 'Phone' has no attribute 'price'"
          ]
        }
      ]
    },
    {
      "cell_type": "code",
      "source": [
        "phone1 = Phone()\n",
        "phone1.brand, phone1.short_name"
      ],
      "metadata": {
        "colab": {
          "base_uri": "https://localhost:8080/"
        },
        "id": "xhNJetOQgt7l",
        "outputId": "47290aa7-7ee8-4dd9-a40b-03f7229f4d04"
      },
      "execution_count": null,
      "outputs": [
        {
          "output_type": "execute_result",
          "data": {
            "text/plain": [
              "('Apple', 'APP')"
            ]
          },
          "metadata": {},
          "execution_count": 33
        }
      ]
    },
    {
      "cell_type": "code",
      "source": [
        "Phone.brand"
      ],
      "metadata": {
        "colab": {
          "base_uri": "https://localhost:8080/"
        },
        "id": "tGgpMej0hFoV",
        "outputId": "708496f5-989f-43fd-9697-bbae2338444b"
      },
      "execution_count": null,
      "outputs": [
        {
          "output_type": "execute_result",
          "data": {
            "text/plain": [
              "'Apple'"
            ]
          },
          "metadata": {},
          "execution_count": 34
        }
      ]
    },
    {
      "cell_type": "code",
      "source": [
        "Phone.brand = 'Samsung'"
      ],
      "metadata": {
        "id": "gW0FMiKwhaib"
      },
      "execution_count": null,
      "outputs": []
    },
    {
      "cell_type": "code",
      "source": [
        "phone1.brand"
      ],
      "metadata": {
        "colab": {
          "base_uri": "https://localhost:8080/"
        },
        "id": "GA1SdUivhc7n",
        "outputId": "d770afde-c3f7-4d6c-f75b-936a424a3a1d"
      },
      "execution_count": null,
      "outputs": [
        {
          "output_type": "execute_result",
          "data": {
            "text/plain": [
              "'Samsung'"
            ]
          },
          "metadata": {},
          "execution_count": 38
        }
      ]
    },
    {
      "cell_type": "code",
      "source": [
        "phone1.__dict__"
      ],
      "metadata": {
        "colab": {
          "base_uri": "https://localhost:8080/"
        },
        "id": "t6O9pk2jhd0f",
        "outputId": "1f7e7e8d-deae-411e-88ec-39ef8aa62075"
      },
      "execution_count": null,
      "outputs": [
        {
          "output_type": "execute_result",
          "data": {
            "text/plain": [
              "{}"
            ]
          },
          "metadata": {},
          "execution_count": 39
        }
      ]
    },
    {
      "cell_type": "code",
      "source": [
        "class Phone:\n",
        "\n",
        "    brand = 'Apple'\n",
        "    short_name = brand[:3].upper()\n",
        "\n",
        "phone1 = Phone()\n",
        "phone1.__dict__"
      ],
      "metadata": {
        "colab": {
          "base_uri": "https://localhost:8080/"
        },
        "id": "sqqD00sXhkH9",
        "outputId": "0efabd15-4713-447a-c1b7-1064f049f244"
      },
      "execution_count": null,
      "outputs": [
        {
          "output_type": "execute_result",
          "data": {
            "text/plain": [
              "{}"
            ]
          },
          "metadata": {},
          "execution_count": 41
        }
      ]
    },
    {
      "cell_type": "code",
      "source": [
        "class Phone:\n",
        "\n",
        "    brand = 'Apple'\n",
        "    short_name = brand[:3].upper()\n",
        "\n",
        "\n",
        "    def print_brand():\n",
        "        print('Phone class.')\n",
        "        print(f'Brand: {Phone.brand}')"
      ],
      "metadata": {
        "id": "TY8QvUS6hp3p"
      },
      "execution_count": null,
      "outputs": []
    },
    {
      "cell_type": "code",
      "source": [
        "Phone.print_brand()"
      ],
      "metadata": {
        "colab": {
          "base_uri": "https://localhost:8080/"
        },
        "id": "0g2_POyrh7x_",
        "outputId": "18c04078-f9ac-4a02-84c1-be5ac4ca8fca"
      },
      "execution_count": null,
      "outputs": [
        {
          "output_type": "stream",
          "name": "stdout",
          "text": [
            "Phone class.\n",
            "Brand: Apple\n"
          ]
        }
      ]
    },
    {
      "cell_type": "code",
      "source": [
        "class Phone:\n",
        "\n",
        "    brand = 'Apple'\n",
        "    short_name = brand[:3].upper()\n",
        "\n",
        "\n",
        "    def print_brand(self):\n",
        "        print(f'{Phone.__name__} class.')\n",
        "        print(f'Brand: {Phone.brand}')"
      ],
      "metadata": {
        "id": "bf3KHjrUh84C"
      },
      "execution_count": null,
      "outputs": []
    },
    {
      "cell_type": "code",
      "source": [
        "Phone.print_brand()"
      ],
      "metadata": {
        "colab": {
          "base_uri": "https://localhost:8080/"
        },
        "id": "Bxp1XKZbiFss",
        "outputId": "15dbdb6f-b3b2-4fd8-cc58-5781b2e39cb1"
      },
      "execution_count": null,
      "outputs": [
        {
          "output_type": "stream",
          "name": "stdout",
          "text": [
            "Phone class.\n",
            "Brand: Apple\n"
          ]
        }
      ]
    },
    {
      "cell_type": "code",
      "source": [
        "phone1 = Phone()"
      ],
      "metadata": {
        "id": "LZlPwFr1iU20"
      },
      "execution_count": null,
      "outputs": []
    },
    {
      "cell_type": "code",
      "source": [
        "phone1.print_brand()"
      ],
      "metadata": {
        "colab": {
          "base_uri": "https://localhost:8080/"
        },
        "id": "wtSgw6WIiYdd",
        "outputId": "23380f2b-87f0-4613-ea51-f48ae942ffa9"
      },
      "execution_count": null,
      "outputs": [
        {
          "output_type": "stream",
          "name": "stdout",
          "text": [
            "Phone class.\n",
            "Brand: Apple\n"
          ]
        }
      ]
    },
    {
      "cell_type": "markdown",
      "source": [
        "### Dostęp do atrybutu instancji z poziomu funkcji/metody"
      ],
      "metadata": {
        "id": "Nn1itEm5iuVH"
      }
    },
    {
      "cell_type": "code",
      "source": [
        "class Phone:\n",
        "\n",
        "    def __init__(self, brand):\n",
        "        self.brand = brand\n",
        "\n",
        "\n",
        "    def print_brand(self):\n",
        "        print(f'{self.__class__.__name__} class.')\n",
        "        print(f'Brand: {self.brand}')"
      ],
      "metadata": {
        "id": "DRrtrswsijY2"
      },
      "execution_count": null,
      "outputs": []
    },
    {
      "cell_type": "code",
      "source": [
        "phone1 = Phone('Apple')\n",
        "phone1.__dict__\n",
        "phone1.print_brand()"
      ],
      "metadata": {
        "colab": {
          "base_uri": "https://localhost:8080/"
        },
        "id": "NKjbNbFQi2EX",
        "outputId": "316dc106-cb3f-4773-cc7f-bbfde6a3fc63"
      },
      "execution_count": null,
      "outputs": [
        {
          "output_type": "stream",
          "name": "stdout",
          "text": [
            "Phone class.\n",
            "Brand: Apple\n"
          ]
        }
      ]
    },
    {
      "cell_type": "code",
      "source": [
        "Phone.__dict__"
      ],
      "metadata": {
        "colab": {
          "base_uri": "https://localhost:8080/"
        },
        "id": "TcmCkBMbi4Hl",
        "outputId": "d782065b-e8a7-4b11-931f-551a3d6a98ba"
      },
      "execution_count": null,
      "outputs": [
        {
          "output_type": "execute_result",
          "data": {
            "text/plain": [
              "mappingproxy({'__module__': '__main__',\n",
              "              '__init__': <function __main__.Phone.__init__(self, brand)>,\n",
              "              'print_brand': <function __main__.Phone.print_brand(self)>,\n",
              "              '__dict__': <attribute '__dict__' of 'Phone' objects>,\n",
              "              '__weakref__': <attribute '__weakref__' of 'Phone' objects>,\n",
              "              '__doc__': None})"
            ]
          },
          "metadata": {},
          "execution_count": 77
        }
      ]
    },
    {
      "cell_type": "code",
      "source": [
        "Phone.brand"
      ],
      "metadata": {
        "colab": {
          "base_uri": "https://localhost:8080/",
          "height": 141
        },
        "id": "cLwUw0RjjNNY",
        "outputId": "005bf964-21ba-4d7a-c022-3f674f72c3f1"
      },
      "execution_count": null,
      "outputs": [
        {
          "output_type": "error",
          "ename": "AttributeError",
          "evalue": "type object 'Phone' has no attribute 'brand'",
          "traceback": [
            "\u001b[1;31m---------------------------------------------------------------------------\u001b[0m",
            "\u001b[1;31mAttributeError\u001b[0m                            Traceback (most recent call last)",
            "Cell \u001b[1;32mIn[84], line 1\u001b[0m\n\u001b[1;32m----> 1\u001b[0m Phone\u001b[38;5;241m.\u001b[39mbrand\n",
            "\u001b[1;31mAttributeError\u001b[0m: type object 'Phone' has no attribute 'brand'"
          ]
        }
      ]
    },
    {
      "cell_type": "markdown",
      "source": [
        "### Przestrzeń nazw klasy i instancji - dostęp do atrybutu klasy i instancji\n"
      ],
      "metadata": {
        "id": "3dqRy39PllVW"
      }
    },
    {
      "cell_type": "code",
      "source": [
        "class Phone:\n",
        "\n",
        "    brand = 'Apple'\n",
        "\n",
        "    def __init__(self, brand):\n",
        "        self.brand = brand\n",
        "\n",
        "Phone.__dict__"
      ],
      "metadata": {
        "colab": {
          "base_uri": "https://localhost:8080/"
        },
        "id": "TfZvKEKgjQWw",
        "outputId": "5e07313b-fc51-4f6e-9aba-e793b4dc8357"
      },
      "execution_count": null,
      "outputs": [
        {
          "output_type": "execute_result",
          "data": {
            "text/plain": [
              "mappingproxy({'__module__': '__main__',\n",
              "              'brand': 'Apple',\n",
              "              '__init__': <function __main__.Phone.__init__(self, brand)>,\n",
              "              '__dict__': <attribute '__dict__' of 'Phone' objects>,\n",
              "              '__weakref__': <attribute '__weakref__' of 'Phone' objects>,\n",
              "              '__doc__': None})"
            ]
          },
          "metadata": {},
          "execution_count": 85
        }
      ]
    },
    {
      "cell_type": "code",
      "source": [
        "phone1 = Phone('Samsung')\n",
        "phone1.brand"
      ],
      "metadata": {
        "colab": {
          "base_uri": "https://localhost:8080/"
        },
        "id": "Rwep8nptlwo5",
        "outputId": "4d6301ab-a389-44b4-e96d-8b419b7ae221"
      },
      "execution_count": null,
      "outputs": [
        {
          "output_type": "execute_result",
          "data": {
            "text/plain": [
              "'Samsung'"
            ]
          },
          "metadata": {},
          "execution_count": 86
        }
      ]
    },
    {
      "cell_type": "code",
      "source": [
        "class Phone:\n",
        "\n",
        "    brand = 'Apple'\n",
        "\n",
        "    def __init__(self, brand):\n",
        "        self.brand = brand\n",
        "\n",
        "    def print_brand(self):\n",
        "        print(f'Wartość atrybutu klasy: {Phone.brand}')\n",
        "        print(f'Wartość atrybutu instancji: {self.brand}')\n",
        "\n",
        "Phone.__dict__"
      ],
      "metadata": {
        "colab": {
          "base_uri": "https://localhost:8080/"
        },
        "id": "fPGn4uX6lw9d",
        "outputId": "f1947654-8506-48b1-c03f-ae6279ee5654"
      },
      "execution_count": null,
      "outputs": [
        {
          "output_type": "execute_result",
          "data": {
            "text/plain": [
              "mappingproxy({'__module__': '__main__',\n",
              "              'brand': 'Apple',\n",
              "              '__init__': <function __main__.Phone.__init__(self, brand)>,\n",
              "              'print_brand': <function __main__.Phone.print_brand(self)>,\n",
              "              '__dict__': <attribute '__dict__' of 'Phone' objects>,\n",
              "              '__weakref__': <attribute '__weakref__' of 'Phone' objects>,\n",
              "              '__doc__': None})"
            ]
          },
          "metadata": {},
          "execution_count": 87
        }
      ]
    },
    {
      "cell_type": "code",
      "source": [
        "phone1 = Phone('Samsung')\n",
        "phone1.print_brand()"
      ],
      "metadata": {
        "colab": {
          "base_uri": "https://localhost:8080/"
        },
        "id": "m_tvd-LllyiR",
        "outputId": "f927e5d4-353a-4e47-925b-21dcb4bb420b"
      },
      "execution_count": null,
      "outputs": [
        {
          "output_type": "stream",
          "name": "stdout",
          "text": [
            "Wartość atrybutu klasy: Apple\n",
            "Wartość atrybutu instancji: Samsung\n"
          ]
        }
      ]
    },
    {
      "cell_type": "code",
      "source": [
        "Phone.__dict__"
      ],
      "metadata": {
        "colab": {
          "base_uri": "https://localhost:8080/"
        },
        "id": "J4YO7U3wl0DG",
        "outputId": "d4788c6e-abe0-4e46-9b4c-2beb42edff9b"
      },
      "execution_count": null,
      "outputs": [
        {
          "output_type": "execute_result",
          "data": {
            "text/plain": [
              "mappingproxy({'__module__': '__main__',\n",
              "              'brand': 'Apple',\n",
              "              '__init__': <function __main__.Phone.__init__(self, brand)>,\n",
              "              'print_brand': <function __main__.Phone.print_brand(self)>,\n",
              "              '__dict__': <attribute '__dict__' of 'Phone' objects>,\n",
              "              '__weakref__': <attribute '__weakref__' of 'Phone' objects>,\n",
              "              '__doc__': None})"
            ]
          },
          "metadata": {},
          "execution_count": 89
        }
      ]
    },
    {
      "cell_type": "code",
      "source": [
        "phone1.__dict__"
      ],
      "metadata": {
        "colab": {
          "base_uri": "https://localhost:8080/"
        },
        "id": "dWIqo34Ul1I0",
        "outputId": "579ec183-9f49-442f-d9b3-bf96054f967d"
      },
      "execution_count": null,
      "outputs": [
        {
          "output_type": "execute_result",
          "data": {
            "text/plain": [
              "{'brand': 'Samsung'}"
            ]
          },
          "metadata": {},
          "execution_count": 90
        }
      ]
    },
    {
      "cell_type": "markdown",
      "source": [
        "### Przykład"
      ],
      "metadata": {
        "id": "EuMNNQ4vl4zB"
      }
    },
    {
      "cell_type": "code",
      "source": [
        "brand = 'HP'\n",
        "\n",
        "class Phone:\n",
        "\n",
        "    brand = 'Apple'\n",
        "    result1 = [brand] * 5\n",
        "    result2 = [brand for i in range(5)]\n",
        "\n",
        "Phone.__dict__"
      ],
      "metadata": {
        "colab": {
          "base_uri": "https://localhost:8080/"
        },
        "id": "kh-i4Gqul2ne",
        "outputId": "a72dad09-9e06-4c6d-b8f2-e63a89e55d71"
      },
      "execution_count": null,
      "outputs": [
        {
          "output_type": "execute_result",
          "data": {
            "text/plain": [
              "mappingproxy({'__module__': '__main__',\n",
              "              'brand': 'Apple',\n",
              "              'result1': ['Apple', 'Apple', 'Apple', 'Apple', 'Apple'],\n",
              "              'result2': ['HP', 'HP', 'HP', 'HP', 'HP'],\n",
              "              '__dict__': <attribute '__dict__' of 'Phone' objects>,\n",
              "              '__weakref__': <attribute '__weakref__' of 'Phone' objects>,\n",
              "              '__doc__': None})"
            ]
          },
          "metadata": {},
          "execution_count": 91
        }
      ]
    },
    {
      "cell_type": "code",
      "source": [
        "brand = 'HP'\n",
        "\n",
        "class Phone:\n",
        "\n",
        "    brand = 'Apple'\n",
        "    result1 = [brand] * 5\n",
        "    result2 = [Phone.brand for i in range(5)]\n",
        "\n",
        "Phone.__dict__"
      ],
      "metadata": {
        "id": "tayGbTyfl6pZ",
        "outputId": "4eff3e44-fffc-4ffd-8670-4e8a30f60e4c",
        "colab": {
          "base_uri": "https://localhost:8080/"
        }
      },
      "execution_count": null,
      "outputs": [
        {
          "output_type": "execute_result",
          "data": {
            "text/plain": [
              "mappingproxy({'__module__': '__main__',\n",
              "              'brand': 'Apple',\n",
              "              'result1': ['Apple', 'Apple', 'Apple', 'Apple', 'Apple'],\n",
              "              'result2': ['Apple', 'Apple', 'Apple', 'Apple', 'Apple'],\n",
              "              '__dict__': <attribute '__dict__' of 'Phone' objects>,\n",
              "              '__weakref__': <attribute '__weakref__' of 'Phone' objects>,\n",
              "              '__doc__': None})"
            ]
          },
          "metadata": {},
          "execution_count": 92
        }
      ]
    },
    {
      "cell_type": "code",
      "source": [],
      "metadata": {
        "id": "-5FEBHKFl72O"
      },
      "execution_count": null,
      "outputs": []
    }
  ]
}