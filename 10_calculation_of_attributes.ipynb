{
  "nbformat": 4,
  "nbformat_minor": 0,
  "metadata": {
    "colab": {
      "provenance": [],
      "authorship_tag": "ABX9TyMiAwb0Hn7qez7pq3ujXvUz",
      "include_colab_link": true
    },
    "kernelspec": {
      "name": "python3",
      "display_name": "Python 3"
    },
    "language_info": {
      "name": "python"
    }
  },
  "cells": [
    {
      "cell_type": "markdown",
      "metadata": {
        "id": "view-in-github",
        "colab_type": "text"
      },
      "source": [
        "<a href=\"https://colab.research.google.com/github/Tranitzu/PythonOOP/blob/main/10_calculation_of_attributes.ipynb\" target=\"_parent\"><img src=\"https://colab.research.google.com/assets/colab-badge.svg\" alt=\"Open In Colab\"/></a>"
      ]
    },
    {
      "cell_type": "markdown",
      "source": [
        "###Obliczanie atrybutów"
      ],
      "metadata": {
        "id": "cLC1JtOlPEKj"
      }
    },
    {
      "cell_type": "code",
      "execution_count": 2,
      "metadata": {
        "id": "a_TuqE1iOBMj"
      },
      "outputs": [],
      "source": [
        "class Model:\n",
        "\n",
        "    def __init__(self, y_true, y_pred):\n",
        "        self.y_true = y_true\n",
        "        self.y_pred = y_pred\n",
        "\n",
        "    def accuracy_score(self):\n",
        "        print('Calculating...')\n",
        "        self.accuracy = sum([i == j\n",
        "            for i, j in zip(self.y_true, self.y_pred)]) / len(self.y_true)\n",
        "        print(f'Model accuracy: {self.accuracy:.4f}')\n",
        "\n",
        "model = Model([0, 0, 1, 0, 0, 1, 0], [0, 0, 1, 0, 0, 0, 0])"
      ]
    },
    {
      "cell_type": "code",
      "source": [
        "model.__dict__"
      ],
      "metadata": {
        "colab": {
          "base_uri": "https://localhost:8080/"
        },
        "id": "WDDO0nUbT2Un",
        "outputId": "34051f32-349a-49fd-d6cf-c5d9e8d7bbc0"
      },
      "execution_count": 3,
      "outputs": [
        {
          "output_type": "execute_result",
          "data": {
            "text/plain": [
              "{'y_true': [0, 0, 1, 0, 0, 1, 0], 'y_pred': [0, 0, 1, 0, 0, 0, 0]}"
            ]
          },
          "metadata": {},
          "execution_count": 3
        }
      ]
    },
    {
      "cell_type": "code",
      "source": [
        "model.accuracy_score()"
      ],
      "metadata": {
        "colab": {
          "base_uri": "https://localhost:8080/"
        },
        "id": "uj6tNUHhUBqD",
        "outputId": "5509e4b8-713c-4340-b838-5346cf910a22"
      },
      "execution_count": 4,
      "outputs": [
        {
          "output_type": "stream",
          "name": "stdout",
          "text": [
            "Calculating...\n",
            "Model accuracy: 0.8571\n"
          ]
        }
      ]
    },
    {
      "cell_type": "code",
      "source": [
        "model.__dict__"
      ],
      "metadata": {
        "colab": {
          "base_uri": "https://localhost:8080/"
        },
        "id": "uobi-7q3UD3h",
        "outputId": "5582c83e-2705-43e1-c8ac-338949b0974f"
      },
      "execution_count": 5,
      "outputs": [
        {
          "output_type": "execute_result",
          "data": {
            "text/plain": [
              "{'y_true': [0, 0, 1, 0, 0, 1, 0],\n",
              " 'y_pred': [0, 0, 1, 0, 0, 0, 0],\n",
              " 'accuracy': 0.8571428571428571}"
            ]
          },
          "metadata": {},
          "execution_count": 5
        }
      ]
    },
    {
      "cell_type": "code",
      "source": [
        "model.accuracy_score()"
      ],
      "metadata": {
        "colab": {
          "base_uri": "https://localhost:8080/"
        },
        "id": "YpDer6qhUGGk",
        "outputId": "e1396efc-a26f-4bf6-e6a2-4324e4e51ed7"
      },
      "execution_count": 6,
      "outputs": [
        {
          "output_type": "stream",
          "name": "stdout",
          "text": [
            "Calculating...\n",
            "Model accuracy: 0.8571\n"
          ]
        }
      ]
    },
    {
      "cell_type": "code",
      "source": [
        "model.accuracy"
      ],
      "metadata": {
        "colab": {
          "base_uri": "https://localhost:8080/"
        },
        "id": "C3Q0TzvcUKSB",
        "outputId": "5a3e5c38-6d81-4884-b47d-a92c7fee19e0"
      },
      "execution_count": 7,
      "outputs": [
        {
          "output_type": "execute_result",
          "data": {
            "text/plain": [
              "0.8571428571428571"
            ]
          },
          "metadata": {},
          "execution_count": 7
        }
      ]
    },
    {
      "cell_type": "code",
      "source": [
        "model.accuracy = 0.1"
      ],
      "metadata": {
        "id": "HUbTANQ5UQH4"
      },
      "execution_count": 8,
      "outputs": []
    },
    {
      "cell_type": "code",
      "source": [
        "model.accuracy"
      ],
      "metadata": {
        "colab": {
          "base_uri": "https://localhost:8080/"
        },
        "id": "oGJuAaTiUSCo",
        "outputId": "d09df470-d534-4d5f-b824-cae626a5f78b"
      },
      "execution_count": 9,
      "outputs": [
        {
          "output_type": "execute_result",
          "data": {
            "text/plain": [
              "0.1"
            ]
          },
          "metadata": {},
          "execution_count": 9
        }
      ]
    },
    {
      "cell_type": "code",
      "source": [
        "model.accuracy = 'java'"
      ],
      "metadata": {
        "id": "gVxsA250UTAC"
      },
      "execution_count": 10,
      "outputs": []
    },
    {
      "cell_type": "code",
      "source": [
        "model.accuracy"
      ],
      "metadata": {
        "colab": {
          "base_uri": "https://localhost:8080/"
        },
        "id": "mU-yT6GjUVue",
        "outputId": "8bdb6744-484c-4a20-c13f-ab3b25e7c76a"
      },
      "execution_count": 11,
      "outputs": [
        {
          "output_type": "execute_result",
          "data": {
            "text/plain": [
              "'java'"
            ]
          },
          "metadata": {},
          "execution_count": 11
        }
      ]
    },
    {
      "cell_type": "code",
      "source": [
        "class Model:\n",
        "\n",
        "    def __init__(self, y_true, y_pred):\n",
        "        self.y_true = y_true\n",
        "        self.y_pred = y_pred\n",
        "\n",
        "    @property\n",
        "    def accuracy(self):\n",
        "        print('Calculating...')\n",
        "        self._accuracy = sum([i == j\n",
        "            for i, j in zip(self.y_true, self.y_pred)]) / len(self.y_true)\n",
        "        print(f'Model accuracy: {self._accuracy:.4f}')\n",
        "\n",
        "model = Model([0, 0, 1, 0, 0, 1, 0], [0, 0, 1, 0, 0, 0, 0])"
      ],
      "metadata": {
        "id": "cikPc_NZUW1i"
      },
      "execution_count": 12,
      "outputs": []
    },
    {
      "cell_type": "code",
      "source": [
        "model.accuracy"
      ],
      "metadata": {
        "colab": {
          "base_uri": "https://localhost:8080/"
        },
        "id": "Vm5xyq59UnYj",
        "outputId": "79b44566-eb80-4780-e8fd-15dbb90b2805"
      },
      "execution_count": 13,
      "outputs": [
        {
          "output_type": "stream",
          "name": "stdout",
          "text": [
            "Calculating...\n",
            "Model accuracy: 0.8571\n"
          ]
        }
      ]
    },
    {
      "cell_type": "code",
      "source": [
        "model.accuracy = 'ss'"
      ],
      "metadata": {
        "colab": {
          "base_uri": "https://localhost:8080/",
          "height": 141
        },
        "id": "eLfbpu3dUomR",
        "outputId": "d1fb0d8a-bc3e-4887-84fd-df5f8e61f702"
      },
      "execution_count": 14,
      "outputs": [
        {
          "output_type": "error",
          "ename": "AttributeError",
          "evalue": "property 'accuracy' of 'Model' object has no setter",
          "traceback": [
            "\u001b[1;31m---------------------------------------------------------------------------\u001b[0m",
            "\u001b[1;31mAttributeError\u001b[0m                            Traceback (most recent call last)",
            "Cell \u001b[1;32mIn[14], line 1\u001b[0m\n\u001b[1;32m----> 1\u001b[0m model\u001b[38;5;241m.\u001b[39maccuracy \u001b[38;5;241m=\u001b[39m \u001b[38;5;124m'\u001b[39m\u001b[38;5;124mss\u001b[39m\u001b[38;5;124m'\u001b[39m\n",
            "\u001b[1;31mAttributeError\u001b[0m: property 'accuracy' of 'Model' object has no setter"
          ]
        }
      ]
    },
    {
      "cell_type": "code",
      "source": [
        "model.__dict__"
      ],
      "metadata": {
        "colab": {
          "base_uri": "https://localhost:8080/"
        },
        "id": "k7yLdDnaUrqc",
        "outputId": "daee0d23-6eeb-4f1b-cc5f-c232b0781d01"
      },
      "execution_count": 15,
      "outputs": [
        {
          "output_type": "execute_result",
          "data": {
            "text/plain": [
              "{'y_true': [0, 0, 1, 0, 0, 1, 0],\n",
              " 'y_pred': [0, 0, 1, 0, 0, 0, 0],\n",
              " '_accuracy': 0.8571428571428571}"
            ]
          },
          "metadata": {},
          "execution_count": 15
        }
      ]
    },
    {
      "cell_type": "code",
      "source": [
        "model.accuracy"
      ],
      "metadata": {
        "colab": {
          "base_uri": "https://localhost:8080/"
        },
        "id": "tApjlsCDUvXM",
        "outputId": "717a36cb-822b-4764-cf78-100194e571c5"
      },
      "execution_count": 16,
      "outputs": [
        {
          "output_type": "stream",
          "name": "stdout",
          "text": [
            "Calculating...\n",
            "Model accuracy: 0.8571\n"
          ]
        }
      ]
    },
    {
      "cell_type": "markdown",
      "source": [
        "###Przykład"
      ],
      "metadata": {
        "id": "W6JTxOEBU8Mi"
      }
    },
    {
      "cell_type": "code",
      "source": [
        "class Model:\n",
        "\n",
        "    def __init__(self, y_true, y_pred):\n",
        "        self.y_true = y_true\n",
        "        self.y_pred = y_pred\n",
        "        self._accuracy = None\n",
        "\n",
        "    @property\n",
        "    def accuracy(self):\n",
        "        if not self._accuracy:\n",
        "            print('Calculating...')\n",
        "            self._accuracy = sum([i == j\n",
        "                for i, j in zip(self.y_true, self.y_pred)]) / len(self.y_true)\n",
        "        print(f'Model accuracy: {self._accuracy:.4f}')\n",
        "\n",
        "model = Model([0, 0, 1, 0, 0, 1, 0], [0, 0, 1, 0, 0, 0, 0])"
      ],
      "metadata": {
        "id": "y16sTd30Uw0g"
      },
      "execution_count": 21,
      "outputs": []
    },
    {
      "cell_type": "code",
      "source": [
        "model.__dict__"
      ],
      "metadata": {
        "colab": {
          "base_uri": "https://localhost:8080/"
        },
        "id": "0giY6_VEVNQE",
        "outputId": "0f777aa2-a2a3-4540-9bbc-64d8bdcd17fb"
      },
      "execution_count": 22,
      "outputs": [
        {
          "output_type": "execute_result",
          "data": {
            "text/plain": [
              "{'y_true': [0, 0, 1, 0, 0, 1, 0],\n",
              " 'y_pred': [0, 0, 1, 0, 0, 0, 0],\n",
              " '_accuracy': None}"
            ]
          },
          "metadata": {},
          "execution_count": 22
        }
      ]
    },
    {
      "cell_type": "code",
      "source": [
        "model.accuracy"
      ],
      "metadata": {
        "colab": {
          "base_uri": "https://localhost:8080/"
        },
        "id": "yfsh3axWVPmJ",
        "outputId": "5f79f930-2cea-453b-deb1-45a6d382a888"
      },
      "execution_count": 23,
      "outputs": [
        {
          "output_type": "stream",
          "name": "stdout",
          "text": [
            "Calculating...\n",
            "Model accuracy: 0.8571\n"
          ]
        }
      ]
    },
    {
      "cell_type": "code",
      "source": [
        "model.__dict__"
      ],
      "metadata": {
        "colab": {
          "base_uri": "https://localhost:8080/"
        },
        "id": "kcTFm9cHVTaz",
        "outputId": "43fee94b-dbb0-4215-951b-70b46a0ee84e"
      },
      "execution_count": 24,
      "outputs": [
        {
          "output_type": "execute_result",
          "data": {
            "text/plain": [
              "{'y_true': [0, 0, 1, 0, 0, 1, 0],\n",
              " 'y_pred': [0, 0, 1, 0, 0, 0, 0],\n",
              " '_accuracy': 0.8571428571428571}"
            ]
          },
          "metadata": {},
          "execution_count": 24
        }
      ]
    },
    {
      "cell_type": "code",
      "source": [
        "model.accuracy"
      ],
      "metadata": {
        "colab": {
          "base_uri": "https://localhost:8080/"
        },
        "id": "6teYpSN3VVIx",
        "outputId": "fb1cadb5-de2a-4e2b-9f05-652ff4593c91"
      },
      "execution_count": 25,
      "outputs": [
        {
          "output_type": "stream",
          "name": "stdout",
          "text": [
            "Model accuracy: 0.8571\n"
          ]
        }
      ]
    },
    {
      "cell_type": "code",
      "source": [
        "model.accuracy = 0.6"
      ],
      "metadata": {
        "colab": {
          "base_uri": "https://localhost:8080/",
          "height": 141
        },
        "id": "K0J5jaYsVXNE",
        "outputId": "85913168-aaa3-4a63-d535-1095db0162b0"
      },
      "execution_count": 26,
      "outputs": [
        {
          "output_type": "error",
          "ename": "AttributeError",
          "evalue": "property 'accuracy' of 'Model' object has no setter",
          "traceback": [
            "\u001b[1;31m---------------------------------------------------------------------------\u001b[0m",
            "\u001b[1;31mAttributeError\u001b[0m                            Traceback (most recent call last)",
            "Cell \u001b[1;32mIn[26], line 1\u001b[0m\n\u001b[1;32m----> 1\u001b[0m model\u001b[38;5;241m.\u001b[39maccuracy \u001b[38;5;241m=\u001b[39m \u001b[38;5;241m0.6\u001b[39m\n",
            "\u001b[1;31mAttributeError\u001b[0m: property 'accuracy' of 'Model' object has no setter"
          ]
        }
      ]
    },
    {
      "cell_type": "code",
      "source": [
        "del model.accuracy"
      ],
      "metadata": {
        "colab": {
          "base_uri": "https://localhost:8080/",
          "height": 141
        },
        "id": "F2mbYaflVc9c",
        "outputId": "3500596a-458b-458b-cc38-19bb65da461b"
      },
      "execution_count": 27,
      "outputs": [
        {
          "output_type": "error",
          "ename": "AttributeError",
          "evalue": "property 'accuracy' of 'Model' object has no deleter",
          "traceback": [
            "\u001b[1;31m---------------------------------------------------------------------------\u001b[0m",
            "\u001b[1;31mAttributeError\u001b[0m                            Traceback (most recent call last)",
            "Cell \u001b[1;32mIn[27], line 1\u001b[0m\n\u001b[1;32m----> 1\u001b[0m \u001b[38;5;28;01mdel\u001b[39;00m model\u001b[38;5;241m.\u001b[39maccuracy\n",
            "\u001b[1;31mAttributeError\u001b[0m: property 'accuracy' of 'Model' object has no deleter"
          ]
        }
      ]
    },
    {
      "cell_type": "code",
      "source": [
        "model.y_true"
      ],
      "metadata": {
        "colab": {
          "base_uri": "https://localhost:8080/"
        },
        "id": "pH74Z0c_VeLk",
        "outputId": "b42a5e2f-0027-4082-be4b-63815af0f577"
      },
      "execution_count": 28,
      "outputs": [
        {
          "output_type": "execute_result",
          "data": {
            "text/plain": [
              "[0, 0, 1, 0, 0, 1, 0]"
            ]
          },
          "metadata": {},
          "execution_count": 28
        }
      ]
    },
    {
      "cell_type": "code",
      "source": [
        "model.y_true = [0, 0, 1, 0, 0, 1, 1]"
      ],
      "metadata": {
        "id": "7AnWIBoLVhQu"
      },
      "execution_count": 29,
      "outputs": []
    },
    {
      "cell_type": "code",
      "source": [
        "model.accuracy"
      ],
      "metadata": {
        "colab": {
          "base_uri": "https://localhost:8080/"
        },
        "id": "XNhGu77LVmtM",
        "outputId": "8d3791c5-e6a3-4bf7-c049-2ad3e3286a25"
      },
      "execution_count": 30,
      "outputs": [
        {
          "output_type": "stream",
          "name": "stdout",
          "text": [
            "Model accuracy: 0.8571\n"
          ]
        }
      ]
    },
    {
      "cell_type": "markdown",
      "source": [
        "###Przykład C.D."
      ],
      "metadata": {
        "id": "5E-EMBNHVvqU"
      }
    },
    {
      "cell_type": "code",
      "source": [
        "class Model:\n",
        "\n",
        "    def __init__(self, y_true, y_pred):\n",
        "        self._y_true = y_true\n",
        "        self._y_pred = y_pred\n",
        "        self._accuracy = None\n",
        "\n",
        "    @property\n",
        "    def y_true(self):\n",
        "        return self._y_true\n",
        "\n",
        "    @y_true.setter\n",
        "    def y_true(self, value):\n",
        "        self._y_true = value\n",
        "        self._accuracy = None\n",
        "\n",
        "    @property\n",
        "    def y_pred(self):\n",
        "        return self._y_pred\n",
        "\n",
        "    @y_pred.setter\n",
        "    def y_pred(self, value):\n",
        "        self._y_pred = value\n",
        "        self._accuracy = None\n",
        "\n",
        "    @property\n",
        "    def accuracy(self):\n",
        "        if not self._accuracy:\n",
        "            print('Calculating...')\n",
        "            self._accuracy = sum([i == j\n",
        "                for i, j in zip(self.y_true, self.y_pred)]) / len(self.y_true)\n",
        "        print(f'Model accuracy: {self._accuracy:.4f}')\n",
        "\n",
        "model = Model([0, 0, 1, 0, 0, 1, 0], [0, 0, 1, 0, 0, 0, 0])"
      ],
      "metadata": {
        "id": "UREqnWHXVo5Z"
      },
      "execution_count": 37,
      "outputs": []
    },
    {
      "cell_type": "code",
      "source": [
        "model.accuracy"
      ],
      "metadata": {
        "colab": {
          "base_uri": "https://localhost:8080/"
        },
        "id": "S3DUpmeTWCiU",
        "outputId": "6aaf9599-aaaf-4b9d-c01a-00832ef9b31c"
      },
      "execution_count": 38,
      "outputs": [
        {
          "output_type": "stream",
          "name": "stdout",
          "text": [
            "Calculating...\n",
            "Model accuracy: 0.8571\n"
          ]
        }
      ]
    },
    {
      "cell_type": "code",
      "source": [
        "model.y_true"
      ],
      "metadata": {
        "colab": {
          "base_uri": "https://localhost:8080/"
        },
        "id": "_-Tt8igpWYaX",
        "outputId": "2f433a44-cd7d-48ca-cedc-b3548e13a92f"
      },
      "execution_count": 39,
      "outputs": [
        {
          "output_type": "execute_result",
          "data": {
            "text/plain": [
              "[0, 0, 1, 0, 0, 1, 0]"
            ]
          },
          "metadata": {},
          "execution_count": 39
        }
      ]
    },
    {
      "cell_type": "code",
      "source": [
        "model.y_true = [0, 0, 1, 0, 0, 1, 1]"
      ],
      "metadata": {
        "id": "7i-Wc01yWc8j"
      },
      "execution_count": 40,
      "outputs": []
    },
    {
      "cell_type": "code",
      "source": [
        "model.__dict__"
      ],
      "metadata": {
        "colab": {
          "base_uri": "https://localhost:8080/"
        },
        "id": "0AnKJpLMWgjo",
        "outputId": "a63a59d6-5c04-4724-e52a-a2094b53a762"
      },
      "execution_count": 41,
      "outputs": [
        {
          "output_type": "execute_result",
          "data": {
            "text/plain": [
              "{'_y_true': [0, 0, 1, 0, 0, 1, 1],\n",
              " '_y_pred': [0, 0, 1, 0, 0, 0, 0],\n",
              " '_accuracy': None}"
            ]
          },
          "metadata": {},
          "execution_count": 41
        }
      ]
    },
    {
      "cell_type": "code",
      "source": [
        "model.accuracy"
      ],
      "metadata": {
        "colab": {
          "base_uri": "https://localhost:8080/"
        },
        "id": "5TDXrHsgWhwh",
        "outputId": "6c39a582-d413-492e-aaca-4d1cc947e579"
      },
      "execution_count": 42,
      "outputs": [
        {
          "output_type": "stream",
          "name": "stdout",
          "text": [
            "Model accuracy: 0.7143\n"
          ]
        }
      ]
    },
    {
      "cell_type": "code",
      "source": [
        "model.y_pred"
      ],
      "metadata": {
        "colab": {
          "base_uri": "https://localhost:8080/"
        },
        "id": "Xwuo2RFSWnd9",
        "outputId": "7309004f-f46f-4281-9dbf-00fb4ca22d13"
      },
      "execution_count": 43,
      "outputs": [
        {
          "output_type": "execute_result",
          "data": {
            "text/plain": [
              "[0, 0, 1, 0, 0, 0, 0]"
            ]
          },
          "metadata": {},
          "execution_count": 43
        }
      ]
    },
    {
      "cell_type": "code",
      "source": [
        "model.y_pred = [0, 0, 1, 0, 0, 0, 1]"
      ],
      "metadata": {
        "id": "4AK_YNYGWu55"
      },
      "execution_count": 46,
      "outputs": []
    },
    {
      "cell_type": "code",
      "source": [
        "model.__dict__"
      ],
      "metadata": {
        "colab": {
          "base_uri": "https://localhost:8080/"
        },
        "id": "orLGmPrmWye7",
        "outputId": "bbd7bce7-3661-42c0-ddbd-9a2175896c02"
      },
      "execution_count": 47,
      "outputs": [
        {
          "output_type": "execute_result",
          "data": {
            "text/plain": [
              "{'_y_true': [0, 0, 1, 0, 0, 1, 1],\n",
              " '_y_pred': [0, 0, 1, 0, 0, 0, 1],\n",
              " '_accuracy': None}"
            ]
          },
          "metadata": {},
          "execution_count": 47
        }
      ]
    },
    {
      "cell_type": "code",
      "source": [
        "model.accuracy"
      ],
      "metadata": {
        "colab": {
          "base_uri": "https://localhost:8080/"
        },
        "id": "Cj62AHmuWzsv",
        "outputId": "df23149b-1dbe-4c4c-a465-5ff8731ece6c"
      },
      "execution_count": 48,
      "outputs": [
        {
          "output_type": "stream",
          "name": "stdout",
          "text": [
            "Model accuracy: 0.8571\n"
          ]
        }
      ]
    },
    {
      "cell_type": "code",
      "source": [
        "model.accuracy"
      ],
      "metadata": {
        "colab": {
          "base_uri": "https://localhost:8080/"
        },
        "id": "EbTpp84dW2Q8",
        "outputId": "e7a888f5-54bb-480d-8bc7-0042d33edd45"
      },
      "execution_count": 49,
      "outputs": [
        {
          "output_type": "stream",
          "name": "stdout",
          "text": [
            "Model accuracy: 0.8571\n"
          ]
        }
      ]
    },
    {
      "cell_type": "code",
      "source": [
        "model.y_true = 'undefined'"
      ],
      "metadata": {
        "id": "B857zeHTW36N"
      },
      "execution_count": 50,
      "outputs": []
    },
    {
      "cell_type": "code",
      "source": [
        "model.accuracy"
      ],
      "metadata": {
        "colab": {
          "base_uri": "https://localhost:8080/"
        },
        "id": "YtO1rPEdXETh",
        "outputId": "b12cdb88-3c1f-427a-87ad-dc2b4aabaf5b"
      },
      "execution_count": 51,
      "outputs": [
        {
          "output_type": "stream",
          "name": "stdout",
          "text": [
            "Calculating...\n",
            "Model accuracy: 0.0000\n"
          ]
        }
      ]
    },
    {
      "cell_type": "code",
      "source": [
        "model.y_true = False"
      ],
      "metadata": {
        "id": "x_2ksCVvXFyp"
      },
      "execution_count": 52,
      "outputs": []
    },
    {
      "cell_type": "code",
      "source": [
        "model.accuracy"
      ],
      "metadata": {
        "colab": {
          "base_uri": "https://localhost:8080/",
          "height": 280
        },
        "id": "0X0ZbPMKXKln",
        "outputId": "7f00c42a-9956-4d25-9c72-c3f98692c20d"
      },
      "execution_count": 53,
      "outputs": [
        {
          "output_type": "stream",
          "name": "stdout",
          "text": [
            "Calculating...\n"
          ]
        },
        {
          "output_type": "error",
          "ename": "TypeError",
          "evalue": "'bool' object is not iterable",
          "traceback": [
            "\u001b[1;31m---------------------------------------------------------------------------\u001b[0m",
            "\u001b[1;31mTypeError\u001b[0m                                 Traceback (most recent call last)",
            "Cell \u001b[1;32mIn[53], line 1\u001b[0m\n\u001b[1;32m----> 1\u001b[0m model\u001b[38;5;241m.\u001b[39maccuracy\n",
            "Cell \u001b[1;32mIn[37], line 31\u001b[0m, in \u001b[0;36mModel.accuracy\u001b[1;34m(self)\u001b[0m\n\u001b[0;32m     28\u001b[0m \u001b[38;5;28;01mif\u001b[39;00m \u001b[38;5;129;01mnot\u001b[39;00m \u001b[38;5;28mself\u001b[39m\u001b[38;5;241m.\u001b[39m_accuracy:\n\u001b[0;32m     29\u001b[0m     \u001b[38;5;28mprint\u001b[39m(\u001b[38;5;124m'\u001b[39m\u001b[38;5;124mCalculating...\u001b[39m\u001b[38;5;124m'\u001b[39m)\n\u001b[0;32m     30\u001b[0m     \u001b[38;5;28mself\u001b[39m\u001b[38;5;241m.\u001b[39m_accuracy \u001b[38;5;241m=\u001b[39m \u001b[38;5;28msum\u001b[39m([i \u001b[38;5;241m==\u001b[39m j\n\u001b[1;32m---> 31\u001b[0m         \u001b[38;5;28;01mfor\u001b[39;00m i, j \u001b[38;5;129;01min\u001b[39;00m \u001b[38;5;28mzip\u001b[39m(\u001b[38;5;28mself\u001b[39m\u001b[38;5;241m.\u001b[39my_true, \u001b[38;5;28mself\u001b[39m\u001b[38;5;241m.\u001b[39my_pred)]) \u001b[38;5;241m/\u001b[39m \u001b[38;5;28mlen\u001b[39m(\u001b[38;5;28mself\u001b[39m\u001b[38;5;241m.\u001b[39my_true)\n\u001b[0;32m     32\u001b[0m \u001b[38;5;28mprint\u001b[39m(\u001b[38;5;124mf\u001b[39m\u001b[38;5;124m'\u001b[39m\u001b[38;5;124mModel accuracy: \u001b[39m\u001b[38;5;132;01m{\u001b[39;00m\u001b[38;5;28mself\u001b[39m\u001b[38;5;241m.\u001b[39m_accuracy\u001b[38;5;132;01m:\u001b[39;00m\u001b[38;5;124m.4f\u001b[39m\u001b[38;5;132;01m}\u001b[39;00m\u001b[38;5;124m'\u001b[39m)\n",
            "\u001b[1;31mTypeError\u001b[0m: 'bool' object is not iterable"
          ]
        }
      ]
    },
    {
      "cell_type": "code",
      "source": [
        "class Model:\n",
        "\n",
        "    def __init__(self, y_true, y_pred):\n",
        "\n",
        "        if not isinstance(y_true, (list, tuple)):\n",
        "            raise TypeError(f'The y_true object must be of type list or tuple. '\n",
        "              f'Not {type(y_true).__name__}.')\n",
        "\n",
        "        if not isinstance(y_pred, (list, tuple)):\n",
        "            raise TypeError(f'The y_true object must be of type list or tuple. '\n",
        "              f'Not {type(y_pred).__name__}.')\n",
        "\n",
        "        if not len(y_true) == len(y_pred):\n",
        "            raise ValueError('The length of y_true and y_pred object '\n",
        "                'must be of same length.')\n",
        "\n",
        "        self._y_true = y_true\n",
        "        self._y_pred = y_pred\n",
        "        self._accuracy = None\n",
        "\n",
        "    @property\n",
        "    def y_true(self):\n",
        "        return self._y_true\n",
        "\n",
        "    @y_true.setter\n",
        "    def y_true(self, value):\n",
        "        self._y_true = value\n",
        "        self._accuracy = None\n",
        "\n",
        "    @property\n",
        "    def y_pred(self):\n",
        "        return self._y_pred\n",
        "\n",
        "    @y_pred.setter\n",
        "    def y_pred(self, value):\n",
        "        self._y_pred = value\n",
        "        self._accuracy = None\n",
        "\n",
        "    @property\n",
        "    def accuracy(self):\n",
        "        if not self._accuracy:\n",
        "            print('Calculating...')\n",
        "            self._accuracy = sum([i == j\n",
        "                for i, j in zip(self.y_true, self.y_pred)]) / len(self.y_true)\n",
        "        print(f'Model accuracy: {self._accuracy:.4f}')\n",
        "\n",
        "model = Model([0, 0, 1, 0, 0, 1, 0], [0, 0, 1, 0, 0, 0, 0])"
      ],
      "metadata": {
        "id": "Vw4WhESzXLbZ"
      },
      "execution_count": 55,
      "outputs": []
    },
    {
      "cell_type": "code",
      "source": [
        "model = Model('var1', 'var2')"
      ],
      "metadata": {
        "colab": {
          "base_uri": "https://localhost:8080/",
          "height": 297
        },
        "id": "C5R2wjBUYJqj",
        "outputId": "47684bde-9090-4a70-c0ee-6eb8de74968b"
      },
      "execution_count": 56,
      "outputs": [
        {
          "output_type": "error",
          "ename": "TypeError",
          "evalue": "The y_true object must be of type list or tuple. Not str.",
          "traceback": [
            "\u001b[1;31m---------------------------------------------------------------------------\u001b[0m",
            "\u001b[1;31mTypeError\u001b[0m                                 Traceback (most recent call last)",
            "Cell \u001b[1;32mIn[56], line 1\u001b[0m\n\u001b[1;32m----> 1\u001b[0m model \u001b[38;5;241m=\u001b[39m Model(\u001b[38;5;124m'\u001b[39m\u001b[38;5;124mvar1\u001b[39m\u001b[38;5;124m'\u001b[39m, \u001b[38;5;124m'\u001b[39m\u001b[38;5;124mvar2\u001b[39m\u001b[38;5;124m'\u001b[39m)\n",
            "Cell \u001b[1;32mIn[55], line 6\u001b[0m, in \u001b[0;36mModel.__init__\u001b[1;34m(self, y_true, y_pred)\u001b[0m\n\u001b[0;32m      3\u001b[0m \u001b[38;5;28;01mdef\u001b[39;00m \u001b[38;5;21m__init__\u001b[39m(\u001b[38;5;28mself\u001b[39m, y_true, y_pred):\n\u001b[0;32m      5\u001b[0m     \u001b[38;5;28;01mif\u001b[39;00m \u001b[38;5;129;01mnot\u001b[39;00m \u001b[38;5;28misinstance\u001b[39m(y_true, (\u001b[38;5;28mlist\u001b[39m, \u001b[38;5;28mtuple\u001b[39m)):\n\u001b[1;32m----> 6\u001b[0m         \u001b[38;5;28;01mraise\u001b[39;00m \u001b[38;5;167;01mTypeError\u001b[39;00m(\u001b[38;5;124mf\u001b[39m\u001b[38;5;124m'\u001b[39m\u001b[38;5;124mThe y_true object must be of type list or tuple. \u001b[39m\u001b[38;5;124m'\u001b[39m\n\u001b[0;32m      7\u001b[0m           \u001b[38;5;124mf\u001b[39m\u001b[38;5;124m'\u001b[39m\u001b[38;5;124mNot \u001b[39m\u001b[38;5;132;01m{\u001b[39;00m\u001b[38;5;28mtype\u001b[39m(y_true)\u001b[38;5;241m.\u001b[39m\u001b[38;5;18m__name__\u001b[39m\u001b[38;5;132;01m}\u001b[39;00m\u001b[38;5;124m.\u001b[39m\u001b[38;5;124m'\u001b[39m)\n\u001b[0;32m      9\u001b[0m     \u001b[38;5;28;01mif\u001b[39;00m \u001b[38;5;129;01mnot\u001b[39;00m \u001b[38;5;28misinstance\u001b[39m(y_pred, (\u001b[38;5;28mlist\u001b[39m, \u001b[38;5;28mtuple\u001b[39m)):\n\u001b[0;32m     10\u001b[0m         \u001b[38;5;28;01mraise\u001b[39;00m \u001b[38;5;167;01mTypeError\u001b[39;00m(\u001b[38;5;124mf\u001b[39m\u001b[38;5;124m'\u001b[39m\u001b[38;5;124mThe y_true object must be of type list or tuple. \u001b[39m\u001b[38;5;124m'\u001b[39m\n\u001b[0;32m     11\u001b[0m           \u001b[38;5;124mf\u001b[39m\u001b[38;5;124m'\u001b[39m\u001b[38;5;124mNot \u001b[39m\u001b[38;5;132;01m{\u001b[39;00m\u001b[38;5;28mtype\u001b[39m(y_pred)\u001b[38;5;241m.\u001b[39m\u001b[38;5;18m__name__\u001b[39m\u001b[38;5;132;01m}\u001b[39;00m\u001b[38;5;124m.\u001b[39m\u001b[38;5;124m'\u001b[39m)    \n",
            "\u001b[1;31mTypeError\u001b[0m: The y_true object must be of type list or tuple. Not str."
          ]
        }
      ]
    },
    {
      "cell_type": "code",
      "source": [
        "model = Model([0, 1], 'var2')"
      ],
      "metadata": {
        "colab": {
          "base_uri": "https://localhost:8080/",
          "height": 315
        },
        "id": "QIiGbR7lYXJe",
        "outputId": "380b1730-4449-401b-e9ad-1b4ebf943dfd"
      },
      "execution_count": 57,
      "outputs": [
        {
          "output_type": "error",
          "ename": "TypeError",
          "evalue": "The y_true object must be of type list or tuple. Not str.",
          "traceback": [
            "\u001b[1;31m---------------------------------------------------------------------------\u001b[0m",
            "\u001b[1;31mTypeError\u001b[0m                                 Traceback (most recent call last)",
            "Cell \u001b[1;32mIn[57], line 1\u001b[0m\n\u001b[1;32m----> 1\u001b[0m model \u001b[38;5;241m=\u001b[39m Model([\u001b[38;5;241m0\u001b[39m, \u001b[38;5;241m1\u001b[39m], \u001b[38;5;124m'\u001b[39m\u001b[38;5;124mvar2\u001b[39m\u001b[38;5;124m'\u001b[39m)\n",
            "Cell \u001b[1;32mIn[55], line 10\u001b[0m, in \u001b[0;36mModel.__init__\u001b[1;34m(self, y_true, y_pred)\u001b[0m\n\u001b[0;32m      6\u001b[0m     \u001b[38;5;28;01mraise\u001b[39;00m \u001b[38;5;167;01mTypeError\u001b[39;00m(\u001b[38;5;124mf\u001b[39m\u001b[38;5;124m'\u001b[39m\u001b[38;5;124mThe y_true object must be of type list or tuple. \u001b[39m\u001b[38;5;124m'\u001b[39m\n\u001b[0;32m      7\u001b[0m       \u001b[38;5;124mf\u001b[39m\u001b[38;5;124m'\u001b[39m\u001b[38;5;124mNot \u001b[39m\u001b[38;5;132;01m{\u001b[39;00m\u001b[38;5;28mtype\u001b[39m(y_true)\u001b[38;5;241m.\u001b[39m\u001b[38;5;18m__name__\u001b[39m\u001b[38;5;132;01m}\u001b[39;00m\u001b[38;5;124m.\u001b[39m\u001b[38;5;124m'\u001b[39m)\n\u001b[0;32m      9\u001b[0m \u001b[38;5;28;01mif\u001b[39;00m \u001b[38;5;129;01mnot\u001b[39;00m \u001b[38;5;28misinstance\u001b[39m(y_pred, (\u001b[38;5;28mlist\u001b[39m, \u001b[38;5;28mtuple\u001b[39m)):\n\u001b[1;32m---> 10\u001b[0m     \u001b[38;5;28;01mraise\u001b[39;00m \u001b[38;5;167;01mTypeError\u001b[39;00m(\u001b[38;5;124mf\u001b[39m\u001b[38;5;124m'\u001b[39m\u001b[38;5;124mThe y_true object must be of type list or tuple. \u001b[39m\u001b[38;5;124m'\u001b[39m\n\u001b[0;32m     11\u001b[0m       \u001b[38;5;124mf\u001b[39m\u001b[38;5;124m'\u001b[39m\u001b[38;5;124mNot \u001b[39m\u001b[38;5;132;01m{\u001b[39;00m\u001b[38;5;28mtype\u001b[39m(y_pred)\u001b[38;5;241m.\u001b[39m\u001b[38;5;18m__name__\u001b[39m\u001b[38;5;132;01m}\u001b[39;00m\u001b[38;5;124m.\u001b[39m\u001b[38;5;124m'\u001b[39m)    \n\u001b[0;32m     13\u001b[0m \u001b[38;5;28;01mif\u001b[39;00m \u001b[38;5;129;01mnot\u001b[39;00m \u001b[38;5;28mlen\u001b[39m(y_true) \u001b[38;5;241m==\u001b[39m \u001b[38;5;28mlen\u001b[39m(y_pred):\n\u001b[0;32m     14\u001b[0m     \u001b[38;5;28;01mraise\u001b[39;00m \u001b[38;5;167;01mValueError\u001b[39;00m(\u001b[38;5;124m'\u001b[39m\u001b[38;5;124mThe length of y_true and y_pred object \u001b[39m\u001b[38;5;124m'\u001b[39m\n\u001b[0;32m     15\u001b[0m         \u001b[38;5;124m'\u001b[39m\u001b[38;5;124mmust be of same length.\u001b[39m\u001b[38;5;124m'\u001b[39m)\n",
            "\u001b[1;31mTypeError\u001b[0m: The y_true object must be of type list or tuple. Not str."
          ]
        }
      ]
    },
    {
      "cell_type": "code",
      "source": [
        "model = Model([0, 1], False)"
      ],
      "metadata": {
        "colab": {
          "base_uri": "https://localhost:8080/",
          "height": 315
        },
        "id": "7HdlvOPgYhdj",
        "outputId": "4d68de45-23a1-48a7-c3d7-8c98090c1508"
      },
      "execution_count": 58,
      "outputs": [
        {
          "output_type": "error",
          "ename": "TypeError",
          "evalue": "The y_true object must be of type list or tuple. Not bool.",
          "traceback": [
            "\u001b[1;31m---------------------------------------------------------------------------\u001b[0m",
            "\u001b[1;31mTypeError\u001b[0m                                 Traceback (most recent call last)",
            "Cell \u001b[1;32mIn[58], line 1\u001b[0m\n\u001b[1;32m----> 1\u001b[0m model \u001b[38;5;241m=\u001b[39m Model([\u001b[38;5;241m0\u001b[39m, \u001b[38;5;241m1\u001b[39m], \u001b[38;5;28;01mFalse\u001b[39;00m)\n",
            "Cell \u001b[1;32mIn[55], line 10\u001b[0m, in \u001b[0;36mModel.__init__\u001b[1;34m(self, y_true, y_pred)\u001b[0m\n\u001b[0;32m      6\u001b[0m     \u001b[38;5;28;01mraise\u001b[39;00m \u001b[38;5;167;01mTypeError\u001b[39;00m(\u001b[38;5;124mf\u001b[39m\u001b[38;5;124m'\u001b[39m\u001b[38;5;124mThe y_true object must be of type list or tuple. \u001b[39m\u001b[38;5;124m'\u001b[39m\n\u001b[0;32m      7\u001b[0m       \u001b[38;5;124mf\u001b[39m\u001b[38;5;124m'\u001b[39m\u001b[38;5;124mNot \u001b[39m\u001b[38;5;132;01m{\u001b[39;00m\u001b[38;5;28mtype\u001b[39m(y_true)\u001b[38;5;241m.\u001b[39m\u001b[38;5;18m__name__\u001b[39m\u001b[38;5;132;01m}\u001b[39;00m\u001b[38;5;124m.\u001b[39m\u001b[38;5;124m'\u001b[39m)\n\u001b[0;32m      9\u001b[0m \u001b[38;5;28;01mif\u001b[39;00m \u001b[38;5;129;01mnot\u001b[39;00m \u001b[38;5;28misinstance\u001b[39m(y_pred, (\u001b[38;5;28mlist\u001b[39m, \u001b[38;5;28mtuple\u001b[39m)):\n\u001b[1;32m---> 10\u001b[0m     \u001b[38;5;28;01mraise\u001b[39;00m \u001b[38;5;167;01mTypeError\u001b[39;00m(\u001b[38;5;124mf\u001b[39m\u001b[38;5;124m'\u001b[39m\u001b[38;5;124mThe y_true object must be of type list or tuple. \u001b[39m\u001b[38;5;124m'\u001b[39m\n\u001b[0;32m     11\u001b[0m       \u001b[38;5;124mf\u001b[39m\u001b[38;5;124m'\u001b[39m\u001b[38;5;124mNot \u001b[39m\u001b[38;5;132;01m{\u001b[39;00m\u001b[38;5;28mtype\u001b[39m(y_pred)\u001b[38;5;241m.\u001b[39m\u001b[38;5;18m__name__\u001b[39m\u001b[38;5;132;01m}\u001b[39;00m\u001b[38;5;124m.\u001b[39m\u001b[38;5;124m'\u001b[39m)    \n\u001b[0;32m     13\u001b[0m \u001b[38;5;28;01mif\u001b[39;00m \u001b[38;5;129;01mnot\u001b[39;00m \u001b[38;5;28mlen\u001b[39m(y_true) \u001b[38;5;241m==\u001b[39m \u001b[38;5;28mlen\u001b[39m(y_pred):\n\u001b[0;32m     14\u001b[0m     \u001b[38;5;28;01mraise\u001b[39;00m \u001b[38;5;167;01mValueError\u001b[39;00m(\u001b[38;5;124m'\u001b[39m\u001b[38;5;124mThe length of y_true and y_pred object \u001b[39m\u001b[38;5;124m'\u001b[39m\n\u001b[0;32m     15\u001b[0m         \u001b[38;5;124m'\u001b[39m\u001b[38;5;124mmust be of same length.\u001b[39m\u001b[38;5;124m'\u001b[39m)\n",
            "\u001b[1;31mTypeError\u001b[0m: The y_true object must be of type list or tuple. Not bool."
          ]
        }
      ]
    },
    {
      "cell_type": "code",
      "source": [
        "model = Model([0, 1], [0, 1, 1])"
      ],
      "metadata": {
        "colab": {
          "base_uri": "https://localhost:8080/",
          "height": 297
        },
        "id": "KoYl9PBPYkZS",
        "outputId": "599611a1-b58c-4bb1-ab3a-54e04291ec16"
      },
      "execution_count": 59,
      "outputs": [
        {
          "output_type": "error",
          "ename": "ValueError",
          "evalue": "The length of y_true and y_pred object must be of same length.",
          "traceback": [
            "\u001b[1;31m---------------------------------------------------------------------------\u001b[0m",
            "\u001b[1;31mValueError\u001b[0m                                Traceback (most recent call last)",
            "Cell \u001b[1;32mIn[59], line 1\u001b[0m\n\u001b[1;32m----> 1\u001b[0m model \u001b[38;5;241m=\u001b[39m Model([\u001b[38;5;241m0\u001b[39m, \u001b[38;5;241m1\u001b[39m], [\u001b[38;5;241m0\u001b[39m, \u001b[38;5;241m1\u001b[39m, \u001b[38;5;241m1\u001b[39m])\n",
            "Cell \u001b[1;32mIn[55], line 14\u001b[0m, in \u001b[0;36mModel.__init__\u001b[1;34m(self, y_true, y_pred)\u001b[0m\n\u001b[0;32m     10\u001b[0m     \u001b[38;5;28;01mraise\u001b[39;00m \u001b[38;5;167;01mTypeError\u001b[39;00m(\u001b[38;5;124mf\u001b[39m\u001b[38;5;124m'\u001b[39m\u001b[38;5;124mThe y_true object must be of type list or tuple. \u001b[39m\u001b[38;5;124m'\u001b[39m\n\u001b[0;32m     11\u001b[0m       \u001b[38;5;124mf\u001b[39m\u001b[38;5;124m'\u001b[39m\u001b[38;5;124mNot \u001b[39m\u001b[38;5;132;01m{\u001b[39;00m\u001b[38;5;28mtype\u001b[39m(y_pred)\u001b[38;5;241m.\u001b[39m\u001b[38;5;18m__name__\u001b[39m\u001b[38;5;132;01m}\u001b[39;00m\u001b[38;5;124m.\u001b[39m\u001b[38;5;124m'\u001b[39m)    \n\u001b[0;32m     13\u001b[0m \u001b[38;5;28;01mif\u001b[39;00m \u001b[38;5;129;01mnot\u001b[39;00m \u001b[38;5;28mlen\u001b[39m(y_true) \u001b[38;5;241m==\u001b[39m \u001b[38;5;28mlen\u001b[39m(y_pred):\n\u001b[1;32m---> 14\u001b[0m     \u001b[38;5;28;01mraise\u001b[39;00m \u001b[38;5;167;01mValueError\u001b[39;00m(\u001b[38;5;124m'\u001b[39m\u001b[38;5;124mThe length of y_true and y_pred object \u001b[39m\u001b[38;5;124m'\u001b[39m\n\u001b[0;32m     15\u001b[0m         \u001b[38;5;124m'\u001b[39m\u001b[38;5;124mmust be of same length.\u001b[39m\u001b[38;5;124m'\u001b[39m)\n\u001b[0;32m     17\u001b[0m \u001b[38;5;28mself\u001b[39m\u001b[38;5;241m.\u001b[39m_y_true \u001b[38;5;241m=\u001b[39m y_true\n\u001b[0;32m     18\u001b[0m \u001b[38;5;28mself\u001b[39m\u001b[38;5;241m.\u001b[39m_y_pred \u001b[38;5;241m=\u001b[39m y_pred\n",
            "\u001b[1;31mValueError\u001b[0m: The length of y_true and y_pred object must be of same length."
          ]
        }
      ]
    },
    {
      "cell_type": "code",
      "source": [
        "model = Model([0, 1], [0, 1])"
      ],
      "metadata": {
        "id": "enLPi1frYm4m"
      },
      "execution_count": 60,
      "outputs": []
    },
    {
      "cell_type": "code",
      "source": [
        "class Model:\n",
        "\n",
        "    def __init__(self, y_true, y_pred):\n",
        "\n",
        "        if not isinstance(y_true, (list, tuple)):\n",
        "            raise TypeError(f'The y_true object must be of type list or tuple. '\n",
        "                f'Not {type(y_true).__name__}.')\n",
        "\n",
        "        if not isinstance(y_pred, (list, tuple)):\n",
        "            raise TypeError(f'The y_pred object must be of type list or tuple. '\n",
        "                f'Not {type(y_pred).__name__}.')\n",
        "\n",
        "        if not len(y_true) == len(y_pred):\n",
        "            raise ValueError('The y_true and y_pred objects must be of same '\n",
        "                'length.')\n",
        "\n",
        "        self._y_true = y_true\n",
        "        self._y_pred = y_pred\n",
        "        self._accuracy = None\n",
        "\n",
        "    @property\n",
        "    def y_true(self):\n",
        "        return self._y_true\n",
        "\n",
        "    @y_true.setter\n",
        "    def y_true(self, value):\n",
        "        if isinstance(value, (list, tuple)):\n",
        "            if len(value) == len(self._y_pred):\n",
        "                self._y_true = value\n",
        "            else:\n",
        "                raise ValueError(f'The y_true object must be of length '\n",
        "                    f'{len(self._y_pred)}.')\n",
        "        else:\n",
        "            raise TypeError(f'The value must be a list or tuple object. '\n",
        "                f'Not {type(value).__name__}.')\n",
        "        self._accuracy = None\n",
        "\n",
        "    @property\n",
        "    def y_pred(self):\n",
        "        return self._y_pred\n",
        "\n",
        "    @y_pred.setter\n",
        "    def y_pred(self, value):\n",
        "        if isinstance(value, (list, tuple)):\n",
        "            if len(value) == len(self._y_pred):\n",
        "                self._y_pred = value\n",
        "            else:\n",
        "                raise ValueError(f'The y_pred object must be of length '\n",
        "                    f'{len(self._y_pred)}.')\n",
        "        else:\n",
        "            raise TypeError(f'The value must be a list or tuple object. '\n",
        "                f'Not {type(value).__name__}.')\n",
        "        self._accuracy = None\n",
        "\n",
        "    @property\n",
        "    def accuracy(self):\n",
        "        if not self._accuracy:\n",
        "            print('Calculating...')\n",
        "            self._accuracy = sum([i == j\n",
        "                for i, j in zip(self.y_true, self.y_pred)]) / len(self.y_true)\n",
        "        print(f'Model accuracy: {self._accuracy:.4f}')\n",
        "\n",
        "model = Model([0, 0, 1, 0, 0, 1, 0], [0, 0, 1, 0, 0, 0, 0])"
      ],
      "metadata": {
        "id": "2wIn2H9gYpRb"
      },
      "execution_count": 62,
      "outputs": []
    },
    {
      "cell_type": "code",
      "source": [
        "model.__dict__"
      ],
      "metadata": {
        "colab": {
          "base_uri": "https://localhost:8080/"
        },
        "id": "le6gPimEZ_bj",
        "outputId": "6c868a4f-cae7-4238-80a0-af9750814ecd"
      },
      "execution_count": 63,
      "outputs": [
        {
          "output_type": "execute_result",
          "data": {
            "text/plain": [
              "{'_y_true': [0, 0, 1, 0, 0, 1, 0],\n",
              " '_y_pred': [0, 0, 1, 0, 0, 0, 0],\n",
              " '_accuracy': 0.8571428571428571}"
            ]
          },
          "metadata": {},
          "execution_count": 63
        }
      ]
    },
    {
      "cell_type": "code",
      "source": [
        "model.accuracy"
      ],
      "metadata": {
        "colab": {
          "base_uri": "https://localhost:8080/"
        },
        "id": "oHNu38tNaJEZ",
        "outputId": "5bf6ce7b-06e2-4741-c428-078cf41c8ece"
      },
      "execution_count": 64,
      "outputs": [
        {
          "output_type": "stream",
          "name": "stdout",
          "text": [
            "Model accuracy: 0.8571\n"
          ]
        }
      ]
    },
    {
      "cell_type": "code",
      "source": [
        "model.__dict__"
      ],
      "metadata": {
        "colab": {
          "base_uri": "https://localhost:8080/"
        },
        "id": "p0dgkh37aKV7",
        "outputId": "ce8964aa-e410-4cda-d866-54f356c1827b"
      },
      "execution_count": 65,
      "outputs": [
        {
          "output_type": "execute_result",
          "data": {
            "text/plain": [
              "{'_y_true': [0, 0, 1, 0, 0, 1, 0],\n",
              " '_y_pred': [0, 0, 1, 0, 0, 0, 0],\n",
              " '_accuracy': 0.8571428571428571}"
            ]
          },
          "metadata": {},
          "execution_count": 65
        }
      ]
    },
    {
      "cell_type": "code",
      "source": [
        "model.y_true"
      ],
      "metadata": {
        "colab": {
          "base_uri": "https://localhost:8080/"
        },
        "id": "dCve7HpXaLVR",
        "outputId": "ba2f8076-3a77-4cb1-e8b0-40d4a0325d2b"
      },
      "execution_count": 66,
      "outputs": [
        {
          "output_type": "execute_result",
          "data": {
            "text/plain": [
              "[0, 0, 1, 0, 0, 1, 0]"
            ]
          },
          "metadata": {},
          "execution_count": 66
        }
      ]
    },
    {
      "cell_type": "code",
      "source": [
        "model.y_true = [0, 0, 1, 0, 0, 1, 1]"
      ],
      "metadata": {
        "id": "8t-AZgWJaOI7"
      },
      "execution_count": 67,
      "outputs": []
    },
    {
      "cell_type": "code",
      "source": [
        "model.accuracy"
      ],
      "metadata": {
        "colab": {
          "base_uri": "https://localhost:8080/"
        },
        "id": "DAGlBXhCaRw7",
        "outputId": "a84b7e3b-4e46-4f14-f6dd-e3de49cdeed7"
      },
      "execution_count": 68,
      "outputs": [
        {
          "output_type": "stream",
          "name": "stdout",
          "text": [
            "Model accuracy: 0.7143\n"
          ]
        }
      ]
    },
    {
      "cell_type": "code",
      "source": [
        "model.y_true = 'var1'"
      ],
      "metadata": {
        "colab": {
          "base_uri": "https://localhost:8080/",
          "height": 280
        },
        "id": "R7S-LXBKaSeC",
        "outputId": "76c8c936-1fef-40d5-d27a-c1786616d548"
      },
      "execution_count": 69,
      "outputs": [
        {
          "output_type": "error",
          "ename": "TypeError",
          "evalue": "The value must be a list or tuple object. Not str.",
          "traceback": [
            "\u001b[1;31m---------------------------------------------------------------------------\u001b[0m",
            "\u001b[1;31mTypeError\u001b[0m                                 Traceback (most recent call last)",
            "Cell \u001b[1;32mIn[69], line 1\u001b[0m\n\u001b[1;32m----> 1\u001b[0m model\u001b[38;5;241m.\u001b[39my_true \u001b[38;5;241m=\u001b[39m \u001b[38;5;124m'\u001b[39m\u001b[38;5;124mvar1\u001b[39m\u001b[38;5;124m'\u001b[39m\n",
            "Cell \u001b[1;32mIn[62], line 34\u001b[0m, in \u001b[0;36mModel.y_true\u001b[1;34m(self, value)\u001b[0m\n\u001b[0;32m     31\u001b[0m         \u001b[38;5;28;01mraise\u001b[39;00m \u001b[38;5;167;01mValueError\u001b[39;00m(\u001b[38;5;124mf\u001b[39m\u001b[38;5;124m'\u001b[39m\u001b[38;5;124mThe y_true object must be of length \u001b[39m\u001b[38;5;124m'\u001b[39m\n\u001b[0;32m     32\u001b[0m             \u001b[38;5;124mf\u001b[39m\u001b[38;5;124m'\u001b[39m\u001b[38;5;132;01m{\u001b[39;00m\u001b[38;5;28mlen\u001b[39m(\u001b[38;5;28mself\u001b[39m\u001b[38;5;241m.\u001b[39m_y_pred)\u001b[38;5;132;01m}\u001b[39;00m\u001b[38;5;124m.\u001b[39m\u001b[38;5;124m'\u001b[39m)\n\u001b[0;32m     33\u001b[0m \u001b[38;5;28;01melse\u001b[39;00m:\n\u001b[1;32m---> 34\u001b[0m     \u001b[38;5;28;01mraise\u001b[39;00m \u001b[38;5;167;01mTypeError\u001b[39;00m(\u001b[38;5;124mf\u001b[39m\u001b[38;5;124m'\u001b[39m\u001b[38;5;124mThe value must be a list or tuple object. \u001b[39m\u001b[38;5;124m'\u001b[39m\n\u001b[0;32m     35\u001b[0m         \u001b[38;5;124mf\u001b[39m\u001b[38;5;124m'\u001b[39m\u001b[38;5;124mNot \u001b[39m\u001b[38;5;132;01m{\u001b[39;00m\u001b[38;5;28mtype\u001b[39m(value)\u001b[38;5;241m.\u001b[39m\u001b[38;5;18m__name__\u001b[39m\u001b[38;5;132;01m}\u001b[39;00m\u001b[38;5;124m.\u001b[39m\u001b[38;5;124m'\u001b[39m)\n\u001b[0;32m     36\u001b[0m \u001b[38;5;28mself\u001b[39m\u001b[38;5;241m.\u001b[39m_accuracy \u001b[38;5;241m=\u001b[39m \u001b[38;5;28;01mNone\u001b[39;00m\n",
            "\u001b[1;31mTypeError\u001b[0m: The value must be a list or tuple object. Not str."
          ]
        }
      ]
    },
    {
      "cell_type": "code",
      "source": [
        "model.y_true = None"
      ],
      "metadata": {
        "colab": {
          "base_uri": "https://localhost:8080/",
          "height": 280
        },
        "id": "lQfxOrk6aWEF",
        "outputId": "53589bce-91d0-443b-fd8e-5e3548cc4c97"
      },
      "execution_count": 70,
      "outputs": [
        {
          "output_type": "error",
          "ename": "TypeError",
          "evalue": "The value must be a list or tuple object. Not NoneType.",
          "traceback": [
            "\u001b[1;31m---------------------------------------------------------------------------\u001b[0m",
            "\u001b[1;31mTypeError\u001b[0m                                 Traceback (most recent call last)",
            "Cell \u001b[1;32mIn[70], line 1\u001b[0m\n\u001b[1;32m----> 1\u001b[0m model\u001b[38;5;241m.\u001b[39my_true \u001b[38;5;241m=\u001b[39m \u001b[38;5;28;01mNone\u001b[39;00m\n",
            "Cell \u001b[1;32mIn[62], line 34\u001b[0m, in \u001b[0;36mModel.y_true\u001b[1;34m(self, value)\u001b[0m\n\u001b[0;32m     31\u001b[0m         \u001b[38;5;28;01mraise\u001b[39;00m \u001b[38;5;167;01mValueError\u001b[39;00m(\u001b[38;5;124mf\u001b[39m\u001b[38;5;124m'\u001b[39m\u001b[38;5;124mThe y_true object must be of length \u001b[39m\u001b[38;5;124m'\u001b[39m\n\u001b[0;32m     32\u001b[0m             \u001b[38;5;124mf\u001b[39m\u001b[38;5;124m'\u001b[39m\u001b[38;5;132;01m{\u001b[39;00m\u001b[38;5;28mlen\u001b[39m(\u001b[38;5;28mself\u001b[39m\u001b[38;5;241m.\u001b[39m_y_pred)\u001b[38;5;132;01m}\u001b[39;00m\u001b[38;5;124m.\u001b[39m\u001b[38;5;124m'\u001b[39m)\n\u001b[0;32m     33\u001b[0m \u001b[38;5;28;01melse\u001b[39;00m:\n\u001b[1;32m---> 34\u001b[0m     \u001b[38;5;28;01mraise\u001b[39;00m \u001b[38;5;167;01mTypeError\u001b[39;00m(\u001b[38;5;124mf\u001b[39m\u001b[38;5;124m'\u001b[39m\u001b[38;5;124mThe value must be a list or tuple object. \u001b[39m\u001b[38;5;124m'\u001b[39m\n\u001b[0;32m     35\u001b[0m         \u001b[38;5;124mf\u001b[39m\u001b[38;5;124m'\u001b[39m\u001b[38;5;124mNot \u001b[39m\u001b[38;5;132;01m{\u001b[39;00m\u001b[38;5;28mtype\u001b[39m(value)\u001b[38;5;241m.\u001b[39m\u001b[38;5;18m__name__\u001b[39m\u001b[38;5;132;01m}\u001b[39;00m\u001b[38;5;124m.\u001b[39m\u001b[38;5;124m'\u001b[39m)\n\u001b[0;32m     36\u001b[0m \u001b[38;5;28mself\u001b[39m\u001b[38;5;241m.\u001b[39m_accuracy \u001b[38;5;241m=\u001b[39m \u001b[38;5;28;01mNone\u001b[39;00m\n",
            "\u001b[1;31mTypeError\u001b[0m: The value must be a list or tuple object. Not NoneType."
          ]
        }
      ]
    },
    {
      "cell_type": "code",
      "source": [
        "model.y_true = [0, 0, 1]"
      ],
      "metadata": {
        "colab": {
          "base_uri": "https://localhost:8080/",
          "height": 297
        },
        "id": "RBTZx8zvabjk",
        "outputId": "9a789880-8c43-4edd-f098-7f4f39e99475"
      },
      "execution_count": 71,
      "outputs": [
        {
          "output_type": "error",
          "ename": "ValueError",
          "evalue": "The y_true object must be of length 7.",
          "traceback": [
            "\u001b[1;31m---------------------------------------------------------------------------\u001b[0m",
            "\u001b[1;31mValueError\u001b[0m                                Traceback (most recent call last)",
            "Cell \u001b[1;32mIn[71], line 1\u001b[0m\n\u001b[1;32m----> 1\u001b[0m model\u001b[38;5;241m.\u001b[39my_true \u001b[38;5;241m=\u001b[39m [\u001b[38;5;241m0\u001b[39m, \u001b[38;5;241m0\u001b[39m, \u001b[38;5;241m1\u001b[39m]\n",
            "Cell \u001b[1;32mIn[62], line 31\u001b[0m, in \u001b[0;36mModel.y_true\u001b[1;34m(self, value)\u001b[0m\n\u001b[0;32m     29\u001b[0m         \u001b[38;5;28mself\u001b[39m\u001b[38;5;241m.\u001b[39m_y_true \u001b[38;5;241m=\u001b[39m value\n\u001b[0;32m     30\u001b[0m     \u001b[38;5;28;01melse\u001b[39;00m:\n\u001b[1;32m---> 31\u001b[0m         \u001b[38;5;28;01mraise\u001b[39;00m \u001b[38;5;167;01mValueError\u001b[39;00m(\u001b[38;5;124mf\u001b[39m\u001b[38;5;124m'\u001b[39m\u001b[38;5;124mThe y_true object must be of length \u001b[39m\u001b[38;5;124m'\u001b[39m\n\u001b[0;32m     32\u001b[0m             \u001b[38;5;124mf\u001b[39m\u001b[38;5;124m'\u001b[39m\u001b[38;5;132;01m{\u001b[39;00m\u001b[38;5;28mlen\u001b[39m(\u001b[38;5;28mself\u001b[39m\u001b[38;5;241m.\u001b[39m_y_pred)\u001b[38;5;132;01m}\u001b[39;00m\u001b[38;5;124m.\u001b[39m\u001b[38;5;124m'\u001b[39m)\n\u001b[0;32m     33\u001b[0m \u001b[38;5;28;01melse\u001b[39;00m:\n\u001b[0;32m     34\u001b[0m     \u001b[38;5;28;01mraise\u001b[39;00m \u001b[38;5;167;01mTypeError\u001b[39;00m(\u001b[38;5;124mf\u001b[39m\u001b[38;5;124m'\u001b[39m\u001b[38;5;124mThe value must be a list or tuple object. \u001b[39m\u001b[38;5;124m'\u001b[39m\n\u001b[0;32m     35\u001b[0m         \u001b[38;5;124mf\u001b[39m\u001b[38;5;124m'\u001b[39m\u001b[38;5;124mNot \u001b[39m\u001b[38;5;132;01m{\u001b[39;00m\u001b[38;5;28mtype\u001b[39m(value)\u001b[38;5;241m.\u001b[39m\u001b[38;5;18m__name__\u001b[39m\u001b[38;5;132;01m}\u001b[39;00m\u001b[38;5;124m.\u001b[39m\u001b[38;5;124m'\u001b[39m)\n",
            "\u001b[1;31mValueError\u001b[0m: The y_true object must be of length 7."
          ]
        }
      ]
    },
    {
      "cell_type": "code",
      "source": [
        "model.y_pred = [0, 0, 1]"
      ],
      "metadata": {
        "colab": {
          "base_uri": "https://localhost:8080/",
          "height": 297
        },
        "id": "x-fvRSLCag2k",
        "outputId": "f1e29572-b626-4b7f-a1b9-a866d0073895"
      },
      "execution_count": 72,
      "outputs": [
        {
          "output_type": "error",
          "ename": "ValueError",
          "evalue": "The y_pred object must be of length 7.",
          "traceback": [
            "\u001b[1;31m---------------------------------------------------------------------------\u001b[0m",
            "\u001b[1;31mValueError\u001b[0m                                Traceback (most recent call last)",
            "Cell \u001b[1;32mIn[72], line 1\u001b[0m\n\u001b[1;32m----> 1\u001b[0m model\u001b[38;5;241m.\u001b[39my_pred \u001b[38;5;241m=\u001b[39m [\u001b[38;5;241m0\u001b[39m, \u001b[38;5;241m0\u001b[39m, \u001b[38;5;241m1\u001b[39m]\n",
            "Cell \u001b[1;32mIn[62], line 48\u001b[0m, in \u001b[0;36mModel.y_pred\u001b[1;34m(self, value)\u001b[0m\n\u001b[0;32m     46\u001b[0m         \u001b[38;5;28mself\u001b[39m\u001b[38;5;241m.\u001b[39m_y_pred \u001b[38;5;241m=\u001b[39m value\n\u001b[0;32m     47\u001b[0m     \u001b[38;5;28;01melse\u001b[39;00m:\n\u001b[1;32m---> 48\u001b[0m         \u001b[38;5;28;01mraise\u001b[39;00m \u001b[38;5;167;01mValueError\u001b[39;00m(\u001b[38;5;124mf\u001b[39m\u001b[38;5;124m'\u001b[39m\u001b[38;5;124mThe y_pred object must be of length \u001b[39m\u001b[38;5;124m'\u001b[39m\n\u001b[0;32m     49\u001b[0m             \u001b[38;5;124mf\u001b[39m\u001b[38;5;124m'\u001b[39m\u001b[38;5;132;01m{\u001b[39;00m\u001b[38;5;28mlen\u001b[39m(\u001b[38;5;28mself\u001b[39m\u001b[38;5;241m.\u001b[39m_y_pred)\u001b[38;5;132;01m}\u001b[39;00m\u001b[38;5;124m.\u001b[39m\u001b[38;5;124m'\u001b[39m)\n\u001b[0;32m     50\u001b[0m \u001b[38;5;28;01melse\u001b[39;00m:\n\u001b[0;32m     51\u001b[0m     \u001b[38;5;28;01mraise\u001b[39;00m \u001b[38;5;167;01mTypeError\u001b[39;00m(\u001b[38;5;124mf\u001b[39m\u001b[38;5;124m'\u001b[39m\u001b[38;5;124mThe value must be a list or tuple object. \u001b[39m\u001b[38;5;124m'\u001b[39m\n\u001b[0;32m     52\u001b[0m         \u001b[38;5;124mf\u001b[39m\u001b[38;5;124m'\u001b[39m\u001b[38;5;124mNot \u001b[39m\u001b[38;5;132;01m{\u001b[39;00m\u001b[38;5;28mtype\u001b[39m(value)\u001b[38;5;241m.\u001b[39m\u001b[38;5;18m__name__\u001b[39m\u001b[38;5;132;01m}\u001b[39;00m\u001b[38;5;124m.\u001b[39m\u001b[38;5;124m'\u001b[39m)\n",
            "\u001b[1;31mValueError\u001b[0m: The y_pred object must be of length 7."
          ]
        }
      ]
    },
    {
      "cell_type": "code",
      "source": [
        "model.y_pred"
      ],
      "metadata": {
        "colab": {
          "base_uri": "https://localhost:8080/"
        },
        "id": "hx-IUxdwal06",
        "outputId": "db877e94-9b88-442c-8b94-ffc7241bd1e4"
      },
      "execution_count": 73,
      "outputs": [
        {
          "output_type": "execute_result",
          "data": {
            "text/plain": [
              "[0, 0, 1, 0, 0, 0, 0]"
            ]
          },
          "metadata": {},
          "execution_count": 73
        }
      ]
    },
    {
      "cell_type": "code",
      "source": [
        "model.y_pred = (0, 0, 1, 0, 0, 0, 1)"
      ],
      "metadata": {
        "id": "lONU8VTrao9e"
      },
      "execution_count": 76,
      "outputs": []
    },
    {
      "cell_type": "code",
      "source": [
        "model.accuracy"
      ],
      "metadata": {
        "colab": {
          "base_uri": "https://localhost:8080/"
        },
        "id": "yKVSZdNxasme",
        "outputId": "6d75e351-a3e1-43ac-8fa1-376c885ea460"
      },
      "execution_count": 77,
      "outputs": [
        {
          "output_type": "stream",
          "name": "stdout",
          "text": [
            "Calculating...\n",
            "Model accuracy: 0.8571\n"
          ]
        }
      ]
    },
    {
      "cell_type": "code",
      "source": [
        "class Model:\n",
        "\n",
        "    def __init__(self, y_true, y_pred):\n",
        "\n",
        "        if not isinstance(y_true, (list, tuple)):\n",
        "            raise TypeError(f'The y_true object must be of type list or tuple. '\n",
        "                f'Not {type(y_true).__name__}.')\n",
        "\n",
        "        if not isinstance(y_pred, (list, tuple)):\n",
        "            raise TypeError(f'The y_pred object must be of type list or tuple. '\n",
        "                f'Not {type(y_pred).__name__}.')\n",
        "\n",
        "        if not len(y_true) == len(y_pred):\n",
        "            raise ValueError('The y_true and y_pred objects must be of same '\n",
        "                'length.')\n",
        "\n",
        "        self._y_true = y_true\n",
        "        self._y_pred = y_pred\n",
        "        self._accuracy = None\n",
        "\n",
        "    @property\n",
        "    def y_true(self):\n",
        "        return self._y_true\n",
        "\n",
        "    @y_true.setter\n",
        "    def y_true(self, value):\n",
        "        if isinstance(value, (list, tuple)):\n",
        "            if len(value) == len(self._y_pred):\n",
        "                self._y_true = value\n",
        "            else:\n",
        "                raise ValueError(f'The y_true object must be of length '\n",
        "                    f'{len(self._y_pred)}.')\n",
        "        else:\n",
        "            raise TypeError(f'The value must be a list or tuple object. '\n",
        "                f'Not {type(value).__name__}.')\n",
        "        self._accuracy = None\n",
        "\n",
        "    @y_true.deleter\n",
        "    def y_true(self):\n",
        "        print('deleting...')\n",
        "        del self._y_true\n",
        "\n",
        "    @property\n",
        "    def y_pred(self):\n",
        "        return self._y_pred\n",
        "\n",
        "    @y_pred.setter\n",
        "    def y_pred(self, value):\n",
        "        if isinstance(value, (list, tuple)):\n",
        "            if len(value) == len(self._y_pred):\n",
        "                self._y_pred = value\n",
        "            else:\n",
        "                raise ValueError(f'The y_pred object must be of length '\n",
        "                    f'{len(self._y_pred)}.')\n",
        "        else:\n",
        "            raise TypeError(f'The value must be a list or tuple object. '\n",
        "                f'Not {type(value).__name__}.')\n",
        "        self._accuracy = None\n",
        "\n",
        "    @y_pred.deleter\n",
        "    def y_pred(self):\n",
        "        print('deleting...')\n",
        "        del self._y_pred\n",
        "\n",
        "    @property\n",
        "    def accuracy(self):\n",
        "        if not self._accuracy:\n",
        "            print('Calculating...')\n",
        "            self._accuracy = sum([i == j\n",
        "                for i, j in zip(self.y_true, self.y_pred)]) / len(self.y_true)\n",
        "        print(f'Model accuracy: {self._accuracy:.4f}')\n",
        "\n",
        "model = Model([0, 0, 1, 0, 0, 1, 0], [0, 0, 1, 0, 0, 0, 0])"
      ],
      "metadata": {
        "id": "adcl-4lgat47"
      },
      "execution_count": 79,
      "outputs": []
    },
    {
      "cell_type": "code",
      "source": [
        "model.y_true"
      ],
      "metadata": {
        "colab": {
          "base_uri": "https://localhost:8080/"
        },
        "id": "I9iXjDJZbWNn",
        "outputId": "93ae56a7-29c8-47ef-915d-6ecd08a6219e"
      },
      "execution_count": 80,
      "outputs": [
        {
          "output_type": "execute_result",
          "data": {
            "text/plain": [
              "[0, 0, 1, 0, 0, 1, 0]"
            ]
          },
          "metadata": {},
          "execution_count": 80
        }
      ]
    },
    {
      "cell_type": "code",
      "source": [
        "del model.y_true"
      ],
      "metadata": {
        "colab": {
          "base_uri": "https://localhost:8080/"
        },
        "id": "rXzDkULDbYy5",
        "outputId": "e7098d4a-4962-4aa6-ccfe-64c4a1242004"
      },
      "execution_count": 81,
      "outputs": [
        {
          "output_type": "stream",
          "name": "stdout",
          "text": [
            "deleting...\n"
          ]
        }
      ]
    },
    {
      "cell_type": "code",
      "source": [
        "model.y_true"
      ],
      "metadata": {
        "colab": {
          "base_uri": "https://localhost:8080/",
          "height": 228
        },
        "id": "4lw9ZXPRbaey",
        "outputId": "b958120d-3f39-4ec0-8bf4-a9b40a70e1e1"
      },
      "execution_count": 82,
      "outputs": [
        {
          "output_type": "error",
          "ename": "AttributeError",
          "evalue": "'Model' object has no attribute '_y_true'",
          "traceback": [
            "\u001b[1;31m---------------------------------------------------------------------------\u001b[0m",
            "\u001b[1;31mAttributeError\u001b[0m                            Traceback (most recent call last)",
            "Cell \u001b[1;32mIn[82], line 1\u001b[0m\n\u001b[1;32m----> 1\u001b[0m model\u001b[38;5;241m.\u001b[39my_true\n",
            "Cell \u001b[1;32mIn[79], line 23\u001b[0m, in \u001b[0;36mModel.y_true\u001b[1;34m(self)\u001b[0m\n\u001b[0;32m     21\u001b[0m \u001b[38;5;129m@property\u001b[39m\n\u001b[0;32m     22\u001b[0m \u001b[38;5;28;01mdef\u001b[39;00m \u001b[38;5;21my_true\u001b[39m(\u001b[38;5;28mself\u001b[39m):\n\u001b[1;32m---> 23\u001b[0m     \u001b[38;5;28;01mreturn\u001b[39;00m \u001b[38;5;28mself\u001b[39m\u001b[38;5;241m.\u001b[39m_y_true\n",
            "\u001b[1;31mAttributeError\u001b[0m: 'Model' object has no attribute '_y_true'"
          ]
        }
      ]
    },
    {
      "cell_type": "code",
      "source": [
        "model.__dict__"
      ],
      "metadata": {
        "colab": {
          "base_uri": "https://localhost:8080/"
        },
        "id": "OgDLqOkAbb3g",
        "outputId": "0baec077-6fc3-40f3-9972-91dc54c720ff"
      },
      "execution_count": 83,
      "outputs": [
        {
          "output_type": "execute_result",
          "data": {
            "text/plain": [
              "{'_y_pred': [0, 0, 1, 0, 0, 0, 0], '_accuracy': 0.8571428571428571}"
            ]
          },
          "metadata": {},
          "execution_count": 83
        }
      ]
    },
    {
      "cell_type": "code",
      "source": [
        "model.y_true = [0, 0, 1, 0, 0, 1, 0]"
      ],
      "metadata": {
        "id": "SQ8Y-jvsbdDn"
      },
      "execution_count": 84,
      "outputs": []
    },
    {
      "cell_type": "code",
      "source": [
        "model.__dict__"
      ],
      "metadata": {
        "colab": {
          "base_uri": "https://localhost:8080/"
        },
        "id": "xq0WCtX0bjue",
        "outputId": "52620d4d-eae0-4222-ec3f-5410d72808bb"
      },
      "execution_count": 85,
      "outputs": [
        {
          "output_type": "execute_result",
          "data": {
            "text/plain": [
              "{'_y_pred': [0, 0, 1, 0, 0, 0, 0],\n",
              " '_accuracy': 0.8571428571428571,\n",
              " '_y_true': [0, 0, 1, 0, 0, 1, 0]}"
            ]
          },
          "metadata": {},
          "execution_count": 85
        }
      ]
    },
    {
      "cell_type": "code",
      "source": [
        "model.accuracy"
      ],
      "metadata": {
        "colab": {
          "base_uri": "https://localhost:8080/"
        },
        "id": "W4H4pTwPblCm",
        "outputId": "a539750c-e6c1-4893-89e4-acf4986ff76a"
      },
      "execution_count": 86,
      "outputs": [
        {
          "output_type": "stream",
          "name": "stdout",
          "text": [
            "Model accuracy: 0.8571\n"
          ]
        }
      ]
    },
    {
      "cell_type": "code",
      "source": [
        "class Model:\n",
        "\n",
        "    def __init__(self, y_true, y_pred):\n",
        "\n",
        "        Model._validate_input(y_true, 'y_true')\n",
        "        Model._validate_input(y_pred, 'y_pred')\n",
        "\n",
        "        if not len(y_true) == len(y_pred):\n",
        "            raise ValueError('The y_true and y_pred objects must be of same '\n",
        "                'length.')\n",
        "\n",
        "        self._y_true = y_true\n",
        "        self._y_pred = y_pred\n",
        "        self._accuracy = None\n",
        "\n",
        "    def _validate_input(iters, var_name):\n",
        "        if not isinstance(iters, (list, tuple)):\n",
        "            raise TypeError(f'The {var_name} object must be of type list or '\n",
        "                f'tuple. Not {type(iters).__name__}.')\n",
        "\n",
        "    def _validate_value(self, value, var_name):\n",
        "        if not isinstance(value, (list, tuple)):\n",
        "            raise TypeError(f'The value must be a list or tuple object. '\n",
        "                f'Not {type(value).__name__}.')\n",
        "\n",
        "        mapping = {'y_true': '_y_pred', 'y_pred': '_y_true'}\n",
        "\n",
        "        if not len(value) == len(getattr(self, mapping[var_name])):\n",
        "            raise ValueError(f'The {var_name} object must be of length '\n",
        "                f'{len(getattr(self, mapping[var_name]))}.')\n",
        "\n",
        "    @property\n",
        "    def y_true(self):\n",
        "        return self._y_true\n",
        "\n",
        "    @y_true.setter\n",
        "    def y_true(self, value):\n",
        "\n",
        "        Model._validate_value(self, value, 'y_true')\n",
        "\n",
        "        self._y_pred = value\n",
        "        self._accuracy = None\n",
        "\n",
        "    @y_true.deleter\n",
        "    def y_true(self):\n",
        "        print('deleting...')\n",
        "        del self._y_true\n",
        "\n",
        "    @property\n",
        "    def y_pred(self):\n",
        "        return self._y_pred\n",
        "\n",
        "    @y_pred.setter\n",
        "    def y_pred(self, value):\n",
        "\n",
        "        Model._validate_value(self, value, 'y_pred')\n",
        "\n",
        "        self._y_pred = value\n",
        "        self._accuracy = None\n",
        "\n",
        "    @y_pred.deleter\n",
        "    def y_pred(self):\n",
        "        print('deleting...')\n",
        "        del self._y_pred\n",
        "\n",
        "    @property\n",
        "    def accuracy(self):\n",
        "        if not self._accuracy:\n",
        "            print('Calculating...')\n",
        "            self._accuracy = sum([i == j\n",
        "                for i, j in zip(self.y_true, self.y_pred)]) / len(self.y_true)\n",
        "        print(f'Model accuracy: {self._accuracy:.4f}')\n",
        "\n",
        "model = Model([0, 0, 1, 0, 0, 1, 0], [0, 0, 1, 0, 0, 0, 0])"
      ],
      "metadata": {
        "id": "IdwN17uWbmkq"
      },
      "execution_count": 88,
      "outputs": []
    },
    {
      "cell_type": "code",
      "source": [
        "model.accuracy"
      ],
      "metadata": {
        "colab": {
          "base_uri": "https://localhost:8080/"
        },
        "id": "yi7C2YX0cv4L",
        "outputId": "08eba7eb-5cef-4d6e-e03e-1ca896e4e169"
      },
      "execution_count": 89,
      "outputs": [
        {
          "output_type": "stream",
          "name": "stdout",
          "text": [
            "Calculating...\n",
            "Model accuracy: 0.8571\n"
          ]
        }
      ]
    },
    {
      "cell_type": "code",
      "source": [
        "model = Model('var1', [0, 0, 1, 0, 0, 0, 0])"
      ],
      "metadata": {
        "colab": {
          "base_uri": "https://localhost:8080/",
          "height": 349
        },
        "id": "CAoS1Wqgc5IV",
        "outputId": "ce8b463f-a58c-44de-a713-97f9beb9057d"
      },
      "execution_count": 90,
      "outputs": [
        {
          "output_type": "error",
          "ename": "TypeError",
          "evalue": "The y_true object must be of type list or tuple. Not str.",
          "traceback": [
            "\u001b[1;31m---------------------------------------------------------------------------\u001b[0m",
            "\u001b[1;31mTypeError\u001b[0m                                 Traceback (most recent call last)",
            "Cell \u001b[1;32mIn[90], line 1\u001b[0m\n\u001b[1;32m----> 1\u001b[0m model \u001b[38;5;241m=\u001b[39m Model(\u001b[38;5;124m'\u001b[39m\u001b[38;5;124mvar1\u001b[39m\u001b[38;5;124m'\u001b[39m, [\u001b[38;5;241m0\u001b[39m, \u001b[38;5;241m0\u001b[39m, \u001b[38;5;241m1\u001b[39m, \u001b[38;5;241m0\u001b[39m, \u001b[38;5;241m0\u001b[39m, \u001b[38;5;241m0\u001b[39m, \u001b[38;5;241m0\u001b[39m])\n",
            "Cell \u001b[1;32mIn[88], line 5\u001b[0m, in \u001b[0;36mModel.__init__\u001b[1;34m(self, y_true, y_pred)\u001b[0m\n\u001b[0;32m      3\u001b[0m \u001b[38;5;28;01mdef\u001b[39;00m \u001b[38;5;21m__init__\u001b[39m(\u001b[38;5;28mself\u001b[39m, y_true, y_pred): \n\u001b[1;32m----> 5\u001b[0m     Model\u001b[38;5;241m.\u001b[39m_validate_input(y_true, \u001b[38;5;124m'\u001b[39m\u001b[38;5;124my_true\u001b[39m\u001b[38;5;124m'\u001b[39m)\n\u001b[0;32m      6\u001b[0m     Model\u001b[38;5;241m.\u001b[39m_validate_input(y_pred, \u001b[38;5;124m'\u001b[39m\u001b[38;5;124my_pred\u001b[39m\u001b[38;5;124m'\u001b[39m)\n\u001b[0;32m      8\u001b[0m     \u001b[38;5;28;01mif\u001b[39;00m \u001b[38;5;129;01mnot\u001b[39;00m \u001b[38;5;28mlen\u001b[39m(y_true) \u001b[38;5;241m==\u001b[39m \u001b[38;5;28mlen\u001b[39m(y_pred):\n",
            "Cell \u001b[1;32mIn[88], line 18\u001b[0m, in \u001b[0;36mModel._validate_input\u001b[1;34m(iters, var_name)\u001b[0m\n\u001b[0;32m     16\u001b[0m \u001b[38;5;28;01mdef\u001b[39;00m \u001b[38;5;21m_validate_input\u001b[39m(iters, var_name):\n\u001b[0;32m     17\u001b[0m     \u001b[38;5;28;01mif\u001b[39;00m \u001b[38;5;129;01mnot\u001b[39;00m \u001b[38;5;28misinstance\u001b[39m(iters, (\u001b[38;5;28mlist\u001b[39m, \u001b[38;5;28mtuple\u001b[39m)):\n\u001b[1;32m---> 18\u001b[0m         \u001b[38;5;28;01mraise\u001b[39;00m \u001b[38;5;167;01mTypeError\u001b[39;00m(\u001b[38;5;124mf\u001b[39m\u001b[38;5;124m'\u001b[39m\u001b[38;5;124mThe \u001b[39m\u001b[38;5;132;01m{\u001b[39;00mvar_name\u001b[38;5;132;01m}\u001b[39;00m\u001b[38;5;124m object must be of type list or \u001b[39m\u001b[38;5;124m'\u001b[39m\n\u001b[0;32m     19\u001b[0m             \u001b[38;5;124mf\u001b[39m\u001b[38;5;124m'\u001b[39m\u001b[38;5;124mtuple. Not \u001b[39m\u001b[38;5;132;01m{\u001b[39;00m\u001b[38;5;28mtype\u001b[39m(iters)\u001b[38;5;241m.\u001b[39m\u001b[38;5;18m__name__\u001b[39m\u001b[38;5;132;01m}\u001b[39;00m\u001b[38;5;124m.\u001b[39m\u001b[38;5;124m'\u001b[39m)\n",
            "\u001b[1;31mTypeError\u001b[0m: The y_true object must be of type list or tuple. Not str."
          ]
        }
      ]
    },
    {
      "cell_type": "code",
      "source": [
        "model = Model([0, 0, 1, 0, 0, 1, 0], 'var1')"
      ],
      "metadata": {
        "colab": {
          "base_uri": "https://localhost:8080/",
          "height": 384
        },
        "id": "iDEHPRqfc6KZ",
        "outputId": "6c4c1ff3-8b41-4751-c90e-84da5ab8fa2f"
      },
      "execution_count": 91,
      "outputs": [
        {
          "output_type": "error",
          "ename": "TypeError",
          "evalue": "The y_pred object must be of type list or tuple. Not str.",
          "traceback": [
            "\u001b[1;31m---------------------------------------------------------------------------\u001b[0m",
            "\u001b[1;31mTypeError\u001b[0m                                 Traceback (most recent call last)",
            "Cell \u001b[1;32mIn[91], line 1\u001b[0m\n\u001b[1;32m----> 1\u001b[0m model \u001b[38;5;241m=\u001b[39m Model([\u001b[38;5;241m0\u001b[39m, \u001b[38;5;241m0\u001b[39m, \u001b[38;5;241m1\u001b[39m, \u001b[38;5;241m0\u001b[39m, \u001b[38;5;241m0\u001b[39m, \u001b[38;5;241m1\u001b[39m, \u001b[38;5;241m0\u001b[39m], \u001b[38;5;124m'\u001b[39m\u001b[38;5;124mvar1\u001b[39m\u001b[38;5;124m'\u001b[39m)\n",
            "Cell \u001b[1;32mIn[88], line 6\u001b[0m, in \u001b[0;36mModel.__init__\u001b[1;34m(self, y_true, y_pred)\u001b[0m\n\u001b[0;32m      3\u001b[0m \u001b[38;5;28;01mdef\u001b[39;00m \u001b[38;5;21m__init__\u001b[39m(\u001b[38;5;28mself\u001b[39m, y_true, y_pred): \n\u001b[0;32m      5\u001b[0m     Model\u001b[38;5;241m.\u001b[39m_validate_input(y_true, \u001b[38;5;124m'\u001b[39m\u001b[38;5;124my_true\u001b[39m\u001b[38;5;124m'\u001b[39m)\n\u001b[1;32m----> 6\u001b[0m     Model\u001b[38;5;241m.\u001b[39m_validate_input(y_pred, \u001b[38;5;124m'\u001b[39m\u001b[38;5;124my_pred\u001b[39m\u001b[38;5;124m'\u001b[39m)\n\u001b[0;32m      8\u001b[0m     \u001b[38;5;28;01mif\u001b[39;00m \u001b[38;5;129;01mnot\u001b[39;00m \u001b[38;5;28mlen\u001b[39m(y_true) \u001b[38;5;241m==\u001b[39m \u001b[38;5;28mlen\u001b[39m(y_pred):\n\u001b[0;32m      9\u001b[0m         \u001b[38;5;28;01mraise\u001b[39;00m \u001b[38;5;167;01mValueError\u001b[39;00m(\u001b[38;5;124m'\u001b[39m\u001b[38;5;124mThe y_true and y_pred objects must be of same \u001b[39m\u001b[38;5;124m'\u001b[39m\n\u001b[0;32m     10\u001b[0m             \u001b[38;5;124m'\u001b[39m\u001b[38;5;124mlength.\u001b[39m\u001b[38;5;124m'\u001b[39m)         \n",
            "Cell \u001b[1;32mIn[88], line 18\u001b[0m, in \u001b[0;36mModel._validate_input\u001b[1;34m(iters, var_name)\u001b[0m\n\u001b[0;32m     16\u001b[0m \u001b[38;5;28;01mdef\u001b[39;00m \u001b[38;5;21m_validate_input\u001b[39m(iters, var_name):\n\u001b[0;32m     17\u001b[0m     \u001b[38;5;28;01mif\u001b[39;00m \u001b[38;5;129;01mnot\u001b[39;00m \u001b[38;5;28misinstance\u001b[39m(iters, (\u001b[38;5;28mlist\u001b[39m, \u001b[38;5;28mtuple\u001b[39m)):\n\u001b[1;32m---> 18\u001b[0m         \u001b[38;5;28;01mraise\u001b[39;00m \u001b[38;5;167;01mTypeError\u001b[39;00m(\u001b[38;5;124mf\u001b[39m\u001b[38;5;124m'\u001b[39m\u001b[38;5;124mThe \u001b[39m\u001b[38;5;132;01m{\u001b[39;00mvar_name\u001b[38;5;132;01m}\u001b[39;00m\u001b[38;5;124m object must be of type list or \u001b[39m\u001b[38;5;124m'\u001b[39m\n\u001b[0;32m     19\u001b[0m             \u001b[38;5;124mf\u001b[39m\u001b[38;5;124m'\u001b[39m\u001b[38;5;124mtuple. Not \u001b[39m\u001b[38;5;132;01m{\u001b[39;00m\u001b[38;5;28mtype\u001b[39m(iters)\u001b[38;5;241m.\u001b[39m\u001b[38;5;18m__name__\u001b[39m\u001b[38;5;132;01m}\u001b[39;00m\u001b[38;5;124m.\u001b[39m\u001b[38;5;124m'\u001b[39m)\n",
            "\u001b[1;31mTypeError\u001b[0m: The y_pred object must be of type list or tuple. Not str."
          ]
        }
      ]
    },
    {
      "cell_type": "code",
      "source": [
        "model = Model([0, 0, 1, 0, 0, 1, 0], [0, 0, 1, 0, 0, 0, 0, 1])"
      ],
      "metadata": {
        "colab": {
          "base_uri": "https://localhost:8080/",
          "height": 280
        },
        "id": "V1xSXf3pc7Yf",
        "outputId": "7f26debd-ce32-4be0-9664-fef4623df226"
      },
      "execution_count": 92,
      "outputs": [
        {
          "output_type": "error",
          "ename": "ValueError",
          "evalue": "The y_true and y_pred objects must be of same length.",
          "traceback": [
            "\u001b[1;31m---------------------------------------------------------------------------\u001b[0m",
            "\u001b[1;31mValueError\u001b[0m                                Traceback (most recent call last)",
            "Cell \u001b[1;32mIn[92], line 1\u001b[0m\n\u001b[1;32m----> 1\u001b[0m model \u001b[38;5;241m=\u001b[39m Model([\u001b[38;5;241m0\u001b[39m, \u001b[38;5;241m0\u001b[39m, \u001b[38;5;241m1\u001b[39m, \u001b[38;5;241m0\u001b[39m, \u001b[38;5;241m0\u001b[39m, \u001b[38;5;241m1\u001b[39m, \u001b[38;5;241m0\u001b[39m], [\u001b[38;5;241m0\u001b[39m, \u001b[38;5;241m0\u001b[39m, \u001b[38;5;241m1\u001b[39m, \u001b[38;5;241m0\u001b[39m, \u001b[38;5;241m0\u001b[39m, \u001b[38;5;241m0\u001b[39m, \u001b[38;5;241m0\u001b[39m, \u001b[38;5;241m1\u001b[39m])\n",
            "Cell \u001b[1;32mIn[88], line 9\u001b[0m, in \u001b[0;36mModel.__init__\u001b[1;34m(self, y_true, y_pred)\u001b[0m\n\u001b[0;32m      6\u001b[0m Model\u001b[38;5;241m.\u001b[39m_validate_input(y_pred, \u001b[38;5;124m'\u001b[39m\u001b[38;5;124my_pred\u001b[39m\u001b[38;5;124m'\u001b[39m)\n\u001b[0;32m      8\u001b[0m \u001b[38;5;28;01mif\u001b[39;00m \u001b[38;5;129;01mnot\u001b[39;00m \u001b[38;5;28mlen\u001b[39m(y_true) \u001b[38;5;241m==\u001b[39m \u001b[38;5;28mlen\u001b[39m(y_pred):\n\u001b[1;32m----> 9\u001b[0m     \u001b[38;5;28;01mraise\u001b[39;00m \u001b[38;5;167;01mValueError\u001b[39;00m(\u001b[38;5;124m'\u001b[39m\u001b[38;5;124mThe y_true and y_pred objects must be of same \u001b[39m\u001b[38;5;124m'\u001b[39m\n\u001b[0;32m     10\u001b[0m         \u001b[38;5;124m'\u001b[39m\u001b[38;5;124mlength.\u001b[39m\u001b[38;5;124m'\u001b[39m)         \n\u001b[0;32m     12\u001b[0m \u001b[38;5;28mself\u001b[39m\u001b[38;5;241m.\u001b[39m_y_true \u001b[38;5;241m=\u001b[39m y_true\n\u001b[0;32m     13\u001b[0m \u001b[38;5;28mself\u001b[39m\u001b[38;5;241m.\u001b[39m_y_pred \u001b[38;5;241m=\u001b[39m y_pred\n",
            "\u001b[1;31mValueError\u001b[0m: The y_true and y_pred objects must be of same length."
          ]
        }
      ]
    },
    {
      "cell_type": "code",
      "source": [
        "model.y_true"
      ],
      "metadata": {
        "colab": {
          "base_uri": "https://localhost:8080/"
        },
        "id": "aEX3rfy4c8iy",
        "outputId": "70b3d8b5-0299-446a-8a40-2e5cfdce5911"
      },
      "execution_count": 93,
      "outputs": [
        {
          "output_type": "execute_result",
          "data": {
            "text/plain": [
              "[0, 0, 1, 0, 0, 1, 0]"
            ]
          },
          "metadata": {},
          "execution_count": 93
        }
      ]
    },
    {
      "cell_type": "code",
      "source": [
        "model.y_true = [0, 0, 1, 0, 0, 1, 1]"
      ],
      "metadata": {
        "id": "MbxogFBec9zR"
      },
      "execution_count": 94,
      "outputs": []
    },
    {
      "cell_type": "code",
      "source": [
        "model.y_pred = False"
      ],
      "metadata": {
        "colab": {
          "base_uri": "https://localhost:8080/",
          "height": 402
        },
        "id": "sQlNTSp_c-zq",
        "outputId": "fcd235cc-778f-49e6-ca49-075cf22fcefa"
      },
      "execution_count": 95,
      "outputs": [
        {
          "output_type": "error",
          "ename": "TypeError",
          "evalue": "The value must be a list or tuple object. Not bool.",
          "traceback": [
            "\u001b[1;31m---------------------------------------------------------------------------\u001b[0m",
            "\u001b[1;31mTypeError\u001b[0m                                 Traceback (most recent call last)",
            "Cell \u001b[1;32mIn[95], line 1\u001b[0m\n\u001b[1;32m----> 1\u001b[0m model\u001b[38;5;241m.\u001b[39my_pred \u001b[38;5;241m=\u001b[39m \u001b[38;5;28;01mFalse\u001b[39;00m\n",
            "Cell \u001b[1;32mIn[88], line 56\u001b[0m, in \u001b[0;36mModel.y_pred\u001b[1;34m(self, value)\u001b[0m\n\u001b[0;32m     53\u001b[0m \u001b[38;5;129m@y_pred\u001b[39m\u001b[38;5;241m.\u001b[39msetter\n\u001b[0;32m     54\u001b[0m \u001b[38;5;28;01mdef\u001b[39;00m \u001b[38;5;21my_pred\u001b[39m(\u001b[38;5;28mself\u001b[39m, value):\n\u001b[1;32m---> 56\u001b[0m     Model\u001b[38;5;241m.\u001b[39m_validate_value(\u001b[38;5;28mself\u001b[39m, value, \u001b[38;5;124m'\u001b[39m\u001b[38;5;124my_pred\u001b[39m\u001b[38;5;124m'\u001b[39m)                                                        \n\u001b[0;32m     58\u001b[0m     \u001b[38;5;28mself\u001b[39m\u001b[38;5;241m.\u001b[39m_y_pred \u001b[38;5;241m=\u001b[39m value\n\u001b[0;32m     59\u001b[0m     \u001b[38;5;28mself\u001b[39m\u001b[38;5;241m.\u001b[39m_accuracy \u001b[38;5;241m=\u001b[39m \u001b[38;5;28;01mNone\u001b[39;00m\n",
            "Cell \u001b[1;32mIn[88], line 23\u001b[0m, in \u001b[0;36mModel._validate_value\u001b[1;34m(self, value, var_name)\u001b[0m\n\u001b[0;32m     21\u001b[0m \u001b[38;5;28;01mdef\u001b[39;00m \u001b[38;5;21m_validate_value\u001b[39m(\u001b[38;5;28mself\u001b[39m, value, var_name):\n\u001b[0;32m     22\u001b[0m     \u001b[38;5;28;01mif\u001b[39;00m \u001b[38;5;129;01mnot\u001b[39;00m \u001b[38;5;28misinstance\u001b[39m(value, (\u001b[38;5;28mlist\u001b[39m, \u001b[38;5;28mtuple\u001b[39m)):\n\u001b[1;32m---> 23\u001b[0m         \u001b[38;5;28;01mraise\u001b[39;00m \u001b[38;5;167;01mTypeError\u001b[39;00m(\u001b[38;5;124mf\u001b[39m\u001b[38;5;124m'\u001b[39m\u001b[38;5;124mThe value must be a list or tuple object. \u001b[39m\u001b[38;5;124m'\u001b[39m\n\u001b[0;32m     24\u001b[0m             \u001b[38;5;124mf\u001b[39m\u001b[38;5;124m'\u001b[39m\u001b[38;5;124mNot \u001b[39m\u001b[38;5;132;01m{\u001b[39;00m\u001b[38;5;28mtype\u001b[39m(value)\u001b[38;5;241m.\u001b[39m\u001b[38;5;18m__name__\u001b[39m\u001b[38;5;132;01m}\u001b[39;00m\u001b[38;5;124m.\u001b[39m\u001b[38;5;124m'\u001b[39m)\n\u001b[0;32m     26\u001b[0m     mapping \u001b[38;5;241m=\u001b[39m {\u001b[38;5;124m'\u001b[39m\u001b[38;5;124my_true\u001b[39m\u001b[38;5;124m'\u001b[39m: \u001b[38;5;124m'\u001b[39m\u001b[38;5;124m_y_pred\u001b[39m\u001b[38;5;124m'\u001b[39m, \u001b[38;5;124m'\u001b[39m\u001b[38;5;124my_pred\u001b[39m\u001b[38;5;124m'\u001b[39m: \u001b[38;5;124m'\u001b[39m\u001b[38;5;124m_y_true\u001b[39m\u001b[38;5;124m'\u001b[39m}\n\u001b[0;32m     28\u001b[0m     \u001b[38;5;28;01mif\u001b[39;00m \u001b[38;5;129;01mnot\u001b[39;00m \u001b[38;5;28mlen\u001b[39m(value) \u001b[38;5;241m==\u001b[39m \u001b[38;5;28mlen\u001b[39m(\u001b[38;5;28mgetattr\u001b[39m(\u001b[38;5;28mself\u001b[39m, mapping[var_name])):\n",
            "\u001b[1;31mTypeError\u001b[0m: The value must be a list or tuple object. Not bool."
          ]
        }
      ]
    },
    {
      "cell_type": "code",
      "source": [
        "model.y_pred"
      ],
      "metadata": {
        "colab": {
          "base_uri": "https://localhost:8080/"
        },
        "id": "1jt_yPj5dAG3",
        "outputId": "c9209698-74be-4ca6-dd18-ec17b595257f"
      },
      "execution_count": 96,
      "outputs": [
        {
          "output_type": "execute_result",
          "data": {
            "text/plain": [
              "[0, 0, 1, 0, 0, 1, 1]"
            ]
          },
          "metadata": {},
          "execution_count": 96
        }
      ]
    },
    {
      "cell_type": "code",
      "source": [
        "model.y_pred = [0, 0, 1, 0, 0, 0, 0]"
      ],
      "metadata": {
        "id": "ozjrYi3edCqU"
      },
      "execution_count": 97,
      "outputs": []
    },
    {
      "cell_type": "code",
      "source": [
        "model.accuracy"
      ],
      "metadata": {
        "colab": {
          "base_uri": "https://localhost:8080/"
        },
        "id": "orrSlD30dDGL",
        "outputId": "cb16c3df-df8f-46e8-c0e1-8b340198bedf"
      },
      "execution_count": 98,
      "outputs": [
        {
          "output_type": "stream",
          "name": "stdout",
          "text": [
            "Calculating...\n",
            "Model accuracy: 0.8571\n"
          ]
        }
      ]
    },
    {
      "cell_type": "code",
      "source": [],
      "metadata": {
        "id": "hUmL36-GdEFL"
      },
      "execution_count": null,
      "outputs": []
    }
  ]
}