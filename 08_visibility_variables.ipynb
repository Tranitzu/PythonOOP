{
  "nbformat": 4,
  "nbformat_minor": 0,
  "metadata": {
    "colab": {
      "provenance": [],
      "authorship_tag": "ABX9TyOtzhXEKvefDdlI8xDJAlG6",
      "include_colab_link": true
    },
    "kernelspec": {
      "name": "python3",
      "display_name": "Python 3"
    },
    "language_info": {
      "name": "python"
    }
  },
  "cells": [
    {
      "cell_type": "markdown",
      "metadata": {
        "id": "view-in-github",
        "colab_type": "text"
      },
      "source": [
        "<a href=\"https://colab.research.google.com/github/Tranitzu/PythonOOP/blob/main/08_visibility_variables.ipynb\" target=\"_parent\"><img src=\"https://colab.research.google.com/assets/colab-badge.svg\" alt=\"Open In Colab\"/></a>"
      ]
    },
    {
      "cell_type": "markdown",
      "source": [
        "## Widoczność zmiennych\n",
        "\n",
        "Rodzaje zmiennych/atrybutów ze względu na widoczność:\n",
        "* publiczne – dostęp mają wszyscy, np. `var1`, `var2`\n",
        "* chronione – dostęp mają klasy dziedziczące, o tym opowiemy później, np. `_var1`, `_var2`\n",
        "* prywatne – dostęp ma tylko ta klasa, np. `__var1`, `__var2`"
      ],
      "metadata": {
        "id": "cpGTD_S-GEzD"
      }
    },
    {
      "cell_type": "code",
      "execution_count": 1,
      "metadata": {
        "id": "64xrLNjIF_uL",
        "colab": {
          "base_uri": "https://localhost:8080/"
        },
        "outputId": "b4a1ad2d-d08c-48b2-c602-2f268e77d00b"
      },
      "outputs": [
        {
          "output_type": "execute_result",
          "data": {
            "text/plain": [
              "mappingproxy({'__module__': '__main__',\n",
              "              'brand': 'Apple',\n",
              "              '__dict__': <attribute '__dict__' of 'Laptop' objects>,\n",
              "              '__weakref__': <attribute '__weakref__' of 'Laptop' objects>,\n",
              "              '__doc__': None})"
            ]
          },
          "metadata": {},
          "execution_count": 1
        }
      ],
      "source": [
        "class Laptop:\n",
        "\n",
        "    brand = 'Apple'\n",
        "\n",
        "Laptop.__dict__"
      ]
    },
    {
      "cell_type": "code",
      "source": [
        "Laptop.brand"
      ],
      "metadata": {
        "colab": {
          "base_uri": "https://localhost:8080/"
        },
        "id": "RDL5Nl2LDr7O",
        "outputId": "e7627acc-6f02-4174-fc03-f416dc95576a"
      },
      "execution_count": 3,
      "outputs": [
        {
          "output_type": "execute_result",
          "data": {
            "text/plain": [
              "'Apple'"
            ]
          },
          "metadata": {},
          "execution_count": 3
        }
      ]
    },
    {
      "cell_type": "code",
      "source": [
        "class Laptop:\n",
        "\n",
        "    brand = 'Apple'\n",
        "    _code = '0034'\n",
        "\n",
        "Laptop.__dict__"
      ],
      "metadata": {
        "colab": {
          "base_uri": "https://localhost:8080/"
        },
        "id": "EBlkG5pfDiR8",
        "outputId": "313d3d12-b3f4-4ac5-8a13-93e21f728fd4"
      },
      "execution_count": 2,
      "outputs": [
        {
          "output_type": "execute_result",
          "data": {
            "text/plain": [
              "mappingproxy({'__module__': '__main__',\n",
              "              'brand': 'Apple',\n",
              "              '_code': '0034',\n",
              "              '__dict__': <attribute '__dict__' of 'Laptop' objects>,\n",
              "              '__weakref__': <attribute '__weakref__' of 'Laptop' objects>,\n",
              "              '__doc__': None})"
            ]
          },
          "metadata": {},
          "execution_count": 2
        }
      ]
    },
    {
      "cell_type": "code",
      "source": [
        "Laptop._code"
      ],
      "metadata": {
        "colab": {
          "base_uri": "https://localhost:8080/"
        },
        "id": "JvlAXV-VDoQY",
        "outputId": "d7a9c975-fcc0-451e-8bdd-ce2b2f790ed0"
      },
      "execution_count": 4,
      "outputs": [
        {
          "output_type": "execute_result",
          "data": {
            "text/plain": [
              "'0034'"
            ]
          },
          "metadata": {},
          "execution_count": 4
        }
      ]
    },
    {
      "cell_type": "code",
      "source": [
        "class Laptop:\n",
        "\n",
        "    brand = 'Apple'\n",
        "    _code = '0034'\n",
        "    __wholesale_price = 2490\n",
        "\n",
        "Laptop.__dict__"
      ],
      "metadata": {
        "colab": {
          "base_uri": "https://localhost:8080/"
        },
        "id": "jFHo7OELDwQV",
        "outputId": "49b80491-2ed9-42ed-8470-2863a9d913a8"
      },
      "execution_count": 5,
      "outputs": [
        {
          "output_type": "execute_result",
          "data": {
            "text/plain": [
              "mappingproxy({'__module__': '__main__',\n",
              "              'brand': 'Apple',\n",
              "              '_code': '0034',\n",
              "              '_Laptop__wholesale_price': 2490,\n",
              "              '__dict__': <attribute '__dict__' of 'Laptop' objects>,\n",
              "              '__weakref__': <attribute '__weakref__' of 'Laptop' objects>,\n",
              "              '__doc__': None})"
            ]
          },
          "metadata": {},
          "execution_count": 5
        }
      ]
    },
    {
      "cell_type": "code",
      "source": [
        "Laptop._Laptop__wholesale_price"
      ],
      "metadata": {
        "colab": {
          "base_uri": "https://localhost:8080/"
        },
        "id": "G9o3OaKaD3b1",
        "outputId": "17870a69-4ac2-46d7-d9be-1503c1956069"
      },
      "execution_count": 6,
      "outputs": [
        {
          "output_type": "execute_result",
          "data": {
            "text/plain": [
              "2490"
            ]
          },
          "metadata": {},
          "execution_count": 6
        }
      ]
    },
    {
      "cell_type": "markdown",
      "source": [
        "###Przykład"
      ],
      "metadata": {
        "id": "OASobfsJEKgh"
      }
    },
    {
      "cell_type": "code",
      "source": [
        "class Laptop:\n",
        "\n",
        "    brand = 'Apple'\n",
        "    _usdpln = 4.0\n",
        "    __trade_margin = 0.3\n",
        "\n",
        "    def __init__(self, net_price):\n",
        "        self.net_price = net_price\n",
        "\n",
        "    def _convert_price(price):\n",
        "        return price * Laptop._usdpln * (1 + Laptop._Laptop__trade_margin)\n",
        "\n",
        "    def display_price_pln(self):\n",
        "        print(Laptop._convert_price(self.net_price))\n",
        "\n",
        "\n",
        "Laptop.__dict__"
      ],
      "metadata": {
        "colab": {
          "base_uri": "https://localhost:8080/"
        },
        "id": "0ezCHgEDEAyg",
        "outputId": "eaf579a5-8793-4bea-a4e0-b53e633fab82"
      },
      "execution_count": 12,
      "outputs": [
        {
          "output_type": "execute_result",
          "data": {
            "text/plain": [
              "mappingproxy({'__module__': '__main__',\n",
              "              'brand': 'Apple',\n",
              "              '_usdpln': 4.0,\n",
              "              '_Laptop__trade_margin': 0.3,\n",
              "              '__init__': <function __main__.Laptop.__init__(self, net_price)>,\n",
              "              '_convert_price': <function __main__.Laptop._convert_price(price)>,\n",
              "              'display_price_pln': <function __main__.Laptop.display_price_pln(self)>,\n",
              "              '__dict__': <attribute '__dict__' of 'Laptop' objects>,\n",
              "              '__weakref__': <attribute '__weakref__' of 'Laptop' objects>,\n",
              "              '__doc__': None})"
            ]
          },
          "metadata": {},
          "execution_count": 12
        }
      ]
    },
    {
      "cell_type": "code",
      "source": [
        "laptop = Laptop(3000)\n",
        "laptop.display_price_pln()"
      ],
      "metadata": {
        "colab": {
          "base_uri": "https://localhost:8080/"
        },
        "id": "Ic0Y0NvEFJ65",
        "outputId": "0af9b3c2-9bf8-4a5d-932e-aab4642b5c71"
      },
      "execution_count": 13,
      "outputs": [
        {
          "output_type": "stream",
          "name": "stdout",
          "text": [
            "15600.0\n"
          ]
        }
      ]
    },
    {
      "cell_type": "code",
      "source": [
        "class Laptop:\n",
        "\n",
        "    brand = 'Apple'\n",
        "    _usdpln = 4.0\n",
        "    __trade_margin = 0.3\n",
        "\n",
        "    def __init__(self, net_price):\n",
        "        self.net_price = net_price\n",
        "\n",
        "    def _convert_price(price):\n",
        "        return price * Laptop._usdpln * (1 + Laptop._Laptop__trade_margin)\n",
        "\n",
        "    def display_price_pln(self):\n",
        "        print(Laptop._convert_price(self.net_price))\n",
        "\n",
        "\n",
        "Laptop.__dict__"
      ],
      "metadata": {
        "id": "QK5KEKlfFTUM"
      },
      "execution_count": null,
      "outputs": []
    },
    {
      "cell_type": "markdown",
      "source": [
        "###Atrybuty instancji\n"
      ],
      "metadata": {
        "id": "ybQIr-gSLMO_"
      }
    },
    {
      "cell_type": "code",
      "source": [
        "class Laptop:\n",
        "\n",
        "    def __init__(self, brand):\n",
        "        self.brand = brand\n",
        "\n",
        "laptop = Laptop('Apple')\n",
        "laptop.brand"
      ],
      "metadata": {
        "colab": {
          "base_uri": "https://localhost:8080/"
        },
        "id": "p-Ahy3JWLOlZ",
        "outputId": "2ddc3464-4677-4899-df70-24c958348b24"
      },
      "execution_count": 14,
      "outputs": [
        {
          "output_type": "execute_result",
          "data": {
            "text/plain": [
              "'Apple'"
            ]
          },
          "metadata": {},
          "execution_count": 14
        }
      ]
    },
    {
      "cell_type": "code",
      "source": [
        "class Laptop:\n",
        "\n",
        "    def __init__(self, brand,code):\n",
        "        self.brand = brand\n",
        "        self._code = code\n",
        "\n",
        "laptop = Laptop('Apple', '0043')\n",
        "laptop._code"
      ],
      "metadata": {
        "colab": {
          "base_uri": "https://localhost:8080/"
        },
        "id": "OE7Jc5_MLUYg",
        "outputId": "1ad8ab3f-029a-4a94-d1f6-54fe935afe17"
      },
      "execution_count": 16,
      "outputs": [
        {
          "output_type": "execute_result",
          "data": {
            "text/plain": [
              "'0043'"
            ]
          },
          "metadata": {},
          "execution_count": 16
        }
      ]
    },
    {
      "cell_type": "code",
      "source": [
        "class Laptop:\n",
        "\n",
        "    def __init__(self, brand,code, wholesale_price):\n",
        "        self.brand = brand\n",
        "        self._code = code\n",
        "        self.__wholesale_price = wholesale_price\n",
        "\n",
        "laptop = Laptop('Apple', '0043', 3000)\n",
        "laptop._Laptop__wholesale_price"
      ],
      "metadata": {
        "colab": {
          "base_uri": "https://localhost:8080/"
        },
        "id": "1c884eTQSe0J",
        "outputId": "58a04115-bdaa-4011-ce13-67a5c63dcd4f"
      },
      "execution_count": 23,
      "outputs": [
        {
          "output_type": "execute_result",
          "data": {
            "text/plain": [
              "3000"
            ]
          },
          "metadata": {},
          "execution_count": 23
        }
      ]
    },
    {
      "cell_type": "code",
      "source": [
        "class Laptop:\n",
        "\n",
        "    def __init__(self, brand,code, wholesale_price):\n",
        "        self.brand = brand\n",
        "        self._code = code\n",
        "        self.__wholesale_price = wholesale_price\n",
        "\n",
        "    def info(self):\n",
        "        print(self.brand)\n",
        "        print(self._code)\n",
        "        print(self.__wholesale_price)\n",
        "\n",
        "laptop = Laptop('Apple', '0043', 3000)\n",
        "laptop.info()"
      ],
      "metadata": {
        "colab": {
          "base_uri": "https://localhost:8080/"
        },
        "id": "j7NQ4ztISp6B",
        "outputId": "44b522c2-ea4f-451e-8333-6114e751bb32"
      },
      "execution_count": 26,
      "outputs": [
        {
          "output_type": "stream",
          "name": "stdout",
          "text": [
            "Apple\n",
            "0043\n",
            "3000\n"
          ]
        }
      ]
    },
    {
      "cell_type": "markdown",
      "source": [
        "###Przykład"
      ],
      "metadata": {
        "id": "F7K4NeyTTLOv"
      }
    },
    {
      "cell_type": "code",
      "source": [
        "class HouseProject:\n",
        "\n",
        "    def __init__(self, area, number_of_floors):\n",
        "        self.area = area\n",
        "        self.number_of_floors = number_of_floors\n",
        "\n",
        "    def info(self):\n",
        "        print(f'Area: {instance.area}')\n",
        "        print(f'Number of floors: {instance.number_of_floors}')\n",
        "\n",
        "\n",
        "def info_ext(instance):\n",
        "    print(f'Area: {instance.area}')\n",
        "    print(f'Number of floors: {instance.number_of_floors}')\n",
        "\n",
        "\n",
        "project = HouseProject(100, 1)"
      ],
      "metadata": {
        "id": "IGkTX5dPTFuN"
      },
      "execution_count": 28,
      "outputs": []
    },
    {
      "cell_type": "code",
      "source": [
        "project"
      ],
      "metadata": {
        "colab": {
          "base_uri": "https://localhost:8080/"
        },
        "id": "XQxeadV6Tp3N",
        "outputId": "78b3caed-ba8a-44cb-f282-a2124e9b6d30"
      },
      "execution_count": 29,
      "outputs": [
        {
          "output_type": "execute_result",
          "data": {
            "text/plain": [
              "<__main__.HouseProject at 0x16bbafcc5c0>"
            ]
          },
          "metadata": {},
          "execution_count": 29
        }
      ]
    },
    {
      "cell_type": "code",
      "source": [],
      "metadata": {
        "colab": {
          "base_uri": "https://localhost:8080/",
          "height": 228
        },
        "id": "GCg9b0IbTzra",
        "outputId": "d67662b2-087e-4cc0-d499-1507e99cbf72"
      },
      "execution_count": 30,
      "outputs": [
        {
          "output_type": "error",
          "ename": "NameError",
          "evalue": "name 'instance' is not defined",
          "traceback": [
            "\u001b[1;31m---------------------------------------------------------------------------\u001b[0m",
            "\u001b[1;31mNameError\u001b[0m                                 Traceback (most recent call last)",
            "Cell \u001b[1;32mIn[30], line 1\u001b[0m\n\u001b[1;32m----> 1\u001b[0m project\u001b[38;5;241m.\u001b[39minfo()\n",
            "Cell \u001b[1;32mIn[28], line 8\u001b[0m, in \u001b[0;36mHouseProject.info\u001b[1;34m(self)\u001b[0m\n\u001b[0;32m      7\u001b[0m \u001b[38;5;28;01mdef\u001b[39;00m \u001b[38;5;21minfo\u001b[39m(\u001b[38;5;28mself\u001b[39m):\n\u001b[1;32m----> 8\u001b[0m     \u001b[38;5;28mprint\u001b[39m(\u001b[38;5;124mf\u001b[39m\u001b[38;5;124m'\u001b[39m\u001b[38;5;124mArea: \u001b[39m\u001b[38;5;132;01m{\u001b[39;00minstance\u001b[38;5;241m.\u001b[39marea\u001b[38;5;132;01m}\u001b[39;00m\u001b[38;5;124m'\u001b[39m)        \n\u001b[0;32m      9\u001b[0m     \u001b[38;5;28mprint\u001b[39m(\u001b[38;5;124mf\u001b[39m\u001b[38;5;124m'\u001b[39m\u001b[38;5;124mNumber of floors: \u001b[39m\u001b[38;5;132;01m{\u001b[39;00minstance\u001b[38;5;241m.\u001b[39mnumber_of_floors\u001b[38;5;132;01m}\u001b[39;00m\u001b[38;5;124m'\u001b[39m)\n",
            "\u001b[1;31mNameError\u001b[0m: name 'instance' is not defined"
          ]
        }
      ]
    },
    {
      "cell_type": "code",
      "source": [],
      "metadata": {
        "id": "bgInj6g7T05L"
      },
      "execution_count": null,
      "outputs": []
    }
  ]
}