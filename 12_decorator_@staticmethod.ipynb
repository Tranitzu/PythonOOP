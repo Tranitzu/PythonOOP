{
  "nbformat": 4,
  "nbformat_minor": 0,
  "metadata": {
    "colab": {
      "provenance": [],
      "authorship_tag": "ABX9TyPDwq5dbPtMFxbeUvcJLqn5",
      "include_colab_link": true
    },
    "kernelspec": {
      "name": "python3",
      "display_name": "Python 3"
    },
    "language_info": {
      "name": "python"
    }
  },
  "cells": [
    {
      "cell_type": "markdown",
      "metadata": {
        "id": "view-in-github",
        "colab_type": "text"
      },
      "source": [
        "<a href=\"https://colab.research.google.com/github/Tranitzu/PythonOOP/blob/main/12_decorator_%40staticmethod.ipynb\" target=\"_parent\"><img src=\"https://colab.research.google.com/assets/colab-badge.svg\" alt=\"Open In Colab\"/></a>"
      ]
    },
    {
      "cell_type": "markdown",
      "source": [
        "### Metoda statyczna i dekorator `@staticmethod`"
      ],
      "metadata": {
        "id": "T-PszxyMXgsA"
      }
    },
    {
      "cell_type": "code",
      "execution_count": null,
      "metadata": {
        "colab": {
          "base_uri": "https://localhost:8080/"
        },
        "id": "UAqvTzdrXdd0",
        "outputId": "14b056d0-552e-4af4-e2a0-f9707f7dba00"
      },
      "outputs": [
        {
          "output_type": "stream",
          "name": "stdout",
          "text": [
            "Help on class staticmethod in module builtins:\n",
            "\n",
            "class staticmethod(object)\n",
            " |  staticmethod(function) -> method\n",
            " |\n",
            " |  Convert a function to be a static method.\n",
            " |\n",
            " |  A static method does not receive an implicit first argument.\n",
            " |  To declare a static method, use this idiom:\n",
            " |\n",
            " |       class C:\n",
            " |           @staticmethod\n",
            " |           def f(arg1, arg2, argN):\n",
            " |               ...\n",
            " |\n",
            " |  It can be called either on the class (e.g. C.f()) or on an instance\n",
            " |  (e.g. C().f()). Both the class and the instance are ignored, and\n",
            " |  neither is passed implicitly as the first argument to the method.\n",
            " |\n",
            " |  Static methods in Python are similar to those found in Java or C++.\n",
            " |  For a more advanced concept, see the classmethod builtin.\n",
            " |\n",
            " |  Methods defined here:\n",
            " |\n",
            " |  __call__(self, /, *args, **kwargs)\n",
            " |      Call self as a function.\n",
            " |\n",
            " |  __get__(self, instance, owner=None, /)\n",
            " |      Return an attribute of instance, which is of type owner.\n",
            " |\n",
            " |  __init__(self, /, *args, **kwargs)\n",
            " |      Initialize self.  See help(type(self)) for accurate signature.\n",
            " |\n",
            " |  __repr__(self, /)\n",
            " |      Return repr(self).\n",
            " |\n",
            " |  ----------------------------------------------------------------------\n",
            " |  Static methods defined here:\n",
            " |\n",
            " |  __new__(*args, **kwargs)\n",
            " |      Create and return a new object.  See help(type) for accurate signature.\n",
            " |\n",
            " |  ----------------------------------------------------------------------\n",
            " |  Data descriptors defined here:\n",
            " |\n",
            " |  __dict__\n",
            " |\n",
            " |  __func__\n",
            " |\n",
            " |  __isabstractmethod__\n",
            " |\n",
            " |  __wrapped__\n",
            "\n"
          ]
        }
      ],
      "source": [
        "help(staticmethod)"
      ]
    },
    {
      "cell_type": "code",
      "source": [
        "import time\n",
        "\n",
        "\n",
        "class Phone:\n",
        "\n",
        "    def get_current_time():\n",
        "        return time.strftime('%H:%M:%S', time.localtime())\n",
        "\n",
        "Phone.__dict__"
      ],
      "metadata": {
        "id": "RyznUa35X6aN",
        "colab": {
          "base_uri": "https://localhost:8080/"
        },
        "outputId": "d356fc48-ee87-4d38-a2c6-bbda6cfd239c"
      },
      "execution_count": 1,
      "outputs": [
        {
          "output_type": "execute_result",
          "data": {
            "text/plain": [
              "mappingproxy({'__module__': '__main__',\n",
              "              'get_current_time': <function __main__.Phone.get_current_time()>,\n",
              "              '__dict__': <attribute '__dict__' of 'Phone' objects>,\n",
              "              '__weakref__': <attribute '__weakref__' of 'Phone' objects>,\n",
              "              '__doc__': None})"
            ]
          },
          "metadata": {},
          "execution_count": 1
        }
      ]
    },
    {
      "cell_type": "code",
      "source": [
        "Phone.get_current_time()"
      ],
      "metadata": {
        "colab": {
          "base_uri": "https://localhost:8080/"
        },
        "id": "bj3g0ElVBnQc",
        "outputId": "cbdbc827-ff24-452d-835c-f2f54f566adb"
      },
      "execution_count": 2,
      "outputs": [
        {
          "output_type": "execute_result",
          "data": {
            "text/plain": [
              "'18:33:34'"
            ]
          },
          "metadata": {},
          "execution_count": 2
        }
      ]
    },
    {
      "cell_type": "code",
      "source": [
        "phone = Phone()\n",
        "phone.get_current_time"
      ],
      "metadata": {
        "colab": {
          "base_uri": "https://localhost:8080/"
        },
        "id": "C2x6H-kYB-ql",
        "outputId": "4295bd5b-7575-435f-8d1d-1def244415f0"
      },
      "execution_count": 3,
      "outputs": [
        {
          "output_type": "execute_result",
          "data": {
            "text/plain": [
              "<bound method Phone.get_current_time of <__main__.Phone object at 0x0000029B29E2B020>>"
            ]
          },
          "metadata": {},
          "execution_count": 3
        }
      ]
    },
    {
      "cell_type": "code",
      "source": [
        "phone.get_current_time()"
      ],
      "metadata": {
        "colab": {
          "base_uri": "https://localhost:8080/",
          "height": 141
        },
        "id": "43DA0sCZCCIu",
        "outputId": "8aac734f-463d-4617-8899-92c926c38299"
      },
      "execution_count": 4,
      "outputs": [
        {
          "output_type": "error",
          "ename": "TypeError",
          "evalue": "Phone.get_current_time() takes 0 positional arguments but 1 was given",
          "traceback": [
            "\u001b[1;31m---------------------------------------------------------------------------\u001b[0m",
            "\u001b[1;31mTypeError\u001b[0m                                 Traceback (most recent call last)",
            "Cell \u001b[1;32mIn[4], line 1\u001b[0m\n\u001b[1;32m----> 1\u001b[0m phone\u001b[38;5;241m.\u001b[39mget_current_time()\n",
            "\u001b[1;31mTypeError\u001b[0m: Phone.get_current_time() takes 0 positional arguments but 1 was given"
          ]
        }
      ]
    },
    {
      "cell_type": "code",
      "source": [
        "import time\n",
        "\n",
        "\n",
        "class Phone:\n",
        "\n",
        "    def get_current_time():\n",
        "        return time.strftime('%H:%M:%S', time.localtime())\n",
        "\n",
        "    get_current_time = staticmethod(get_current_time)\n",
        "\n",
        "Phone.__dict__"
      ],
      "metadata": {
        "colab": {
          "base_uri": "https://localhost:8080/"
        },
        "id": "OF70jRBjCDcd",
        "outputId": "62376a1b-8b52-44e0-a889-db8b8651e356"
      },
      "execution_count": 5,
      "outputs": [
        {
          "output_type": "execute_result",
          "data": {
            "text/plain": [
              "mappingproxy({'__module__': '__main__',\n",
              "              'get_current_time': <staticmethod(<function Phone.get_current_time at 0x0000029B2A347240>)>,\n",
              "              '__dict__': <attribute '__dict__' of 'Phone' objects>,\n",
              "              '__weakref__': <attribute '__weakref__' of 'Phone' objects>,\n",
              "              '__doc__': None})"
            ]
          },
          "metadata": {},
          "execution_count": 5
        }
      ]
    },
    {
      "cell_type": "code",
      "source": [
        "Phone.get_current_time()"
      ],
      "metadata": {
        "colab": {
          "base_uri": "https://localhost:8080/"
        },
        "id": "dmXytpPHEFqN",
        "outputId": "6d88cf3d-6d2e-4a51-966f-f31399493393"
      },
      "execution_count": 6,
      "outputs": [
        {
          "output_type": "execute_result",
          "data": {
            "text/plain": [
              "'18:42:55'"
            ]
          },
          "metadata": {},
          "execution_count": 6
        }
      ]
    },
    {
      "cell_type": "code",
      "source": [
        "phone = Phone()\n",
        "phone.get_current_time"
      ],
      "metadata": {
        "colab": {
          "base_uri": "https://localhost:8080/"
        },
        "id": "w-7Wr7gOEHif",
        "outputId": "80f65d8a-0446-4f0b-fa99-1c476abfea25"
      },
      "execution_count": 7,
      "outputs": [
        {
          "output_type": "execute_result",
          "data": {
            "text/plain": [
              "<function __main__.Phone.get_current_time()>"
            ]
          },
          "metadata": {},
          "execution_count": 7
        }
      ]
    },
    {
      "cell_type": "code",
      "source": [
        "phone.get_current_time()"
      ],
      "metadata": {
        "colab": {
          "base_uri": "https://localhost:8080/"
        },
        "id": "O1_p53H2EJTJ",
        "outputId": "374c225b-66be-4b86-b2ac-5367e0592316"
      },
      "execution_count": 8,
      "outputs": [
        {
          "output_type": "execute_result",
          "data": {
            "text/plain": [
              "'18:43:11'"
            ]
          },
          "metadata": {},
          "execution_count": 8
        }
      ]
    },
    {
      "cell_type": "code",
      "source": [
        "import time\n",
        "\n",
        "\n",
        "class Phone:\n",
        "\n",
        "    @staticmethod\n",
        "    def get_current_time():\n",
        "        return time.strftime('%H:%M:%S', time.localtime())\n",
        "\n",
        "\n",
        "Phone.__dict__"
      ],
      "metadata": {
        "colab": {
          "base_uri": "https://localhost:8080/"
        },
        "id": "s4t26fL4ELfQ",
        "outputId": "8c0c4111-ef46-46a8-d994-76bc7f509941"
      },
      "execution_count": 9,
      "outputs": [
        {
          "output_type": "execute_result",
          "data": {
            "text/plain": [
              "mappingproxy({'__module__': '__main__',\n",
              "              'get_current_time': <staticmethod(<function Phone.get_current_time at 0x0000029B2A344CC0>)>,\n",
              "              '__dict__': <attribute '__dict__' of 'Phone' objects>,\n",
              "              '__weakref__': <attribute '__weakref__' of 'Phone' objects>,\n",
              "              '__doc__': None})"
            ]
          },
          "metadata": {},
          "execution_count": 9
        }
      ]
    },
    {
      "cell_type": "code",
      "source": [
        "Phone.get_current_time()"
      ],
      "metadata": {
        "colab": {
          "base_uri": "https://localhost:8080/"
        },
        "id": "gdWBPFIaEPKZ",
        "outputId": "47da10b3-2616-4750-fd69-3fbe18bf4c89"
      },
      "execution_count": 10,
      "outputs": [
        {
          "output_type": "execute_result",
          "data": {
            "text/plain": [
              "'18:43:31'"
            ]
          },
          "metadata": {},
          "execution_count": 10
        }
      ]
    },
    {
      "cell_type": "code",
      "source": [
        "phone = Phone()\n",
        "phone.get_current_time"
      ],
      "metadata": {
        "colab": {
          "base_uri": "https://localhost:8080/"
        },
        "id": "HbzYJ-boEQW_",
        "outputId": "6d0a2590-b4df-449f-8df0-c846e0ea66e4"
      },
      "execution_count": 11,
      "outputs": [
        {
          "output_type": "execute_result",
          "data": {
            "text/plain": [
              "<function __main__.Phone.get_current_time()>"
            ]
          },
          "metadata": {},
          "execution_count": 11
        }
      ]
    },
    {
      "cell_type": "code",
      "source": [
        "phone.get_current_time()"
      ],
      "metadata": {
        "colab": {
          "base_uri": "https://localhost:8080/"
        },
        "id": "nzjWi-FcERoG",
        "outputId": "eae49c77-04c2-4330-f71c-7fd6a384c9db"
      },
      "execution_count": 12,
      "outputs": [
        {
          "output_type": "execute_result",
          "data": {
            "text/plain": [
              "'18:43:41'"
            ]
          },
          "metadata": {},
          "execution_count": 12
        }
      ]
    },
    {
      "cell_type": "markdown",
      "source": [
        "###Przykład"
      ],
      "metadata": {
        "id": "TeAkOKZYEZEE"
      }
    },
    {
      "cell_type": "code",
      "source": [
        "import time\n",
        "\n",
        "\n",
        "class Phone:\n",
        "\n",
        "    instances = []\n",
        "\n",
        "    def __init__(self):\n",
        "        creation_time = Phone.get_current_time()\n",
        "        Phone.instances.append((creation_time, self))\n",
        "\n",
        "    @staticmethod\n",
        "    def get_current_time():\n",
        "        return time.strftime('%H:%M:%S', time.localtime())\n",
        "\n",
        "\n",
        "Phone.__dict__"
      ],
      "metadata": {
        "colab": {
          "base_uri": "https://localhost:8080/"
        },
        "id": "I_OKEdW-ESyX",
        "outputId": "b8a5777f-215d-489d-e79f-e90e94ab63c3"
      },
      "execution_count": 17,
      "outputs": [
        {
          "output_type": "execute_result",
          "data": {
            "text/plain": [
              "mappingproxy({'__module__': '__main__',\n",
              "              'instances': [],\n",
              "              '__init__': <function __main__.Phone.__init__(self)>,\n",
              "              'get_current_time': <staticmethod(<function Phone.get_current_time at 0x0000029B2BB01440>)>,\n",
              "              '__dict__': <attribute '__dict__' of 'Phone' objects>,\n",
              "              '__weakref__': <attribute '__weakref__' of 'Phone' objects>,\n",
              "              '__doc__': None})"
            ]
          },
          "metadata": {},
          "execution_count": 17
        }
      ]
    },
    {
      "cell_type": "code",
      "source": [
        "phone1 = Phone()\n",
        "time.sleep(1)\n",
        "phone2 = Phone()\n",
        "time.sleep(2)\n",
        "phone3 = Phone()"
      ],
      "metadata": {
        "id": "Bz0gBueXEpIu"
      },
      "execution_count": 18,
      "outputs": []
    },
    {
      "cell_type": "code",
      "source": [
        "Phone.instances"
      ],
      "metadata": {
        "colab": {
          "base_uri": "https://localhost:8080/"
        },
        "id": "Y0PTqZSfEv5-",
        "outputId": "edd5c0ca-8384-4ce4-ef57-cc04b08dec1f"
      },
      "execution_count": 19,
      "outputs": [
        {
          "output_type": "execute_result",
          "data": {
            "text/plain": [
              "[('18:46:02', <__main__.Phone at 0x29b2bb37380>),\n",
              " ('18:46:03', <__main__.Phone at 0x29b2ace3e60>),\n",
              " ('18:46:05', <__main__.Phone at 0x29b2bb40860>)]"
            ]
          },
          "metadata": {},
          "execution_count": 19
        }
      ]
    },
    {
      "cell_type": "code",
      "source": [
        "import time\n",
        "\n",
        "\n",
        "class Phone:\n",
        "\n",
        "    instances = []\n",
        "\n",
        "    def __init__(self):\n",
        "        self.creation_time = Phone.get_current_time()\n",
        "        Phone.instances.append(self)\n",
        "\n",
        "    @staticmethod\n",
        "    def get_current_time():\n",
        "        return time.strftime('%H:%M:%S', time.localtime())\n",
        "\n",
        "\n",
        "Phone.__dict__"
      ],
      "metadata": {
        "colab": {
          "base_uri": "https://localhost:8080/"
        },
        "id": "2wi4KJtUE4Eb",
        "outputId": "995416cf-68bd-4314-f48f-231cf7a5aade"
      },
      "execution_count": 21,
      "outputs": [
        {
          "output_type": "execute_result",
          "data": {
            "text/plain": [
              "mappingproxy({'__module__': '__main__',\n",
              "              'instances': [],\n",
              "              '__init__': <function __main__.Phone.__init__(self)>,\n",
              "              'get_current_time': <staticmethod(<function Phone.get_current_time at 0x0000029B2A1358A0>)>,\n",
              "              '__dict__': <attribute '__dict__' of 'Phone' objects>,\n",
              "              '__weakref__': <attribute '__weakref__' of 'Phone' objects>,\n",
              "              '__doc__': None})"
            ]
          },
          "metadata": {},
          "execution_count": 21
        }
      ]
    },
    {
      "cell_type": "code",
      "source": [
        "phone1 = Phone()\n",
        "time.sleep(1)\n",
        "phone2 = Phone()\n",
        "time.sleep(2)\n",
        "phone3 = Phone()"
      ],
      "metadata": {
        "id": "Y64i4SwAE_sb"
      },
      "execution_count": 22,
      "outputs": []
    },
    {
      "cell_type": "code",
      "source": [
        "Phone.instances"
      ],
      "metadata": {
        "colab": {
          "base_uri": "https://localhost:8080/"
        },
        "id": "4u7pIBj7FBXA",
        "outputId": "786938a6-aaad-4838-c0f4-3223cda134cc"
      },
      "execution_count": 23,
      "outputs": [
        {
          "output_type": "execute_result",
          "data": {
            "text/plain": [
              "[<__main__.Phone at 0x29b2bb37e30>,\n",
              " <__main__.Phone at 0x29b2af55b50>,\n",
              " <__main__.Phone at 0x29b2baaf5c0>]"
            ]
          },
          "metadata": {},
          "execution_count": 23
        }
      ]
    },
    {
      "cell_type": "code",
      "source": [
        "for instance in Phone.instances:\n",
        "    print(instance.creation_time, instance)"
      ],
      "metadata": {
        "colab": {
          "base_uri": "https://localhost:8080/"
        },
        "id": "2Yzf6SWKFCqD",
        "outputId": "d46ef20c-6b5d-4d2c-d40d-c020f9ede3fb"
      },
      "execution_count": 25,
      "outputs": [
        {
          "output_type": "stream",
          "name": "stdout",
          "text": [
            "18:46:52 <__main__.Phone object at 0x0000029B2BB37E30>\n",
            "18:46:53 <__main__.Phone object at 0x0000029B2AF55B50>\n",
            "18:46:55 <__main__.Phone object at 0x0000029B2BAAF5C0>\n"
          ]
        }
      ]
    },
    {
      "cell_type": "markdown",
      "source": [
        "###Przykład"
      ],
      "metadata": {
        "id": "aanpW8eeHCy1"
      }
    },
    {
      "cell_type": "code",
      "source": [
        "class Person:\n",
        "\n",
        "    def __init__(self, input_str):\n",
        "        items = input_str.split(' ')\n",
        "        if len(items) > 1:\n",
        "            self._name = items[0]\n",
        "            self._surname = items[1]\n",
        "        else:\n",
        "            raise ValueError('The object cannot be created.')\n",
        "\n",
        "    @property\n",
        "    def name(self):\n",
        "        return self._name\n",
        "\n",
        "    @property\n",
        "    def surname(self):\n",
        "        return self._surname\n",
        "\n",
        "Person.__dict__"
      ],
      "metadata": {
        "colab": {
          "base_uri": "https://localhost:8080/"
        },
        "id": "B8h4SURXFFnX",
        "outputId": "06aa097e-2e8a-40d7-faf4-d3d3e5fed90b"
      },
      "execution_count": 32,
      "outputs": [
        {
          "output_type": "execute_result",
          "data": {
            "text/plain": [
              "mappingproxy({'__module__': '__main__',\n",
              "              '__init__': <function __main__.Person.__init__(self, input_str)>,\n",
              "              'name': <property at 0x29b2bac6480>,\n",
              "              'surname': <property at 0x29b2bac60c0>,\n",
              "              '__dict__': <attribute '__dict__' of 'Person' objects>,\n",
              "              '__weakref__': <attribute '__weakref__' of 'Person' objects>,\n",
              "              '__doc__': None})"
            ]
          },
          "metadata": {},
          "execution_count": 32
        }
      ]
    },
    {
      "cell_type": "code",
      "source": [
        "person = Person('Mark Twain')"
      ],
      "metadata": {
        "id": "HXJG4T0iH1Lv"
      },
      "execution_count": 33,
      "outputs": []
    },
    {
      "cell_type": "code",
      "source": [
        "person.__dict__"
      ],
      "metadata": {
        "colab": {
          "base_uri": "https://localhost:8080/"
        },
        "id": "ezRxXhbEH4ZL",
        "outputId": "506a6aa9-33ba-4f46-d93e-c6b8cfdaf7d2"
      },
      "execution_count": 34,
      "outputs": [
        {
          "output_type": "execute_result",
          "data": {
            "text/plain": [
              "{'_name': 'Mark', '_surname': 'Twain'}"
            ]
          },
          "metadata": {},
          "execution_count": 34
        }
      ]
    },
    {
      "cell_type": "code",
      "source": [
        "person.name, person.surname"
      ],
      "metadata": {
        "colab": {
          "base_uri": "https://localhost:8080/"
        },
        "id": "sk15-blxIKgV",
        "outputId": "d4627a26-10b8-485b-fb2f-cb21ccc41ddf"
      },
      "execution_count": 35,
      "outputs": [
        {
          "output_type": "execute_result",
          "data": {
            "text/plain": [
              "('Mark', 'Twain')"
            ]
          },
          "metadata": {},
          "execution_count": 35
        }
      ]
    },
    {
      "cell_type": "code",
      "source": [
        "person = Person('Mark')"
      ],
      "metadata": {
        "colab": {
          "base_uri": "https://localhost:8080/",
          "height": 228
        },
        "id": "mGRJqVy7INOh",
        "outputId": "f2931be0-7121-4106-9de5-b89f39e8e79d"
      },
      "execution_count": 36,
      "outputs": [
        {
          "output_type": "error",
          "ename": "ValueError",
          "evalue": "The object cannot be created.",
          "traceback": [
            "\u001b[1;31m---------------------------------------------------------------------------\u001b[0m",
            "\u001b[1;31mValueError\u001b[0m                                Traceback (most recent call last)",
            "Cell \u001b[1;32mIn[36], line 1\u001b[0m\n\u001b[1;32m----> 1\u001b[0m person \u001b[38;5;241m=\u001b[39m Person(\u001b[38;5;124m'\u001b[39m\u001b[38;5;124mMark\u001b[39m\u001b[38;5;124m'\u001b[39m)\n",
            "Cell \u001b[1;32mIn[32], line 9\u001b[0m, in \u001b[0;36mPerson.__init__\u001b[1;34m(self, input_str)\u001b[0m\n\u001b[0;32m      7\u001b[0m     \u001b[38;5;28mself\u001b[39m\u001b[38;5;241m.\u001b[39m_surname \u001b[38;5;241m=\u001b[39m items[\u001b[38;5;241m1\u001b[39m]\n\u001b[0;32m      8\u001b[0m \u001b[38;5;28;01melse\u001b[39;00m:\n\u001b[1;32m----> 9\u001b[0m     \u001b[38;5;28;01mraise\u001b[39;00m \u001b[38;5;167;01mValueError\u001b[39;00m(\u001b[38;5;124m'\u001b[39m\u001b[38;5;124mThe object cannot be created.\u001b[39m\u001b[38;5;124m'\u001b[39m)\n",
            "\u001b[1;31mValueError\u001b[0m: The object cannot be created."
          ]
        }
      ]
    },
    {
      "cell_type": "code",
      "source": [
        "person = Person('Mark-Twain')"
      ],
      "metadata": {
        "colab": {
          "base_uri": "https://localhost:8080/",
          "height": 228
        },
        "id": "FydZoTOYIPR2",
        "outputId": "a3e9e50a-50d9-4ad7-fb06-24c001b4e1d8"
      },
      "execution_count": 37,
      "outputs": [
        {
          "output_type": "error",
          "ename": "ValueError",
          "evalue": "The object cannot be created.",
          "traceback": [
            "\u001b[1;31m---------------------------------------------------------------------------\u001b[0m",
            "\u001b[1;31mValueError\u001b[0m                                Traceback (most recent call last)",
            "Cell \u001b[1;32mIn[37], line 1\u001b[0m\n\u001b[1;32m----> 1\u001b[0m person \u001b[38;5;241m=\u001b[39m Person(\u001b[38;5;124m'\u001b[39m\u001b[38;5;124mMark-Twain\u001b[39m\u001b[38;5;124m'\u001b[39m)\n",
            "Cell \u001b[1;32mIn[32], line 9\u001b[0m, in \u001b[0;36mPerson.__init__\u001b[1;34m(self, input_str)\u001b[0m\n\u001b[0;32m      7\u001b[0m     \u001b[38;5;28mself\u001b[39m\u001b[38;5;241m.\u001b[39m_surname \u001b[38;5;241m=\u001b[39m items[\u001b[38;5;241m1\u001b[39m]\n\u001b[0;32m      8\u001b[0m \u001b[38;5;28;01melse\u001b[39;00m:\n\u001b[1;32m----> 9\u001b[0m     \u001b[38;5;28;01mraise\u001b[39;00m \u001b[38;5;167;01mValueError\u001b[39;00m(\u001b[38;5;124m'\u001b[39m\u001b[38;5;124mThe object cannot be created.\u001b[39m\u001b[38;5;124m'\u001b[39m)\n",
            "\u001b[1;31mValueError\u001b[0m: The object cannot be created."
          ]
        }
      ]
    },
    {
      "cell_type": "code",
      "source": [
        "class Person:\n",
        "\n",
        "    def __init__(self, input_str):\n",
        "        if Person._is_string_with_space(input_str):\n",
        "            items = input_str.split(' ')\n",
        "            if len(items) == 2:\n",
        "                self._name = items[0]\n",
        "                self._surname = items[1]\n",
        "            else:\n",
        "                raise ValueError('The object cannot be created.')\n",
        "        else:\n",
        "            raise ValueError('Please insert a space between your name and '\n",
        "                  'surname')\n",
        "\n",
        "    @property\n",
        "    def name(self):\n",
        "        return self._name\n",
        "\n",
        "    @property\n",
        "    def surname(self):\n",
        "        return self._surname\n",
        "\n",
        "    @staticmethod\n",
        "    def _is_string_with_space(input_str)        :\n",
        "        return isinstance(input_str, str) and ' ' in input_str\n",
        "\n",
        "Person.__dict__"
      ],
      "metadata": {
        "colab": {
          "base_uri": "https://localhost:8080/"
        },
        "id": "umKkgfyCIl1r",
        "outputId": "694d682f-a4db-4f22-f6ce-31ee6c9a4405"
      },
      "execution_count": 38,
      "outputs": [
        {
          "output_type": "execute_result",
          "data": {
            "text/plain": [
              "mappingproxy({'__module__': '__main__',\n",
              "              '__init__': <function __main__.Person.__init__(self, input_str)>,\n",
              "              'name': <property at 0x29b2bb08ae0>,\n",
              "              'surname': <property at 0x29b2bacc770>,\n",
              "              '_is_string_with_space': <staticmethod(<function Person._is_string_with_space at 0x0000029B2BBF02C0>)>,\n",
              "              '__dict__': <attribute '__dict__' of 'Person' objects>,\n",
              "              '__weakref__': <attribute '__weakref__' of 'Person' objects>,\n",
              "              '__doc__': None})"
            ]
          },
          "metadata": {},
          "execution_count": 38
        }
      ]
    },
    {
      "cell_type": "code",
      "source": [
        "person = Person('Mark Twain')"
      ],
      "metadata": {
        "id": "GvQq3-fzJMh8"
      },
      "execution_count": 39,
      "outputs": []
    },
    {
      "cell_type": "code",
      "source": [
        "person.name, person.surname"
      ],
      "metadata": {
        "colab": {
          "base_uri": "https://localhost:8080/"
        },
        "id": "ZaWKimcTJPEY",
        "outputId": "6220ab5e-180d-46b8-ed4e-c14af30c1e08"
      },
      "execution_count": 40,
      "outputs": [
        {
          "output_type": "execute_result",
          "data": {
            "text/plain": [
              "('Mark', 'Twain')"
            ]
          },
          "metadata": {},
          "execution_count": 40
        }
      ]
    },
    {
      "cell_type": "code",
      "source": [
        "person = Person('Mark_Twain')"
      ],
      "metadata": {
        "colab": {
          "base_uri": "https://localhost:8080/",
          "height": 245
        },
        "id": "RRCztfwmJSL5",
        "outputId": "9c2d83ef-5981-4a6d-dac4-ab91df572686"
      },
      "execution_count": 41,
      "outputs": [
        {
          "output_type": "error",
          "ename": "ValueError",
          "evalue": "Please insert a space between your name and surname",
          "traceback": [
            "\u001b[1;31m---------------------------------------------------------------------------\u001b[0m",
            "\u001b[1;31mValueError\u001b[0m                                Traceback (most recent call last)",
            "Cell \u001b[1;32mIn[41], line 1\u001b[0m\n\u001b[1;32m----> 1\u001b[0m person \u001b[38;5;241m=\u001b[39m Person(\u001b[38;5;124m'\u001b[39m\u001b[38;5;124mMark_Twain\u001b[39m\u001b[38;5;124m'\u001b[39m)\n",
            "Cell \u001b[1;32mIn[38], line 12\u001b[0m, in \u001b[0;36mPerson.__init__\u001b[1;34m(self, input_str)\u001b[0m\n\u001b[0;32m     10\u001b[0m         \u001b[38;5;28;01mraise\u001b[39;00m \u001b[38;5;167;01mValueError\u001b[39;00m(\u001b[38;5;124m'\u001b[39m\u001b[38;5;124mThe object cannot be created.\u001b[39m\u001b[38;5;124m'\u001b[39m)\n\u001b[0;32m     11\u001b[0m \u001b[38;5;28;01melse\u001b[39;00m:\n\u001b[1;32m---> 12\u001b[0m     \u001b[38;5;28;01mraise\u001b[39;00m \u001b[38;5;167;01mValueError\u001b[39;00m(\u001b[38;5;124m'\u001b[39m\u001b[38;5;124mPlease insert a space between your name and \u001b[39m\u001b[38;5;124m'\u001b[39m\n\u001b[0;32m     13\u001b[0m           \u001b[38;5;124m'\u001b[39m\u001b[38;5;124msurname\u001b[39m\u001b[38;5;124m'\u001b[39m)\n",
            "\u001b[1;31mValueError\u001b[0m: Please insert a space between your name and surname"
          ]
        }
      ]
    },
    {
      "cell_type": "code",
      "source": [
        "person = Person(4)"
      ],
      "metadata": {
        "colab": {
          "base_uri": "https://localhost:8080/",
          "height": 245
        },
        "id": "fd_i-fadJUGj",
        "outputId": "bb4c19d8-582a-4d61-eeb5-39d070f8ec77"
      },
      "execution_count": 42,
      "outputs": [
        {
          "output_type": "error",
          "ename": "ValueError",
          "evalue": "Please insert a space between your name and surname",
          "traceback": [
            "\u001b[1;31m---------------------------------------------------------------------------\u001b[0m",
            "\u001b[1;31mValueError\u001b[0m                                Traceback (most recent call last)",
            "Cell \u001b[1;32mIn[42], line 1\u001b[0m\n\u001b[1;32m----> 1\u001b[0m person \u001b[38;5;241m=\u001b[39m Person(\u001b[38;5;241m4\u001b[39m)\n",
            "Cell \u001b[1;32mIn[38], line 12\u001b[0m, in \u001b[0;36mPerson.__init__\u001b[1;34m(self, input_str)\u001b[0m\n\u001b[0;32m     10\u001b[0m         \u001b[38;5;28;01mraise\u001b[39;00m \u001b[38;5;167;01mValueError\u001b[39;00m(\u001b[38;5;124m'\u001b[39m\u001b[38;5;124mThe object cannot be created.\u001b[39m\u001b[38;5;124m'\u001b[39m)\n\u001b[0;32m     11\u001b[0m \u001b[38;5;28;01melse\u001b[39;00m:\n\u001b[1;32m---> 12\u001b[0m     \u001b[38;5;28;01mraise\u001b[39;00m \u001b[38;5;167;01mValueError\u001b[39;00m(\u001b[38;5;124m'\u001b[39m\u001b[38;5;124mPlease insert a space between your name and \u001b[39m\u001b[38;5;124m'\u001b[39m\n\u001b[0;32m     13\u001b[0m           \u001b[38;5;124m'\u001b[39m\u001b[38;5;124msurname\u001b[39m\u001b[38;5;124m'\u001b[39m)\n",
            "\u001b[1;31mValueError\u001b[0m: Please insert a space between your name and surname"
          ]
        }
      ]
    },
    {
      "cell_type": "code",
      "source": [
        "person = Person('Mark_Twain')"
      ],
      "metadata": {
        "id": "8lnSG0kPJYyw"
      },
      "execution_count": null,
      "outputs": []
    }
  ]
}